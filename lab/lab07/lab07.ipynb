{
 "cells": [
  {
   "cell_type": "code",
   "execution_count": null,
   "id": "fdbb64c1",
   "metadata": {
    "deletable": false,
    "editable": false
   },
   "outputs": [],
   "source": [
    "# Initialize Otter\n",
    "import otter\n",
    "grader = otter.Notebook(\"lab07.ipynb\")"
   ]
  },
  {
   "cell_type": "markdown",
   "id": "70243af2",
   "metadata": {},
   "source": [
    "# Lab 7: A/B Testing\n",
    "\n",
    "Welcome to Data 111 Lab 7! This week's lab will focus on A/B Testing. We will begin with a discussion and exercise using data from Karuk and Yurok tribes. This discussion will include some heavy topics, so take time to ponder and share throughout this process. \n",
    "\n",
    "After our discussion, we will explore data from the ever-popular British television show, [*The Great British Bakeoff*](https://en.wikipedia.org/wiki/The_Great_British_Bake_Off).\n",
    "\n",
    "\n",
    "**Submission**: Once you’re finished, run all cells besides the last one, select File > Save Notebook, and then execute the final cell. Then submit the downloaded zip file, that includes your notebook..\n",
    "\n",
    "First, set up the notebook by running the cell below."
   ]
  },
  {
   "cell_type": "code",
   "execution_count": null,
   "id": "009c1d76",
   "metadata": {},
   "outputs": [],
   "source": [
    "# Run this cell to set up the notebook, but please don't change it.\n",
    "\n",
    "# These lines import the Numpy and Datascience modules.\n",
    "import numpy as np\n",
    "from datascience import *\n",
    "\n",
    "# These lines do some fancy plotting magic.\n",
    "import matplotlib\n",
    "%matplotlib inline\n",
    "import matplotlib.pyplot as plots\n",
    "plots.style.use('fivethirtyeight')\n",
    "import warnings\n",
    "warnings.simplefilter('ignore', (FutureWarning, np.VisibleDeprecationWarning))\n",
    "\n",
    "import d8error"
   ]
  },
  {
   "cell_type": "markdown",
   "id": "e15dcebe",
   "metadata": {},
   "source": [
    "# Discussion: Traditional Ecological Knowledge\n",
    "\n",
    "Indigenous people are the people who have inhabited a land area from the earliest times, before colonization, and have a way of life that is *inextricably linked* to that land. Over many thousands of years and more, indegenous folks learn and pass down wisdom about how humans can best support the local ecosystem they are a part of and depend on. This wisdom is sometimes called \"Traditional Ecological Knowledge\" (TEK). Invasion by colonization across the world has caused many genocides of indigenous people and their lands, and has attempted to erase indigenous culture and TEK. Watch [this video](https://www.youtube.com/watch?v=T-azcPugmKQ) to see the impacts of colonialism on indigenous peoples here and discuss the following question:"
   ]
  },
  {
   "cell_type": "markdown",
   "id": "b6696bf0",
   "metadata": {},
   "source": [
    "**Discussion Question 1:** What are the ways that colonialism harmed/harms the indigenous people of our region?"
   ]
  },
  {
   "cell_type": "markdown",
   "id": "f9243ca7",
   "metadata": {},
   "source": [
    "\"Western\" science (like you are learning in this class) has been dominated by folks from colonialist cultures. It is a very young culture compared to indigenous culture, and it is perhaps not surprising that recent scientific studies are relearning the lessons of the much older indigenous wisdom. Watch [this video](https://www.youtube.com/watch?v=wlzDJQjjQDg) about indigenous cultural burning and wildfire management to answer the following question. "
   ]
  },
  {
   "cell_type": "markdown",
   "id": "131ccb16",
   "metadata": {},
   "source": [
    "**Discussion Question 2:** How do prescribed burns help with wildfire management?"
   ]
  },
  {
   "cell_type": "markdown",
   "id": "b7d9c42c",
   "metadata": {},
   "source": [
    "In addition to protecting people and the ecosystems we are part of from dangerous wildfires, perscribed burns are needed for cultural resources that are essential to the Karuk and Yurok way of life. For this reason, Karuk and Yurok people (and many others indigenous peoples) refer to their prescribed fire as *cultural burns* that are central to subsistence and ceremonial practices. The term *cultural burning* distinguishes these fires from the fuel reduction-focused *prescribed burns* of public land agencies whose primary objective is to reduce fuel loads and moderate wildfire intensity. One of the ways cultural burns are central to Karuk and Yurok way of life, is that they provide more hazelnut stems that are needed for *basket weaving*, which we will learn more about in this activity."
   ]
  },
  {
   "cell_type": "markdown",
   "id": "2cc10067",
   "metadata": {},
   "source": [
    "**Discussion Question 3:** Why do Karuk and Yurok people prefer to call their prescribed burning practices \"cultural burns\"?"
   ]
  },
  {
   "cell_type": "markdown",
   "id": "02e99d94",
   "metadata": {},
   "source": [
    "# Hazelnut Stems for Basketweaving\n",
    "Baskets weaved from *hazelnut stems* have many uses in Karuk and Yurok culture, including (but not limited to) baby cradles, clothing, and food preparation. Here is a hopper basket used to pound acorns. The stems on the left side of the picture are unpeeled, whereas and peeled hazelnut basketry stems are shown on the right. This basket is composed of peeled hazelnut stems along with other materials. \n",
    "\n",
    "<img src=\"Basket.jpg\" alt=\"drawing\" width=\"300\"/>"
   ]
  },
  {
   "cell_type": "markdown",
   "id": "d8507fec",
   "metadata": {},
   "source": [
    "Skilled basketweavers gather the stems and braid the baskets. Here is a picture of Karuk basketweavers Janet Morehead (left) and Lillian Rentz (right), peeling and evaluating the quality of hazelnut stems they gathered.\n",
    "\n",
    "<img src=\"Basketweavers.jpg\" alt=\"drawing\" width=\"400\"/>"
   ]
  },
  {
   "cell_type": "markdown",
   "id": "dacca120",
   "metadata": {},
   "source": [
    "These basketweavers generously participated in a scientific study that compared the effect of different burn treatments on how hazelnut shrubs produce basket-worthy stems. Additional basketweavers involved in the study include Elizabeth Azzuz, Laverne Glaze, Chook-Chook Hillman, Lisa Hillman, Robert McConnell,Robert McConnell Jr., Kathy McCovey, Bertha Peters, Maggie Peters, Verna Reece, Margo Robbins, Brittany Souza, and Bill Tripp."
   ]
  },
  {
   "cell_type": "markdown",
   "id": "642f4c87",
   "metadata": {},
   "source": [
    "# Comparing Burn Treatments for Basket-Worthy Stem Production\n",
    "\n",
    "We will look at some data from this study [Effects of understory fire management treatments on California Hazelnut, an ecocultural resource of the Karuk and Yurok Indians in the Pacific Northwest](https://www.sciencedirect.com/science/article/pii/S0378112719306826) published in *Forest Ecology and Managment* in 2019. \n",
    "\n",
    "Skilled basketweavers (and scientists trained by the skilled basketweavers) collected basket-worthy stems from many different hazelnut shrubs that each received a \"treatment\". One of the \"treatments\" was a \"broadcast burn\" which is the type of cultural burn that the Yurok and Karuk people prefer to use as part of their basketweaving traditions. In the \"control,\" the shrub was left untouched. Stems were gathered before treatment and then again after a full growing season since the treatment. "
   ]
  },
  {
   "cell_type": "markdown",
   "id": "3a64cc94",
   "metadata": {},
   "source": [
    "The Study Location (yellow star in the intersection of Karuk and Yurok Ancentral Lands) is shown on the map below.\n",
    "\n",
    "<img src=\"AncestralTerritory.jpg\" alt=\"drawing\" width=\"700\"/>"
   ]
  },
  {
   "cell_type": "markdown",
   "id": "45ee192c",
   "metadata": {},
   "source": [
    " Let's have a look at a table of the data..."
   ]
  },
  {
   "cell_type": "code",
   "execution_count": null,
   "id": "2d975ab6",
   "metadata": {},
   "outputs": [],
   "source": [
    "bb = Table.read_table('Basketweaving_and_Burning.csv')"
   ]
  },
  {
   "cell_type": "code",
   "execution_count": null,
   "id": "d884da5f",
   "metadata": {},
   "outputs": [],
   "source": [
    "bb"
   ]
  },
  {
   "cell_type": "markdown",
   "id": "0e99aceb",
   "metadata": {},
   "source": [
    "**Discussion Question 4:** Were there more shrubs that experienced the \"Broadcast\" treatment or the \"Control\" treatment? How would you manipulate the table to figure this out?\n",
    "\n"
   ]
  },
  {
   "cell_type": "code",
   "execution_count": null,
   "id": "6c64f0e5",
   "metadata": {},
   "outputs": [],
   "source": [
    "..."
   ]
  },
  {
   "cell_type": "markdown",
   "id": "2574bf66",
   "metadata": {},
   "source": [
    "Let's plot the data to visualize it. We will plot the control treatment data using a slightly larger marker than the broadcast burn treatment data in case those data points end up falling on top of each other. We will also plot the data points with some transparency in case the data points within a treatment class fall on top of themselves."
   ]
  },
  {
   "cell_type": "code",
   "execution_count": null,
   "id": "bf919e84",
   "metadata": {},
   "outputs": [],
   "source": [
    "bb_control = bb.where('Treatment', are.equal_to('Control'))\n",
    "bb_burn = bb.where('Treatment', are.equal_to('Broadcast'))\n",
    "plots.plot([0,40],[0,40],'k-',linewidth=1)\n",
    "plots.scatter(bb_control.column('PreBasketStems'),bb_control.column('PostBasketStems'),s=20,alpha=0.5,label='Control')\n",
    "plots.scatter(bb_burn.column('PreBasketStems'),bb_burn.column('PostBasketStems'),s=10,alpha=0.5,label='Burn')\n",
    "plots.xlabel('PreBasketStems')\n",
    "plots.ylabel('PostBasketStems')\n",
    "plots.legend(loc='upper right')"
   ]
  },
  {
   "cell_type": "markdown",
   "id": "dfe37360",
   "metadata": {},
   "source": [
    "Use the plot above to answer the following discussion questions:\n",
    "\n",
    "**Discussion Question 5:** What is plotted on the *x*-axis?"
   ]
  },
  {
   "cell_type": "markdown",
   "id": "8494313d",
   "metadata": {},
   "source": [
    "*Type your answer replacing this text*"
   ]
  },
  {
   "cell_type": "markdown",
   "id": "e71a238e",
   "metadata": {},
   "source": [
    "**Discussion Question 6:** What is plotted on the *y*-axis?"
   ]
  },
  {
   "cell_type": "markdown",
   "id": "2c2b1af4",
   "metadata": {},
   "source": [
    "*Type your answer replacing this text*"
   ]
  },
  {
   "cell_type": "markdown",
   "id": "08263c0f",
   "metadata": {},
   "source": [
    "**Discussion Question 7:** What do the *blue* dots represent?"
   ]
  },
  {
   "cell_type": "markdown",
   "id": "151dcab8",
   "metadata": {},
   "source": [
    "*Type your answer replacing this text*"
   ]
  },
  {
   "cell_type": "markdown",
   "id": "42eeae48",
   "metadata": {},
   "source": [
    "**Discussion Question 8:** What do the *red* dots represent?"
   ]
  },
  {
   "cell_type": "markdown",
   "id": "0c96701b",
   "metadata": {},
   "source": [
    "*Type your answer replacing this text*"
   ]
  },
  {
   "cell_type": "markdown",
   "id": "24903fb3",
   "metadata": {},
   "source": [
    "**Discussion Question 9:** What does the *black line* represent?"
   ]
  },
  {
   "cell_type": "markdown",
   "id": "1301e503",
   "metadata": {},
   "source": [
    "*Type your answer replacing this text*"
   ]
  },
  {
   "cell_type": "markdown",
   "id": "ce185ecd",
   "metadata": {},
   "source": [
    "**Discussion Question 10:** Take a look at the two burned shrubs that started out with the most basket-worthy stems. (Red dots with the two largest x-values.) How many basket-worthy stems grew on those shrubs after the burn treatment? What do you think happened to those shrubs?"
   ]
  },
  {
   "cell_type": "markdown",
   "id": "6ff3972a",
   "metadata": {},
   "source": [
    "*Type your answer replacing this text*"
   ]
  },
  {
   "cell_type": "markdown",
   "id": "25db2580",
   "metadata": {},
   "source": [
    "**Discussion Question 11:** Are there any blue dots above the black line? How does this compare to the red dots? What does this mean?"
   ]
  },
  {
   "cell_type": "code",
   "execution_count": null,
   "id": "21226d0c",
   "metadata": {},
   "outputs": [],
   "source": []
  },
  {
   "cell_type": "markdown",
   "id": "e7fc617b",
   "metadata": {},
   "source": [
    "If you are curious about which datapoints fell on top of each other in the above plot, you can count them using the group function. First we look at the control data:"
   ]
  },
  {
   "cell_type": "code",
   "execution_count": null,
   "id": "a47eb26f",
   "metadata": {},
   "outputs": [],
   "source": [
    "bb_control.group(['PreBasketStems','PostBasketStems'])"
   ]
  },
  {
   "cell_type": "markdown",
   "id": "a3eec811",
   "metadata": {},
   "source": [
    "And then we can look at the same thing in the broadcast burn data:"
   ]
  },
  {
   "cell_type": "code",
   "execution_count": null,
   "id": "152c0774",
   "metadata": {},
   "outputs": [],
   "source": [
    "bb_burn.group(['PreBasketStems','PostBasketStems'])"
   ]
  },
  {
   "cell_type": "markdown",
   "id": "325d6e7c",
   "metadata": {},
   "source": [
    "But perhaps it makes more sense to look at how many basket-worthy stems were on the shrubs after treatment compared to how many basket-worthy stems they started out with..."
   ]
  },
  {
   "cell_type": "code",
   "execution_count": null,
   "id": "df718e4b",
   "metadata": {},
   "outputs": [],
   "source": [
    "bb = bb.with_column('BasketStemDiff',bb.column('PostBasketStems')-bb.column('PreBasketStems'))\n",
    "stemdiff_and_treatment = bb.select('BasketStemDiff', 'Treatment')"
   ]
  },
  {
   "cell_type": "code",
   "execution_count": null,
   "id": "577e6fad",
   "metadata": {},
   "outputs": [],
   "source": [
    "bb"
   ]
  },
  {
   "cell_type": "markdown",
   "id": "da5497fd",
   "metadata": {},
   "source": [
    "Now we have added a new column showing the difference in basket-worthy stems before and after treatment. Now let's use that new column to make a histogram, where we separate out the data by treatment. We have use some transparency because the data from each treatment sometimes overlap."
   ]
  },
  {
   "cell_type": "code",
   "execution_count": null,
   "id": "b3132ba5",
   "metadata": {},
   "outputs": [],
   "source": [
    "stemdiff_and_treatment.hist('BasketStemDiff', group='Treatment')"
   ]
  },
  {
   "cell_type": "markdown",
   "id": "430a9a83",
   "metadata": {},
   "source": [
    "**Discussion Question 12:** What does a negative number on the x-axis mean?"
   ]
  },
  {
   "cell_type": "markdown",
   "id": "d08c62f0",
   "metadata": {},
   "source": [
    "*Type your answer replacing this text*"
   ]
  },
  {
   "cell_type": "markdown",
   "id": "14739c41",
   "metadata": {},
   "source": [
    "**Discussion Question 13:** Does it seem clear to you that one distribution is in general weighted farther to the right than the other? If so, which treatment seems best for creating more basket-worthy stems?"
   ]
  },
  {
   "cell_type": "markdown",
   "id": "9e418a03",
   "metadata": {},
   "source": [
    "*Type your answer replacing this text*"
   ]
  },
  {
   "cell_type": "markdown",
   "id": "8c5097e2",
   "metadata": {},
   "source": [
    "# Chance Variation?\n",
    "This raises the question of whether the difference in the distributions we're looking at is just due to chance or if the treatment has an effect of producing more basket-worthy stems.\n",
    "\n",
    "We can try to answer this question through an A/B test. "
   ]
  },
  {
   "cell_type": "markdown",
   "id": "8aa863f2",
   "metadata": {},
   "source": [
    "**Discussion Question 14:** State the *null hypothesis*, in your own words."
   ]
  },
  {
   "cell_type": "markdown",
   "id": "c619a1df",
   "metadata": {},
   "source": [
    "*Type your answer replacing this text*"
   ]
  },
  {
   "cell_type": "markdown",
   "id": "27c605e2",
   "metadata": {},
   "source": [
    "**Discussion Question 15:** State the *alternative hypothesis*, in your own words."
   ]
  },
  {
   "cell_type": "markdown",
   "id": "309778d3",
   "metadata": {},
   "source": [
    "*Type your answer replacing this text*"
   ]
  },
  {
   "cell_type": "markdown",
   "id": "5caa4528",
   "metadata": {},
   "source": [
    "**Discussion Question 16:** What *test statistic* should we use to test the null hypothesis?"
   ]
  },
  {
   "cell_type": "markdown",
   "id": "aa60f45f",
   "metadata": {},
   "source": [
    "*Type your answer replacing this text*"
   ]
  },
  {
   "cell_type": "markdown",
   "id": "9189b53c",
   "metadata": {},
   "source": [
    "# Test Statistic\n",
    "\n",
    "Let's compute our test statistic. "
   ]
  },
  {
   "cell_type": "code",
   "execution_count": null,
   "id": "1e662891",
   "metadata": {},
   "outputs": [],
   "source": [
    "means_table = bb.select(['Treatment','BasketStemDiff']).group('Treatment', np.average)\n",
    "means_table"
   ]
  },
  {
   "cell_type": "code",
   "execution_count": null,
   "id": "bdb5f40e",
   "metadata": {},
   "outputs": [],
   "source": [
    "means = means_table.column(1)\n",
    "observed_difference = ...\n",
    "observed_difference"
   ]
  },
  {
   "cell_type": "markdown",
   "id": "a4cb7625",
   "metadata": {},
   "source": [
    "**Discussion Question 17:** Based on how we have coded this, what values of our statistic are in favor of the alternative: positive or negative?"
   ]
  },
  {
   "cell_type": "markdown",
   "id": "fa4ae4ec",
   "metadata": {},
   "source": [
    "*Type your answer replacing this text*"
   ]
  },
  {
   "cell_type": "markdown",
   "id": "6df955f3",
   "metadata": {},
   "source": [
    "Now let's create a function that can quickly calculate the test statistic for us. (It should do the same thing we just did above.)"
   ]
  },
  {
   "cell_type": "code",
   "execution_count": null,
   "id": "d5d51a3d",
   "metadata": {},
   "outputs": [],
   "source": [
    "def difference_of_means(table, label_col, val_col):\n",
    "    \"\"\"Takes: name of table, column label of group-label variable, \n",
    "    and column label of numerical variable\n",
    "    \n",
    "    Returns: Difference of means of the two groups\"\"\"\n",
    "    \n",
    "    #table with the two relevant columns\n",
    "    reduced = table.select(val_col, label_col)  \n",
    "    \n",
    "    # table containing group means\n",
    "    means_table = reduced.group(label_col, np.average)\n",
    "    # array of group means\n",
    "    means = means_table.column(1)\n",
    "    \n",
    "    return ..."
   ]
  },
  {
   "cell_type": "code",
   "execution_count": null,
   "id": "d88eacc8",
   "metadata": {},
   "outputs": [],
   "source": [
    "difference_of_means(bb,'BasketStemDiff', 'Treatment')"
   ]
  },
  {
   "cell_type": "markdown",
   "id": "3575dc0f",
   "metadata": {},
   "source": [
    "How to we simulate data under the null hypothesis? Recall that shuffling up the labels (AKA random permutations) is a clever way of doing that. "
   ]
  },
  {
   "cell_type": "markdown",
   "id": "a3f56229",
   "metadata": {},
   "source": [
    "# Simulation Under Null Hypothesis"
   ]
  },
  {
   "cell_type": "markdown",
   "id": "08363b8c",
   "metadata": {},
   "source": [
    "Create a new table Containing just the `BasketStemDiff` and the `Treatment` columns. "
   ]
  },
  {
   "cell_type": "code",
   "execution_count": null,
   "id": "c79ebdc0",
   "metadata": {},
   "outputs": [],
   "source": [
    "stemdiff_and_treatment = ..."
   ]
  },
  {
   "cell_type": "markdown",
   "id": "6b90d4f5",
   "metadata": {},
   "source": [
    "Then add a column of to our table with the shuffled treatment labels"
   ]
  },
  {
   "cell_type": "code",
   "execution_count": null,
   "id": "28018dd0",
   "metadata": {},
   "outputs": [],
   "source": [
    "shuffled_labels = ...\n",
    "original_and_shuffled = stemdiff_and_treatment.with_column('Shuffled Label', ...)\n",
    "original_and_shuffled"
   ]
  },
  {
   "cell_type": "markdown",
   "id": "4ca64a77",
   "metadata": {},
   "source": [
    "Now we can look at the difference of the group means..."
   ]
  },
  {
   "cell_type": "code",
   "execution_count": null,
   "id": "19bd835c",
   "metadata": {},
   "outputs": [],
   "source": [
    "difference_of_means(original_and_shuffled, 'BasketStemDiff', 'Shuffled Label')"
   ]
  },
  {
   "cell_type": "markdown",
   "id": "211321c2",
   "metadata": {},
   "source": [
    "**Discussion Question 18:** How does this test statistic under the null hypothesis compare to the value of the test statistic that you found in the real observations?"
   ]
  },
  {
   "cell_type": "markdown",
   "id": "fe08d5ed",
   "metadata": {},
   "source": [
    "*Type your answer replacing this text*"
   ]
  },
  {
   "cell_type": "markdown",
   "id": "34c10513",
   "metadata": {},
   "source": [
    "But we only shuffled the labels once. Could a different shuffle have resulted in a larger difference between the group averages? To get a sense of the variability, we must simulate the difference many times. Let's shuffle them a bunch of times to get an estimate of the *distribution* of the test statistic under the null for each shuffling that we perform."
   ]
  },
  {
   "cell_type": "markdown",
   "id": "c040ce7a",
   "metadata": {},
   "source": [
    "# Permutation Test"
   ]
  },
  {
   "cell_type": "markdown",
   "id": "36e3742d",
   "metadata": {},
   "source": [
    "We will start by defining a function that simulates one value of the test statistic under the null hypothesis. This is just a matter of collecting the code that we wrote above."
   ]
  },
  {
   "cell_type": "code",
   "execution_count": null,
   "id": "0d4e2149",
   "metadata": {},
   "outputs": [],
   "source": [
    "def one_simulated_difference(table, label_col, val_col):\n",
    "    \"\"\"Takes: name of table, column label of group-label variable, \n",
    "    and column label of numerical variable\n",
    "    \n",
    "    Returns: Difference of means of the two groups after shuffling labels\"\"\"\n",
    "    \n",
    "    # array of shuffled labels\n",
    "    shuffled_labels = ...\n",
    "    \n",
    "    # table of numerical variable and shuffled labels\n",
    "    shuffled_table = ...\n",
    "    \n",
    "    return ...   "
   ]
  },
  {
   "cell_type": "markdown",
   "id": "64f5f7af",
   "metadata": {},
   "source": [
    "Run the cell below multiple times to see how the test statistic varies under the null hypothesis:"
   ]
  },
  {
   "cell_type": "code",
   "execution_count": null,
   "id": "26e171cb",
   "metadata": {},
   "outputs": [],
   "source": [
    "one_simulated_difference(stemdiff_and_treatment, 'BasketStemDiff', 'Treatment')"
   ]
  },
  {
   "cell_type": "code",
   "execution_count": null,
   "id": "644a3b69",
   "metadata": {},
   "outputs": [],
   "source": [
    "differences = make_array()\n",
    "\n",
    "for i in np.arange(2500):\n",
    "    new_difference = one_simulated_difference(stemdiff_and_treatment, 'BasketStemDiff', 'Treatment')\n",
    "    differences = np.append(differences, new_difference)"
   ]
  },
  {
   "cell_type": "code",
   "execution_count": null,
   "id": "d1502742",
   "metadata": {},
   "outputs": [],
   "source": [
    "Table().with_column('Difference Between Group Means', differences).hist()\n",
    "print('Observed Difference:', observed_difference)\n",
    "plots.title('Prediction Under the Null Hypothesis');\n",
    "plots.scatter(observed_difference, 0, color='red', s=40, zorder=3)"
   ]
  },
  {
   "cell_type": "markdown",
   "id": "b6776a69",
   "metadata": {},
   "source": [
    "**Discussion Question 19:** How does the observed test statistic compare to the distribution of the statistic under the null hypothesis? "
   ]
  },
  {
   "cell_type": "markdown",
   "id": "2b003756",
   "metadata": {},
   "source": [
    "*Type your answer replacing this text*"
   ]
  },
  {
   "cell_type": "markdown",
   "id": "a0a855bf",
   "metadata": {},
   "source": [
    "**Discussion Question 20:** Which hypothesis do the data best support?"
   ]
  },
  {
   "cell_type": "markdown",
   "id": "8a28d8fd",
   "metadata": {},
   "source": [
    "*Type your answer replacing this text*"
   ]
  },
  {
   "cell_type": "markdown",
   "id": "cf0655b5",
   "metadata": {},
   "source": [
    "**Discussion Question 21:** In your own words, describe the effect of cultural burning on basket-worthy stem growth, as supported by the data."
   ]
  },
  {
   "cell_type": "markdown",
   "id": "0750ae83",
   "metadata": {},
   "source": [
    "*Type your answer replacing this text*"
   ]
  },
  {
   "cell_type": "markdown",
   "id": "d04010df",
   "metadata": {},
   "source": [
    "# How things are now...\n",
    "\n",
    "Despite the now widespread acknowledgement of the wisdom of cultural burning, these practices are restricted due USDA Forest Service funding and staff reductions, threatened and endangered wildlife being protected in certain seasons, burn restrictions during major wildfire events, and air quality regulations that constrain available burn days. \n",
    "\n",
    "Basketweavers also say the departure of supportive USDA Forest Service managers created major set-backs, because they had to re-establish lines of communication with new staff and inform them about their basketry materials and fire treatment\n",
    "needs. So even with the federal governments increased fuel reduction treatments throughout this region basketweavers and Tribal members often were not informed about the schedules or locations of understory mechanical treatments and broadcast burns, and would miss opportunities to gather hazelnut stems. \n",
    "\n",
    "Efforts within the USDA Forest Service known as the ‘Shared Stewardship’ initiative seek to address several of these constraints.\n",
    "\n",
    "In the meantime basketweavers have been coming up with their own creative solutions to stimulate basket-worthy stem growth on hazelnut shrubs. The figure below shows different types of treatments now being used: (A) manual cutting of the shrub; (B) small pile burn on an indivual shrub; (C) propone torching of a shrub (D) the traditional broadcast burn.\n",
    "<img src=\"Treatments.jpg\" alt=\"drawing\" width=\"400\"/>\n",
    "\n",
    "All of these treatments increase basket-worthy stem growth, where the ones that use fire are the most effective. You can read more about the details in [the paper](https://www.sciencedirect.com/science/article/pii/S0378112719306826) if you like.\n"
   ]
  },
  {
   "cell_type": "markdown",
   "id": "35555cf6",
   "metadata": {},
   "source": [
    "At home, watch [this video](https://www.youtube.com/watch?v=QQfrQyb4yw4) about the *Land Back* movement. If you want to read more, here is a [news article](https://www.npr.org/2020/08/24/899422710/to-manage-wildfire-california-looks-to-what-tribes-have-known-all-along) that also covered this topic. "
   ]
  },
  {
   "cell_type": "markdown",
   "id": "979c12b8",
   "metadata": {},
   "source": [
    "## 1. A/B Testing\n",
    "\n",
    "A/B testing is a form of hypothesis testing that allows you to make comparisons between two distributions. We may also refer to an A/B test as a permutation test.\n",
    "\n",
    "You'll almost never be explicitly asked to perform an A/B test. Make sure you can identify situations where the test is appropriate and know how to correctly implement each step. Oftentimes, we use an A/B test to determine whether or not two samples came from the same underlying distribution."
   ]
  },
  {
   "cell_type": "markdown",
   "id": "441304a6",
   "metadata": {},
   "source": [
    "**Question 1.1.** The following statements are the steps of an A/B hypothesis test presented in a *random order*:\n",
    "\n",
    "1. Choose a test statistic (typically the difference in means between two categories)\n",
    "\n",
    "2. Shuffle the labels of the original sample, find your simulated test statistic, and repeat many times\n",
    "\n",
    "3. Find the value of the observed test statistic\n",
    "\n",
    "4. Calculate the p-value based off your observed and simulated test statistics\n",
    "\n",
    "5. Define a null and alternate model\n",
    "\n",
    "6. Use the p-value and p-value cutoff to draw a conclusion about the null hypothesis\n",
    "\n",
    "Assign `ab_test_order` to an array of integers that contains the correct order of an A/B test, where the first item of the array is the first step of an A/B test and the last item of the array is the last step of an A/B test.\n"
   ]
  },
  {
   "cell_type": "code",
   "execution_count": null,
   "id": "7c6e0313",
   "metadata": {
    "tags": []
   },
   "outputs": [],
   "source": [
    "ab_test_order = ..."
   ]
  },
  {
   "cell_type": "code",
   "execution_count": null,
   "id": "ccae1646",
   "metadata": {
    "deletable": false,
    "editable": false
   },
   "outputs": [],
   "source": [
    "grader.check(\"q1_1\")"
   ]
  },
  {
   "cell_type": "markdown",
   "id": "66157cde",
   "metadata": {},
   "source": [
    "**Question 1.2.** If the null hypothesis of an A/B test is correct, should the order of labels affect the differences in means between each group? Why do we shuffle labels in an A/B test? If you are in a lab section, confirm your answer with a neighbor or staff member before moving on. \n"
   ]
  },
  {
   "cell_type": "markdown",
   "id": "f57ab268",
   "metadata": {},
   "source": [
    "_Type your answer here, replacing this text._"
   ]
  },
  {
   "cell_type": "markdown",
   "id": "661ef4de",
   "metadata": {},
   "source": [
    "## 2. The Great British Bake Off\n",
    "\n",
    ">\"The Great British Bake Off (often abbreviated to Bake Off or GBBO) is a British television baking competition, produced by Love Productions, in which a group of amateur bakers compete against each other in a series of rounds, attempting to impress a group of judges with their baking skills\" [Wikipedia](https://en.wikipedia.org/wiki/The_Great_British_Bake_Off)\n",
    "\n",
    "For every week of the competition, the judges assign one contestant the title \"Star Baker\". Ultimately, one winner is crowned every season. Using this information, we would like to investigate how winning Star Baker awards affects the odds of winning a season of the show."
   ]
  },
  {
   "cell_type": "markdown",
   "id": "2fc2dab3",
   "metadata": {},
   "source": [
    "**Question 2.1.** We want to know whether winning more Star Baker awards *causes* a change in likelihood of winning the season.  Why is it not sufficient to compare star baker rates for winners and losers?\n"
   ]
  },
  {
   "cell_type": "markdown",
   "id": "eb7bd964",
   "metadata": {},
   "source": [
    "_Type your answer here, replacing this text._"
   ]
  },
  {
   "cell_type": "markdown",
   "id": "1555134e",
   "metadata": {},
   "source": [
    "### Running an Experiment\n",
    "\n",
    "We are going to run the following hypothesis test to determine the association between winning and number of Star Baker awards. The population we are examining is every contestant from seasons 2 through 11 of GBBO. We are going to use the following null and alternative hypotheses:\n",
    "\n",
    "**Null hypothesis:** The distribution of Star Baker awards between contestants who won their season and contestants who did not win their season is the same.\n",
    "\n",
    "**Alternative hypothesis:** Contestants who win their season of the show will win more Star Baker awards on average.\n",
    "\n",
    "Our alternative hypothesis is related to our suspicion that contestants who win more Star Baker awards are more skilled, so they are more likely to win the season."
   ]
  },
  {
   "cell_type": "markdown",
   "id": "a60ea4ab",
   "metadata": {},
   "source": [
    "**Question 2.2.** Should we use an A/B test to test these hypotheses? If yes, what is our \"A\" group and what is our \"B\" group?\n"
   ]
  },
  {
   "cell_type": "markdown",
   "id": "4b31334d",
   "metadata": {},
   "source": [
    "_Type your answer here, replacing this text._"
   ]
  },
  {
   "cell_type": "markdown",
   "id": "97ee5f5e",
   "metadata": {},
   "source": [
    "Check your answers with your neighbors or a staff member before you move on to the next section."
   ]
  },
  {
   "cell_type": "markdown",
   "id": "10f31070",
   "metadata": {},
   "source": [
    "The `bakers` table below describes the number of star baker awards each contest won and whether or not they won their season (`1` if they won, `0` if they did not win). The data was manually aggregated from Wikipedia for seasons 2-11 of the show. We randomized the order of rows as to not spoil the outcome of the show."
   ]
  },
  {
   "cell_type": "code",
   "execution_count": null,
   "id": "b6d96118",
   "metadata": {},
   "outputs": [],
   "source": [
    "bakers = Table.read_table(\"star_bakers.csv\")\n",
    "bakers.show(3)"
   ]
  },
  {
   "cell_type": "markdown",
   "id": "0ac23a86",
   "metadata": {},
   "source": [
    "**Question 2.3.** Create a new table called `means` that contains the mean number of star baker awards for bakers who did not win (`won==0`) and bakers that did win (`won==1`). The table should have the column names `won` and `star baker awards mean`."
   ]
  },
  {
   "cell_type": "code",
   "execution_count": null,
   "id": "663dae0f",
   "metadata": {
    "tags": []
   },
   "outputs": [],
   "source": [
    "means = ...\n",
    "means"
   ]
  },
  {
   "cell_type": "code",
   "execution_count": null,
   "id": "8c26dde9",
   "metadata": {
    "deletable": false,
    "editable": false
   },
   "outputs": [],
   "source": [
    "grader.check(\"q2_3\")"
   ]
  },
  {
   "cell_type": "markdown",
   "id": "3ed76465",
   "metadata": {},
   "source": [
    "**Question 2.4.** Visualize the distribution of Star Baker awards for winners and non-winners. You should use the bins we provided.\n",
    "\n",
    "Hint: You will want to use the group argument of `tbl.hist`. In order to produce several overlayed histograms based on unique values in a given column, we can do something like `tbl.hist(..., group=<col_name>, bins=...)`!\n"
   ]
  },
  {
   "cell_type": "code",
   "execution_count": null,
   "id": "5429bc96",
   "metadata": {
    "tags": []
   },
   "outputs": [],
   "source": [
    "useful_bins = np.arange(0, 7)\n",
    "..."
   ]
  },
  {
   "cell_type": "markdown",
   "id": "1b9ff8fb",
   "metadata": {},
   "source": [
    "**Question 2.5.** We want to figure out if there is a difference between the distribution of Star Baker awards between winners and non winners. \n",
    "\n",
    "What should the test statistic be? Which values of this test statistic support the null, and which values support the alternative?\n",
    "\n",
    "If you are in lab, confirm your answer with a neighbor or staff member before moving on.\n",
    "\n",
    "Hint: You should think about what measures we use to describe a distribution. \n"
   ]
  },
  {
   "cell_type": "markdown",
   "id": "92fd1152",
   "metadata": {},
   "source": [
    "_Type your answer here, replacing this text._"
   ]
  },
  {
   "cell_type": "markdown",
   "id": "5d60069f",
   "metadata": {},
   "source": [
    "**Question 2.6.** Set `observed_difference` to the observed test statistic using the `means` table. \n"
   ]
  },
  {
   "cell_type": "code",
   "execution_count": null,
   "id": "1857566a",
   "metadata": {
    "tags": []
   },
   "outputs": [],
   "source": [
    "observed_difference = ...\n",
    "observed_difference"
   ]
  },
  {
   "cell_type": "code",
   "execution_count": null,
   "id": "b7f76951",
   "metadata": {
    "deletable": false,
    "editable": false
   },
   "outputs": [],
   "source": [
    "grader.check(\"q2_6\")"
   ]
  },
  {
   "cell_type": "markdown",
   "id": "7432cc43",
   "metadata": {},
   "source": [
    "**Question 2.7.** Given a table like `bakers`, a label column `label_col`, and a values column `val_col`, write a function that calculates the appropriate test statistic.\n",
    "\n",
    "*Hint:* Make sure that you are taking the directionality of our alternative hypothesis into account.\n"
   ]
  },
  {
   "cell_type": "code",
   "execution_count": null,
   "id": "1b51249e",
   "metadata": {
    "scrolled": true,
    "tags": []
   },
   "outputs": [],
   "source": [
    "def find_test_stat(tbl, label_col, val_col):\n",
    "    ...\n",
    "\n",
    "find_test_stat(bakers, \"won\", \"star baker awards\")"
   ]
  },
  {
   "cell_type": "code",
   "execution_count": null,
   "id": "6facea9e",
   "metadata": {
    "deletable": false,
    "editable": false
   },
   "outputs": [],
   "source": [
    "grader.check(\"q2_7\")"
   ]
  },
  {
   "cell_type": "markdown",
   "id": "2a4d2976",
   "metadata": {},
   "source": [
    "When we run a simulation for A/B testing, we resample by **shuffling the labels** of the original sample. If the null hypothesis is true and the star baker award distributions are the same, we expect that the difference in mean star baker awards will be not change when `\"won\"` labels are changed."
   ]
  },
  {
   "cell_type": "markdown",
   "id": "06b874a9",
   "metadata": {},
   "source": [
    "**Question 2.8.** Write a function `simulate_and_test_statistic` to compute one trial of our A/B test. Your function should run a simulation and return a test statistic.\n"
   ]
  },
  {
   "cell_type": "code",
   "execution_count": null,
   "id": "1b18158c",
   "metadata": {
    "tags": []
   },
   "outputs": [],
   "source": [
    "def simulate_and_test_statistic(tbl, labels_col, values_col):\n",
    "    ...\n",
    "\n",
    "simulate_and_test_statistic(bakers, \"won\", \"star baker awards\")"
   ]
  },
  {
   "cell_type": "code",
   "execution_count": null,
   "id": "7a0e4c18",
   "metadata": {
    "deletable": false,
    "editable": false
   },
   "outputs": [],
   "source": [
    "grader.check(\"q2_8\")"
   ]
  },
  {
   "cell_type": "markdown",
   "id": "24e8460d",
   "metadata": {},
   "source": [
    "**Question 2.9.** Simulate 5000 trials of our A/B test and store the test statistics in an array called `differences`.\n"
   ]
  },
  {
   "cell_type": "code",
   "execution_count": null,
   "id": "b4452bc1",
   "metadata": {
    "tags": []
   },
   "outputs": [],
   "source": [
    "# This cell might take a couple seconds to run\n",
    "differences = make_array()\n",
    "\n",
    "...\n",
    "                                                 \n",
    "differences"
   ]
  },
  {
   "cell_type": "code",
   "execution_count": null,
   "id": "b42a9594",
   "metadata": {
    "deletable": false,
    "editable": false
   },
   "outputs": [],
   "source": [
    "grader.check(\"q2_9\")"
   ]
  },
  {
   "cell_type": "markdown",
   "id": "c401666e",
   "metadata": {},
   "source": [
    "Run the cell below to view a histogram of your simulated test statistics plotted with your observed test statistic."
   ]
  },
  {
   "cell_type": "code",
   "execution_count": null,
   "id": "68a8f366",
   "metadata": {},
   "outputs": [],
   "source": [
    "Table().with_column('Difference Between Group Means', differences).hist(bins=20)\n",
    "plots.scatter(observed_difference, 0, color='red', s=30, zorder=2)\n",
    "plots.ylim(-0.1, 1.35);"
   ]
  },
  {
   "cell_type": "markdown",
   "id": "80f6889e",
   "metadata": {},
   "source": [
    "**Question 2.10.** Find the p-value for your test and assign it to `empirical_p`.\n"
   ]
  },
  {
   "cell_type": "code",
   "execution_count": null,
   "id": "cc3cd189",
   "metadata": {
    "tags": []
   },
   "outputs": [],
   "source": [
    "empirical_p = ...\n",
    "empirical_p"
   ]
  },
  {
   "cell_type": "code",
   "execution_count": null,
   "id": "3a421c70",
   "metadata": {
    "deletable": false,
    "editable": false
   },
   "outputs": [],
   "source": [
    "grader.check(\"q2_10\")"
   ]
  },
  {
   "cell_type": "markdown",
   "id": "11fb75e4",
   "metadata": {},
   "source": [
    "**Question 2.11.** Using a 5% P-value cutoff, draw a conclusion about the null and alternative hypotheses. Describe your findings using simple, non-technical language. What does your analysis tell you about the association between star baker awards and winning? What can you claim about causation from your statistical analysis? Call your GSI or AI over and confirm your answer. \n"
   ]
  },
  {
   "cell_type": "markdown",
   "id": "04b6ea9c",
   "metadata": {},
   "source": [
    "_Type your answer here, replacing this text._"
   ]
  },
  {
   "cell_type": "code",
   "execution_count": null,
   "id": "2f848583",
   "metadata": {
    "deletable": false,
    "editable": false
   },
   "outputs": [],
   "source": [
    "grader.check(\"q2_10\")"
   ]
  },
  {
   "cell_type": "markdown",
   "id": "e9b440f9",
   "metadata": {},
   "source": [
    "## 3. Submission\n",
    "\n",
    "Gus wanted to say congrats on finishing Lab 7!! \n",
    "\n",
    "<img src=\"gus_gus.jpg\" alt=\"drawing\" width=\"300\"/>\n",
    "\n",
    "\n",
    "**Important submission steps:** \n",
    "1. Run the tests and verify that they all pass.\n",
    "2. Choose **Save Notebook** from the **File** menu, then **run the final cell**. \n",
    "3. Click the link to download the zip file.\n",
    "4. Then submit the zip file to the corresponding assignment in Canvas. \n",
    "\n",
    "**It is your responsibility to make sure your work is saved before running the last cell.**"
   ]
  },
  {
   "cell_type": "markdown",
   "id": "32c76611",
   "metadata": {
    "deletable": false,
    "editable": false
   },
   "source": [
    "## Submission\n",
    "\n",
    "Make sure you have run all cells in your notebook in order before running the cell below, so that all images/graphs appear in the output. The cell below will generate a zip file for you to submit. **Please save before exporting!**"
   ]
  },
  {
   "cell_type": "code",
   "execution_count": null,
   "id": "4fc28313",
   "metadata": {
    "deletable": false,
    "editable": false
   },
   "outputs": [],
   "source": [
    "# Save your notebook first, then run this cell to export your submission.\n",
    "grader.export(pdf=False, run_tests=True)"
   ]
  },
  {
   "cell_type": "markdown",
   "id": "2391dbe0",
   "metadata": {},
   "source": [
    " "
   ]
  }
 ],
 "metadata": {
  "kernelspec": {
   "display_name": "Python 3 (ipykernel)",
   "language": "python",
   "name": "python3"
  },
  "language_info": {
   "codemirror_mode": {
    "name": "ipython",
    "version": 3
   },
   "file_extension": ".py",
   "mimetype": "text/x-python",
   "name": "python",
   "nbconvert_exporter": "python",
   "pygments_lexer": "ipython3",
   "version": "3.11.4"
  },
  "otter": {
   "OK_FORMAT": true,
   "tests": {
    "q1_1": {
     "name": "q1_1",
     "points": null,
     "suites": [
      {
       "cases": [
        {
         "code": ">>> len(ab_test_order) == 6\nTrue",
         "hidden": false,
         "locked": false
        },
        {
         "code": ">>> np.allclose(np.array(ab_test_order)[:3] % 2 == 1, True) # Check the first three elements in your array.\nTrue",
         "hidden": false,
         "locked": false
        },
        {
         "code": ">>> np.allclose(np.array(ab_test_order)[3:] % 2 == 0, True) # Check the last three elements in your array.\nTrue",
         "hidden": false,
         "locked": false
        },
        {
         "code": ">>> \n>>> # This imports a hashing library for the autograder.\n>>> import hashlib\n>>> def get_hash(num):\n...     \"\"\"Helper function for assessing correctness.\"\"\"\n...     return hashlib.md5(str(num).encode()).hexdigest()\n>>> \n>>> get_hash(np.array(ab_test_order).astype(int))\n'a7196ed0f271c873d9750cb92422d911'",
         "hidden": false,
         "locked": false
        }
       ],
       "scored": true,
       "setup": "",
       "teardown": "",
       "type": "doctest"
      }
     ]
    },
    "q2_10": {
     "name": "q2_10",
     "points": null,
     "suites": [
      {
       "cases": [
        {
         "code": ">>> 0 <= empirical_p < 0.05\nTrue",
         "hidden": false,
         "locked": false
        }
       ],
       "scored": true,
       "setup": "",
       "teardown": "",
       "type": "doctest"
      }
     ]
    },
    "q2_3": {
     "name": "q2_3",
     "points": null,
     "suites": [
      {
       "cases": [
        {
         "code": ">>> means.num_rows\n2",
         "hidden": false,
         "locked": false
        },
        {
         "code": ">>> np.round(min(means.column(\"star baker awards mean\")), 2) == 0.65\nTrue",
         "hidden": false,
         "locked": false
        },
        {
         "code": ">>> np.round(max(means.column(\"star baker awards mean\")), 2) == 1.5\nTrue",
         "hidden": false,
         "locked": false
        }
       ],
       "scored": true,
       "setup": "",
       "teardown": "",
       "type": "doctest"
      }
     ]
    },
    "q2_6": {
     "name": "q2_6",
     "points": null,
     "suites": [
      {
       "cases": [
        {
         "code": ">>> isinstance(observed_difference, float)\nTrue",
         "hidden": false,
         "locked": false
        },
        {
         "code": ">>> float(round(observed_difference, 3))\n0.848",
         "hidden": false,
         "locked": false
        }
       ],
       "scored": true,
       "setup": "",
       "teardown": "",
       "type": "doctest"
      }
     ]
    },
    "q2_7": {
     "name": "q2_7",
     "points": null,
     "suites": [
      {
       "cases": [
        {
         "code": ">>> np.isclose(round(find_test_stat(bakers, \"won\", \"star baker awards\"), 3) - 0.848, 0)\nTrue",
         "hidden": false,
         "locked": false
        }
       ],
       "scored": true,
       "setup": "",
       "teardown": "",
       "type": "doctest"
      }
     ]
    },
    "q2_8": {
     "name": "q2_8",
     "points": null,
     "suites": [
      {
       "cases": [
        {
         "code": ">>> test_stat = round(simulate_and_test_statistic(bakers, \"won\", \"star baker awards\"), 3)\n>>> -2 < test_stat < 2\nTrue",
         "hidden": false,
         "locked": false
        },
        {
         "code": ">>> np.random.seed(1)\n>>> test_stat2 = simulate_and_test_statistic(bakers, \"won\", \"star baker awards\")\n>>> np.round(test_stat2, 3) == -0.023 or np.round(test_stat2, 3) == -0.132\nTrue",
         "hidden": false,
         "locked": false
        }
       ],
       "scored": true,
       "setup": "",
       "teardown": "",
       "type": "doctest"
      }
     ]
    },
    "q2_9": {
     "name": "q2_9",
     "points": null,
     "suites": [
      {
       "cases": [
        {
         "code": ">>> len(differences)\n5000",
         "hidden": false,
         "locked": false
        },
        {
         "code": ">>> abs(np.average(differences)) < 0.05 # On average, your test statistic should be close to 0\nTrue",
         "hidden": false,
         "locked": false
        },
        {
         "code": ">>> all(differences == differences.item(0)) == False # Make sure all of the test statistics are different\nTrue",
         "hidden": false,
         "locked": false
        }
       ],
       "scored": true,
       "setup": "",
       "teardown": "",
       "type": "doctest"
      }
     ]
    }
   }
  }
 },
 "nbformat": 4,
 "nbformat_minor": 5
}
