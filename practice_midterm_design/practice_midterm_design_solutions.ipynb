{
 "cells": [
  {
   "cell_type": "code",
   "execution_count": null,
   "id": "56c03bf8",
   "metadata": {},
   "outputs": [],
   "source": [
    "import numpy as np\n",
    "from datascience import *\n",
    "\n",
    "import matplotlib\n",
    "%matplotlib inline\n",
    "import matplotlib.pyplot as plt\n",
    "plt.style.use('fivethirtyeight')\n",
    "import warnings\n",
    "warnings.simplefilter('ignore', FutureWarning)"
   ]
  },
  {
   "cell_type": "markdown",
   "id": "9353a9fc",
   "metadata": {},
   "source": [
    "This notebook contains the datasets for the problems on the student practice midterm design. Feel free to use it as an extra reference as you work on these problems. "
   ]
  },
  {
   "cell_type": "markdown",
   "id": "20596194",
   "metadata": {},
   "source": [
    "# Problem 1\n",
    "Given the table baby names below containing popular baby names between 2011 and\n",
    "2019, answer the following questions. You may assume the standard imports:"
   ]
  },
  {
   "cell_type": "code",
   "execution_count": 4,
   "id": "b972a2b5",
   "metadata": {
    "scrolled": false
   },
   "outputs": [
    {
     "data": {
      "text/html": [
       "<table border=\"1\" class=\"dataframe\">\n",
       "    <thead>\n",
       "        <tr>\n",
       "            <th>Year of Birth</th> <th>Gender</th> <th>Ethnicity</th> <th>Child's First Name</th> <th>Count</th> <th>Rank</th>\n",
       "        </tr>\n",
       "    </thead>\n",
       "    <tbody>\n",
       "        <tr>\n",
       "            <td>2011         </td> <td>FEMALE</td> <td>HISPANIC </td> <td>GERALDINE         </td> <td>13   </td> <td>75  </td>\n",
       "        </tr>\n",
       "        <tr>\n",
       "            <td>2011         </td> <td>FEMALE</td> <td>HISPANIC </td> <td>GIA               </td> <td>21   </td> <td>67  </td>\n",
       "        </tr>\n",
       "        <tr>\n",
       "            <td>2011         </td> <td>FEMALE</td> <td>HISPANIC </td> <td>GIANNA            </td> <td>49   </td> <td>42  </td>\n",
       "        </tr>\n",
       "        <tr>\n",
       "            <td>2011         </td> <td>FEMALE</td> <td>HISPANIC </td> <td>GISELLE           </td> <td>38   </td> <td>51  </td>\n",
       "        </tr>\n",
       "        <tr>\n",
       "            <td>2011         </td> <td>FEMALE</td> <td>HISPANIC </td> <td>GRACE             </td> <td>36   </td> <td>53  </td>\n",
       "        </tr>\n",
       "        <tr>\n",
       "            <td>2011         </td> <td>FEMALE</td> <td>HISPANIC </td> <td>GUADALUPE         </td> <td>26   </td> <td>62  </td>\n",
       "        </tr>\n",
       "        <tr>\n",
       "            <td>2011         </td> <td>FEMALE</td> <td>HISPANIC </td> <td>HAILEY            </td> <td>126  </td> <td>8   </td>\n",
       "        </tr>\n",
       "        <tr>\n",
       "            <td>2011         </td> <td>FEMALE</td> <td>HISPANIC </td> <td>HALEY             </td> <td>14   </td> <td>74  </td>\n",
       "        </tr>\n",
       "        <tr>\n",
       "            <td>2011         </td> <td>FEMALE</td> <td>HISPANIC </td> <td>HANNAH            </td> <td>17   </td> <td>71  </td>\n",
       "        </tr>\n",
       "        <tr>\n",
       "            <td>2011         </td> <td>FEMALE</td> <td>HISPANIC </td> <td>HAYLEE            </td> <td>17   </td> <td>71  </td>\n",
       "        </tr>\n",
       "    </tbody>\n",
       "</table>\n",
       "<p>... (57572 rows omitted)</p>"
      ],
      "text/plain": [
       "Year of Birth | Gender | Ethnicity | Child's First Name | Count | Rank\n",
       "2011          | FEMALE | HISPANIC  | GERALDINE          | 13    | 75\n",
       "2011          | FEMALE | HISPANIC  | GIA                | 21    | 67\n",
       "2011          | FEMALE | HISPANIC  | GIANNA             | 49    | 42\n",
       "2011          | FEMALE | HISPANIC  | GISELLE            | 38    | 51\n",
       "2011          | FEMALE | HISPANIC  | GRACE              | 36    | 53\n",
       "2011          | FEMALE | HISPANIC  | GUADALUPE          | 26    | 62\n",
       "2011          | FEMALE | HISPANIC  | HAILEY             | 126   | 8\n",
       "2011          | FEMALE | HISPANIC  | HALEY              | 14    | 74\n",
       "2011          | FEMALE | HISPANIC  | HANNAH             | 17    | 71\n",
       "2011          | FEMALE | HISPANIC  | HAYLEE             | 17    | 71\n",
       "... (57572 rows omitted)"
      ]
     },
     "execution_count": 4,
     "metadata": {},
     "output_type": "execute_result"
    }
   ],
   "source": [
    "baby_names = Table().read_table('Popular_Baby_Names.csv')\n",
    "baby_names"
   ]
  },
  {
   "cell_type": "markdown",
   "id": "fe4b8582",
   "metadata": {},
   "source": [
    "Between 2013 and 2019, what was the most popular boy’s name, and how many\n",
    "babies were named this? Filter the table to find out."
   ]
  },
  {
   "cell_type": "code",
   "execution_count": 28,
   "id": "5858eb43",
   "metadata": {},
   "outputs": [
    {
     "data": {
      "text/html": [
       "<table border=\"1\" class=\"dataframe\">\n",
       "    <thead>\n",
       "        <tr>\n",
       "            <th>Child's First Name</th> <th>Year of Birth sum</th> <th>Gender sum</th> <th>Ethnicity sum</th> <th>Count sum</th> <th>Rank sum</th>\n",
       "        </tr>\n",
       "    </thead>\n",
       "    <tbody>\n",
       "        <tr>\n",
       "            <td>Ethan             </td> <td>126920           </td> <td>          </td> <td>             </td> <td>10664    </td> <td>522     </td>\n",
       "        </tr>\n",
       "    </tbody>\n",
       "</table>"
      ],
      "text/plain": [
       "Child's First Name | Year of Birth sum | Gender sum | Ethnicity sum | Count sum | Rank sum\n",
       "Ethan              | 126920            |            |               | 10664     | 522"
      ]
     },
     "execution_count": 28,
     "metadata": {},
     "output_type": "execute_result"
    }
   ],
   "source": [
    "male_names_2013_to_2019 = baby_names.where(\"Year of Birth\", are.above_or_equal_to(2013)).where(\"Gender\", \"MALE\")\n",
    "total_name_count = male_names_2013_to_2019.group(\"Child's First Name\", sum)\n",
    "total_name_count.sort(\"Count sum\", descending=True).item(0)"
   ]
  },
  {
   "cell_type": "markdown",
   "id": "00bccbca",
   "metadata": {},
   "source": [
    "Between 2013 and 2019, what was the most popular girl’s name, and how many\n",
    "babies were named this? Filter the table to find out."
   ]
  },
  {
   "cell_type": "code",
   "execution_count": null,
   "id": "7f2b5cdc",
   "metadata": {},
   "outputs": [],
   "source": []
  },
  {
   "cell_type": "markdown",
   "id": "d355b323",
   "metadata": {},
   "source": [
    "# Problem 2"
   ]
  },
  {
   "cell_type": "markdown",
   "id": "5bbe8b92",
   "metadata": {},
   "source": [
    "Suppose you are given the table pokemon below, complete the following operations.\n",
    "*NOTE* This is a large table, so not all columns are displayed in the image below."
   ]
  },
  {
   "cell_type": "code",
   "execution_count": 5,
   "id": "2a754e22",
   "metadata": {
    "scrolled": true
   },
   "outputs": [
    {
     "data": {
      "text/html": [
       "<table border=\"1\" class=\"dataframe\">\n",
       "    <thead>\n",
       "        <tr>\n",
       "            <th>abilities</th> <th>against_bug</th> <th>against_dark</th> <th>against_dragon</th> <th>against_electric</th> <th>against_fairy</th> <th>against_fight</th> <th>against_fire</th> <th>against_flying</th> <th>against_ghost</th> <th>against_grass</th> <th>against_ground</th> <th>against_ice</th> <th>against_normal</th> <th>against_poison</th> <th>against_psychic</th> <th>against_rock</th> <th>against_steel</th> <th>against_water</th> <th>attack</th> <th>base_egg_steps</th> <th>base_happiness</th> <th>base_total</th> <th>capture_rate</th> <th>classfication</th> <th>defense</th> <th>experience_growth</th> <th>height_m</th> <th>hp</th> <th>japanese_name</th> <th>name</th> <th>percentage_male</th> <th>pokedex_number</th> <th>sp_attack</th> <th>sp_defense</th> <th>speed</th> <th>type1</th> <th>type2</th> <th>weight_kg</th> <th>generation</th> <th>is_legendary</th>\n",
       "        </tr>\n",
       "    </thead>\n",
       "    <tbody>\n",
       "        <tr>\n",
       "            <td>['Overgrow', 'Chlorophyll']</td> <td>1          </td> <td>1           </td> <td>1             </td> <td>0.5             </td> <td>0.5          </td> <td>0.5          </td> <td>2           </td> <td>2             </td> <td>1            </td> <td>0.25         </td> <td>1             </td> <td>2          </td> <td>1             </td> <td>1             </td> <td>2              </td> <td>1           </td> <td>1            </td> <td>0.5          </td> <td>49    </td> <td>5120          </td> <td>70            </td> <td>318       </td> <td>45          </td> <td>Seed Pokémon       </td> <td>49     </td> <td>1059860          </td> <td>0.7     </td> <td>45  </td> <td>Fushigidaneフシギダネ</td> <td>Bulbasaur </td> <td>88.1           </td> <td>1             </td> <td>65       </td> <td>65        </td> <td>45   </td> <td>grass</td> <td>poison</td> <td>6.9      </td> <td>1         </td> <td>0           </td>\n",
       "        </tr>\n",
       "        <tr>\n",
       "            <td>['Overgrow', 'Chlorophyll']</td> <td>1          </td> <td>1           </td> <td>1             </td> <td>0.5             </td> <td>0.5          </td> <td>0.5          </td> <td>2           </td> <td>2             </td> <td>1            </td> <td>0.25         </td> <td>1             </td> <td>2          </td> <td>1             </td> <td>1             </td> <td>2              </td> <td>1           </td> <td>1            </td> <td>0.5          </td> <td>62    </td> <td>5120          </td> <td>70            </td> <td>405       </td> <td>45          </td> <td>Seed Pokémon       </td> <td>63     </td> <td>1059860          </td> <td>1       </td> <td>60  </td> <td>Fushigisouフシギソウ </td> <td>Ivysaur   </td> <td>88.1           </td> <td>2             </td> <td>80       </td> <td>80        </td> <td>60   </td> <td>grass</td> <td>poison</td> <td>13       </td> <td>1         </td> <td>0           </td>\n",
       "        </tr>\n",
       "        <tr>\n",
       "            <td>['Overgrow', 'Chlorophyll']</td> <td>1          </td> <td>1           </td> <td>1             </td> <td>0.5             </td> <td>0.5          </td> <td>0.5          </td> <td>2           </td> <td>2             </td> <td>1            </td> <td>0.25         </td> <td>1             </td> <td>2          </td> <td>1             </td> <td>1             </td> <td>2              </td> <td>1           </td> <td>1            </td> <td>0.5          </td> <td>100   </td> <td>5120          </td> <td>70            </td> <td>625       </td> <td>45          </td> <td>Seed Pokémon       </td> <td>123    </td> <td>1059860          </td> <td>2       </td> <td>80  </td> <td>Fushigibanaフシギバナ</td> <td>Venusaur  </td> <td>88.1           </td> <td>3             </td> <td>122      </td> <td>120       </td> <td>80   </td> <td>grass</td> <td>poison</td> <td>100      </td> <td>1         </td> <td>0           </td>\n",
       "        </tr>\n",
       "        <tr>\n",
       "            <td>['Blaze', 'Solar Power']   </td> <td>0.5        </td> <td>1           </td> <td>1             </td> <td>1               </td> <td>0.5          </td> <td>1            </td> <td>0.5         </td> <td>1             </td> <td>1            </td> <td>0.5          </td> <td>2             </td> <td>0.5        </td> <td>1             </td> <td>1             </td> <td>1              </td> <td>2           </td> <td>0.5          </td> <td>2            </td> <td>52    </td> <td>5120          </td> <td>70            </td> <td>309       </td> <td>45          </td> <td>Lizard Pokémon     </td> <td>43     </td> <td>1059860          </td> <td>0.6     </td> <td>39  </td> <td>Hitokageヒトカゲ    </td> <td>Charmander</td> <td>88.1           </td> <td>4             </td> <td>60       </td> <td>50        </td> <td>65   </td> <td>fire </td> <td>nan   </td> <td>8.5      </td> <td>1         </td> <td>0           </td>\n",
       "        </tr>\n",
       "        <tr>\n",
       "            <td>['Blaze', 'Solar Power']   </td> <td>0.5        </td> <td>1           </td> <td>1             </td> <td>1               </td> <td>0.5          </td> <td>1            </td> <td>0.5         </td> <td>1             </td> <td>1            </td> <td>0.5          </td> <td>2             </td> <td>0.5        </td> <td>1             </td> <td>1             </td> <td>1              </td> <td>2           </td> <td>0.5          </td> <td>2            </td> <td>64    </td> <td>5120          </td> <td>70            </td> <td>405       </td> <td>45          </td> <td>Flame Pokémon      </td> <td>58     </td> <td>1059860          </td> <td>1.1     </td> <td>58  </td> <td>Lizardoリザード     </td> <td>Charmeleon</td> <td>88.1           </td> <td>5             </td> <td>80       </td> <td>65        </td> <td>80   </td> <td>fire </td> <td>nan   </td> <td>19       </td> <td>1         </td> <td>0           </td>\n",
       "        </tr>\n",
       "        <tr>\n",
       "            <td>['Blaze', 'Solar Power']   </td> <td>0.25       </td> <td>1           </td> <td>1             </td> <td>2               </td> <td>0.5          </td> <td>0.5          </td> <td>0.5         </td> <td>1             </td> <td>1            </td> <td>0.25         </td> <td>0             </td> <td>1          </td> <td>1             </td> <td>1             </td> <td>1              </td> <td>4           </td> <td>0.5          </td> <td>2            </td> <td>104   </td> <td>5120          </td> <td>70            </td> <td>634       </td> <td>45          </td> <td>Flame Pokémon      </td> <td>78     </td> <td>1059860          </td> <td>1.7     </td> <td>78  </td> <td>Lizardonリザードン   </td> <td>Charizard </td> <td>88.1           </td> <td>6             </td> <td>159      </td> <td>115       </td> <td>100  </td> <td>fire </td> <td>flying</td> <td>90.5     </td> <td>1         </td> <td>0           </td>\n",
       "        </tr>\n",
       "        <tr>\n",
       "            <td>['Torrent', 'Rain Dish']   </td> <td>1          </td> <td>1           </td> <td>1             </td> <td>2               </td> <td>1            </td> <td>1            </td> <td>0.5         </td> <td>1             </td> <td>1            </td> <td>2            </td> <td>1             </td> <td>0.5        </td> <td>1             </td> <td>1             </td> <td>1              </td> <td>1           </td> <td>0.5          </td> <td>0.5          </td> <td>48    </td> <td>5120          </td> <td>70            </td> <td>314       </td> <td>45          </td> <td>Tiny Turtle Pokémon</td> <td>65     </td> <td>1059860          </td> <td>0.5     </td> <td>44  </td> <td>Zenigameゼニガメ    </td> <td>Squirtle  </td> <td>88.1           </td> <td>7             </td> <td>50       </td> <td>64        </td> <td>43   </td> <td>water</td> <td>nan   </td> <td>9        </td> <td>1         </td> <td>0           </td>\n",
       "        </tr>\n",
       "        <tr>\n",
       "            <td>['Torrent', 'Rain Dish']   </td> <td>1          </td> <td>1           </td> <td>1             </td> <td>2               </td> <td>1            </td> <td>1            </td> <td>0.5         </td> <td>1             </td> <td>1            </td> <td>2            </td> <td>1             </td> <td>0.5        </td> <td>1             </td> <td>1             </td> <td>1              </td> <td>1           </td> <td>0.5          </td> <td>0.5          </td> <td>63    </td> <td>5120          </td> <td>70            </td> <td>405       </td> <td>45          </td> <td>Turtle Pokémon     </td> <td>80     </td> <td>1059860          </td> <td>1       </td> <td>59  </td> <td>Kameilカメール      </td> <td>Wartortle </td> <td>88.1           </td> <td>8             </td> <td>65       </td> <td>80        </td> <td>58   </td> <td>water</td> <td>nan   </td> <td>22.5     </td> <td>1         </td> <td>0           </td>\n",
       "        </tr>\n",
       "        <tr>\n",
       "            <td>['Torrent', 'Rain Dish']   </td> <td>1          </td> <td>1           </td> <td>1             </td> <td>2               </td> <td>1            </td> <td>1            </td> <td>0.5         </td> <td>1             </td> <td>1            </td> <td>2            </td> <td>1             </td> <td>0.5        </td> <td>1             </td> <td>1             </td> <td>1              </td> <td>1           </td> <td>0.5          </td> <td>0.5          </td> <td>103   </td> <td>5120          </td> <td>70            </td> <td>630       </td> <td>45          </td> <td>Shellfish Pokémon  </td> <td>120    </td> <td>1059860          </td> <td>1.6     </td> <td>79  </td> <td>Kamexカメックス      </td> <td>Blastoise </td> <td>88.1           </td> <td>9             </td> <td>135      </td> <td>115       </td> <td>78   </td> <td>water</td> <td>nan   </td> <td>85.5     </td> <td>1         </td> <td>0           </td>\n",
       "        </tr>\n",
       "        <tr>\n",
       "            <td>['Shield Dust', 'Run Away']</td> <td>1          </td> <td>1           </td> <td>1             </td> <td>1               </td> <td>1            </td> <td>0.5          </td> <td>2           </td> <td>2             </td> <td>1            </td> <td>0.5          </td> <td>0.5           </td> <td>1          </td> <td>1             </td> <td>1             </td> <td>1              </td> <td>2           </td> <td>1            </td> <td>1            </td> <td>30    </td> <td>3840          </td> <td>70            </td> <td>195       </td> <td>255         </td> <td>Worm Pokémon       </td> <td>35     </td> <td>1000000          </td> <td>0.3     </td> <td>45  </td> <td>Caterpieキャタピー   </td> <td>Caterpie  </td> <td>50             </td> <td>10            </td> <td>20       </td> <td>20        </td> <td>45   </td> <td>bug  </td> <td>nan   </td> <td>2.9      </td> <td>1         </td> <td>0           </td>\n",
       "        </tr>\n",
       "    </tbody>\n",
       "</table>\n",
       "<p>... (791 rows omitted)</p>"
      ],
      "text/plain": [
       "abilities                   | against_bug | against_dark | against_dragon | against_electric | against_fairy | against_fight | against_fire | against_flying | against_ghost | against_grass | against_ground | against_ice | against_normal | against_poison | against_psychic | against_rock | against_steel | against_water | attack | base_egg_steps | base_happiness | base_total | capture_rate | classfication       | defense | experience_growth | height_m | hp   | japanese_name    | name       | percentage_male | pokedex_number | sp_attack | sp_defense | speed | type1 | type2  | weight_kg | generation | is_legendary\n",
       "['Overgrow', 'Chlorophyll'] | 1           | 1            | 1              | 0.5              | 0.5           | 0.5           | 2            | 2              | 1             | 0.25          | 1              | 2           | 1              | 1              | 2               | 1            | 1             | 0.5           | 49     | 5120           | 70             | 318        | 45           | Seed Pokémon        | 49      | 1059860           | 0.7      | 45   | Fushigidaneフシギダネ | Bulbasaur  | 88.1            | 1              | 65        | 65         | 45    | grass | poison | 6.9       | 1          | 0\n",
       "['Overgrow', 'Chlorophyll'] | 1           | 1            | 1              | 0.5              | 0.5           | 0.5           | 2            | 2              | 1             | 0.25          | 1              | 2           | 1              | 1              | 2               | 1            | 1             | 0.5           | 62     | 5120           | 70             | 405        | 45           | Seed Pokémon        | 63      | 1059860           | 1        | 60   | Fushigisouフシギソウ  | Ivysaur    | 88.1            | 2              | 80        | 80         | 60    | grass | poison | 13        | 1          | 0\n",
       "['Overgrow', 'Chlorophyll'] | 1           | 1            | 1              | 0.5              | 0.5           | 0.5           | 2            | 2              | 1             | 0.25          | 1              | 2           | 1              | 1              | 2               | 1            | 1             | 0.5           | 100    | 5120           | 70             | 625        | 45           | Seed Pokémon        | 123     | 1059860           | 2        | 80   | Fushigibanaフシギバナ | Venusaur   | 88.1            | 3              | 122       | 120        | 80    | grass | poison | 100       | 1          | 0\n",
       "['Blaze', 'Solar Power']    | 0.5         | 1            | 1              | 1                | 0.5           | 1             | 0.5          | 1              | 1             | 0.5           | 2              | 0.5         | 1              | 1              | 1               | 2            | 0.5           | 2             | 52     | 5120           | 70             | 309        | 45           | Lizard Pokémon      | 43      | 1059860           | 0.6      | 39   | Hitokageヒトカゲ     | Charmander | 88.1            | 4              | 60        | 50         | 65    | fire  | nan    | 8.5       | 1          | 0\n",
       "['Blaze', 'Solar Power']    | 0.5         | 1            | 1              | 1                | 0.5           | 1             | 0.5          | 1              | 1             | 0.5           | 2              | 0.5         | 1              | 1              | 1               | 2            | 0.5           | 2             | 64     | 5120           | 70             | 405        | 45           | Flame Pokémon       | 58      | 1059860           | 1.1      | 58   | Lizardoリザード      | Charmeleon | 88.1            | 5              | 80        | 65         | 80    | fire  | nan    | 19        | 1          | 0\n",
       "['Blaze', 'Solar Power']    | 0.25        | 1            | 1              | 2                | 0.5           | 0.5           | 0.5          | 1              | 1             | 0.25          | 0              | 1           | 1              | 1              | 1               | 4            | 0.5           | 2             | 104    | 5120           | 70             | 634        | 45           | Flame Pokémon       | 78      | 1059860           | 1.7      | 78   | Lizardonリザードン    | Charizard  | 88.1            | 6              | 159       | 115        | 100   | fire  | flying | 90.5      | 1          | 0\n",
       "['Torrent', 'Rain Dish']    | 1           | 1            | 1              | 2                | 1             | 1             | 0.5          | 1              | 1             | 2             | 1              | 0.5         | 1              | 1              | 1               | 1            | 0.5           | 0.5           | 48     | 5120           | 70             | 314        | 45           | Tiny Turtle Pokémon | 65      | 1059860           | 0.5      | 44   | Zenigameゼニガメ     | Squirtle   | 88.1            | 7              | 50        | 64         | 43    | water | nan    | 9         | 1          | 0\n",
       "['Torrent', 'Rain Dish']    | 1           | 1            | 1              | 2                | 1             | 1             | 0.5          | 1              | 1             | 2             | 1              | 0.5         | 1              | 1              | 1               | 1            | 0.5           | 0.5           | 63     | 5120           | 70             | 405        | 45           | Turtle Pokémon      | 80      | 1059860           | 1        | 59   | Kameilカメール       | Wartortle  | 88.1            | 8              | 65        | 80         | 58    | water | nan    | 22.5      | 1          | 0\n",
       "['Torrent', 'Rain Dish']    | 1           | 1            | 1              | 2                | 1             | 1             | 0.5          | 1              | 1             | 2             | 1              | 0.5         | 1              | 1              | 1               | 1            | 0.5           | 0.5           | 103    | 5120           | 70             | 630        | 45           | Shellfish Pokémon   | 120     | 1059860           | 1.6      | 79   | Kamexカメックス       | Blastoise  | 88.1            | 9              | 135       | 115        | 78    | water | nan    | 85.5      | 1          | 0\n",
       "['Shield Dust', 'Run Away'] | 1           | 1            | 1              | 1                | 1             | 0.5           | 2            | 2              | 1             | 0.5           | 0.5            | 1           | 1              | 1              | 1               | 2            | 1             | 1             | 30     | 3840           | 70             | 195        | 255          | Worm Pokémon        | 35      | 1000000           | 0.3      | 45   | Caterpieキャタピー    | Caterpie   | 50              | 10             | 20        | 20         | 45    | bug   | nan    | 2.9       | 1          | 0\n",
       "... (791 rows omitted)"
      ]
     },
     "execution_count": 5,
     "metadata": {},
     "output_type": "execute_result"
    }
   ],
   "source": [
    "pokemon = Table().read_table(\"pokemon.csv\")\n",
    "pokemon"
   ]
  },
  {
   "cell_type": "markdown",
   "id": "fbb18ae6",
   "metadata": {},
   "source": [
    "Write some code to get the total amount of each type of pokemon introduced in\n",
    "each generation(1-7). Use the `type1` column."
   ]
  },
  {
   "cell_type": "code",
   "execution_count": 38,
   "id": "9f013f5c",
   "metadata": {},
   "outputs": [
    {
     "data": {
      "text/html": [
       "<table border=\"1\" class=\"dataframe\">\n",
       "    <thead>\n",
       "        <tr>\n",
       "            <th>generation</th> <th>type1</th> <th>count</th>\n",
       "        </tr>\n",
       "    </thead>\n",
       "    <tbody>\n",
       "        <tr>\n",
       "            <td>1         </td> <td>bug     </td> <td>12   </td>\n",
       "        </tr>\n",
       "        <tr>\n",
       "            <td>1         </td> <td>dragon  </td> <td>3    </td>\n",
       "        </tr>\n",
       "        <tr>\n",
       "            <td>1         </td> <td>electric</td> <td>9    </td>\n",
       "        </tr>\n",
       "        <tr>\n",
       "            <td>1         </td> <td>fairy   </td> <td>2    </td>\n",
       "        </tr>\n",
       "        <tr>\n",
       "            <td>1         </td> <td>fighting</td> <td>7    </td>\n",
       "        </tr>\n",
       "        <tr>\n",
       "            <td>1         </td> <td>fire    </td> <td>12   </td>\n",
       "        </tr>\n",
       "        <tr>\n",
       "            <td>1         </td> <td>ghost   </td> <td>3    </td>\n",
       "        </tr>\n",
       "        <tr>\n",
       "            <td>1         </td> <td>grass   </td> <td>12   </td>\n",
       "        </tr>\n",
       "        <tr>\n",
       "            <td>1         </td> <td>ground  </td> <td>8    </td>\n",
       "        </tr>\n",
       "        <tr>\n",
       "            <td>1         </td> <td>ice     </td> <td>2    </td>\n",
       "        </tr>\n",
       "    </tbody>\n",
       "</table>\n",
       "<p>... (104 rows omitted)</p>"
      ],
      "text/plain": [
       "generation | type1    | count\n",
       "1          | bug      | 12\n",
       "1          | dragon   | 3\n",
       "1          | electric | 9\n",
       "1          | fairy    | 2\n",
       "1          | fighting | 7\n",
       "1          | fire     | 12\n",
       "1          | ghost    | 3\n",
       "1          | grass    | 12\n",
       "1          | ground   | 8\n",
       "1          | ice      | 2\n",
       "... (104 rows omitted)"
      ]
     },
     "execution_count": 38,
     "metadata": {},
     "output_type": "execute_result"
    }
   ],
   "source": [
    "pokemon.group([\"generation\",'type1'])#.pivot(\"type1\",'generation',\"count\",np.sum)\n"
   ]
  },
  {
   "cell_type": "code",
   "execution_count": 37,
   "id": "b3140d3b",
   "metadata": {},
   "outputs": [
    {
     "data": {
      "text/html": [
       "<table border=\"1\" class=\"dataframe\">\n",
       "    <thead>\n",
       "        <tr>\n",
       "            <th>generation</th> <th>bug</th> <th>dark</th> <th>dragon</th> <th>electric</th> <th>fairy</th> <th>fighting</th> <th>fire</th> <th>flying</th> <th>ghost</th> <th>grass</th> <th>ground</th> <th>ice</th> <th>normal</th> <th>poison</th> <th>psychic</th> <th>rock</th> <th>steel</th> <th>water</th>\n",
       "        </tr>\n",
       "    </thead>\n",
       "    <tbody>\n",
       "        <tr>\n",
       "            <td>1         </td> <td>12  </td> <td>0   </td> <td>3     </td> <td>9       </td> <td>2    </td> <td>7       </td> <td>12  </td> <td>0     </td> <td>3    </td> <td>12   </td> <td>8     </td> <td>2   </td> <td>22    </td> <td>14    </td> <td>8      </td> <td>9   </td> <td>0    </td> <td>28   </td>\n",
       "        </tr>\n",
       "        <tr>\n",
       "            <td>2         </td> <td>10  </td> <td>5   </td> <td>0     </td> <td>6       </td> <td>5    </td> <td>2       </td> <td>8   </td> <td>0     </td> <td>1    </td> <td>9    </td> <td>3     </td> <td>4   </td> <td>15    </td> <td>1     </td> <td>7      </td> <td>4   </td> <td>2    </td> <td>18   </td>\n",
       "        </tr>\n",
       "        <tr>\n",
       "            <td>3         </td> <td>12  </td> <td>4   </td> <td>7     </td> <td>4       </td> <td>0    </td> <td>4       </td> <td>6   </td> <td>0     </td> <td>4    </td> <td>12   </td> <td>6     </td> <td>6   </td> <td>18    </td> <td>3     </td> <td>8      </td> <td>8   </td> <td>9    </td> <td>24   </td>\n",
       "        </tr>\n",
       "        <tr>\n",
       "            <td>4         </td> <td>8   </td> <td>3   </td> <td>3     </td> <td>7       </td> <td>1    </td> <td>2       </td> <td>5   </td> <td>0     </td> <td>6    </td> <td>13   </td> <td>4     </td> <td>3   </td> <td>17    </td> <td>6     </td> <td>7      </td> <td>6   </td> <td>3    </td> <td>13   </td>\n",
       "        </tr>\n",
       "        <tr>\n",
       "            <td>5         </td> <td>18  </td> <td>13  </td> <td>7     </td> <td>7       </td> <td>0    </td> <td>7       </td> <td>8   </td> <td>1     </td> <td>5    </td> <td>15   </td> <td>9     </td> <td>6   </td> <td>17    </td> <td>2     </td> <td>14     </td> <td>6   </td> <td>4    </td> <td>17   </td>\n",
       "        </tr>\n",
       "        <tr>\n",
       "            <td>6         </td> <td>3   </td> <td>3   </td> <td>4     </td> <td>3       </td> <td>9    </td> <td>3       </td> <td>8   </td> <td>2     </td> <td>4    </td> <td>5    </td> <td>0     </td> <td>2   </td> <td>4     </td> <td>2     </td> <td>3      </td> <td>8   </td> <td>4    </td> <td>5    </td>\n",
       "        </tr>\n",
       "        <tr>\n",
       "            <td>7         </td> <td>9   </td> <td>1   </td> <td>3     </td> <td>3       </td> <td>1    </td> <td>3       </td> <td>5   </td> <td>0     </td> <td>4    </td> <td>12   </td> <td>2     </td> <td>0   </td> <td>12    </td> <td>4     </td> <td>6      </td> <td>4   </td> <td>2    </td> <td>9    </td>\n",
       "        </tr>\n",
       "    </tbody>\n",
       "</table>"
      ],
      "text/plain": [
       "generation | bug  | dark | dragon | electric | fairy | fighting | fire | flying | ghost | grass | ground | ice  | normal | poison | psychic | rock | steel | water\n",
       "1          | 12   | 0    | 3      | 9        | 2     | 7        | 12   | 0      | 3     | 12    | 8      | 2    | 22     | 14     | 8       | 9    | 0     | 28\n",
       "2          | 10   | 5    | 0      | 6        | 5     | 2        | 8    | 0      | 1     | 9     | 3      | 4    | 15     | 1      | 7       | 4    | 2     | 18\n",
       "3          | 12   | 4    | 7      | 4        | 0     | 4        | 6    | 0      | 4     | 12    | 6      | 6    | 18     | 3      | 8       | 8    | 9     | 24\n",
       "4          | 8    | 3    | 3      | 7        | 1     | 2        | 5    | 0      | 6     | 13    | 4      | 3    | 17     | 6      | 7       | 6    | 3     | 13\n",
       "5          | 18   | 13   | 7      | 7        | 0     | 7        | 8    | 1      | 5     | 15    | 9      | 6    | 17     | 2      | 14      | 6    | 4     | 17\n",
       "6          | 3    | 3    | 4      | 3        | 9     | 3        | 8    | 2      | 4     | 5     | 0      | 2    | 4      | 2      | 3       | 8    | 4     | 5\n",
       "7          | 9    | 1    | 3      | 3        | 1     | 3        | 5    | 0      | 4     | 12    | 2      | 0    | 12     | 4      | 6       | 4    | 2     | 9"
      ]
     },
     "execution_count": 37,
     "metadata": {},
     "output_type": "execute_result"
    }
   ],
   "source": [
    "pokemon.pivot(\"type1\",'generation')"
   ]
  },
  {
   "cell_type": "markdown",
   "id": "fe8aecf6",
   "metadata": {},
   "source": [
    "For each pokemon type (use the `type1` column), find the average `attack`,`sp_attack`,\n",
    "`sp_defense`, and `speed`. Produce a bar chart of the results."
   ]
  },
  {
   "cell_type": "code",
   "execution_count": 41,
   "id": "c6df5c4f",
   "metadata": {
    "scrolled": true
   },
   "outputs": [
    {
     "data": {
      "image/png": "[encoded data removed]",
      "text/plain": [
       "<Figure size 600x900 with 1 Axes>"
      ]
     },
     "metadata": {},
     "output_type": "display_data"
    }
   ],
   "source": [
    "poke_stats = pokemon.select(\"type1\",\"attack\",\"sp_attack\",\"sp_defense\",\"speed\")\n",
    "poke_stats.group(\"type1\",np.mean).barh(\"type1\")"
   ]
  },
  {
   "cell_type": "markdown",
   "id": "9186307d",
   "metadata": {},
   "source": [
    "# Problem 3"
   ]
  },
  {
   "cell_type": "markdown",
   "id": "cceadea7",
   "metadata": {},
   "source": [
    "You are given a sack of marbles with 20 marbles total, 6 BLUE, 7 GREEN, 4 RED\n",
    "and 3 YELLOW.\n",
    "Create a table with two columns color and number containing the number of\n",
    "marbles of each color."
   ]
  },
  {
   "cell_type": "code",
   "execution_count": 6,
   "id": "23541cfb",
   "metadata": {},
   "outputs": [
    {
     "data": {
      "text/html": [
       "<table border=\"1\" class=\"dataframe\">\n",
       "    <thead>\n",
       "        <tr>\n",
       "            <th>color</th> <th>number</th>\n",
       "        </tr>\n",
       "    </thead>\n",
       "    <tbody>\n",
       "        <tr>\n",
       "            <td>blue  </td> <td>6     </td>\n",
       "        </tr>\n",
       "        <tr>\n",
       "            <td>green </td> <td>7     </td>\n",
       "        </tr>\n",
       "        <tr>\n",
       "            <td>red   </td> <td>4     </td>\n",
       "        </tr>\n",
       "        <tr>\n",
       "            <td>yellow</td> <td>3     </td>\n",
       "        </tr>\n",
       "    </tbody>\n",
       "</table>"
      ],
      "text/plain": [
       "color  | number\n",
       "blue   | 6\n",
       "green  | 7\n",
       "red    | 4\n",
       "yellow | 3"
      ]
     },
     "execution_count": 6,
     "metadata": {},
     "output_type": "execute_result"
    }
   ],
   "source": [
    "colors = Table().with_columns(\n",
    "    \"color\", make_array(\"blue\", \"green\", \"red\", \"yellow\"),\n",
    "    \"number\", make_array(6, 7, 4, 3)\n",
    ")\n",
    "colors"
   ]
  },
  {
   "cell_type": "markdown",
   "id": "8453155b",
   "metadata": {},
   "source": [
    "Write a function that takes two colors and returns the probability of selecting two\n",
    "marbles with those colors from the sack without replacement. *You may use the\n",
    "colors table from part (a).*"
   ]
  },
  {
   "cell_type": "code",
   "execution_count": 42,
   "id": "8ab5a86a",
   "metadata": {},
   "outputs": [],
   "source": [
    "def chance_of_marbles(color1,color2):\n",
    "    total_num_marbles = sum(colors.column('number'))\n",
    "    num_color1_marbles = colors.where('color',color1).column('number').item(0)\n",
    "    num_color2_marbles = colors.where('color',color2).column('number').item(0)\n",
    "    if color1 == color2:\n",
    "        chance = num_color1_marbles/total_num_marbles * (num_color2_marbles-1)/(total_num_marbles -1) \n",
    "    else: \n",
    "        chance = num_color1_marbles/total_num_marbles * (num_color2_marbles)/(total_num_marbles -1) + num_color2_marbles/total_num_marbles * (num_color1_marbles)/(total_num_marbles -1) \n",
    "    return chance"
   ]
  },
  {
   "cell_type": "code",
   "execution_count": 44,
   "id": "3e908705",
   "metadata": {},
   "outputs": [
    {
     "data": {
      "text/plain": [
       "0.22105263157894736"
      ]
     },
     "execution_count": 44,
     "metadata": {},
     "output_type": "execute_result"
    }
   ],
   "source": [
    "chance_of_marbles('blue','green')"
   ]
  },
  {
   "cell_type": "code",
   "execution_count": 49,
   "id": "134c33f3",
   "metadata": {},
   "outputs": [
    {
     "data": {
      "text/plain": [
       "0.078947368421052627"
      ]
     },
     "execution_count": 49,
     "metadata": {},
     "output_type": "execute_result"
    }
   ],
   "source": [
    "chance_of_marbles('blue','blue')"
   ]
  },
  {
   "cell_type": "code",
   "execution_count": null,
   "id": "58971cd8",
   "metadata": {},
   "outputs": [],
   "source": []
  },
  {
   "cell_type": "code",
   "execution_count": null,
   "id": "c727dec6",
   "metadata": {},
   "outputs": [],
   "source": []
  },
  {
   "cell_type": "code",
   "execution_count": null,
   "id": "960e8ef6",
   "metadata": {},
   "outputs": [],
   "source": []
  },
  {
   "cell_type": "markdown",
   "id": "1f8593b5",
   "metadata": {},
   "source": [
    "# Problem 4"
   ]
  },
  {
   "cell_type": "markdown",
   "id": "5d2e5839",
   "metadata": {},
   "source": [
    "The following table `enso` displays El Nino-Southern Oscillation (ENSO) Data. *NOTE*\n",
    "This is a large table, so not all columns are shown below."
   ]
  },
  {
   "cell_type": "code",
   "execution_count": 21,
   "id": "bb03532c",
   "metadata": {
    "scrolled": false
   },
   "outputs": [
    {
     "data": {
      "text/html": [
       "<table border=\"1\" class=\"dataframe\">\n",
       "    <thead>\n",
       "        <tr>\n",
       "            <th>Date</th> <th>Year</th> <th>Month</th> <th>Global Temperature Anomalies</th> <th>Nino 1+2 SST</th> <th>Nino 1+2 SST Anomalies</th> <th>Nino 3 SST</th> <th>Nino 3 SST Anomalies</th> <th>Nino 3.4 SST</th> <th>Nino 3.4 SST Anomalies</th> <th>Nino 4 SST</th> <th>Nino 4 SST Anomalies</th> <th>TNI</th> <th>PNA</th> <th>OLR</th> <th>SOI</th> <th>Season (2-Month)</th> <th>MEI.v2</th> <th>Season (3-Month)</th> <th>ONI</th> <th>Season (12-Month)</th> <th>ENSO Phase-Intensity</th>\n",
       "        </tr>\n",
       "    </thead>\n",
       "    <tbody>\n",
       "        <tr>\n",
       "            <td>1/1/1950</td> <td>1950</td> <td>JAN  </td> <td>-0.2                        </td> <td>nan         </td> <td>nan                   </td> <td>nan       </td> <td>nan                 </td> <td>nan         </td> <td>nan                   </td> <td>nan       </td> <td>nan                 </td> <td>0.624</td> <td>-3.65</td> <td>nan </td> <td>nan </td> <td>DJ              </td> <td>nan   </td> <td>DJF             </td> <td>-1.5</td> <td>1950-1951        </td> <td>ML                  </td>\n",
       "        </tr>\n",
       "        <tr>\n",
       "            <td>2/1/1950</td> <td>1950</td> <td>FEB  </td> <td>-0.26                       </td> <td>nan         </td> <td>nan                   </td> <td>nan       </td> <td>nan                 </td> <td>nan         </td> <td>nan                   </td> <td>nan       </td> <td>nan                 </td> <td>0.445</td> <td>-1.69</td> <td>nan </td> <td>nan </td> <td>JF              </td> <td>nan   </td> <td>JFM             </td> <td>-1.3</td> <td>1950-1951        </td> <td>ML                  </td>\n",
       "        </tr>\n",
       "        <tr>\n",
       "            <td>3/1/1950</td> <td>1950</td> <td>MAR  </td> <td>-0.08                       </td> <td>nan         </td> <td>nan                   </td> <td>nan       </td> <td>nan                 </td> <td>nan         </td> <td>nan                   </td> <td>nan       </td> <td>nan                 </td> <td>0.382</td> <td>-0.06</td> <td>nan </td> <td>nan </td> <td>FM              </td> <td>nan   </td> <td>FMA             </td> <td>-1.2</td> <td>1950-1951        </td> <td>ML                  </td>\n",
       "        </tr>\n",
       "        <tr>\n",
       "            <td>4/1/1950</td> <td>1950</td> <td>APR  </td> <td>-0.16                       </td> <td>nan         </td> <td>nan                   </td> <td>nan       </td> <td>nan                 </td> <td>nan         </td> <td>nan                   </td> <td>nan       </td> <td>nan                 </td> <td>0.311</td> <td>-0.23</td> <td>nan </td> <td>nan </td> <td>MA              </td> <td>nan   </td> <td>MAM             </td> <td>-1.2</td> <td>1950-1951        </td> <td>ML                  </td>\n",
       "        </tr>\n",
       "        <tr>\n",
       "            <td>5/1/1950</td> <td>1950</td> <td>MAY  </td> <td>-0.02                       </td> <td>nan         </td> <td>nan                   </td> <td>nan       </td> <td>nan                 </td> <td>nan         </td> <td>nan                   </td> <td>nan       </td> <td>nan                 </td> <td>0.124</td> <td>-0.4 </td> <td>nan </td> <td>nan </td> <td>AM              </td> <td>nan   </td> <td>AMJ             </td> <td>-1.1</td> <td>1950-1951        </td> <td>ML                  </td>\n",
       "        </tr>\n",
       "    </tbody>\n",
       "</table>\n",
       "<p>... (877 rows omitted)</p>"
      ],
      "text/plain": [
       "<IPython.core.display.HTML object>"
      ]
     },
     "metadata": {},
     "output_type": "display_data"
    }
   ],
   "source": [
    "enso = Table.read_table('ENSO.csv')\n",
    "enso.show(5)"
   ]
  },
  {
   "cell_type": "markdown",
   "id": "77f444dc",
   "metadata": {},
   "source": [
    "According to NOAA, the term ’temperature anomaly’ means a departure from\n",
    "a reference value or long-term average. A positive anomaly indicates that the\n",
    "observed temperature was warmer than the reference value, while a negative\n",
    "anomaly indicates that the observed temperature was cooler than the reference\n",
    "value. Find the global temperature anomalies average for each year using the\n",
    "enso table. Display the data in a table that includes two columns (`Year` and\n",
    "`Global Temperature Anomalies average`)"
   ]
  },
  {
   "cell_type": "code",
   "execution_count": 22,
   "id": "adc2a44b",
   "metadata": {
    "scrolled": true
   },
   "outputs": [
    {
     "data": {
      "text/html": [
       "<table border=\"1\" class=\"dataframe\">\n",
       "    <thead>\n",
       "        <tr>\n",
       "            <th>Year</th> <th>Global Temperature Anomalies average</th>\n",
       "        </tr>\n",
       "    </thead>\n",
       "    <tbody>\n",
       "        <tr>\n",
       "            <td>1950</td> <td>-0.124167                           </td>\n",
       "        </tr>\n",
       "        <tr>\n",
       "            <td>1951</td> <td>-0.00916667                         </td>\n",
       "        </tr>\n",
       "        <tr>\n",
       "            <td>1952</td> <td>0.0516667                           </td>\n",
       "        </tr>\n",
       "        <tr>\n",
       "            <td>1953</td> <td>0.126667                            </td>\n",
       "        </tr>\n",
       "        <tr>\n",
       "            <td>1954</td> <td>-0.0716667                          </td>\n",
       "        </tr>\n",
       "        <tr>\n",
       "            <td>1955</td> <td>-0.13                               </td>\n",
       "        </tr>\n",
       "        <tr>\n",
       "            <td>1956</td> <td>-0.170833                           </td>\n",
       "        </tr>\n",
       "        <tr>\n",
       "            <td>1957</td> <td>0.0583333                           </td>\n",
       "        </tr>\n",
       "        <tr>\n",
       "            <td>1958</td> <td>0.0841667                           </td>\n",
       "        </tr>\n",
       "        <tr>\n",
       "            <td>1959</td> <td>0.0691667                           </td>\n",
       "        </tr>\n",
       "    </tbody>\n",
       "</table>\n",
       "<p>... (64 rows omitted)</p>"
      ],
      "text/plain": [
       "Year | Global Temperature Anomalies average\n",
       "1950 | -0.124167\n",
       "1951 | -0.00916667\n",
       "1952 | 0.0516667\n",
       "1953 | 0.126667\n",
       "1954 | -0.0716667\n",
       "1955 | -0.13\n",
       "1956 | -0.170833\n",
       "1957 | 0.0583333\n",
       "1958 | 0.0841667\n",
       "1959 | 0.0691667\n",
       "... (64 rows omitted)"
      ]
     },
     "execution_count": 22,
     "metadata": {},
     "output_type": "execute_result"
    }
   ],
   "source": [
    "enso_year_anomaly_avg = enso.select('Year', 'Global Temperature Anomalies').group('Year', np.average)\n",
    "enso_year_anomaly_avg"
   ]
  },
  {
   "cell_type": "markdown",
   "id": "3bb2dd19",
   "metadata": {},
   "source": [
    "Create a line plot for the data with `Global Temperature Anomalies average` on\n",
    "the y-axis and `Year` on the x-axis. This should display a visualization of the El\n",
    "Nino-Southern Oscillation pattern over time since the year 1950 to the present."
   ]
  },
  {
   "cell_type": "code",
   "execution_count": 23,
   "id": "bdc7e953",
   "metadata": {},
   "outputs": [
    {
     "data": {
      "image/png": "[encoded data removed]",
      "text/plain": [
       "<Figure size 600x600 with 1 Axes>"
      ]
     },
     "metadata": {},
     "output_type": "display_data"
    }
   ],
   "source": [
    "enso_year_anomaly_avg.plot('Year', 'Global Temperature Anomalies average')"
   ]
  },
  {
   "cell_type": "code",
   "execution_count": null,
   "id": "a6efc19e",
   "metadata": {},
   "outputs": [],
   "source": [
    " "
   ]
  },
  {
   "cell_type": "code",
   "execution_count": null,
   "id": "e7012c48",
   "metadata": {},
   "outputs": [],
   "source": []
  },
  {
   "cell_type": "markdown",
   "id": "970a8e6b",
   "metadata": {},
   "source": [
    "# Problem 5"
   ]
  },
  {
   "cell_type": "markdown",
   "id": "5fdca1aa",
   "metadata": {},
   "source": [
    "The table fatalities below lists U.S. states and territories alongside the range of\n",
    "lightning deaths and the exact number of lightning deaths for that state/territory\n",
    "between 2006 and 2021."
   ]
  },
  {
   "cell_type": "code",
   "execution_count": 8,
   "id": "47923a35",
   "metadata": {
    "scrolled": true
   },
   "outputs": [
    {
     "data": {
      "text/html": [
       "<table border=\"1\" class=\"dataframe\">\n",
       "    <thead>\n",
       "        <tr>\n",
       "            <th>STATE</th> <th>Rate</th> <th>Actual Number</th>\n",
       "        </tr>\n",
       "    </thead>\n",
       "    <tbody>\n",
       "        <tr>\n",
       "            <td>Alabama    </td> <td>16 to 30    </td> <td>20           </td>\n",
       "        </tr>\n",
       "        <tr>\n",
       "            <td>Alaska     </td> <td>None        </td> <td>0            </td>\n",
       "        </tr>\n",
       "        <tr>\n",
       "            <td>AS         </td> <td>1 to 5      </td> <td>1            </td>\n",
       "        </tr>\n",
       "        <tr>\n",
       "            <td>Arizona    </td> <td>16 to 30    </td> <td>17           </td>\n",
       "        </tr>\n",
       "        <tr>\n",
       "            <td>Arkansas   </td> <td>6 to 15     </td> <td>9            </td>\n",
       "        </tr>\n",
       "        <tr>\n",
       "            <td>California </td> <td>6 to 15     </td> <td>8            </td>\n",
       "        </tr>\n",
       "        <tr>\n",
       "            <td>Colorado   </td> <td>16 to 30    </td> <td>24           </td>\n",
       "        </tr>\n",
       "        <tr>\n",
       "            <td>Connecticut</td> <td>1 to 5      </td> <td>2            </td>\n",
       "        </tr>\n",
       "        <tr>\n",
       "            <td>Deleware   </td> <td>None        </td> <td>0            </td>\n",
       "        </tr>\n",
       "        <tr>\n",
       "            <td>Florida    </td> <td>More than 30</td> <td>79           </td>\n",
       "        </tr>\n",
       "    </tbody>\n",
       "</table>\n",
       "<p>... (43 rows omitted)</p>"
      ],
      "text/plain": [
       "STATE       | Rate         | Actual Number\n",
       "Alabama     | 16 to 30     | 20\n",
       "Alaska      | None         | 0\n",
       "AS          | 1 to 5       | 1\n",
       "Arizona     | 16 to 30     | 17\n",
       "Arkansas    | 6 to 15      | 9\n",
       "California  | 6 to 15      | 8\n",
       "Colorado    | 16 to 30     | 24\n",
       "Connecticut | 1 to 5       | 2\n",
       "Deleware    | None         | 0\n",
       "Florida     | More than 30 | 79\n",
       "... (43 rows omitted)"
      ]
     },
     "execution_count": 8,
     "metadata": {},
     "output_type": "execute_result"
    }
   ],
   "source": [
    "fatalities = Table.read_table(\"Lightning Deaths in the United States, 2006–2021 .csv\")\n",
    "fatalities"
   ]
  },
  {
   "cell_type": "markdown",
   "id": "77340dbf",
   "metadata": {},
   "source": [
    "Your friend wants to move within the U.S., but they don’t want to move anywhere\n",
    "with a higher than average (for the U.S.) number of fatal lightning strikes. They’ve\n",
    "asked you to make a table of places they should consider. The table should have\n",
    "the same columns as fatalities, ordered from the lowest to highest number of\n",
    "deaths."
   ]
  },
  {
   "cell_type": "code",
   "execution_count": 50,
   "id": "54143f96",
   "metadata": {},
   "outputs": [
    {
     "data": {
      "text/html": [
       "<table border=\"1\" class=\"dataframe\">\n",
       "    <thead>\n",
       "        <tr>\n",
       "            <th>STATE</th> <th>Rate</th> <th>Actual Number</th>\n",
       "        </tr>\n",
       "    </thead>\n",
       "    <tbody>\n",
       "        <tr>\n",
       "            <td>Alaska       </td> <td>None  </td> <td>0            </td>\n",
       "        </tr>\n",
       "        <tr>\n",
       "            <td>Deleware     </td> <td>None  </td> <td>0            </td>\n",
       "        </tr>\n",
       "        <tr>\n",
       "            <td>Hawaii       </td> <td>None  </td> <td>0            </td>\n",
       "        </tr>\n",
       "        <tr>\n",
       "            <td>New Hampshire</td> <td>None  </td> <td>0            </td>\n",
       "        </tr>\n",
       "        <tr>\n",
       "            <td>VI           </td> <td>None  </td> <td>0            </td>\n",
       "        </tr>\n",
       "        <tr>\n",
       "            <td>Washington   </td> <td>None  </td> <td>0            </td>\n",
       "        </tr>\n",
       "        <tr>\n",
       "            <td>AS           </td> <td>1 to 5</td> <td>1            </td>\n",
       "        </tr>\n",
       "        <tr>\n",
       "            <td>GU           </td> <td>1 to 5</td> <td>1            </td>\n",
       "        </tr>\n",
       "        <tr>\n",
       "            <td>Idaho        </td> <td>1 to 5</td> <td>1            </td>\n",
       "        </tr>\n",
       "        <tr>\n",
       "            <td>Nebraska     </td> <td>1 to 5</td> <td>1            </td>\n",
       "        </tr>\n",
       "    </tbody>\n",
       "</table>\n",
       "<p>... (24 rows omitted)</p>"
      ],
      "text/plain": [
       "STATE         | Rate   | Actual Number\n",
       "Alaska        | None   | 0\n",
       "Deleware      | None   | 0\n",
       "Hawaii        | None   | 0\n",
       "New Hampshire | None   | 0\n",
       "VI            | None   | 0\n",
       "Washington    | None   | 0\n",
       "AS            | 1 to 5 | 1\n",
       "GU            | 1 to 5 | 1\n",
       "Idaho         | 1 to 5 | 1\n",
       "Nebraska      | 1 to 5 | 1\n",
       "... (24 rows omitted)"
      ]
     },
     "execution_count": 50,
     "metadata": {},
     "output_type": "execute_result"
    }
   ],
   "source": [
    "fatalities_average = np.average(fatalities.column('Actual Number'))\n",
    "possible_dest = fatalities.where(\"Actual Number\", are.below(fatalities_average)).sort(\"Actual Number\")\n",
    "possible_dest"
   ]
  },
  {
   "cell_type": "markdown",
   "id": "55b07f12",
   "metadata": {},
   "source": [
    "Your friend also asks you to tell them the percentage of states they should avoid."
   ]
  },
  {
   "cell_type": "code",
   "execution_count": 53,
   "id": "2249c994",
   "metadata": {},
   "outputs": [
    {
     "data": {
      "text/plain": [
       "35.84905660377358"
      ]
     },
     "execution_count": 53,
     "metadata": {},
     "output_type": "execute_result"
    }
   ],
   "source": [
    "percent_to_avoid = ((fatalities.num_rows - possible_dest.num_rows)/fatalities.num_rows) * 100\n",
    "percent_to_avoid"
   ]
  },
  {
   "cell_type": "code",
   "execution_count": null,
   "id": "cfff0ac1",
   "metadata": {},
   "outputs": [],
   "source": []
  },
  {
   "cell_type": "code",
   "execution_count": null,
   "id": "c40def59",
   "metadata": {},
   "outputs": [],
   "source": []
  },
  {
   "cell_type": "markdown",
   "id": "ca5888ad",
   "metadata": {},
   "source": [
    "# Problem 6"
   ]
  },
  {
   "cell_type": "markdown",
   "id": "c0a6d0f6",
   "metadata": {},
   "source": [
    "You are given the table heights below containing the heights of parents and their adult\n",
    "children. Write some code to find the maximum heights of both sons and daughters\n",
    "for each mother height at least 65 inches tall. (Hint: your final table should have three\n",
    "columns, `mother`, `female`, and `male`)"
   ]
  },
  {
   "cell_type": "code",
   "execution_count": 10,
   "id": "466542a2",
   "metadata": {
    "scrolled": false
   },
   "outputs": [
    {
     "data": {
      "text/html": [
       "<table border=\"1\" class=\"dataframe\">\n",
       "    <thead>\n",
       "        <tr>\n",
       "            <th>family</th> <th>father</th> <th>mother</th> <th>child</th> <th>children</th> <th>order</th> <th>sex</th>\n",
       "        </tr>\n",
       "    </thead>\n",
       "    <tbody>\n",
       "        <tr>\n",
       "            <td>1     </td> <td>78.5  </td> <td>67    </td> <td>73.2 </td> <td>4       </td> <td>1    </td> <td>male  </td>\n",
       "        </tr>\n",
       "        <tr>\n",
       "            <td>1     </td> <td>78.5  </td> <td>67    </td> <td>69.2 </td> <td>4       </td> <td>2    </td> <td>female</td>\n",
       "        </tr>\n",
       "        <tr>\n",
       "            <td>1     </td> <td>78.5  </td> <td>67    </td> <td>69   </td> <td>4       </td> <td>3    </td> <td>female</td>\n",
       "        </tr>\n",
       "        <tr>\n",
       "            <td>1     </td> <td>78.5  </td> <td>67    </td> <td>69   </td> <td>4       </td> <td>4    </td> <td>female</td>\n",
       "        </tr>\n",
       "        <tr>\n",
       "            <td>2     </td> <td>75.5  </td> <td>66.5  </td> <td>73.5 </td> <td>4       </td> <td>1    </td> <td>male  </td>\n",
       "        </tr>\n",
       "        <tr>\n",
       "            <td>2     </td> <td>75.5  </td> <td>66.5  </td> <td>72.5 </td> <td>4       </td> <td>2    </td> <td>male  </td>\n",
       "        </tr>\n",
       "        <tr>\n",
       "            <td>2     </td> <td>75.5  </td> <td>66.5  </td> <td>65.5 </td> <td>4       </td> <td>3    </td> <td>female</td>\n",
       "        </tr>\n",
       "        <tr>\n",
       "            <td>2     </td> <td>75.5  </td> <td>66.5  </td> <td>65.5 </td> <td>4       </td> <td>4    </td> <td>female</td>\n",
       "        </tr>\n",
       "        <tr>\n",
       "            <td>3     </td> <td>75    </td> <td>64    </td> <td>71   </td> <td>2       </td> <td>1    </td> <td>male  </td>\n",
       "        </tr>\n",
       "        <tr>\n",
       "            <td>3     </td> <td>75    </td> <td>64    </td> <td>68   </td> <td>2       </td> <td>2    </td> <td>female</td>\n",
       "        </tr>\n",
       "    </tbody>\n",
       "</table>\n",
       "<p>... (924 rows omitted)</p>"
      ],
      "text/plain": [
       "family | father | mother | child | children | order | sex\n",
       "1      | 78.5   | 67     | 73.2  | 4        | 1     | male\n",
       "1      | 78.5   | 67     | 69.2  | 4        | 2     | female\n",
       "1      | 78.5   | 67     | 69    | 4        | 3     | female\n",
       "1      | 78.5   | 67     | 69    | 4        | 4     | female\n",
       "2      | 75.5   | 66.5   | 73.5  | 4        | 1     | male\n",
       "2      | 75.5   | 66.5   | 72.5  | 4        | 2     | male\n",
       "2      | 75.5   | 66.5   | 65.5  | 4        | 3     | female\n",
       "2      | 75.5   | 66.5   | 65.5  | 4        | 4     | female\n",
       "3      | 75     | 64     | 71    | 2        | 1     | male\n",
       "3      | 75     | 64     | 68    | 2        | 2     | female\n",
       "... (924 rows omitted)"
      ]
     },
     "execution_count": 10,
     "metadata": {},
     "output_type": "execute_result"
    }
   ],
   "source": [
    "heights = Table().read_table(\"family_heights.csv\")\n",
    "heights"
   ]
  },
  {
   "cell_type": "code",
   "execution_count": 54,
   "id": "625caaee",
   "metadata": {},
   "outputs": [
    {
     "data": {
      "text/html": [
       "<table border=\"1\" class=\"dataframe\">\n",
       "    <thead>\n",
       "        <tr>\n",
       "            <th>mother</th> <th>female</th> <th>male</th>\n",
       "        </tr>\n",
       "    </thead>\n",
       "    <tbody>\n",
       "        <tr>\n",
       "            <td>65.5  </td> <td>66.5  </td> <td>73  </td>\n",
       "        </tr>\n",
       "        <tr>\n",
       "            <td>66    </td> <td>68    </td> <td>76  </td>\n",
       "        </tr>\n",
       "        <tr>\n",
       "            <td>66.2  </td> <td>65.5  </td> <td>72.7</td>\n",
       "        </tr>\n",
       "        <tr>\n",
       "            <td>66.5  </td> <td>70.5  </td> <td>73.5</td>\n",
       "        </tr>\n",
       "        <tr>\n",
       "            <td>66.7  </td> <td>0     </td> <td>75  </td>\n",
       "        </tr>\n",
       "        <tr>\n",
       "            <td>67    </td> <td>69.2  </td> <td>73.2</td>\n",
       "        </tr>\n",
       "        <tr>\n",
       "            <td>68    </td> <td>70.5  </td> <td>76.5</td>\n",
       "        </tr>\n",
       "        <tr>\n",
       "            <td>68.5  </td> <td>66    </td> <td>75  </td>\n",
       "        </tr>\n",
       "        <tr>\n",
       "            <td>69    </td> <td>70    </td> <td>78  </td>\n",
       "        </tr>\n",
       "        <tr>\n",
       "            <td>70.5  </td> <td>61.7  </td> <td>71  </td>\n",
       "        </tr>\n",
       "    </tbody>\n",
       "</table>"
      ],
      "text/plain": [
       "mother | female | male\n",
       "65.5   | 66.5   | 73\n",
       "66     | 68     | 76\n",
       "66.2   | 65.5   | 72.7\n",
       "66.5   | 70.5   | 73.5\n",
       "66.7   | 0      | 75\n",
       "67     | 69.2   | 73.2\n",
       "68     | 70.5   | 76.5\n",
       "68.5   | 66     | 75\n",
       "69     | 70     | 78\n",
       "70.5   | 61.7   | 71"
      ]
     },
     "execution_count": 54,
     "metadata": {},
     "output_type": "execute_result"
    }
   ],
   "source": [
    "heights.pivot('sex','mother', 'child', np.max).where('mother', are.above(65))"
   ]
  },
  {
   "cell_type": "code",
   "execution_count": null,
   "id": "95c12fd0",
   "metadata": {},
   "outputs": [],
   "source": []
  },
  {
   "cell_type": "code",
   "execution_count": null,
   "id": "ceccb483",
   "metadata": {},
   "outputs": [],
   "source": []
  },
  {
   "cell_type": "code",
   "execution_count": null,
   "id": "4075cbd4",
   "metadata": {},
   "outputs": [],
   "source": []
  },
  {
   "cell_type": "code",
   "execution_count": null,
   "id": "85fd96a3",
   "metadata": {},
   "outputs": [],
   "source": []
  },
  {
   "cell_type": "markdown",
   "id": "cde8e11f",
   "metadata": {},
   "source": [
    "# Problem 7"
   ]
  },
  {
   "cell_type": "markdown",
   "id": "d267ad93",
   "metadata": {},
   "source": [
    "You are given a table data below. Answer the following questions."
   ]
  },
  {
   "cell_type": "code",
   "execution_count": 11,
   "id": "6caa9a62",
   "metadata": {},
   "outputs": [
    {
     "data": {
      "text/html": [
       "<table border=\"1\" class=\"dataframe\">\n",
       "    <thead>\n",
       "        <tr>\n",
       "            <th>Sample</th> <th>Green_Button_Conversions</th> <th>Red_Button_Conversions</th>\n",
       "        </tr>\n",
       "    </thead>\n",
       "    <tbody>\n",
       "        <tr>\n",
       "            <td>1     </td> <td>120                     </td> <td>135                   </td>\n",
       "        </tr>\n",
       "        <tr>\n",
       "            <td>2     </td> <td>125                     </td> <td>140                   </td>\n",
       "        </tr>\n",
       "        <tr>\n",
       "            <td>3     </td> <td>130                     </td> <td>142                   </td>\n",
       "        </tr>\n",
       "        <tr>\n",
       "            <td>4     </td> <td>128                     </td> <td>138                   </td>\n",
       "        </tr>\n",
       "        <tr>\n",
       "            <td>5     </td> <td>123                     </td> <td>141                   </td>\n",
       "        </tr>\n",
       "        <tr>\n",
       "            <td>6     </td> <td>122                     </td> <td>136                   </td>\n",
       "        </tr>\n",
       "        <tr>\n",
       "            <td>7     </td> <td>119                     </td> <td>137                   </td>\n",
       "        </tr>\n",
       "        <tr>\n",
       "            <td>8     </td> <td>124                     </td> <td>139                   </td>\n",
       "        </tr>\n",
       "        <tr>\n",
       "            <td>9     </td> <td>121                     </td> <td>134                   </td>\n",
       "        </tr>\n",
       "        <tr>\n",
       "            <td>10    </td> <td>126                     </td> <td>133                   </td>\n",
       "        </tr>\n",
       "    </tbody>\n",
       "</table>"
      ],
      "text/plain": [
       "Sample | Green_Button_Conversions | Red_Button_Conversions\n",
       "1      | 120                      | 135\n",
       "2      | 125                      | 140\n",
       "3      | 130                      | 142\n",
       "4      | 128                      | 138\n",
       "5      | 123                      | 141\n",
       "6      | 122                      | 136\n",
       "7      | 119                      | 137\n",
       "8      | 124                      | 139\n",
       "9      | 121                      | 134\n",
       "10     | 126                      | 133"
      ]
     },
     "execution_count": 11,
     "metadata": {},
     "output_type": "execute_result"
    }
   ],
   "source": [
    "data = Table().with_columns(\n",
    "    'Sample', range(1, 11),\n",
    "    'Green_Button_Conversions', [120, 125, 130, 128, 123, 122, 119, 124, 121, 126],\n",
    "    'Red_Button_Conversions', [135, 140, 142, 138, 141, 136, 137, 139, 134, 133]\n",
    ")\n",
    "data"
   ]
  },
  {
   "cell_type": "markdown",
   "id": "c0523bf3",
   "metadata": {},
   "source": [
    "Make a line plot graph with sample being x-axis."
   ]
  },
  {
   "cell_type": "code",
   "execution_count": 55,
   "id": "f2c95c66",
   "metadata": {},
   "outputs": [
    {
     "data": {
      "image/png": "[encoded data removed]",
      "text/plain": [
       "<Figure size 600x600 with 1 Axes>"
      ]
     },
     "metadata": {},
     "output_type": "display_data"
    }
   ],
   "source": [
    "data.plot('Sample', overlay=True)"
   ]
  },
  {
   "cell_type": "markdown",
   "id": "bc2b15c7",
   "metadata": {},
   "source": [
    "Make a new table for only `Red Button Conversions` above 130?"
   ]
  },
  {
   "cell_type": "code",
   "execution_count": 56,
   "id": "1cfeda55",
   "metadata": {},
   "outputs": [
    {
     "data": {
      "text/html": [
       "<table border=\"1\" class=\"dataframe\">\n",
       "    <thead>\n",
       "        <tr>\n",
       "            <th>Sample</th> <th>Green_Button_Conversions</th> <th>Red_Button_Conversions</th>\n",
       "        </tr>\n",
       "    </thead>\n",
       "    <tbody>\n",
       "        <tr>\n",
       "            <td>1     </td> <td>120                     </td> <td>135                   </td>\n",
       "        </tr>\n",
       "        <tr>\n",
       "            <td>2     </td> <td>125                     </td> <td>140                   </td>\n",
       "        </tr>\n",
       "        <tr>\n",
       "            <td>3     </td> <td>130                     </td> <td>142                   </td>\n",
       "        </tr>\n",
       "        <tr>\n",
       "            <td>4     </td> <td>128                     </td> <td>138                   </td>\n",
       "        </tr>\n",
       "        <tr>\n",
       "            <td>5     </td> <td>123                     </td> <td>141                   </td>\n",
       "        </tr>\n",
       "        <tr>\n",
       "            <td>6     </td> <td>122                     </td> <td>136                   </td>\n",
       "        </tr>\n",
       "        <tr>\n",
       "            <td>7     </td> <td>119                     </td> <td>137                   </td>\n",
       "        </tr>\n",
       "        <tr>\n",
       "            <td>8     </td> <td>124                     </td> <td>139                   </td>\n",
       "        </tr>\n",
       "        <tr>\n",
       "            <td>9     </td> <td>121                     </td> <td>134                   </td>\n",
       "        </tr>\n",
       "        <tr>\n",
       "            <td>10    </td> <td>126                     </td> <td>133                   </td>\n",
       "        </tr>\n",
       "    </tbody>\n",
       "</table>"
      ],
      "text/plain": [
       "Sample | Green_Button_Conversions | Red_Button_Conversions\n",
       "1      | 120                      | 135\n",
       "2      | 125                      | 140\n",
       "3      | 130                      | 142\n",
       "4      | 128                      | 138\n",
       "5      | 123                      | 141\n",
       "6      | 122                      | 136\n",
       "7      | 119                      | 137\n",
       "8      | 124                      | 139\n",
       "9      | 121                      | 134\n",
       "10     | 126                      | 133"
      ]
     },
     "execution_count": 56,
     "metadata": {},
     "output_type": "execute_result"
    }
   ],
   "source": [
    "selected_data = data.where('Red_Button_Conversions', are.above(130))\n",
    "selected_data"
   ]
  },
  {
   "cell_type": "markdown",
   "id": "a409f55b",
   "metadata": {},
   "source": [
    "Randomly select a sample of 100 from Green Button Conversions (with replacement)."
   ]
  },
  {
   "cell_type": "code",
   "execution_count": 57,
   "id": "4eb7e484",
   "metadata": {},
   "outputs": [
    {
     "data": {
      "text/plain": [
       "array([124, 120, 125, 123, 125, 120, 126, 119, 126, 122, 128, 130, 120,\n",
       "       119, 130, 124, 128, 123, 120, 119, 125, 128, 120, 130, 128, 121,\n",
       "       121, 128, 119, 126, 121, 130, 123, 130, 120, 130, 130, 122, 126,\n",
       "       121, 119, 121, 120, 119, 119, 123, 121, 125, 125, 123, 124, 130,\n",
       "       121, 126, 122, 123, 120, 121, 125, 119, 130, 124, 123, 120, 123,\n",
       "       122, 121, 122, 124, 125, 125, 124, 120, 123, 130, 120, 125, 125,\n",
       "       128, 128, 125, 128, 126, 122, 119, 124, 124, 119, 121, 128, 125,\n",
       "       122, 126, 124, 119, 119, 123, 128, 120, 128])"
      ]
     },
     "execution_count": 57,
     "metadata": {},
     "output_type": "execute_result"
    }
   ],
   "source": [
    "np.random.choice(data.column('Green_Button_Conversions'), 100)"
   ]
  },
  {
   "cell_type": "markdown",
   "id": "fcce780b",
   "metadata": {},
   "source": [
    "Create a column in the original data table containing randomly generated values\n",
    "from 140 to 150."
   ]
  },
  {
   "cell_type": "code",
   "execution_count": 58,
   "id": "375885c1",
   "metadata": {},
   "outputs": [
    {
     "data": {
      "text/html": [
       "<table border=\"1\" class=\"dataframe\">\n",
       "    <thead>\n",
       "        <tr>\n",
       "            <th>Sample</th> <th>Green_Button_Conversions</th> <th>Red_Button_Conversions</th> <th>New_Column</th>\n",
       "        </tr>\n",
       "    </thead>\n",
       "    <tbody>\n",
       "        <tr>\n",
       "            <td>1     </td> <td>120                     </td> <td>135                   </td> <td>144       </td>\n",
       "        </tr>\n",
       "        <tr>\n",
       "            <td>2     </td> <td>125                     </td> <td>140                   </td> <td>144       </td>\n",
       "        </tr>\n",
       "        <tr>\n",
       "            <td>3     </td> <td>130                     </td> <td>142                   </td> <td>141       </td>\n",
       "        </tr>\n",
       "        <tr>\n",
       "            <td>4     </td> <td>128                     </td> <td>138                   </td> <td>150       </td>\n",
       "        </tr>\n",
       "        <tr>\n",
       "            <td>5     </td> <td>123                     </td> <td>141                   </td> <td>147       </td>\n",
       "        </tr>\n",
       "        <tr>\n",
       "            <td>6     </td> <td>122                     </td> <td>136                   </td> <td>146       </td>\n",
       "        </tr>\n",
       "        <tr>\n",
       "            <td>7     </td> <td>119                     </td> <td>137                   </td> <td>140       </td>\n",
       "        </tr>\n",
       "        <tr>\n",
       "            <td>8     </td> <td>124                     </td> <td>139                   </td> <td>144       </td>\n",
       "        </tr>\n",
       "        <tr>\n",
       "            <td>9     </td> <td>121                     </td> <td>134                   </td> <td>149       </td>\n",
       "        </tr>\n",
       "        <tr>\n",
       "            <td>10    </td> <td>126                     </td> <td>133                   </td> <td>140       </td>\n",
       "        </tr>\n",
       "    </tbody>\n",
       "</table>"
      ],
      "text/plain": [
       "Sample | Green_Button_Conversions | Red_Button_Conversions | New_Column\n",
       "1      | 120                      | 135                    | 144\n",
       "2      | 125                      | 140                    | 144\n",
       "3      | 130                      | 142                    | 141\n",
       "4      | 128                      | 138                    | 150\n",
       "5      | 123                      | 141                    | 147\n",
       "6      | 122                      | 136                    | 146\n",
       "7      | 119                      | 137                    | 140\n",
       "8      | 124                      | 139                    | 144\n",
       "9      | 121                      | 134                    | 149\n",
       "10     | 126                      | 133                    | 140"
      ]
     },
     "execution_count": 58,
     "metadata": {},
     "output_type": "execute_result"
    }
   ],
   "source": [
    "# Generate random integers between 140 and 150\n",
    "random_values = np.random.choice(range(140, 151), data.num_rows)\n",
    "\n",
    "# Add the new column to the table\n",
    "data = data.with_column('New_Column', random_values).drop('New_Random_Column')\n",
    "data"
   ]
  },
  {
   "cell_type": "markdown",
   "id": "af423777",
   "metadata": {},
   "source": [
    "Seems like I made a mistake in naming my columns, rename them the columns\n",
    "into Count, Green, Red and Blue."
   ]
  },
  {
   "cell_type": "code",
   "execution_count": 59,
   "id": "958079ee",
   "metadata": {},
   "outputs": [
    {
     "data": {
      "text/html": [
       "<table border=\"1\" class=\"dataframe\">\n",
       "    <thead>\n",
       "        <tr>\n",
       "            <th>Count</th> <th>Green</th> <th>Red</th> <th>Blue</th>\n",
       "        </tr>\n",
       "    </thead>\n",
       "    <tbody>\n",
       "        <tr>\n",
       "            <td>1    </td> <td>120  </td> <td>135 </td> <td>144 </td>\n",
       "        </tr>\n",
       "        <tr>\n",
       "            <td>2    </td> <td>125  </td> <td>140 </td> <td>144 </td>\n",
       "        </tr>\n",
       "        <tr>\n",
       "            <td>3    </td> <td>130  </td> <td>142 </td> <td>141 </td>\n",
       "        </tr>\n",
       "        <tr>\n",
       "            <td>4    </td> <td>128  </td> <td>138 </td> <td>150 </td>\n",
       "        </tr>\n",
       "        <tr>\n",
       "            <td>5    </td> <td>123  </td> <td>141 </td> <td>147 </td>\n",
       "        </tr>\n",
       "        <tr>\n",
       "            <td>6    </td> <td>122  </td> <td>136 </td> <td>146 </td>\n",
       "        </tr>\n",
       "        <tr>\n",
       "            <td>7    </td> <td>119  </td> <td>137 </td> <td>140 </td>\n",
       "        </tr>\n",
       "        <tr>\n",
       "            <td>8    </td> <td>124  </td> <td>139 </td> <td>144 </td>\n",
       "        </tr>\n",
       "        <tr>\n",
       "            <td>9    </td> <td>121  </td> <td>134 </td> <td>149 </td>\n",
       "        </tr>\n",
       "        <tr>\n",
       "            <td>10   </td> <td>126  </td> <td>133 </td> <td>140 </td>\n",
       "        </tr>\n",
       "    </tbody>\n",
       "</table>"
      ],
      "text/plain": [
       "Count | Green | Red  | Blue\n",
       "1     | 120   | 135  | 144\n",
       "2     | 125   | 140  | 144\n",
       "3     | 130   | 142  | 141\n",
       "4     | 128   | 138  | 150\n",
       "5     | 123   | 141  | 147\n",
       "6     | 122   | 136  | 146\n",
       "7     | 119   | 137  | 140\n",
       "8     | 124   | 139  | 144\n",
       "9     | 121   | 134  | 149\n",
       "10    | 126   | 133  | 140"
      ]
     },
     "execution_count": 59,
     "metadata": {},
     "output_type": "execute_result"
    }
   ],
   "source": [
    "data = data.relabeled('Sample', 'Count').relabeled('Green_Button_Conversions', 'Green').relabeled('Red_Button_Conversions', 'Red').relabeled('New_Column', 'Blue')\n",
    "data"
   ]
  },
  {
   "cell_type": "markdown",
   "id": "077024d3",
   "metadata": {},
   "source": [
    "Create a function which will add columns with color names and enter random\n",
    "integer values from 150 to 200 with each column having values between 150-160,\n",
    "161-170 and so on until 200."
   ]
  },
  {
   "cell_type": "code",
   "execution_count": 60,
   "id": "a3f68641",
   "metadata": {},
   "outputs": [
    {
     "data": {
      "text/html": [
       "<table border=\"1\" class=\"dataframe\">\n",
       "    <thead>\n",
       "        <tr>\n",
       "            <th>Count</th> <th>Green</th> <th>Red</th> <th>Blue</th> <th>Yellow</th> <th>Orange</th> <th>Purple</th> <th>Pink</th> <th>Brown</th>\n",
       "        </tr>\n",
       "    </thead>\n",
       "    <tbody>\n",
       "        <tr>\n",
       "            <td>1    </td> <td>120  </td> <td>135 </td> <td>144 </td> <td>154   </td> <td>166   </td> <td>171   </td> <td>189 </td> <td>197  </td>\n",
       "        </tr>\n",
       "        <tr>\n",
       "            <td>2    </td> <td>125  </td> <td>140 </td> <td>144 </td> <td>158   </td> <td>165   </td> <td>177   </td> <td>182 </td> <td>200  </td>\n",
       "        </tr>\n",
       "        <tr>\n",
       "            <td>3    </td> <td>130  </td> <td>142 </td> <td>141 </td> <td>158   </td> <td>168   </td> <td>179   </td> <td>187 </td> <td>192  </td>\n",
       "        </tr>\n",
       "        <tr>\n",
       "            <td>4    </td> <td>128  </td> <td>138 </td> <td>150 </td> <td>154   </td> <td>166   </td> <td>177   </td> <td>189 </td> <td>200  </td>\n",
       "        </tr>\n",
       "        <tr>\n",
       "            <td>5    </td> <td>123  </td> <td>141 </td> <td>147 </td> <td>157   </td> <td>163   </td> <td>176   </td> <td>187 </td> <td>191  </td>\n",
       "        </tr>\n",
       "        <tr>\n",
       "            <td>6    </td> <td>122  </td> <td>136 </td> <td>146 </td> <td>154   </td> <td>163   </td> <td>178   </td> <td>184 </td> <td>200  </td>\n",
       "        </tr>\n",
       "        <tr>\n",
       "            <td>7    </td> <td>119  </td> <td>137 </td> <td>140 </td> <td>150   </td> <td>167   </td> <td>173   </td> <td>188 </td> <td>191  </td>\n",
       "        </tr>\n",
       "        <tr>\n",
       "            <td>8    </td> <td>124  </td> <td>139 </td> <td>144 </td> <td>153   </td> <td>166   </td> <td>178   </td> <td>182 </td> <td>192  </td>\n",
       "        </tr>\n",
       "        <tr>\n",
       "            <td>9    </td> <td>121  </td> <td>134 </td> <td>149 </td> <td>155   </td> <td>166   </td> <td>173   </td> <td>187 </td> <td>191  </td>\n",
       "        </tr>\n",
       "        <tr>\n",
       "            <td>10   </td> <td>126  </td> <td>133 </td> <td>140 </td> <td>152   </td> <td>161   </td> <td>180   </td> <td>188 </td> <td>195  </td>\n",
       "        </tr>\n",
       "    </tbody>\n",
       "</table>"
      ],
      "text/plain": [
       "Count | Green | Red  | Blue | Yellow | Orange | Purple | Pink | Brown\n",
       "1     | 120   | 135  | 144  | 154    | 166    | 171    | 189  | 197\n",
       "2     | 125   | 140  | 144  | 158    | 165    | 177    | 182  | 200\n",
       "3     | 130   | 142  | 141  | 158    | 168    | 179    | 187  | 192\n",
       "4     | 128   | 138  | 150  | 154    | 166    | 177    | 189  | 200\n",
       "5     | 123   | 141  | 147  | 157    | 163    | 176    | 187  | 191\n",
       "6     | 122   | 136  | 146  | 154    | 163    | 178    | 184  | 200\n",
       "7     | 119   | 137  | 140  | 150    | 167    | 173    | 188  | 191\n",
       "8     | 124   | 139  | 144  | 153    | 166    | 178    | 182  | 192\n",
       "9     | 121   | 134  | 149  | 155    | 166    | 173    | 187  | 191\n",
       "10    | 126   | 133  | 140  | 152    | 161    | 180    | 188  | 195"
      ]
     },
     "execution_count": 60,
     "metadata": {},
     "output_type": "execute_result"
    }
   ],
   "source": [
    "def add_color_columns(data, color_names, value_ranges):\n",
    "    for i in range(len(color_names)):\n",
    "        color = color_names[i]\n",
    "        value_range = value_ranges[i]\n",
    "        \n",
    "        # Generate random integers within the specified range\n",
    "        random_values = np.random.choice(range(value_range[0], value_range[1] + 1), data.num_rows)\n",
    "        \n",
    "        # Add the new color column to the data table\n",
    "        data = data.with_column(color, random_values)\n",
    "    \n",
    "    return data\n",
    "\n",
    "color_names = ['Yellow', 'Orange', 'Purple', 'Pink', 'Brown']\n",
    "value_ranges = [(150, 160), (161, 170), (171, 180), (181, 190), (191, 200)]\n",
    "\n",
    "# Add new color columns with random values\n",
    "updated_data = add_color_columns(data, color_names, value_ranges)\n",
    "\n",
    "updated_data"
   ]
  },
  {
   "cell_type": "markdown",
   "id": "07bba4ce",
   "metadata": {},
   "source": [
    "# Problem 8 "
   ]
  },
  {
   "cell_type": "markdown",
   "id": "03ffe4f2",
   "metadata": {},
   "source": [
    "You are given the table `accessories` below related to Animal Crossing."
   ]
  },
  {
   "cell_type": "code",
   "execution_count": 61,
   "id": "69ffa492",
   "metadata": {},
   "outputs": [
    {
     "data": {
      "text/html": [
       "<table border=\"1\" class=\"dataframe\">\n",
       "    <thead>\n",
       "        <tr>\n",
       "            <th>Name</th> <th>Variation</th> <th>DIY</th> <th>Buy</th> <th>Sell</th> <th>Color 1</th> <th>Color 2</th> <th>Size</th> <th>Miles Price</th> <th>Source</th> <th>Source Notes</th> <th>Seasonal Availability</th> <th>Mannequin Piece</th> <th>Version</th> <th>Style</th> <th>Label Themes</th> <th>Type</th> <th>Villager Equippable</th> <th>Catalog</th> <th>Filename</th> <th>Internal ID</th> <th>Unique Entry ID</th>\n",
       "        </tr>\n",
       "    </thead>\n",
       "    <tbody>\n",
       "        <tr>\n",
       "            <td>3D glasses           </td> <td>White    </td> <td>No  </td> <td>490 </td> <td>122 </td> <td>White     </td> <td>Colorful</td> <td>1x1 </td> <td>nan        </td> <td>Able Sisters</td> <td>Available from Able Sisters shop only                       </td> <td>All Year             </td> <td>No             </td> <td>1.0.0  </td> <td>Active  </td> <td>party                        </td> <td>AccessoryEye               </td> <td>Yes                </td> <td>For sale    </td> <td>AccessoryGlassThreed0    </td> <td>4463       </td> <td>FNxEraBTeWRiCvtFu</td>\n",
       "        </tr>\n",
       "        <tr>\n",
       "            <td>3D glasses           </td> <td>Black    </td> <td>No  </td> <td>490 </td> <td>122 </td> <td>Black     </td> <td>Colorful</td> <td>1x1 </td> <td>nan        </td> <td>Able Sisters</td> <td>Available from Able Sisters shop only                       </td> <td>All Year             </td> <td>No             </td> <td>1.0.0  </td> <td>Active  </td> <td>party                        </td> <td>AccessoryEye               </td> <td>Yes                </td> <td>For sale    </td> <td>AccessoryGlassThreed1    </td> <td>11020      </td> <td>mM9SXPCcGPfPJAmtm</td>\n",
       "        </tr>\n",
       "        <tr>\n",
       "            <td>bandage              </td> <td>Beige    </td> <td>No  </td> <td>140 </td> <td>35  </td> <td>Beige     </td> <td>White   </td> <td>1x1 </td> <td>nan        </td> <td>Able Sisters</td> <td>Available from either Mable's temporary shop or Able Sis ...</td> <td>All Year             </td> <td>Yes            </td> <td>1.0.0  </td> <td>Active  </td> <td>outdoorsy; comfy; sporty     </td> <td>AccessoryMouth             </td> <td>No                 </td> <td>For sale    </td> <td>AccessoryMouthBandageSkin</td> <td>4677       </td> <td>2qFT5iPkk8bREvpkj</td>\n",
       "        </tr>\n",
       "        <tr>\n",
       "            <td>beak                 </td> <td>Yellow   </td> <td>No  </td> <td>490 </td> <td>122 </td> <td>Yellow    </td> <td>Yellow  </td> <td>1x1 </td> <td>nan        </td> <td>Able Sisters</td> <td>Available from either Mable's temporary shop or Able Sis ...</td> <td>All Year             </td> <td>Yes            </td> <td>1.0.0  </td> <td>Cute    </td> <td>fairy tale; party; theatrical</td> <td>AccessoryMouthInvisibleNose</td> <td>No                 </td> <td>For sale    </td> <td>AccessoryMouthBeakYellow </td> <td>3549       </td> <td>T5CpsJi4xBSachNL5</td>\n",
       "        </tr>\n",
       "        <tr>\n",
       "            <td>birthday shades      </td> <td>Yellow   </td> <td>No  </td> <td>NFS </td> <td>620 </td> <td>Yellow    </td> <td>Red     </td> <td>1x1 </td> <td>nan        </td> <td>Birthday    </td> <td>nan                                                         </td> <td>All Year             </td> <td>No             </td> <td>1.0.0  </td> <td>Gorgeous</td> <td>party                        </td> <td>AccessoryEye               </td> <td>Yes                </td> <td>Not for sale</td> <td>AccessoryGlassBirthday0  </td> <td>4510       </td> <td>S6CiB9ZvzBTMhEnDz</td>\n",
       "        </tr>\n",
       "        <tr>\n",
       "            <td>birthday shades      </td> <td>Pink     </td> <td>No  </td> <td>NFS </td> <td>620 </td> <td>Pink      </td> <td>Pink    </td> <td>1x1 </td> <td>nan        </td> <td>Birthday    </td> <td>nan                                                         </td> <td>All Year             </td> <td>No             </td> <td>1.0.0  </td> <td>Gorgeous</td> <td>party                        </td> <td>AccessoryEye               </td> <td>Yes                </td> <td>Not for sale</td> <td>AccessoryGlassBirthday1  </td> <td>11217      </td> <td>g3MPcmAKM4z5h8KYX</td>\n",
       "        </tr>\n",
       "        <tr>\n",
       "            <td>birthday shades      </td> <td>Red      </td> <td>No  </td> <td>NFS </td> <td>620 </td> <td>Red       </td> <td>Pink    </td> <td>1x1 </td> <td>nan        </td> <td>Birthday    </td> <td>nan                                                         </td> <td>All Year             </td> <td>No             </td> <td>1.0.0  </td> <td>Gorgeous</td> <td>party                        </td> <td>AccessoryEye               </td> <td>Yes                </td> <td>Not for sale</td> <td>AccessoryGlassBirthday2  </td> <td>11218      </td> <td>ojXoAAj8Bs2XgRiWB</td>\n",
       "        </tr>\n",
       "        <tr>\n",
       "            <td>birthday shades      </td> <td>Blue     </td> <td>No  </td> <td>NFS </td> <td>620 </td> <td>Light blue</td> <td>Green   </td> <td>1x1 </td> <td>nan        </td> <td>Birthday    </td> <td>nan                                                         </td> <td>All Year             </td> <td>No             </td> <td>1.0.0  </td> <td>Gorgeous</td> <td>party                        </td> <td>AccessoryEye               </td> <td>Yes                </td> <td>Not for sale</td> <td>AccessoryGlassBirthday3  </td> <td>11219      </td> <td>Yr9mRJaZM44554oTS</td>\n",
       "        </tr>\n",
       "        <tr>\n",
       "            <td>bottom-rimmed glasses</td> <td>Red      </td> <td>No  </td> <td>1100</td> <td>275 </td> <td>Red       </td> <td>Red     </td> <td>1x1 </td> <td>nan        </td> <td>Able Sisters</td> <td>Available from Able Sisters shop only                       </td> <td>All Year             </td> <td>No             </td> <td>1.0.0  </td> <td>Simple  </td> <td>everyday; comfy; work        </td> <td>AccessoryEye               </td> <td>Yes                </td> <td>For sale    </td> <td>AccessoryGlassLoose0     </td> <td>4597       </td> <td>ZHqtvcoqqDpJLf9Pc</td>\n",
       "        </tr>\n",
       "        <tr>\n",
       "            <td>bottom-rimmed glasses</td> <td>Purple   </td> <td>No  </td> <td>1100</td> <td>275 </td> <td>Purple    </td> <td>Purple  </td> <td>1x1 </td> <td>nan        </td> <td>Able Sisters</td> <td>Available from Able Sisters shop only                       </td> <td>All Year             </td> <td>No             </td> <td>1.0.0  </td> <td>Simple  </td> <td>everyday; comfy; work        </td> <td>AccessoryEye               </td> <td>Yes                </td> <td>For sale    </td> <td>AccessoryGlassLoose1     </td> <td>11081      </td> <td>akRhFD3qeJEPM7WiD</td>\n",
       "        </tr>\n",
       "    </tbody>\n",
       "</table>\n",
       "<p>... (212 rows omitted)</p>"
      ],
      "text/plain": [
       "Name                  | Variation | DIY  | Buy  | Sell | Color 1    | Color 2  | Size | Miles Price | Source       | Source Notes                                                 | Seasonal Availability | Mannequin Piece | Version | Style    | Label Themes                  | Type                        | Villager Equippable | Catalog      | Filename                  | Internal ID | Unique Entry ID\n",
       "3D glasses            | White     | No   | 490  | 122  | White      | Colorful | 1x1  | nan         | Able Sisters | Available from Able Sisters shop only                        | All Year              | No              | 1.0.0   | Active   | party                         | AccessoryEye                | Yes                 | For sale     | AccessoryGlassThreed0     | 4463        | FNxEraBTeWRiCvtFu\n",
       "3D glasses            | Black     | No   | 490  | 122  | Black      | Colorful | 1x1  | nan         | Able Sisters | Available from Able Sisters shop only                        | All Year              | No              | 1.0.0   | Active   | party                         | AccessoryEye                | Yes                 | For sale     | AccessoryGlassThreed1     | 11020       | mM9SXPCcGPfPJAmtm\n",
       "bandage               | Beige     | No   | 140  | 35   | Beige      | White    | 1x1  | nan         | Able Sisters | Available from either Mable's temporary shop or Able Sis ... | All Year              | Yes             | 1.0.0   | Active   | outdoorsy; comfy; sporty      | AccessoryMouth              | No                  | For sale     | AccessoryMouthBandageSkin | 4677        | 2qFT5iPkk8bREvpkj\n",
       "beak                  | Yellow    | No   | 490  | 122  | Yellow     | Yellow   | 1x1  | nan         | Able Sisters | Available from either Mable's temporary shop or Able Sis ... | All Year              | Yes             | 1.0.0   | Cute     | fairy tale; party; theatrical | AccessoryMouthInvisibleNose | No                  | For sale     | AccessoryMouthBeakYellow  | 3549        | T5CpsJi4xBSachNL5\n",
       "birthday shades       | Yellow    | No   | NFS  | 620  | Yellow     | Red      | 1x1  | nan         | Birthday     | nan                                                          | All Year              | No              | 1.0.0   | Gorgeous | party                         | AccessoryEye                | Yes                 | Not for sale | AccessoryGlassBirthday0   | 4510        | S6CiB9ZvzBTMhEnDz\n",
       "birthday shades       | Pink      | No   | NFS  | 620  | Pink       | Pink     | 1x1  | nan         | Birthday     | nan                                                          | All Year              | No              | 1.0.0   | Gorgeous | party                         | AccessoryEye                | Yes                 | Not for sale | AccessoryGlassBirthday1   | 11217       | g3MPcmAKM4z5h8KYX\n",
       "birthday shades       | Red       | No   | NFS  | 620  | Red        | Pink     | 1x1  | nan         | Birthday     | nan                                                          | All Year              | No              | 1.0.0   | Gorgeous | party                         | AccessoryEye                | Yes                 | Not for sale | AccessoryGlassBirthday2   | 11218       | ojXoAAj8Bs2XgRiWB\n",
       "birthday shades       | Blue      | No   | NFS  | 620  | Light blue | Green    | 1x1  | nan         | Birthday     | nan                                                          | All Year              | No              | 1.0.0   | Gorgeous | party                         | AccessoryEye                | Yes                 | Not for sale | AccessoryGlassBirthday3   | 11219       | Yr9mRJaZM44554oTS\n",
       "bottom-rimmed glasses | Red       | No   | 1100 | 275  | Red        | Red      | 1x1  | nan         | Able Sisters | Available from Able Sisters shop only                        | All Year              | No              | 1.0.0   | Simple   | everyday; comfy; work         | AccessoryEye                | Yes                 | For sale     | AccessoryGlassLoose0      | 4597        | ZHqtvcoqqDpJLf9Pc\n",
       "bottom-rimmed glasses | Purple    | No   | 1100 | 275  | Purple     | Purple   | 1x1  | nan         | Able Sisters | Available from Able Sisters shop only                        | All Year              | No              | 1.0.0   | Simple   | everyday; comfy; work         | AccessoryEye                | Yes                 | For sale     | AccessoryGlassLoose1      | 11081       | akRhFD3qeJEPM7WiD\n",
       "... (212 rows omitted)"
      ]
     },
     "execution_count": 61,
     "metadata": {},
     "output_type": "execute_result"
    }
   ],
   "source": [
    "accessories = Table().read_table(\"accessories.csv\")\n",
    "accessories"
   ]
  },
  {
   "cell_type": "markdown",
   "id": "bd02cd59",
   "metadata": {},
   "source": [
    "We want to know whether `party` or `comfy` is more popular in the `Label Themes` column.\n",
    "Write some code to find the percentage of `Label Themes` that contain `party` and the\n",
    "percentage of `Label Themes` that contain `comfy`."
   ]
  },
  {
   "cell_type": "code",
   "execution_count": 66,
   "id": "92304e06",
   "metadata": {},
   "outputs": [
    {
     "data": {
      "text/plain": [
       "(44.14414414414414, 24.774774774774773)"
      ]
     },
     "execution_count": 66,
     "metadata": {},
     "output_type": "execute_result"
    }
   ],
   "source": [
    "size = accessories.num_rows\n",
    "party = accessories.where('Label Themes',are.containing('party')).num_rows\n",
    "comfy = accessories.where('Label Themes',are.containing('comfy')).num_rows\n",
    "\n",
    "percent_party = party/size*100\n",
    "percent_comfy = comfy/size*100\n",
    "\n",
    "percent_party, percent_comfy"
   ]
  },
  {
   "cell_type": "code",
   "execution_count": null,
   "id": "ac922985",
   "metadata": {},
   "outputs": [],
   "source": []
  },
  {
   "cell_type": "code",
   "execution_count": null,
   "id": "6706f1ab",
   "metadata": {},
   "outputs": [],
   "source": []
  },
  {
   "cell_type": "code",
   "execution_count": null,
   "id": "cf055357",
   "metadata": {},
   "outputs": [],
   "source": []
  },
  {
   "cell_type": "code",
   "execution_count": null,
   "id": "cb878c94",
   "metadata": {},
   "outputs": [],
   "source": []
  },
  {
   "cell_type": "markdown",
   "id": "1acf4060",
   "metadata": {},
   "source": [
    "# Problem 9"
   ]
  },
  {
   "cell_type": "markdown",
   "id": "9bf2d5d9",
   "metadata": {},
   "source": [
    "The table `wages by education` below shows hourly wages by race, gender, and education\n",
    "level. *NOTE* This is a large table, so not all columns are shown."
   ]
  },
  {
   "cell_type": "code",
   "execution_count": 67,
   "id": "deb71394",
   "metadata": {},
   "outputs": [
    {
     "data": {
      "text/html": [
       "<table border=\"1\" class=\"dataframe\">\n",
       "    <thead>\n",
       "        <tr>\n",
       "            <th>year</th> <th>less_than_hs</th> <th>high_school</th> <th>some_college</th> <th>bachelors_degree</th> <th>advanced_degree</th> <th>men_less_than_hs</th> <th>men_high_school</th> <th>men_some_college</th> <th>men_bachelors_degree</th> <th>men_advanced_degree</th> <th>women_less_than_hs</th> <th>women_high_school</th> <th>women_some_college</th> <th>women_bachelors_degree</th> <th>women_advanced_degree</th> <th>white_less_than_hs</th> <th>white_high_school</th> <th>white_some_college</th> <th>white_bachelors_degree</th> <th>white_advanced_degree</th> <th>black_less_than_hs</th> <th>black_high_school</th> <th>black_some_college</th> <th>black_bachelors_degree</th> <th>black_advanced_degree</th> <th>hispanic_less_than_hs</th> <th>hispanic_high_school</th> <th>hispanic_some_college</th> <th>hispanic_bachelors_degree</th> <th>hispanic_advanced_degree</th> <th>white_men_less_than_hs</th> <th>white_men_high_school</th> <th>white_men_some_college</th> <th>white_men_bachelors_degree</th> <th>white_men_advanced_degree</th> <th>black_men_less_than_hs</th> <th>black_men_high_school</th> <th>black_men_some_college</th> <th>black_men_bachelors_degree</th> <th>black_men_advanced_degree</th> <th>hispanic_men_less_than_hs</th> <th>hispanic_men_high_school</th> <th>hispanic_men_some_college</th> <th>hispanic_men_bachelors_degree</th> <th>hispanic_men_advanced_degree</th> <th>white_women_less_than_hs</th> <th>white_women_high_school</th> <th>white_women_some_college</th> <th>white_women_bachelors_degree</th> <th>white_women_advanced_degree</th> <th>black_women_less_than_hs</th> <th>black_women_high_school</th> <th>black_women_some_college</th> <th>black_women_bachelors_degree</th> <th>black_women_advanced_degree</th> <th>hispanic_women_less_than_hs</th> <th>hispanic_women_high_school</th> <th>hispanic_women_some_college</th> <th>hispanic_women_bachelors_degree</th> <th>hispanic_women_advanced_degree</th>\n",
       "        </tr>\n",
       "    </thead>\n",
       "    <tbody>\n",
       "        <tr>\n",
       "            <td>2022</td> <td>16.52       </td> <td>21.94      </td> <td>24.81       </td> <td>41.6            </td> <td>53.22          </td> <td>17.99           </td> <td>24.08          </td> <td>27.96           </td> <td>49.01               </td> <td>63.51              </td> <td>14.33             </td> <td>18.93            </td> <td>21.76             </td> <td>34.39                 </td> <td>44.34                </td> <td>15.7              </td> <td>23.31            </td> <td>26.28             </td> <td>43.3                  </td> <td>53.3                 </td> <td>15.19             </td> <td>19.39            </td> <td>21.34             </td> <td>33.39                 </td> <td>44.67                </td> <td>17.32                </td> <td>20.72               </td> <td>22.96                </td> <td>36                       </td> <td>48.3                    </td> <td>17.14                 </td> <td>25.92                </td> <td>29.93                 </td> <td>51.23                     </td> <td>63.86                    </td> <td>16.38                 </td> <td>20.73                </td> <td>22.58                 </td> <td>37.63                     </td> <td>52.91                    </td> <td>18.67                    </td> <td>22.32                   </td> <td>25.49                    </td> <td>41.48                        </td> <td>57.08                       </td> <td>13.84                   </td> <td>19.56                  </td> <td>22.52                   </td> <td>35.31                       </td> <td>44.45                      </td> <td>13.89                   </td> <td>17.83                  </td> <td>20.36                   </td> <td>29.94                       </td> <td>39.41                      </td> <td>14.74                      </td> <td>18.18                     </td> <td>20.64                      </td> <td>31.13                          </td> <td>40.64                         </td>\n",
       "        </tr>\n",
       "        <tr>\n",
       "            <td>2021</td> <td>16.74       </td> <td>22.28      </td> <td>24.92       </td> <td>41.32           </td> <td>53.45          </td> <td>18.34           </td> <td>24.36          </td> <td>27.96           </td> <td>47.83               </td> <td>63.52              </td> <td>14.36             </td> <td>19.36            </td> <td>21.97             </td> <td>35.08                 </td> <td>44.8                 </td> <td>16.2              </td> <td>23.6             </td> <td>26.29             </td> <td>43.06                 </td> <td>53.62                </td> <td>14.55             </td> <td>19.66            </td> <td>21.26             </td> <td>32.62                 </td> <td>43.37                </td> <td>17.6                 </td> <td>21.03               </td> <td>23.34                </td> <td>35.26                    </td> <td>48.6                    </td> <td>18.13                 </td> <td>26.03                </td> <td>29.79                 </td> <td>50.06                     </td> <td>64.04                    </td> <td>15.38                 </td> <td>20.86                </td> <td>22.63                 </td> <td>36.95                     </td> <td>49.01                    </td> <td>18.98                    </td> <td>22.7                    </td> <td>25.58                    </td> <td>39.61                        </td> <td>55.6                        </td> <td>13.77                   </td> <td>20.08                  </td> <td>22.73                   </td> <td>36.11                       </td> <td>44.82                      </td> <td>13.73                   </td> <td>18.3                   </td> <td>20.18                   </td> <td>29.35                       </td> <td>40.07                      </td> <td>14.97                      </td> <td>18.34                     </td> <td>21.14                      </td> <td>31.25                          </td> <td>42.47                         </td>\n",
       "        </tr>\n",
       "        <tr>\n",
       "            <td>2020</td> <td>17.02       </td> <td>22.7       </td> <td>25.44       </td> <td>41.65           </td> <td>53.74          </td> <td>18.76           </td> <td>25.09          </td> <td>28.55           </td> <td>48.15               </td> <td>62.7               </td> <td>14.4              </td> <td>19.35            </td> <td>22.35             </td> <td>35.41                 </td> <td>46.04                </td> <td>17.01             </td> <td>24               </td> <td>26.9              </td> <td>43.16                 </td> <td>53.8                 </td> <td>14.55             </td> <td>19.66            </td> <td>21.79             </td> <td>33.64                 </td> <td>45.76                </td> <td>17.61                </td> <td>21.46               </td> <td>23.24                </td> <td>36.13                    </td> <td>48.58                   </td> <td>18.97                 </td> <td>26.73                </td> <td>30.4                  </td> <td>50.15                     </td> <td>63.5                     </td> <td>15.52                 </td> <td>21.22                </td> <td>23.57                 </td> <td>36.7                      </td> <td>51.67                    </td> <td>19.26                    </td> <td>23.33                   </td> <td>25.69                    </td> <td>41                           </td> <td>53.58                       </td> <td>14.2                    </td> <td>20.06                  </td> <td>23.31                   </td> <td>36.2                        </td> <td>45.58                      </td> <td>13.66                   </td> <td>17.93                  </td> <td>20.31                   </td> <td>31.38                       </td> <td>42.44                      </td> <td>14.58                      </td> <td>18.5                      </td> <td>20.69                      </td> <td>31.55                          </td> <td>44.15                         </td>\n",
       "        </tr>\n",
       "        <tr>\n",
       "            <td>2019</td> <td>16.11       </td> <td>21.64      </td> <td>24          </td> <td>39.61           </td> <td>51.57          </td> <td>17.55           </td> <td>23.99          </td> <td>26.99           </td> <td>45.74               </td> <td>59.93              </td> <td>13.96             </td> <td>18.48            </td> <td>21.09             </td> <td>33.8                  </td> <td>44.22                </td> <td>15.89             </td> <td>22.94            </td> <td>25.47             </td> <td>41.06                 </td> <td>51.81                </td> <td>14.19             </td> <td>18.73            </td> <td>20.44             </td> <td>31.83                 </td> <td>42.73                </td> <td>16.71                </td> <td>20.47               </td> <td>22.01                </td> <td>34.66                    </td> <td>46.69                   </td> <td>17.66                 </td> <td>25.58                </td> <td>28.9                  </td> <td>47.76                     </td> <td>60.84                    </td> <td>15.07                 </td> <td>20.22                </td> <td>22.02                 </td> <td>33.73                     </td> <td>46.87                    </td> <td>17.93                    </td> <td>22.33                   </td> <td>24.35                    </td> <td>39.56                        </td> <td>52.24                       </td> <td>13.44                   </td> <td>19.22                  </td> <td>21.99                   </td> <td>34.47                       </td> <td>43.83                      </td> <td>13.3                    </td> <td>17.18                  </td> <td>19.17                   </td> <td>30.31                       </td> <td>40.42                      </td> <td>14.5                       </td> <td>17.71                     </td> <td>19.69                      </td> <td>30.18                          </td> <td>42.3                          </td>\n",
       "        </tr>\n",
       "        <tr>\n",
       "            <td>2018</td> <td>15.94       </td> <td>21.5       </td> <td>23.7        </td> <td>38.87           </td> <td>51.03          </td> <td>17.7            </td> <td>23.72          </td> <td>26.61           </td> <td>44.97               </td> <td>59.73              </td> <td>13.36             </td> <td>18.49            </td> <td>20.91             </td> <td>33.03                 </td> <td>43.19                </td> <td>16.05             </td> <td>23.02            </td> <td>25.15             </td> <td>40.49                 </td> <td>51.8                 </td> <td>13.31             </td> <td>18.14            </td> <td>19.98             </td> <td>32                    </td> <td>42.22                </td> <td>16.44                </td> <td>20.13               </td> <td>21.74                </td> <td>33.19                    </td> <td>44.83                   </td> <td>17.96                 </td> <td>25.49                </td> <td>28.41                 </td> <td>47.28                     </td> <td>61.27                    </td> <td>14.27                 </td> <td>19.36                </td> <td>21.82                 </td> <td>33.42                     </td> <td>46.42                    </td> <td>18.05                    </td> <td>22.04                   </td> <td>24.2                     </td> <td>37.27                        </td> <td>51.27                       </td> <td>13.45                   </td> <td>19.52                  </td> <td>21.9                    </td> <td>33.78                       </td> <td>43.31                      </td> <td>12.48                   </td> <td>16.81                  </td> <td>18.57                   </td> <td>30.85                       </td> <td>39.64                      </td> <td>13.47                      </td> <td>17.28                     </td> <td>19.29                      </td> <td>29.47                          </td> <td>39.35                         </td>\n",
       "        </tr>\n",
       "        <tr>\n",
       "            <td>2017</td> <td>15.92       </td> <td>21.26      </td> <td>23.31       </td> <td>38.65           </td> <td>49.4           </td> <td>17.63           </td> <td>23.47          </td> <td>25.91           </td> <td>44.5                </td> <td>56.77              </td> <td>13.39             </td> <td>18.31            </td> <td>20.83             </td> <td>33.01                 </td> <td>42.75                </td> <td>15.96             </td> <td>22.71            </td> <td>24.65             </td> <td>40.07                 </td> <td>50.03                </td> <td>13.93             </td> <td>17.94            </td> <td>19.8              </td> <td>31.49                 </td> <td>40.68                </td> <td>16.34                </td> <td>19.83               </td> <td>21.59                </td> <td>33.07                    </td> <td>43.92                   </td> <td>17.82                 </td> <td>25.14                </td> <td>27.61                 </td> <td>46.44                     </td> <td>57.64                    </td> <td>15                    </td> <td>19.46                </td> <td>21.09                 </td> <td>34.41                     </td> <td>44.62                    </td> <td>17.91                    </td> <td>21.68                   </td> <td>23.59                    </td> <td>36.62                        </td> <td>50.58                       </td> <td>13.46                   </td> <td>19.34                  </td> <td>21.72                   </td> <td>33.76                       </td> <td>43.22                      </td> <td>12.99                   </td> <td>16.33                  </td> <td>18.76                   </td> <td>29.19                       </td> <td>38.26                      </td> <td>13.36                      </td> <td>17.02                     </td> <td>19.6                       </td> <td>29.69                          </td> <td>38.43                         </td>\n",
       "        </tr>\n",
       "        <tr>\n",
       "            <td>2016</td> <td>15.45       </td> <td>21         </td> <td>23.35       </td> <td>38.73           </td> <td>49.64          </td> <td>16.95           </td> <td>23.01          </td> <td>25.98           </td> <td>44.98               </td> <td>57.71              </td> <td>13.11             </td> <td>18.33            </td> <td>20.89             </td> <td>32.66                 </td> <td>42.17                </td> <td>15.38             </td> <td>22.37            </td> <td>24.61             </td> <td>39.95                 </td> <td>49.85                </td> <td>13.48             </td> <td>17.95            </td> <td>20.28             </td> <td>32.1                  </td> <td>41.26                </td> <td>16.02                </td> <td>19.47               </td> <td>21.33                </td> <td>34.28                    </td> <td>43.92                   </td> <td>16.96                 </td> <td>24.73                </td> <td>27.49                 </td> <td>46.78                     </td> <td>58.13                    </td> <td>14.64                 </td> <td>19.07                </td> <td>22.15                 </td> <td>35.36                     </td> <td>45.54                    </td> <td>17.37                    </td> <td>21.05                   </td> <td>23.43                    </td> <td>38.94                        </td> <td>50.81                       </td> <td>12.98                   </td> <td>19.21                  </td> <td>21.83                   </td> <td>33.23                       </td> <td>42.24                      </td> <td>12.42                   </td> <td>16.71                  </td> <td>18.88                   </td> <td>29.56                       </td> <td>38.55                      </td> <td>13.4                       </td> <td>17.11                     </td> <td>19.26                      </td> <td>29.41                          </td> <td>37.77                         </td>\n",
       "        </tr>\n",
       "        <tr>\n",
       "            <td>2015</td> <td>15.25       </td> <td>20.81      </td> <td>23.17       </td> <td>37.96           </td> <td>48.42          </td> <td>16.63           </td> <td>22.93          </td> <td>25.99           </td> <td>43.47               </td> <td>56.32              </td> <td>13.09             </td> <td>18.05            </td> <td>20.54             </td> <td>32.54                 </td> <td>41.16                </td> <td>15.34             </td> <td>22.12            </td> <td>24.52             </td> <td>39.19                 </td> <td>49                   </td> <td>13.64             </td> <td>17.62            </td> <td>19.59             </td> <td>32.06                 </td> <td>41.13                </td> <td>15.46                </td> <td>19.31               </td> <td>21                   </td> <td>33.16                    </td> <td>42.02                   </td> <td>17.16                 </td> <td>24.56                </td> <td>27.64                 </td> <td>45.39                     </td> <td>57.37                    </td> <td>14.55                 </td> <td>18.93                </td> <td>21.08                 </td> <td>34.19                     </td> <td>47.54                    </td> <td>16.52                    </td> <td>20.92                   </td> <td>23.32                    </td> <td>36.63                        </td> <td>48.49                       </td> <td>12.68                   </td> <td>18.9                   </td> <td>21.49                   </td> <td>32.88                       </td> <td>41.41                      </td> <td>12.79                   </td> <td>16.21                  </td> <td>18.5                    </td> <td>30.42                       </td> <td>37.37                      </td> <td>13.42                      </td> <td>16.99                     </td> <td>18.66                      </td> <td>29.71                          </td> <td>36.37                         </td>\n",
       "        </tr>\n",
       "        <tr>\n",
       "            <td>2014</td> <td>14.66       </td> <td>20.34      </td> <td>22.48       </td> <td>36.47           </td> <td>47.27          </td> <td>15.95           </td> <td>22.4           </td> <td>24.96           </td> <td>41.14               </td> <td>54.63              </td> <td>12.6              </td> <td>17.72            </td> <td>20.14             </td> <td>31.98                 </td> <td>40.34                </td> <td>14.92             </td> <td>21.65            </td> <td>23.7              </td> <td>37.61                 </td> <td>47.46                </td> <td>13.43             </td> <td>17.61            </td> <td>19.4              </td> <td>30.82                 </td> <td>40.07                </td> <td>14.77                </td> <td>18.43               </td> <td>20.21                </td> <td>31.8                     </td> <td>44.35                   </td> <td>16.65                 </td> <td>24.08                </td> <td>26.5                  </td> <td>42.79                     </td> <td>55.03                    </td> <td>14.28                 </td> <td>19.08                </td> <td>20.77                 </td> <td>31.67                     </td> <td>43.76                    </td> <td>15.85                    </td> <td>19.7                    </td> <td>22.17                    </td> <td>35.17                        </td> <td>52.55                       </td> <td>12.54                   </td> <td>18.51                  </td> <td>20.99                   </td> <td>32.46                       </td> <td>40.41                      </td> <td>12.47                   </td> <td>16.09                  </td> <td>18.39                   </td> <td>30.2                        </td> <td>37.88                      </td> <td>12.61                      </td> <td>16.55                     </td> <td>18.22                      </td> <td>28.53                          </td> <td>37.16                         </td>\n",
       "        </tr>\n",
       "        <tr>\n",
       "            <td>2013</td> <td>14.62       </td> <td>20.31      </td> <td>22.5        </td> <td>37              </td> <td>48.54          </td> <td>15.86           </td> <td>22.28          </td> <td>25.07           </td> <td>42.34               </td> <td>56.35              </td> <td>12.62             </td> <td>17.84            </td> <td>20.12             </td> <td>31.79                 </td> <td>41.03                </td> <td>14.76             </td> <td>21.54            </td> <td>23.69             </td> <td>38.17                 </td> <td>49.14                </td> <td>13.4              </td> <td>17.66            </td> <td>19.38             </td> <td>31.11                 </td> <td>41.6                 </td> <td>14.83                </td> <td>18.39               </td> <td>20.21                </td> <td>32.14                    </td> <td>44.03                   </td> <td>16.37                 </td> <td>23.84                </td> <td>26.66                 </td> <td>43.94                     </td> <td>57.4                     </td> <td>14.39                 </td> <td>18.7                 </td> <td>20.78                 </td> <td>33.18                     </td> <td>46.74                    </td> <td>15.8                     </td> <td>19.86                   </td> <td>21.76                    </td> <td>36.3                         </td> <td>51.37                       </td> <td>12.47                   </td> <td>18.62                  </td> <td>20.86                   </td> <td>32.33                       </td> <td>41.24                      </td> <td>12.41                   </td> <td>16.6                   </td> <td>18.32                   </td> <td>29.57                       </td> <td>38.4                       </td> <td>12.8                       </td> <td>16.23                     </td> <td>18.7                       </td> <td>28.2                           </td> <td>36.92                         </td>\n",
       "        </tr>\n",
       "    </tbody>\n",
       "</table>\n",
       "<p>... (40 rows omitted)</p>"
      ],
      "text/plain": [
       "year | less_than_hs | high_school | some_college | bachelors_degree | advanced_degree | men_less_than_hs | men_high_school | men_some_college | men_bachelors_degree | men_advanced_degree | women_less_than_hs | women_high_school | women_some_college | women_bachelors_degree | women_advanced_degree | white_less_than_hs | white_high_school | white_some_college | white_bachelors_degree | white_advanced_degree | black_less_than_hs | black_high_school | black_some_college | black_bachelors_degree | black_advanced_degree | hispanic_less_than_hs | hispanic_high_school | hispanic_some_college | hispanic_bachelors_degree | hispanic_advanced_degree | white_men_less_than_hs | white_men_high_school | white_men_some_college | white_men_bachelors_degree | white_men_advanced_degree | black_men_less_than_hs | black_men_high_school | black_men_some_college | black_men_bachelors_degree | black_men_advanced_degree | hispanic_men_less_than_hs | hispanic_men_high_school | hispanic_men_some_college | hispanic_men_bachelors_degree | hispanic_men_advanced_degree | white_women_less_than_hs | white_women_high_school | white_women_some_college | white_women_bachelors_degree | white_women_advanced_degree | black_women_less_than_hs | black_women_high_school | black_women_some_college | black_women_bachelors_degree | black_women_advanced_degree | hispanic_women_less_than_hs | hispanic_women_high_school | hispanic_women_some_college | hispanic_women_bachelors_degree | hispanic_women_advanced_degree\n",
       "2022 | 16.52        | 21.94       | 24.81        | 41.6             | 53.22           | 17.99            | 24.08           | 27.96            | 49.01                | 63.51               | 14.33              | 18.93             | 21.76              | 34.39                  | 44.34                 | 15.7               | 23.31             | 26.28              | 43.3                   | 53.3                  | 15.19              | 19.39             | 21.34              | 33.39                  | 44.67                 | 17.32                 | 20.72                | 22.96                 | 36                        | 48.3                     | 17.14                  | 25.92                 | 29.93                  | 51.23                      | 63.86                     | 16.38                  | 20.73                 | 22.58                  | 37.63                      | 52.91                     | 18.67                     | 22.32                    | 25.49                     | 41.48                         | 57.08                        | 13.84                    | 19.56                   | 22.52                    | 35.31                        | 44.45                       | 13.89                    | 17.83                   | 20.36                    | 29.94                        | 39.41                       | 14.74                       | 18.18                      | 20.64                       | 31.13                           | 40.64\n",
       "2021 | 16.74        | 22.28       | 24.92        | 41.32            | 53.45           | 18.34            | 24.36           | 27.96            | 47.83                | 63.52               | 14.36              | 19.36             | 21.97              | 35.08                  | 44.8                  | 16.2               | 23.6              | 26.29              | 43.06                  | 53.62                 | 14.55              | 19.66             | 21.26              | 32.62                  | 43.37                 | 17.6                  | 21.03                | 23.34                 | 35.26                     | 48.6                     | 18.13                  | 26.03                 | 29.79                  | 50.06                      | 64.04                     | 15.38                  | 20.86                 | 22.63                  | 36.95                      | 49.01                     | 18.98                     | 22.7                     | 25.58                     | 39.61                         | 55.6                         | 13.77                    | 20.08                   | 22.73                    | 36.11                        | 44.82                       | 13.73                    | 18.3                    | 20.18                    | 29.35                        | 40.07                       | 14.97                       | 18.34                      | 21.14                       | 31.25                           | 42.47\n",
       "2020 | 17.02        | 22.7        | 25.44        | 41.65            | 53.74           | 18.76            | 25.09           | 28.55            | 48.15                | 62.7                | 14.4               | 19.35             | 22.35              | 35.41                  | 46.04                 | 17.01              | 24                | 26.9               | 43.16                  | 53.8                  | 14.55              | 19.66             | 21.79              | 33.64                  | 45.76                 | 17.61                 | 21.46                | 23.24                 | 36.13                     | 48.58                    | 18.97                  | 26.73                 | 30.4                   | 50.15                      | 63.5                      | 15.52                  | 21.22                 | 23.57                  | 36.7                       | 51.67                     | 19.26                     | 23.33                    | 25.69                     | 41                            | 53.58                        | 14.2                     | 20.06                   | 23.31                    | 36.2                         | 45.58                       | 13.66                    | 17.93                   | 20.31                    | 31.38                        | 42.44                       | 14.58                       | 18.5                       | 20.69                       | 31.55                           | 44.15\n",
       "2019 | 16.11        | 21.64       | 24           | 39.61            | 51.57           | 17.55            | 23.99           | 26.99            | 45.74                | 59.93               | 13.96              | 18.48             | 21.09              | 33.8                   | 44.22                 | 15.89              | 22.94             | 25.47              | 41.06                  | 51.81                 | 14.19              | 18.73             | 20.44              | 31.83                  | 42.73                 | 16.71                 | 20.47                | 22.01                 | 34.66                     | 46.69                    | 17.66                  | 25.58                 | 28.9                   | 47.76                      | 60.84                     | 15.07                  | 20.22                 | 22.02                  | 33.73                      | 46.87                     | 17.93                     | 22.33                    | 24.35                     | 39.56                         | 52.24                        | 13.44                    | 19.22                   | 21.99                    | 34.47                        | 43.83                       | 13.3                     | 17.18                   | 19.17                    | 30.31                        | 40.42                       | 14.5                        | 17.71                      | 19.69                       | 30.18                           | 42.3\n",
       "2018 | 15.94        | 21.5        | 23.7         | 38.87            | 51.03           | 17.7             | 23.72           | 26.61            | 44.97                | 59.73               | 13.36              | 18.49             | 20.91              | 33.03                  | 43.19                 | 16.05              | 23.02             | 25.15              | 40.49                  | 51.8                  | 13.31              | 18.14             | 19.98              | 32                     | 42.22                 | 16.44                 | 20.13                | 21.74                 | 33.19                     | 44.83                    | 17.96                  | 25.49                 | 28.41                  | 47.28                      | 61.27                     | 14.27                  | 19.36                 | 21.82                  | 33.42                      | 46.42                     | 18.05                     | 22.04                    | 24.2                      | 37.27                         | 51.27                        | 13.45                    | 19.52                   | 21.9                     | 33.78                        | 43.31                       | 12.48                    | 16.81                   | 18.57                    | 30.85                        | 39.64                       | 13.47                       | 17.28                      | 19.29                       | 29.47                           | 39.35\n",
       "2017 | 15.92        | 21.26       | 23.31        | 38.65            | 49.4            | 17.63            | 23.47           | 25.91            | 44.5                 | 56.77               | 13.39              | 18.31             | 20.83              | 33.01                  | 42.75                 | 15.96              | 22.71             | 24.65              | 40.07                  | 50.03                 | 13.93              | 17.94             | 19.8               | 31.49                  | 40.68                 | 16.34                 | 19.83                | 21.59                 | 33.07                     | 43.92                    | 17.82                  | 25.14                 | 27.61                  | 46.44                      | 57.64                     | 15                     | 19.46                 | 21.09                  | 34.41                      | 44.62                     | 17.91                     | 21.68                    | 23.59                     | 36.62                         | 50.58                        | 13.46                    | 19.34                   | 21.72                    | 33.76                        | 43.22                       | 12.99                    | 16.33                   | 18.76                    | 29.19                        | 38.26                       | 13.36                       | 17.02                      | 19.6                        | 29.69                           | 38.43\n",
       "2016 | 15.45        | 21          | 23.35        | 38.73            | 49.64           | 16.95            | 23.01           | 25.98            | 44.98                | 57.71               | 13.11              | 18.33             | 20.89              | 32.66                  | 42.17                 | 15.38              | 22.37             | 24.61              | 39.95                  | 49.85                 | 13.48              | 17.95             | 20.28              | 32.1                   | 41.26                 | 16.02                 | 19.47                | 21.33                 | 34.28                     | 43.92                    | 16.96                  | 24.73                 | 27.49                  | 46.78                      | 58.13                     | 14.64                  | 19.07                 | 22.15                  | 35.36                      | 45.54                     | 17.37                     | 21.05                    | 23.43                     | 38.94                         | 50.81                        | 12.98                    | 19.21                   | 21.83                    | 33.23                        | 42.24                       | 12.42                    | 16.71                   | 18.88                    | 29.56                        | 38.55                       | 13.4                        | 17.11                      | 19.26                       | 29.41                           | 37.77\n",
       "2015 | 15.25        | 20.81       | 23.17        | 37.96            | 48.42           | 16.63            | 22.93           | 25.99            | 43.47                | 56.32               | 13.09              | 18.05             | 20.54              | 32.54                  | 41.16                 | 15.34              | 22.12             | 24.52              | 39.19                  | 49                    | 13.64              | 17.62             | 19.59              | 32.06                  | 41.13                 | 15.46                 | 19.31                | 21                    | 33.16                     | 42.02                    | 17.16                  | 24.56                 | 27.64                  | 45.39                      | 57.37                     | 14.55                  | 18.93                 | 21.08                  | 34.19                      | 47.54                     | 16.52                     | 20.92                    | 23.32                     | 36.63                         | 48.49                        | 12.68                    | 18.9                    | 21.49                    | 32.88                        | 41.41                       | 12.79                    | 16.21                   | 18.5                     | 30.42                        | 37.37                       | 13.42                       | 16.99                      | 18.66                       | 29.71                           | 36.37\n",
       "2014 | 14.66        | 20.34       | 22.48        | 36.47            | 47.27           | 15.95            | 22.4            | 24.96            | 41.14                | 54.63               | 12.6               | 17.72             | 20.14              | 31.98                  | 40.34                 | 14.92              | 21.65             | 23.7               | 37.61                  | 47.46                 | 13.43              | 17.61             | 19.4               | 30.82                  | 40.07                 | 14.77                 | 18.43                | 20.21                 | 31.8                      | 44.35                    | 16.65                  | 24.08                 | 26.5                   | 42.79                      | 55.03                     | 14.28                  | 19.08                 | 20.77                  | 31.67                      | 43.76                     | 15.85                     | 19.7                     | 22.17                     | 35.17                         | 52.55                        | 12.54                    | 18.51                   | 20.99                    | 32.46                        | 40.41                       | 12.47                    | 16.09                   | 18.39                    | 30.2                         | 37.88                       | 12.61                       | 16.55                      | 18.22                       | 28.53                           | 37.16\n",
       "2013 | 14.62        | 20.31       | 22.5         | 37               | 48.54           | 15.86            | 22.28           | 25.07            | 42.34                | 56.35               | 12.62              | 17.84             | 20.12              | 31.79                  | 41.03                 | 14.76              | 21.54             | 23.69              | 38.17                  | 49.14                 | 13.4               | 17.66             | 19.38              | 31.11                  | 41.6                  | 14.83                 | 18.39                | 20.21                 | 32.14                     | 44.03                    | 16.37                  | 23.84                 | 26.66                  | 43.94                      | 57.4                      | 14.39                  | 18.7                  | 20.78                  | 33.18                      | 46.74                     | 15.8                      | 19.86                    | 21.76                     | 36.3                          | 51.37                        | 12.47                    | 18.62                   | 20.86                    | 32.33                        | 41.24                       | 12.41                    | 16.6                    | 18.32                    | 29.57                        | 38.4                        | 12.8                        | 16.23                      | 18.7                        | 28.2                            | 36.92\n",
       "... (40 rows omitted)"
      ]
     },
     "execution_count": 67,
     "metadata": {},
     "output_type": "execute_result"
    }
   ],
   "source": [
    "wages_by_education=Table().read_table('wages_by_education.csv')\n",
    "wages_by_education"
   ]
  },
  {
   "cell_type": "markdown",
   "id": "f97db27b",
   "metadata": {},
   "source": [
    "Make a table with only hourly wages made by women without high school education for woman, separated by races in the table (White, Black, Hispanic). The table should only contain years between 2010 and 2022 (inclusive)."
   ]
  },
  {
   "cell_type": "code",
   "execution_count": 68,
   "id": "7a186d91",
   "metadata": {},
   "outputs": [
    {
     "data": {
      "text/html": [
       "<table border=\"1\" class=\"dataframe\">\n",
       "    <thead>\n",
       "        <tr>\n",
       "            <th>year</th> <th>white_women_less_than_hs</th> <th>black_women_less_than_hs</th> <th>hispanic_women_less_than_hs</th>\n",
       "        </tr>\n",
       "    </thead>\n",
       "    <tbody>\n",
       "        <tr>\n",
       "            <td>2022</td> <td>13.84                   </td> <td>13.89                   </td> <td>14.74                      </td>\n",
       "        </tr>\n",
       "        <tr>\n",
       "            <td>2021</td> <td>13.77                   </td> <td>13.73                   </td> <td>14.97                      </td>\n",
       "        </tr>\n",
       "        <tr>\n",
       "            <td>2020</td> <td>14.2                    </td> <td>13.66                   </td> <td>14.58                      </td>\n",
       "        </tr>\n",
       "        <tr>\n",
       "            <td>2019</td> <td>13.44                   </td> <td>13.3                    </td> <td>14.5                       </td>\n",
       "        </tr>\n",
       "        <tr>\n",
       "            <td>2018</td> <td>13.45                   </td> <td>12.48                   </td> <td>13.47                      </td>\n",
       "        </tr>\n",
       "        <tr>\n",
       "            <td>2017</td> <td>13.46                   </td> <td>12.99                   </td> <td>13.36                      </td>\n",
       "        </tr>\n",
       "        <tr>\n",
       "            <td>2016</td> <td>12.98                   </td> <td>12.42                   </td> <td>13.4                       </td>\n",
       "        </tr>\n",
       "        <tr>\n",
       "            <td>2015</td> <td>12.68                   </td> <td>12.79                   </td> <td>13.42                      </td>\n",
       "        </tr>\n",
       "        <tr>\n",
       "            <td>2014</td> <td>12.54                   </td> <td>12.47                   </td> <td>12.61                      </td>\n",
       "        </tr>\n",
       "        <tr>\n",
       "            <td>2013</td> <td>12.47                   </td> <td>12.41                   </td> <td>12.8                       </td>\n",
       "        </tr>\n",
       "    </tbody>\n",
       "</table>\n",
       "<p>... (3 rows omitted)</p>"
      ],
      "text/plain": [
       "year | white_women_less_than_hs | black_women_less_than_hs | hispanic_women_less_than_hs\n",
       "2022 | 13.84                    | 13.89                    | 14.74\n",
       "2021 | 13.77                    | 13.73                    | 14.97\n",
       "2020 | 14.2                     | 13.66                    | 14.58\n",
       "2019 | 13.44                    | 13.3                     | 14.5\n",
       "2018 | 13.45                    | 12.48                    | 13.47\n",
       "2017 | 13.46                    | 12.99                    | 13.36\n",
       "2016 | 12.98                    | 12.42                    | 13.4\n",
       "2015 | 12.68                    | 12.79                    | 13.42\n",
       "2014 | 12.54                    | 12.47                    | 12.61\n",
       "2013 | 12.47                    | 12.41                    | 12.8\n",
       "... (3 rows omitted)"
      ]
     },
     "execution_count": 68,
     "metadata": {},
     "output_type": "execute_result"
    }
   ],
   "source": [
    "Less_than_HS_Woman_Wages=wages_by_education.select('year','white_women_less_than_hs','black_women_less_than_hs',\n",
    "                                                   'hispanic_women_less_than_hs').where('year',are.between_or_equal_to(2010,2022))\n",
    "Less_than_HS_Woman_Wages"
   ]
  },
  {
   "cell_type": "markdown",
   "id": "942e914c",
   "metadata": {},
   "source": [
    "Make line plot of the data."
   ]
  },
  {
   "cell_type": "code",
   "execution_count": 70,
   "id": "eea83a3c",
   "metadata": {},
   "outputs": [
    {
     "data": {
      "image/png": "[encoded data removed]",
      "text/plain": [
       "<Figure size 600x600 with 1 Axes>"
      ]
     },
     "metadata": {},
     "output_type": "display_data"
    }
   ],
   "source": [
    "Less_than_HS_Woman_Wages.plot('year')"
   ]
  },
  {
   "cell_type": "code",
   "execution_count": null,
   "id": "64ae7a98",
   "metadata": {},
   "outputs": [],
   "source": []
  },
  {
   "cell_type": "code",
   "execution_count": null,
   "id": "acb4d44b",
   "metadata": {},
   "outputs": [],
   "source": []
  },
  {
   "cell_type": "markdown",
   "id": "b52d971e",
   "metadata": {},
   "source": [
    "# Problem 10"
   ]
  },
  {
   "cell_type": "markdown",
   "id": "fd25d833",
   "metadata": {},
   "source": [
    "The table `hits unsorted` is shown below. *NOTE* this table is large, so not all columns\n",
    "are shown."
   ]
  },
  {
   "cell_type": "code",
   "execution_count": 71,
   "id": "dffd3053",
   "metadata": {
    "scrolled": true
   },
   "outputs": [
    {
     "data": {
      "text/html": [
       "<table border=\"1\" class=\"dataframe\">\n",
       "    <thead>\n",
       "        <tr>\n",
       "            <th>artist</th> <th>song</th> <th>duration_ms</th> <th>explicit</th> <th>year</th> <th>popularity</th> <th>danceability</th> <th>energy</th> <th>key</th> <th>loudness</th> <th>mode</th> <th>speechiness</th> <th>acousticness</th> <th>instrumentalness</th> <th>liveness</th> <th>valence</th> <th>tempo</th> <th>genre</th>\n",
       "        </tr>\n",
       "    </thead>\n",
       "    <tbody>\n",
       "        <tr>\n",
       "            <td>Britney Spears </td> <td>Oops!...I Did It Again</td> <td>211160     </td> <td>False   </td> <td>2000</td> <td>77        </td> <td>0.751       </td> <td>0.834 </td> <td>1   </td> <td>-5.444  </td> <td>0   </td> <td>0.0437     </td> <td>0.3         </td> <td>1.77e-05        </td> <td>0.355   </td> <td>0.894  </td> <td>95.053 </td> <td>pop              </td>\n",
       "        </tr>\n",
       "        <tr>\n",
       "            <td>blink-182      </td> <td>All The Small Things  </td> <td>167066     </td> <td>False   </td> <td>1999</td> <td>79        </td> <td>0.434       </td> <td>0.897 </td> <td>0   </td> <td>-4.918  </td> <td>1   </td> <td>0.0488     </td> <td>0.0103      </td> <td>0               </td> <td>0.612   </td> <td>0.684  </td> <td>148.726</td> <td>rock, pop        </td>\n",
       "        </tr>\n",
       "        <tr>\n",
       "            <td>Faith Hill     </td> <td>Breathe               </td> <td>250546     </td> <td>False   </td> <td>1999</td> <td>66        </td> <td>0.529       </td> <td>0.496 </td> <td>7   </td> <td>-9.007  </td> <td>1   </td> <td>0.029      </td> <td>0.173       </td> <td>0               </td> <td>0.251   </td> <td>0.278  </td> <td>136.859</td> <td>pop, country     </td>\n",
       "        </tr>\n",
       "        <tr>\n",
       "            <td>Bon Jovi       </td> <td>It's My Life          </td> <td>224493     </td> <td>False   </td> <td>2000</td> <td>78        </td> <td>0.551       </td> <td>0.913 </td> <td>0   </td> <td>-4.063  </td> <td>0   </td> <td>0.0466     </td> <td>0.0263      </td> <td>1.35e-05        </td> <td>0.347   </td> <td>0.544  </td> <td>119.992</td> <td>rock, metal      </td>\n",
       "        </tr>\n",
       "        <tr>\n",
       "            <td>*NSYNC         </td> <td>Bye Bye Bye           </td> <td>200560     </td> <td>False   </td> <td>2000</td> <td>65        </td> <td>0.614       </td> <td>0.928 </td> <td>8   </td> <td>-4.806  </td> <td>0   </td> <td>0.0516     </td> <td>0.0408      </td> <td>0.00104         </td> <td>0.0845  </td> <td>0.879  </td> <td>172.656</td> <td>pop              </td>\n",
       "        </tr>\n",
       "        <tr>\n",
       "            <td>Sisqo          </td> <td>Thong Song            </td> <td>253733     </td> <td>True    </td> <td>1999</td> <td>69        </td> <td>0.706       </td> <td>0.888 </td> <td>2   </td> <td>-6.959  </td> <td>1   </td> <td>0.0654     </td> <td>0.119       </td> <td>9.64e-05        </td> <td>0.07    </td> <td>0.714  </td> <td>121.549</td> <td>hip hop, pop, R&B</td>\n",
       "        </tr>\n",
       "        <tr>\n",
       "            <td>Eminem         </td> <td>The Real Slim Shady   </td> <td>284200     </td> <td>True    </td> <td>2000</td> <td>86        </td> <td>0.949       </td> <td>0.661 </td> <td>5   </td> <td>-4.244  </td> <td>0   </td> <td>0.0572     </td> <td>0.0302      </td> <td>0               </td> <td>0.0454  </td> <td>0.76   </td> <td>104.504</td> <td>hip hop          </td>\n",
       "        </tr>\n",
       "        <tr>\n",
       "            <td>Robbie Williams</td> <td>Rock DJ               </td> <td>258560     </td> <td>False   </td> <td>2000</td> <td>68        </td> <td>0.708       </td> <td>0.772 </td> <td>7   </td> <td>-4.264  </td> <td>1   </td> <td>0.0322     </td> <td>0.0267      </td> <td>0               </td> <td>0.467   </td> <td>0.861  </td> <td>103.035</td> <td>pop, rock        </td>\n",
       "        </tr>\n",
       "        <tr>\n",
       "            <td>Destiny's Child</td> <td>Say My Name           </td> <td>271333     </td> <td>False   </td> <td>1999</td> <td>75        </td> <td>0.713       </td> <td>0.678 </td> <td>5   </td> <td>-3.525  </td> <td>0   </td> <td>0.102      </td> <td>0.273       </td> <td>0               </td> <td>0.149   </td> <td>0.734  </td> <td>138.009</td> <td>pop, R&B         </td>\n",
       "        </tr>\n",
       "        <tr>\n",
       "            <td>Modjo          </td> <td>Lady - Hear Me Tonight</td> <td>307153     </td> <td>False   </td> <td>2001</td> <td>77        </td> <td>0.72        </td> <td>0.808 </td> <td>6   </td> <td>-5.627  </td> <td>1   </td> <td>0.0379     </td> <td>0.00793     </td> <td>0.0293          </td> <td>0.0634  </td> <td>0.869  </td> <td>126.041</td> <td>Dance/Electronic </td>\n",
       "        </tr>\n",
       "    </tbody>\n",
       "</table>\n",
       "<p>... (1990 rows omitted)</p>"
      ],
      "text/plain": [
       "artist          | song                   | duration_ms | explicit | year | popularity | danceability | energy | key  | loudness | mode | speechiness | acousticness | instrumentalness | liveness | valence | tempo   | genre\n",
       "Britney Spears  | Oops!...I Did It Again | 211160      | False    | 2000 | 77         | 0.751        | 0.834  | 1    | -5.444   | 0    | 0.0437      | 0.3          | 1.77e-05         | 0.355    | 0.894   | 95.053  | pop\n",
       "blink-182       | All The Small Things   | 167066      | False    | 1999 | 79         | 0.434        | 0.897  | 0    | -4.918   | 1    | 0.0488      | 0.0103       | 0                | 0.612    | 0.684   | 148.726 | rock, pop\n",
       "Faith Hill      | Breathe                | 250546      | False    | 1999 | 66         | 0.529        | 0.496  | 7    | -9.007   | 1    | 0.029       | 0.173        | 0                | 0.251    | 0.278   | 136.859 | pop, country\n",
       "Bon Jovi        | It's My Life           | 224493      | False    | 2000 | 78         | 0.551        | 0.913  | 0    | -4.063   | 0    | 0.0466      | 0.0263       | 1.35e-05         | 0.347    | 0.544   | 119.992 | rock, metal\n",
       "*NSYNC          | Bye Bye Bye            | 200560      | False    | 2000 | 65         | 0.614        | 0.928  | 8    | -4.806   | 0    | 0.0516      | 0.0408       | 0.00104          | 0.0845   | 0.879   | 172.656 | pop\n",
       "Sisqo           | Thong Song             | 253733      | True     | 1999 | 69         | 0.706        | 0.888  | 2    | -6.959   | 1    | 0.0654      | 0.119        | 9.64e-05         | 0.07     | 0.714   | 121.549 | hip hop, pop, R&B\n",
       "Eminem          | The Real Slim Shady    | 284200      | True     | 2000 | 86         | 0.949        | 0.661  | 5    | -4.244   | 0    | 0.0572      | 0.0302       | 0                | 0.0454   | 0.76    | 104.504 | hip hop\n",
       "Robbie Williams | Rock DJ                | 258560      | False    | 2000 | 68         | 0.708        | 0.772  | 7    | -4.264   | 1    | 0.0322      | 0.0267       | 0                | 0.467    | 0.861   | 103.035 | pop, rock\n",
       "Destiny's Child | Say My Name            | 271333      | False    | 1999 | 75         | 0.713        | 0.678  | 5    | -3.525   | 0    | 0.102       | 0.273        | 0                | 0.149    | 0.734   | 138.009 | pop, R&B\n",
       "Modjo           | Lady - Hear Me Tonight | 307153      | False    | 2001 | 77         | 0.72         | 0.808  | 6    | -5.627   | 1    | 0.0379      | 0.00793      | 0.0293           | 0.0634   | 0.869   | 126.041 | Dance/Electronic\n",
       "... (1990 rows omitted)"
      ]
     },
     "execution_count": 71,
     "metadata": {},
     "output_type": "execute_result"
    }
   ],
   "source": [
    "hits_unsorted= Table.read_table('songs_normalize.csv')\n",
    "hits_unsorted"
   ]
  },
  {
   "cell_type": "markdown",
   "id": "2b6deb05",
   "metadata": {},
   "source": [
    "Create a table called hits with only the columns `artist`, `song`, `year`, and `popularity`."
   ]
  },
  {
   "cell_type": "code",
   "execution_count": 73,
   "id": "1ac7353f",
   "metadata": {},
   "outputs": [
    {
     "data": {
      "text/html": [
       "<table border=\"1\" class=\"dataframe\">\n",
       "    <thead>\n",
       "        <tr>\n",
       "            <th>artist</th> <th>song</th> <th>year</th> <th>popularity</th>\n",
       "        </tr>\n",
       "    </thead>\n",
       "    <tbody>\n",
       "        <tr>\n",
       "            <td>Britney Spears </td> <td>Oops!...I Did It Again</td> <td>2000</td> <td>77        </td>\n",
       "        </tr>\n",
       "        <tr>\n",
       "            <td>blink-182      </td> <td>All The Small Things  </td> <td>1999</td> <td>79        </td>\n",
       "        </tr>\n",
       "        <tr>\n",
       "            <td>Faith Hill     </td> <td>Breathe               </td> <td>1999</td> <td>66        </td>\n",
       "        </tr>\n",
       "        <tr>\n",
       "            <td>Bon Jovi       </td> <td>It's My Life          </td> <td>2000</td> <td>78        </td>\n",
       "        </tr>\n",
       "        <tr>\n",
       "            <td>*NSYNC         </td> <td>Bye Bye Bye           </td> <td>2000</td> <td>65        </td>\n",
       "        </tr>\n",
       "        <tr>\n",
       "            <td>Sisqo          </td> <td>Thong Song            </td> <td>1999</td> <td>69        </td>\n",
       "        </tr>\n",
       "        <tr>\n",
       "            <td>Eminem         </td> <td>The Real Slim Shady   </td> <td>2000</td> <td>86        </td>\n",
       "        </tr>\n",
       "        <tr>\n",
       "            <td>Robbie Williams</td> <td>Rock DJ               </td> <td>2000</td> <td>68        </td>\n",
       "        </tr>\n",
       "        <tr>\n",
       "            <td>Destiny's Child</td> <td>Say My Name           </td> <td>1999</td> <td>75        </td>\n",
       "        </tr>\n",
       "        <tr>\n",
       "            <td>Modjo          </td> <td>Lady - Hear Me Tonight</td> <td>2001</td> <td>77        </td>\n",
       "        </tr>\n",
       "    </tbody>\n",
       "</table>\n",
       "<p>... (1990 rows omitted)</p>"
      ],
      "text/plain": [
       "artist          | song                   | year | popularity\n",
       "Britney Spears  | Oops!...I Did It Again | 2000 | 77\n",
       "blink-182       | All The Small Things   | 1999 | 79\n",
       "Faith Hill      | Breathe                | 1999 | 66\n",
       "Bon Jovi        | It's My Life           | 2000 | 78\n",
       "*NSYNC          | Bye Bye Bye            | 2000 | 65\n",
       "Sisqo           | Thong Song             | 1999 | 69\n",
       "Eminem          | The Real Slim Shady    | 2000 | 86\n",
       "Robbie Williams | Rock DJ                | 2000 | 68\n",
       "Destiny's Child | Say My Name            | 1999 | 75\n",
       "Modjo           | Lady - Hear Me Tonight | 2001 | 77\n",
       "... (1990 rows omitted)"
      ]
     },
     "execution_count": 73,
     "metadata": {},
     "output_type": "execute_result"
    }
   ],
   "source": [
    "hits = hits_unsorted.select('artist','song','year',\"popularity\")\n",
    "hits"
   ]
  },
  {
   "cell_type": "markdown",
   "id": "5717c3fe",
   "metadata": {},
   "source": [
    "Write some code to display the most popular song in the table."
   ]
  },
  {
   "cell_type": "code",
   "execution_count": 76,
   "id": "923c357f",
   "metadata": {},
   "outputs": [
    {
     "data": {
      "text/html": [
       "<table border=\"1\" class=\"dataframe\">\n",
       "    <thead>\n",
       "        <tr>\n",
       "            <th>artist</th> <th>song</th> <th>year</th> <th>popularity</th>\n",
       "        </tr>\n",
       "    </thead>\n",
       "    <tbody>\n",
       "        <tr>\n",
       "            <td>The Neighbourhood</td> <td>Sweater Weather</td> <td>2013</td> <td>89        </td>\n",
       "        </tr>\n",
       "    </tbody>\n",
       "</table>"
      ],
      "text/plain": [
       "artist            | song            | year | popularity\n",
       "The Neighbourhood | Sweater Weather | 2013 | 89"
      ]
     },
     "execution_count": 76,
     "metadata": {},
     "output_type": "execute_result"
    }
   ],
   "source": [
    "hits.sort('popularity',descending=True).take(0)"
   ]
  },
  {
   "cell_type": "markdown",
   "id": "d766ec3e",
   "metadata": {},
   "source": [
    "Write a function that takes a year, and returns the most popular song in that\n",
    "year and its artist."
   ]
  },
  {
   "cell_type": "code",
   "execution_count": 82,
   "id": "62196577",
   "metadata": {},
   "outputs": [
    {
     "name": "stdout",
     "output_type": "stream",
     "text": [
      "Most popular in 2013  was Sweater Weather by The Neighbourhood\n"
     ]
    }
   ],
   "source": [
    "def most_popular_by_year (year):\n",
    "    hits_for_year=hits.where('year',year)\n",
    "    hits_for_year_sorted=hits_for_year.sort('popularity',descending=True)\n",
    "    most_pop= hits_for_year_sorted.take(0)\n",
    "    artist= most_pop.column('artist').item(0)\n",
    "    song= most_pop.column('song').item(0)\n",
    "    return print(f'Most popular in {year}  was {song} by {artist}')\n",
    "    \n",
    "most_popular_by_year(2013)"
   ]
  },
  {
   "cell_type": "markdown",
   "id": "b01dcddf",
   "metadata": {},
   "source": [
    "Apply your `most_popular_by_year` function to every year in the dataset."
   ]
  },
  {
   "cell_type": "code",
   "execution_count": 83,
   "id": "da8339d8",
   "metadata": {},
   "outputs": [
    {
     "name": "stdout",
     "output_type": "stream",
     "text": [
      "Most popular in 1998  was Hot Boyz by Missy Elliott\n",
      "Most popular in 1999  was The Next Episode by Dr. Dre\n",
      "Most popular in 2000  was The Real Slim Shady by Eminem\n",
      "Most popular in 2001  was The Middle by Jimmy Eat World\n",
      "Most popular in 2002  was Without Me by Eminem\n",
      "Most popular in 2003  was In Da Club by 50 Cent\n",
      "Most popular in 2004  was Yeah! (feat. Lil Jon & Ludacris) by Usher\n",
      "Most popular in 2005  was Feel Good Inc. by Gorillaz\n",
      "Most popular in 2006  was Promiscuous by Nelly Furtado\n",
      "Most popular in 2007  was The Way I Are by Timbaland\n",
      "Most popular in 2008  was Heartless by Kanye West\n",
      "Most popular in 2009  was Empire State Of Mind by JAY-Z\n",
      "Most popular in 2010  was Love The Way You Lie by Eminem\n",
      "Most popular in 2011  was Paradise by Coldplay\n",
      "Most popular in 2012  was Locked out of Heaven by Bruno Mars\n",
      "Most popular in 2013  was Sweater Weather by The Neighbourhood\n",
      "Most popular in 2014  was The Nights by Avicii\n",
      "Most popular in 2015  was Wait a Minute! by WILLOW\n",
      "Most popular in 2016  was One Dance by Drake\n",
      "Most popular in 2017  was Perfect by Ed Sheeran\n",
      "Most popular in 2018  was lovely (with Khalid) by Billie Eilish\n",
      "Most popular in 2019  was Circles by Post Malone\n",
      "Most popular in 2020  was Options by NSG\n"
     ]
    },
    {
     "data": {
      "text/plain": [
       "array([None, None, None, None, None, None, None, None, None, None, None,\n",
       "       None, None, None, None, None, None, None, None, None, None, None,\n",
       "       None], dtype=object)"
      ]
     },
     "execution_count": 83,
     "metadata": {},
     "output_type": "execute_result"
    }
   ],
   "source": [
    "hits.group('year').apply(most_popular_by_year,'year')"
   ]
  },
  {
   "cell_type": "code",
   "execution_count": null,
   "id": "362049b1",
   "metadata": {},
   "outputs": [],
   "source": []
  }
 ],
 "metadata": {
  "kernelspec": {
   "display_name": "Python 3 (ipykernel)",
   "language": "python",
   "name": "python3"
  },
  "language_info": {
   "codemirror_mode": {
    "name": "ipython",
    "version": 3
   },
   "file_extension": ".py",
   "mimetype": "text/x-python",
   "name": "python",
   "nbconvert_exporter": "python",
   "pygments_lexer": "ipython3",
   "version": "3.11.4"
  }
 },
 "nbformat": 4,
 "nbformat_minor": 5
}
