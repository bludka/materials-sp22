{
 "cells": [
  {
   "cell_type": "code",
   "execution_count": null,
   "id": "87701563",
   "metadata": {},
   "outputs": [],
   "source": [
    "import numpy as np\n",
    "from datascience import *\n",
    "\n",
    "import matplotlib\n",
    "%matplotlib inline\n",
    "import matplotlib.pyplot as plt\n",
    "plt.style.use('fivethirtyeight')\n",
    "import warnings\n",
    "warnings.simplefilter('ignore', FutureWarning)"
   ]
  },
  {
   "cell_type": "markdown",
   "id": "d57e89c8",
   "metadata": {},
   "source": [
    "This notebook contains the datasets for the problems on the student practice midterm design. Feel free to use it as an extra reference as you work on these problems. "
   ]
  },
  {
   "cell_type": "markdown",
   "id": "b9f6804e",
   "metadata": {},
   "source": [
    "# Problem 1"
   ]
  },
  {
   "cell_type": "code",
   "execution_count": 4,
   "id": "4a6879a2",
   "metadata": {
    "scrolled": true
   },
   "outputs": [
    {
     "data": {
      "text/html": [
       "<table border=\"1\" class=\"dataframe\">\n",
       "    <thead>\n",
       "        <tr>\n",
       "            <th>Year of Birth</th> <th>Gender</th> <th>Ethnicity</th> <th>Child's First Name</th> <th>Count</th> <th>Rank</th>\n",
       "        </tr>\n",
       "    </thead>\n",
       "    <tbody>\n",
       "        <tr>\n",
       "            <td>2011         </td> <td>FEMALE</td> <td>HISPANIC </td> <td>GERALDINE         </td> <td>13   </td> <td>75  </td>\n",
       "        </tr>\n",
       "        <tr>\n",
       "            <td>2011         </td> <td>FEMALE</td> <td>HISPANIC </td> <td>GIA               </td> <td>21   </td> <td>67  </td>\n",
       "        </tr>\n",
       "        <tr>\n",
       "            <td>2011         </td> <td>FEMALE</td> <td>HISPANIC </td> <td>GIANNA            </td> <td>49   </td> <td>42  </td>\n",
       "        </tr>\n",
       "        <tr>\n",
       "            <td>2011         </td> <td>FEMALE</td> <td>HISPANIC </td> <td>GISELLE           </td> <td>38   </td> <td>51  </td>\n",
       "        </tr>\n",
       "        <tr>\n",
       "            <td>2011         </td> <td>FEMALE</td> <td>HISPANIC </td> <td>GRACE             </td> <td>36   </td> <td>53  </td>\n",
       "        </tr>\n",
       "        <tr>\n",
       "            <td>2011         </td> <td>FEMALE</td> <td>HISPANIC </td> <td>GUADALUPE         </td> <td>26   </td> <td>62  </td>\n",
       "        </tr>\n",
       "        <tr>\n",
       "            <td>2011         </td> <td>FEMALE</td> <td>HISPANIC </td> <td>HAILEY            </td> <td>126  </td> <td>8   </td>\n",
       "        </tr>\n",
       "        <tr>\n",
       "            <td>2011         </td> <td>FEMALE</td> <td>HISPANIC </td> <td>HALEY             </td> <td>14   </td> <td>74  </td>\n",
       "        </tr>\n",
       "        <tr>\n",
       "            <td>2011         </td> <td>FEMALE</td> <td>HISPANIC </td> <td>HANNAH            </td> <td>17   </td> <td>71  </td>\n",
       "        </tr>\n",
       "        <tr>\n",
       "            <td>2011         </td> <td>FEMALE</td> <td>HISPANIC </td> <td>HAYLEE            </td> <td>17   </td> <td>71  </td>\n",
       "        </tr>\n",
       "    </tbody>\n",
       "</table>\n",
       "<p>... (57572 rows omitted)</p>"
      ],
      "text/plain": [
       "Year of Birth | Gender | Ethnicity | Child's First Name | Count | Rank\n",
       "2011          | FEMALE | HISPANIC  | GERALDINE          | 13    | 75\n",
       "2011          | FEMALE | HISPANIC  | GIA                | 21    | 67\n",
       "2011          | FEMALE | HISPANIC  | GIANNA             | 49    | 42\n",
       "2011          | FEMALE | HISPANIC  | GISELLE            | 38    | 51\n",
       "2011          | FEMALE | HISPANIC  | GRACE              | 36    | 53\n",
       "2011          | FEMALE | HISPANIC  | GUADALUPE          | 26    | 62\n",
       "2011          | FEMALE | HISPANIC  | HAILEY             | 126   | 8\n",
       "2011          | FEMALE | HISPANIC  | HALEY              | 14    | 74\n",
       "2011          | FEMALE | HISPANIC  | HANNAH             | 17    | 71\n",
       "2011          | FEMALE | HISPANIC  | HAYLEE             | 17    | 71\n",
       "... (57572 rows omitted)"
      ]
     },
     "execution_count": 4,
     "metadata": {},
     "output_type": "execute_result"
    }
   ],
   "source": [
    "baby_names = Table().read_table('Popular_Baby_Names.csv')\n",
    "baby_names"
   ]
  },
  {
   "cell_type": "markdown",
   "id": "ae976918",
   "metadata": {},
   "source": [
    "# Problem 2"
   ]
  },
  {
   "cell_type": "code",
   "execution_count": 5,
   "id": "233fd474",
   "metadata": {},
   "outputs": [
    {
     "data": {
      "text/html": [
       "<table border=\"1\" class=\"dataframe\">\n",
       "    <thead>\n",
       "        <tr>\n",
       "            <th>abilities</th> <th>against_bug</th> <th>against_dark</th> <th>against_dragon</th> <th>against_electric</th> <th>against_fairy</th> <th>against_fight</th> <th>against_fire</th> <th>against_flying</th> <th>against_ghost</th> <th>against_grass</th> <th>against_ground</th> <th>against_ice</th> <th>against_normal</th> <th>against_poison</th> <th>against_psychic</th> <th>against_rock</th> <th>against_steel</th> <th>against_water</th> <th>attack</th> <th>base_egg_steps</th> <th>base_happiness</th> <th>base_total</th> <th>capture_rate</th> <th>classfication</th> <th>defense</th> <th>experience_growth</th> <th>height_m</th> <th>hp</th> <th>japanese_name</th> <th>name</th> <th>percentage_male</th> <th>pokedex_number</th> <th>sp_attack</th> <th>sp_defense</th> <th>speed</th> <th>type1</th> <th>type2</th> <th>weight_kg</th> <th>generation</th> <th>is_legendary</th>\n",
       "        </tr>\n",
       "    </thead>\n",
       "    <tbody>\n",
       "        <tr>\n",
       "            <td>['Overgrow', 'Chlorophyll']</td> <td>1          </td> <td>1           </td> <td>1             </td> <td>0.5             </td> <td>0.5          </td> <td>0.5          </td> <td>2           </td> <td>2             </td> <td>1            </td> <td>0.25         </td> <td>1             </td> <td>2          </td> <td>1             </td> <td>1             </td> <td>2              </td> <td>1           </td> <td>1            </td> <td>0.5          </td> <td>49    </td> <td>5120          </td> <td>70            </td> <td>318       </td> <td>45          </td> <td>Seed Pokémon       </td> <td>49     </td> <td>1059860          </td> <td>0.7     </td> <td>45  </td> <td>Fushigidaneフシギダネ</td> <td>Bulbasaur </td> <td>88.1           </td> <td>1             </td> <td>65       </td> <td>65        </td> <td>45   </td> <td>grass</td> <td>poison</td> <td>6.9      </td> <td>1         </td> <td>0           </td>\n",
       "        </tr>\n",
       "        <tr>\n",
       "            <td>['Overgrow', 'Chlorophyll']</td> <td>1          </td> <td>1           </td> <td>1             </td> <td>0.5             </td> <td>0.5          </td> <td>0.5          </td> <td>2           </td> <td>2             </td> <td>1            </td> <td>0.25         </td> <td>1             </td> <td>2          </td> <td>1             </td> <td>1             </td> <td>2              </td> <td>1           </td> <td>1            </td> <td>0.5          </td> <td>62    </td> <td>5120          </td> <td>70            </td> <td>405       </td> <td>45          </td> <td>Seed Pokémon       </td> <td>63     </td> <td>1059860          </td> <td>1       </td> <td>60  </td> <td>Fushigisouフシギソウ </td> <td>Ivysaur   </td> <td>88.1           </td> <td>2             </td> <td>80       </td> <td>80        </td> <td>60   </td> <td>grass</td> <td>poison</td> <td>13       </td> <td>1         </td> <td>0           </td>\n",
       "        </tr>\n",
       "        <tr>\n",
       "            <td>['Overgrow', 'Chlorophyll']</td> <td>1          </td> <td>1           </td> <td>1             </td> <td>0.5             </td> <td>0.5          </td> <td>0.5          </td> <td>2           </td> <td>2             </td> <td>1            </td> <td>0.25         </td> <td>1             </td> <td>2          </td> <td>1             </td> <td>1             </td> <td>2              </td> <td>1           </td> <td>1            </td> <td>0.5          </td> <td>100   </td> <td>5120          </td> <td>70            </td> <td>625       </td> <td>45          </td> <td>Seed Pokémon       </td> <td>123    </td> <td>1059860          </td> <td>2       </td> <td>80  </td> <td>Fushigibanaフシギバナ</td> <td>Venusaur  </td> <td>88.1           </td> <td>3             </td> <td>122      </td> <td>120       </td> <td>80   </td> <td>grass</td> <td>poison</td> <td>100      </td> <td>1         </td> <td>0           </td>\n",
       "        </tr>\n",
       "        <tr>\n",
       "            <td>['Blaze', 'Solar Power']   </td> <td>0.5        </td> <td>1           </td> <td>1             </td> <td>1               </td> <td>0.5          </td> <td>1            </td> <td>0.5         </td> <td>1             </td> <td>1            </td> <td>0.5          </td> <td>2             </td> <td>0.5        </td> <td>1             </td> <td>1             </td> <td>1              </td> <td>2           </td> <td>0.5          </td> <td>2            </td> <td>52    </td> <td>5120          </td> <td>70            </td> <td>309       </td> <td>45          </td> <td>Lizard Pokémon     </td> <td>43     </td> <td>1059860          </td> <td>0.6     </td> <td>39  </td> <td>Hitokageヒトカゲ    </td> <td>Charmander</td> <td>88.1           </td> <td>4             </td> <td>60       </td> <td>50        </td> <td>65   </td> <td>fire </td> <td>nan   </td> <td>8.5      </td> <td>1         </td> <td>0           </td>\n",
       "        </tr>\n",
       "        <tr>\n",
       "            <td>['Blaze', 'Solar Power']   </td> <td>0.5        </td> <td>1           </td> <td>1             </td> <td>1               </td> <td>0.5          </td> <td>1            </td> <td>0.5         </td> <td>1             </td> <td>1            </td> <td>0.5          </td> <td>2             </td> <td>0.5        </td> <td>1             </td> <td>1             </td> <td>1              </td> <td>2           </td> <td>0.5          </td> <td>2            </td> <td>64    </td> <td>5120          </td> <td>70            </td> <td>405       </td> <td>45          </td> <td>Flame Pokémon      </td> <td>58     </td> <td>1059860          </td> <td>1.1     </td> <td>58  </td> <td>Lizardoリザード     </td> <td>Charmeleon</td> <td>88.1           </td> <td>5             </td> <td>80       </td> <td>65        </td> <td>80   </td> <td>fire </td> <td>nan   </td> <td>19       </td> <td>1         </td> <td>0           </td>\n",
       "        </tr>\n",
       "        <tr>\n",
       "            <td>['Blaze', 'Solar Power']   </td> <td>0.25       </td> <td>1           </td> <td>1             </td> <td>2               </td> <td>0.5          </td> <td>0.5          </td> <td>0.5         </td> <td>1             </td> <td>1            </td> <td>0.25         </td> <td>0             </td> <td>1          </td> <td>1             </td> <td>1             </td> <td>1              </td> <td>4           </td> <td>0.5          </td> <td>2            </td> <td>104   </td> <td>5120          </td> <td>70            </td> <td>634       </td> <td>45          </td> <td>Flame Pokémon      </td> <td>78     </td> <td>1059860          </td> <td>1.7     </td> <td>78  </td> <td>Lizardonリザードン   </td> <td>Charizard </td> <td>88.1           </td> <td>6             </td> <td>159      </td> <td>115       </td> <td>100  </td> <td>fire </td> <td>flying</td> <td>90.5     </td> <td>1         </td> <td>0           </td>\n",
       "        </tr>\n",
       "        <tr>\n",
       "            <td>['Torrent', 'Rain Dish']   </td> <td>1          </td> <td>1           </td> <td>1             </td> <td>2               </td> <td>1            </td> <td>1            </td> <td>0.5         </td> <td>1             </td> <td>1            </td> <td>2            </td> <td>1             </td> <td>0.5        </td> <td>1             </td> <td>1             </td> <td>1              </td> <td>1           </td> <td>0.5          </td> <td>0.5          </td> <td>48    </td> <td>5120          </td> <td>70            </td> <td>314       </td> <td>45          </td> <td>Tiny Turtle Pokémon</td> <td>65     </td> <td>1059860          </td> <td>0.5     </td> <td>44  </td> <td>Zenigameゼニガメ    </td> <td>Squirtle  </td> <td>88.1           </td> <td>7             </td> <td>50       </td> <td>64        </td> <td>43   </td> <td>water</td> <td>nan   </td> <td>9        </td> <td>1         </td> <td>0           </td>\n",
       "        </tr>\n",
       "        <tr>\n",
       "            <td>['Torrent', 'Rain Dish']   </td> <td>1          </td> <td>1           </td> <td>1             </td> <td>2               </td> <td>1            </td> <td>1            </td> <td>0.5         </td> <td>1             </td> <td>1            </td> <td>2            </td> <td>1             </td> <td>0.5        </td> <td>1             </td> <td>1             </td> <td>1              </td> <td>1           </td> <td>0.5          </td> <td>0.5          </td> <td>63    </td> <td>5120          </td> <td>70            </td> <td>405       </td> <td>45          </td> <td>Turtle Pokémon     </td> <td>80     </td> <td>1059860          </td> <td>1       </td> <td>59  </td> <td>Kameilカメール      </td> <td>Wartortle </td> <td>88.1           </td> <td>8             </td> <td>65       </td> <td>80        </td> <td>58   </td> <td>water</td> <td>nan   </td> <td>22.5     </td> <td>1         </td> <td>0           </td>\n",
       "        </tr>\n",
       "        <tr>\n",
       "            <td>['Torrent', 'Rain Dish']   </td> <td>1          </td> <td>1           </td> <td>1             </td> <td>2               </td> <td>1            </td> <td>1            </td> <td>0.5         </td> <td>1             </td> <td>1            </td> <td>2            </td> <td>1             </td> <td>0.5        </td> <td>1             </td> <td>1             </td> <td>1              </td> <td>1           </td> <td>0.5          </td> <td>0.5          </td> <td>103   </td> <td>5120          </td> <td>70            </td> <td>630       </td> <td>45          </td> <td>Shellfish Pokémon  </td> <td>120    </td> <td>1059860          </td> <td>1.6     </td> <td>79  </td> <td>Kamexカメックス      </td> <td>Blastoise </td> <td>88.1           </td> <td>9             </td> <td>135      </td> <td>115       </td> <td>78   </td> <td>water</td> <td>nan   </td> <td>85.5     </td> <td>1         </td> <td>0           </td>\n",
       "        </tr>\n",
       "        <tr>\n",
       "            <td>['Shield Dust', 'Run Away']</td> <td>1          </td> <td>1           </td> <td>1             </td> <td>1               </td> <td>1            </td> <td>0.5          </td> <td>2           </td> <td>2             </td> <td>1            </td> <td>0.5          </td> <td>0.5           </td> <td>1          </td> <td>1             </td> <td>1             </td> <td>1              </td> <td>2           </td> <td>1            </td> <td>1            </td> <td>30    </td> <td>3840          </td> <td>70            </td> <td>195       </td> <td>255         </td> <td>Worm Pokémon       </td> <td>35     </td> <td>1000000          </td> <td>0.3     </td> <td>45  </td> <td>Caterpieキャタピー   </td> <td>Caterpie  </td> <td>50             </td> <td>10            </td> <td>20       </td> <td>20        </td> <td>45   </td> <td>bug  </td> <td>nan   </td> <td>2.9      </td> <td>1         </td> <td>0           </td>\n",
       "        </tr>\n",
       "    </tbody>\n",
       "</table>\n",
       "<p>... (791 rows omitted)</p>"
      ],
      "text/plain": [
       "abilities                   | against_bug | against_dark | against_dragon | against_electric | against_fairy | against_fight | against_fire | against_flying | against_ghost | against_grass | against_ground | against_ice | against_normal | against_poison | against_psychic | against_rock | against_steel | against_water | attack | base_egg_steps | base_happiness | base_total | capture_rate | classfication       | defense | experience_growth | height_m | hp   | japanese_name    | name       | percentage_male | pokedex_number | sp_attack | sp_defense | speed | type1 | type2  | weight_kg | generation | is_legendary\n",
       "['Overgrow', 'Chlorophyll'] | 1           | 1            | 1              | 0.5              | 0.5           | 0.5           | 2            | 2              | 1             | 0.25          | 1              | 2           | 1              | 1              | 2               | 1            | 1             | 0.5           | 49     | 5120           | 70             | 318        | 45           | Seed Pokémon        | 49      | 1059860           | 0.7      | 45   | Fushigidaneフシギダネ | Bulbasaur  | 88.1            | 1              | 65        | 65         | 45    | grass | poison | 6.9       | 1          | 0\n",
       "['Overgrow', 'Chlorophyll'] | 1           | 1            | 1              | 0.5              | 0.5           | 0.5           | 2            | 2              | 1             | 0.25          | 1              | 2           | 1              | 1              | 2               | 1            | 1             | 0.5           | 62     | 5120           | 70             | 405        | 45           | Seed Pokémon        | 63      | 1059860           | 1        | 60   | Fushigisouフシギソウ  | Ivysaur    | 88.1            | 2              | 80        | 80         | 60    | grass | poison | 13        | 1          | 0\n",
       "['Overgrow', 'Chlorophyll'] | 1           | 1            | 1              | 0.5              | 0.5           | 0.5           | 2            | 2              | 1             | 0.25          | 1              | 2           | 1              | 1              | 2               | 1            | 1             | 0.5           | 100    | 5120           | 70             | 625        | 45           | Seed Pokémon        | 123     | 1059860           | 2        | 80   | Fushigibanaフシギバナ | Venusaur   | 88.1            | 3              | 122       | 120        | 80    | grass | poison | 100       | 1          | 0\n",
       "['Blaze', 'Solar Power']    | 0.5         | 1            | 1              | 1                | 0.5           | 1             | 0.5          | 1              | 1             | 0.5           | 2              | 0.5         | 1              | 1              | 1               | 2            | 0.5           | 2             | 52     | 5120           | 70             | 309        | 45           | Lizard Pokémon      | 43      | 1059860           | 0.6      | 39   | Hitokageヒトカゲ     | Charmander | 88.1            | 4              | 60        | 50         | 65    | fire  | nan    | 8.5       | 1          | 0\n",
       "['Blaze', 'Solar Power']    | 0.5         | 1            | 1              | 1                | 0.5           | 1             | 0.5          | 1              | 1             | 0.5           | 2              | 0.5         | 1              | 1              | 1               | 2            | 0.5           | 2             | 64     | 5120           | 70             | 405        | 45           | Flame Pokémon       | 58      | 1059860           | 1.1      | 58   | Lizardoリザード      | Charmeleon | 88.1            | 5              | 80        | 65         | 80    | fire  | nan    | 19        | 1          | 0\n",
       "['Blaze', 'Solar Power']    | 0.25        | 1            | 1              | 2                | 0.5           | 0.5           | 0.5          | 1              | 1             | 0.25          | 0              | 1           | 1              | 1              | 1               | 4            | 0.5           | 2             | 104    | 5120           | 70             | 634        | 45           | Flame Pokémon       | 78      | 1059860           | 1.7      | 78   | Lizardonリザードン    | Charizard  | 88.1            | 6              | 159       | 115        | 100   | fire  | flying | 90.5      | 1          | 0\n",
       "['Torrent', 'Rain Dish']    | 1           | 1            | 1              | 2                | 1             | 1             | 0.5          | 1              | 1             | 2             | 1              | 0.5         | 1              | 1              | 1               | 1            | 0.5           | 0.5           | 48     | 5120           | 70             | 314        | 45           | Tiny Turtle Pokémon | 65      | 1059860           | 0.5      | 44   | Zenigameゼニガメ     | Squirtle   | 88.1            | 7              | 50        | 64         | 43    | water | nan    | 9         | 1          | 0\n",
       "['Torrent', 'Rain Dish']    | 1           | 1            | 1              | 2                | 1             | 1             | 0.5          | 1              | 1             | 2             | 1              | 0.5         | 1              | 1              | 1               | 1            | 0.5           | 0.5           | 63     | 5120           | 70             | 405        | 45           | Turtle Pokémon      | 80      | 1059860           | 1        | 59   | Kameilカメール       | Wartortle  | 88.1            | 8              | 65        | 80         | 58    | water | nan    | 22.5      | 1          | 0\n",
       "['Torrent', 'Rain Dish']    | 1           | 1            | 1              | 2                | 1             | 1             | 0.5          | 1              | 1             | 2             | 1              | 0.5         | 1              | 1              | 1               | 1            | 0.5           | 0.5           | 103    | 5120           | 70             | 630        | 45           | Shellfish Pokémon   | 120     | 1059860           | 1.6      | 79   | Kamexカメックス       | Blastoise  | 88.1            | 9              | 135       | 115        | 78    | water | nan    | 85.5      | 1          | 0\n",
       "['Shield Dust', 'Run Away'] | 1           | 1            | 1              | 1                | 1             | 0.5           | 2            | 2              | 1             | 0.5           | 0.5            | 1           | 1              | 1              | 1               | 2            | 1             | 1             | 30     | 3840           | 70             | 195        | 255          | Worm Pokémon        | 35      | 1000000           | 0.3      | 45   | Caterpieキャタピー    | Caterpie   | 50              | 10             | 20        | 20         | 45    | bug   | nan    | 2.9       | 1          | 0\n",
       "... (791 rows omitted)"
      ]
     },
     "execution_count": 5,
     "metadata": {},
     "output_type": "execute_result"
    }
   ],
   "source": [
    "pokemon = Table().read_table(\"pokemon.csv\")\n",
    "pokemon"
   ]
  },
  {
   "cell_type": "markdown",
   "id": "05f809fb",
   "metadata": {},
   "source": [
    "# Problem 3"
   ]
  },
  {
   "cell_type": "code",
   "execution_count": 6,
   "id": "639ebcd7",
   "metadata": {},
   "outputs": [
    {
     "data": {
      "text/html": [
       "<table border=\"1\" class=\"dataframe\">\n",
       "    <thead>\n",
       "        <tr>\n",
       "            <th>color</th> <th>number</th>\n",
       "        </tr>\n",
       "    </thead>\n",
       "    <tbody>\n",
       "        <tr>\n",
       "            <td>blue  </td> <td>6     </td>\n",
       "        </tr>\n",
       "        <tr>\n",
       "            <td>green </td> <td>7     </td>\n",
       "        </tr>\n",
       "        <tr>\n",
       "            <td>red   </td> <td>4     </td>\n",
       "        </tr>\n",
       "        <tr>\n",
       "            <td>yellow</td> <td>3     </td>\n",
       "        </tr>\n",
       "    </tbody>\n",
       "</table>"
      ],
      "text/plain": [
       "color  | number\n",
       "blue   | 6\n",
       "green  | 7\n",
       "red    | 4\n",
       "yellow | 3"
      ]
     },
     "execution_count": 6,
     "metadata": {},
     "output_type": "execute_result"
    }
   ],
   "source": [
    "colors = Table().with_columns(\n",
    "    \"color\", make_array(\"blue\", \"green\", \"red\", \"yellow\"),\n",
    "    \"number\", make_array(6, 7, 4, 3)\n",
    ")\n",
    "colors"
   ]
  },
  {
   "cell_type": "markdown",
   "id": "48beacb0",
   "metadata": {},
   "source": [
    "# Problem 4"
   ]
  },
  {
   "cell_type": "code",
   "execution_count": 7,
   "id": "c3ddf36c",
   "metadata": {},
   "outputs": [
    {
     "data": {
      "text/html": [
       "<table border=\"1\" class=\"dataframe\">\n",
       "    <thead>\n",
       "        <tr>\n",
       "            <th>Date</th> <th>Year</th> <th>Month</th> <th>Global Temperature Anomalies</th> <th>Nino 1+2 SST</th> <th>Nino 1+2 SST Anomalies</th> <th>Nino 3 SST</th> <th>Nino 3 SST Anomalies</th> <th>Nino 3.4 SST</th> <th>Nino 3.4 SST Anomalies</th> <th>Nino 4 SST</th> <th>Nino 4 SST Anomalies</th> <th>TNI</th> <th>PNA</th> <th>OLR</th> <th>SOI</th> <th>Season (2-Month)</th> <th>MEI.v2</th> <th>Season (3-Month)</th> <th>ONI</th> <th>Season (12-Month)</th> <th>ENSO Phase-Intensity</th>\n",
       "        </tr>\n",
       "    </thead>\n",
       "    <tbody>\n",
       "        <tr>\n",
       "            <td>1/1/1950 </td> <td>1950</td> <td>JAN  </td> <td>-0.2                        </td> <td>nan         </td> <td>nan                   </td> <td>nan       </td> <td>nan                 </td> <td>nan         </td> <td>nan                   </td> <td>nan       </td> <td>nan                 </td> <td>0.624</td> <td>-3.65</td> <td>nan </td> <td>nan </td> <td>DJ              </td> <td>nan   </td> <td>DJF             </td> <td>-1.5</td> <td>1950-1951        </td> <td>ML                  </td>\n",
       "        </tr>\n",
       "        <tr>\n",
       "            <td>2/1/1950 </td> <td>1950</td> <td>FEB  </td> <td>-0.26                       </td> <td>nan         </td> <td>nan                   </td> <td>nan       </td> <td>nan                 </td> <td>nan         </td> <td>nan                   </td> <td>nan       </td> <td>nan                 </td> <td>0.445</td> <td>-1.69</td> <td>nan </td> <td>nan </td> <td>JF              </td> <td>nan   </td> <td>JFM             </td> <td>-1.3</td> <td>1950-1951        </td> <td>ML                  </td>\n",
       "        </tr>\n",
       "        <tr>\n",
       "            <td>3/1/1950 </td> <td>1950</td> <td>MAR  </td> <td>-0.08                       </td> <td>nan         </td> <td>nan                   </td> <td>nan       </td> <td>nan                 </td> <td>nan         </td> <td>nan                   </td> <td>nan       </td> <td>nan                 </td> <td>0.382</td> <td>-0.06</td> <td>nan </td> <td>nan </td> <td>FM              </td> <td>nan   </td> <td>FMA             </td> <td>-1.2</td> <td>1950-1951        </td> <td>ML                  </td>\n",
       "        </tr>\n",
       "        <tr>\n",
       "            <td>4/1/1950 </td> <td>1950</td> <td>APR  </td> <td>-0.16                       </td> <td>nan         </td> <td>nan                   </td> <td>nan       </td> <td>nan                 </td> <td>nan         </td> <td>nan                   </td> <td>nan       </td> <td>nan                 </td> <td>0.311</td> <td>-0.23</td> <td>nan </td> <td>nan </td> <td>MA              </td> <td>nan   </td> <td>MAM             </td> <td>-1.2</td> <td>1950-1951        </td> <td>ML                  </td>\n",
       "        </tr>\n",
       "        <tr>\n",
       "            <td>5/1/1950 </td> <td>1950</td> <td>MAY  </td> <td>-0.02                       </td> <td>nan         </td> <td>nan                   </td> <td>nan       </td> <td>nan                 </td> <td>nan         </td> <td>nan                   </td> <td>nan       </td> <td>nan                 </td> <td>0.124</td> <td>-0.4 </td> <td>nan </td> <td>nan </td> <td>AM              </td> <td>nan   </td> <td>AMJ             </td> <td>-1.1</td> <td>1950-1951        </td> <td>ML                  </td>\n",
       "        </tr>\n",
       "        <tr>\n",
       "            <td>6/1/1950 </td> <td>1950</td> <td>JUN  </td> <td>-0.02                       </td> <td>nan         </td> <td>nan                   </td> <td>nan       </td> <td>nan                 </td> <td>nan         </td> <td>nan                   </td> <td>nan       </td> <td>nan                 </td> <td>0.213</td> <td>-1.99</td> <td>nan </td> <td>nan </td> <td>MJ              </td> <td>nan   </td> <td>MJJ             </td> <td>-0.9</td> <td>1950-1951        </td> <td>ML                  </td>\n",
       "        </tr>\n",
       "        <tr>\n",
       "            <td>7/1/1950 </td> <td>1950</td> <td>JUL  </td> <td>-0.09                       </td> <td>nan         </td> <td>nan                   </td> <td>nan       </td> <td>nan                 </td> <td>nan         </td> <td>nan                   </td> <td>nan       </td> <td>nan                 </td> <td>0.293</td> <td>-0.82</td> <td>nan </td> <td>nan </td> <td>JJ              </td> <td>nan   </td> <td>JJA             </td> <td>-0.5</td> <td>1950-1951        </td> <td>ML                  </td>\n",
       "        </tr>\n",
       "        <tr>\n",
       "            <td>8/1/1950 </td> <td>1950</td> <td>AUG  </td> <td>-0.09                       </td> <td>nan         </td> <td>nan                   </td> <td>nan       </td> <td>nan                 </td> <td>nan         </td> <td>nan                   </td> <td>nan       </td> <td>nan                 </td> <td>0.316</td> <td>0.79 </td> <td>nan </td> <td>nan </td> <td>JA              </td> <td>nan   </td> <td>JAS             </td> <td>-0.4</td> <td>1950-1951        </td> <td>ML                  </td>\n",
       "        </tr>\n",
       "        <tr>\n",
       "            <td>9/1/1950 </td> <td>1950</td> <td>SEP  </td> <td>-0.06                       </td> <td>nan         </td> <td>nan                   </td> <td>nan       </td> <td>nan                 </td> <td>nan         </td> <td>nan                   </td> <td>nan       </td> <td>nan                 </td> <td>0.564</td> <td>-1   </td> <td>nan </td> <td>nan </td> <td>AS              </td> <td>nan   </td> <td>ASO             </td> <td>-0.4</td> <td>1950-1951        </td> <td>ML                  </td>\n",
       "        </tr>\n",
       "        <tr>\n",
       "            <td>10/1/1950</td> <td>1950</td> <td>OCT  </td> <td>-0.14                       </td> <td>nan         </td> <td>nan                   </td> <td>nan       </td> <td>nan                 </td> <td>nan         </td> <td>nan                   </td> <td>nan       </td> <td>nan                 </td> <td>0.69 </td> <td>0.7  </td> <td>nan </td> <td>nan </td> <td>SO              </td> <td>nan   </td> <td>SON             </td> <td>-0.4</td> <td>1950-1951        </td> <td>ML                  </td>\n",
       "        </tr>\n",
       "    </tbody>\n",
       "</table>\n",
       "<p>... (872 rows omitted)</p>"
      ],
      "text/plain": [
       "Date      | Year | Month | Global Temperature Anomalies | Nino 1+2 SST | Nino 1+2 SST Anomalies | Nino 3 SST | Nino 3 SST Anomalies | Nino 3.4 SST | Nino 3.4 SST Anomalies | Nino 4 SST | Nino 4 SST Anomalies | TNI   | PNA   | OLR  | SOI  | Season (2-Month) | MEI.v2 | Season (3-Month) | ONI  | Season (12-Month) | ENSO Phase-Intensity\n",
       "1/1/1950  | 1950 | JAN   | -0.2                         | nan          | nan                    | nan        | nan                  | nan          | nan                    | nan        | nan                  | 0.624 | -3.65 | nan  | nan  | DJ               | nan    | DJF              | -1.5 | 1950-1951         | ML\n",
       "2/1/1950  | 1950 | FEB   | -0.26                        | nan          | nan                    | nan        | nan                  | nan          | nan                    | nan        | nan                  | 0.445 | -1.69 | nan  | nan  | JF               | nan    | JFM              | -1.3 | 1950-1951         | ML\n",
       "3/1/1950  | 1950 | MAR   | -0.08                        | nan          | nan                    | nan        | nan                  | nan          | nan                    | nan        | nan                  | 0.382 | -0.06 | nan  | nan  | FM               | nan    | FMA              | -1.2 | 1950-1951         | ML\n",
       "4/1/1950  | 1950 | APR   | -0.16                        | nan          | nan                    | nan        | nan                  | nan          | nan                    | nan        | nan                  | 0.311 | -0.23 | nan  | nan  | MA               | nan    | MAM              | -1.2 | 1950-1951         | ML\n",
       "5/1/1950  | 1950 | MAY   | -0.02                        | nan          | nan                    | nan        | nan                  | nan          | nan                    | nan        | nan                  | 0.124 | -0.4  | nan  | nan  | AM               | nan    | AMJ              | -1.1 | 1950-1951         | ML\n",
       "6/1/1950  | 1950 | JUN   | -0.02                        | nan          | nan                    | nan        | nan                  | nan          | nan                    | nan        | nan                  | 0.213 | -1.99 | nan  | nan  | MJ               | nan    | MJJ              | -0.9 | 1950-1951         | ML\n",
       "7/1/1950  | 1950 | JUL   | -0.09                        | nan          | nan                    | nan        | nan                  | nan          | nan                    | nan        | nan                  | 0.293 | -0.82 | nan  | nan  | JJ               | nan    | JJA              | -0.5 | 1950-1951         | ML\n",
       "8/1/1950  | 1950 | AUG   | -0.09                        | nan          | nan                    | nan        | nan                  | nan          | nan                    | nan        | nan                  | 0.316 | 0.79  | nan  | nan  | JA               | nan    | JAS              | -0.4 | 1950-1951         | ML\n",
       "9/1/1950  | 1950 | SEP   | -0.06                        | nan          | nan                    | nan        | nan                  | nan          | nan                    | nan        | nan                  | 0.564 | -1    | nan  | nan  | AS               | nan    | ASO              | -0.4 | 1950-1951         | ML\n",
       "10/1/1950 | 1950 | OCT   | -0.14                        | nan          | nan                    | nan        | nan                  | nan          | nan                    | nan        | nan                  | 0.69  | 0.7   | nan  | nan  | SO               | nan    | SON              | -0.4 | 1950-1951         | ML\n",
       "... (872 rows omitted)"
      ]
     },
     "execution_count": 7,
     "metadata": {},
     "output_type": "execute_result"
    }
   ],
   "source": [
    "enso = Table.read_table('ENSO.csv')\n",
    "enso"
   ]
  },
  {
   "cell_type": "markdown",
   "id": "f5dda1a9",
   "metadata": {},
   "source": [
    "# Problem 5"
   ]
  },
  {
   "cell_type": "code",
   "execution_count": 8,
   "id": "3b19911c",
   "metadata": {},
   "outputs": [
    {
     "data": {
      "text/html": [
       "<table border=\"1\" class=\"dataframe\">\n",
       "    <thead>\n",
       "        <tr>\n",
       "            <th>STATE</th> <th>Rate</th> <th>Actual Number</th>\n",
       "        </tr>\n",
       "    </thead>\n",
       "    <tbody>\n",
       "        <tr>\n",
       "            <td>Alabama    </td> <td>16 to 30    </td> <td>20           </td>\n",
       "        </tr>\n",
       "        <tr>\n",
       "            <td>Alaska     </td> <td>None        </td> <td>0            </td>\n",
       "        </tr>\n",
       "        <tr>\n",
       "            <td>AS         </td> <td>1 to 5      </td> <td>1            </td>\n",
       "        </tr>\n",
       "        <tr>\n",
       "            <td>Arizona    </td> <td>16 to 30    </td> <td>17           </td>\n",
       "        </tr>\n",
       "        <tr>\n",
       "            <td>Arkansas   </td> <td>6 to 15     </td> <td>9            </td>\n",
       "        </tr>\n",
       "        <tr>\n",
       "            <td>California </td> <td>6 to 15     </td> <td>8            </td>\n",
       "        </tr>\n",
       "        <tr>\n",
       "            <td>Colorado   </td> <td>16 to 30    </td> <td>24           </td>\n",
       "        </tr>\n",
       "        <tr>\n",
       "            <td>Connecticut</td> <td>1 to 5      </td> <td>2            </td>\n",
       "        </tr>\n",
       "        <tr>\n",
       "            <td>Deleware   </td> <td>None        </td> <td>0            </td>\n",
       "        </tr>\n",
       "        <tr>\n",
       "            <td>Florida    </td> <td>More than 30</td> <td>79           </td>\n",
       "        </tr>\n",
       "    </tbody>\n",
       "</table>\n",
       "<p>... (43 rows omitted)</p>"
      ],
      "text/plain": [
       "STATE       | Rate         | Actual Number\n",
       "Alabama     | 16 to 30     | 20\n",
       "Alaska      | None         | 0\n",
       "AS          | 1 to 5       | 1\n",
       "Arizona     | 16 to 30     | 17\n",
       "Arkansas    | 6 to 15      | 9\n",
       "California  | 6 to 15      | 8\n",
       "Colorado    | 16 to 30     | 24\n",
       "Connecticut | 1 to 5       | 2\n",
       "Deleware    | None         | 0\n",
       "Florida     | More than 30 | 79\n",
       "... (43 rows omitted)"
      ]
     },
     "execution_count": 8,
     "metadata": {},
     "output_type": "execute_result"
    }
   ],
   "source": [
    "fatalities = Table.read_table(\"Lightning Deaths in the United States, 2006–2021 .csv\")\n",
    "fatalities"
   ]
  },
  {
   "cell_type": "markdown",
   "id": "91697f99",
   "metadata": {},
   "source": [
    "# Problem 6"
   ]
  },
  {
   "cell_type": "code",
   "execution_count": 10,
   "id": "6e8a1c3d",
   "metadata": {},
   "outputs": [
    {
     "data": {
      "text/html": [
       "<table border=\"1\" class=\"dataframe\">\n",
       "    <thead>\n",
       "        <tr>\n",
       "            <th>family</th> <th>father</th> <th>mother</th> <th>child</th> <th>children</th> <th>order</th> <th>sex</th>\n",
       "        </tr>\n",
       "    </thead>\n",
       "    <tbody>\n",
       "        <tr>\n",
       "            <td>1     </td> <td>78.5  </td> <td>67    </td> <td>73.2 </td> <td>4       </td> <td>1    </td> <td>male  </td>\n",
       "        </tr>\n",
       "        <tr>\n",
       "            <td>1     </td> <td>78.5  </td> <td>67    </td> <td>69.2 </td> <td>4       </td> <td>2    </td> <td>female</td>\n",
       "        </tr>\n",
       "        <tr>\n",
       "            <td>1     </td> <td>78.5  </td> <td>67    </td> <td>69   </td> <td>4       </td> <td>3    </td> <td>female</td>\n",
       "        </tr>\n",
       "        <tr>\n",
       "            <td>1     </td> <td>78.5  </td> <td>67    </td> <td>69   </td> <td>4       </td> <td>4    </td> <td>female</td>\n",
       "        </tr>\n",
       "        <tr>\n",
       "            <td>2     </td> <td>75.5  </td> <td>66.5  </td> <td>73.5 </td> <td>4       </td> <td>1    </td> <td>male  </td>\n",
       "        </tr>\n",
       "        <tr>\n",
       "            <td>2     </td> <td>75.5  </td> <td>66.5  </td> <td>72.5 </td> <td>4       </td> <td>2    </td> <td>male  </td>\n",
       "        </tr>\n",
       "        <tr>\n",
       "            <td>2     </td> <td>75.5  </td> <td>66.5  </td> <td>65.5 </td> <td>4       </td> <td>3    </td> <td>female</td>\n",
       "        </tr>\n",
       "        <tr>\n",
       "            <td>2     </td> <td>75.5  </td> <td>66.5  </td> <td>65.5 </td> <td>4       </td> <td>4    </td> <td>female</td>\n",
       "        </tr>\n",
       "        <tr>\n",
       "            <td>3     </td> <td>75    </td> <td>64    </td> <td>71   </td> <td>2       </td> <td>1    </td> <td>male  </td>\n",
       "        </tr>\n",
       "        <tr>\n",
       "            <td>3     </td> <td>75    </td> <td>64    </td> <td>68   </td> <td>2       </td> <td>2    </td> <td>female</td>\n",
       "        </tr>\n",
       "    </tbody>\n",
       "</table>\n",
       "<p>... (924 rows omitted)</p>"
      ],
      "text/plain": [
       "family | father | mother | child | children | order | sex\n",
       "1      | 78.5   | 67     | 73.2  | 4        | 1     | male\n",
       "1      | 78.5   | 67     | 69.2  | 4        | 2     | female\n",
       "1      | 78.5   | 67     | 69    | 4        | 3     | female\n",
       "1      | 78.5   | 67     | 69    | 4        | 4     | female\n",
       "2      | 75.5   | 66.5   | 73.5  | 4        | 1     | male\n",
       "2      | 75.5   | 66.5   | 72.5  | 4        | 2     | male\n",
       "2      | 75.5   | 66.5   | 65.5  | 4        | 3     | female\n",
       "2      | 75.5   | 66.5   | 65.5  | 4        | 4     | female\n",
       "3      | 75     | 64     | 71    | 2        | 1     | male\n",
       "3      | 75     | 64     | 68    | 2        | 2     | female\n",
       "... (924 rows omitted)"
      ]
     },
     "execution_count": 10,
     "metadata": {},
     "output_type": "execute_result"
    }
   ],
   "source": [
    "heights = Table().read_table(\"family_heights.csv\")\n",
    "heights"
   ]
  },
  {
   "cell_type": "markdown",
   "id": "e501c7a7",
   "metadata": {},
   "source": [
    "# Problem 7"
   ]
  },
  {
   "cell_type": "code",
   "execution_count": 11,
   "id": "e9f2ecdf",
   "metadata": {},
   "outputs": [
    {
     "data": {
      "text/html": [
       "<table border=\"1\" class=\"dataframe\">\n",
       "    <thead>\n",
       "        <tr>\n",
       "            <th>Sample</th> <th>Green_Button_Conversions</th> <th>Red_Button_Conversions</th>\n",
       "        </tr>\n",
       "    </thead>\n",
       "    <tbody>\n",
       "        <tr>\n",
       "            <td>1     </td> <td>120                     </td> <td>135                   </td>\n",
       "        </tr>\n",
       "        <tr>\n",
       "            <td>2     </td> <td>125                     </td> <td>140                   </td>\n",
       "        </tr>\n",
       "        <tr>\n",
       "            <td>3     </td> <td>130                     </td> <td>142                   </td>\n",
       "        </tr>\n",
       "        <tr>\n",
       "            <td>4     </td> <td>128                     </td> <td>138                   </td>\n",
       "        </tr>\n",
       "        <tr>\n",
       "            <td>5     </td> <td>123                     </td> <td>141                   </td>\n",
       "        </tr>\n",
       "        <tr>\n",
       "            <td>6     </td> <td>122                     </td> <td>136                   </td>\n",
       "        </tr>\n",
       "        <tr>\n",
       "            <td>7     </td> <td>119                     </td> <td>137                   </td>\n",
       "        </tr>\n",
       "        <tr>\n",
       "            <td>8     </td> <td>124                     </td> <td>139                   </td>\n",
       "        </tr>\n",
       "        <tr>\n",
       "            <td>9     </td> <td>121                     </td> <td>134                   </td>\n",
       "        </tr>\n",
       "        <tr>\n",
       "            <td>10    </td> <td>126                     </td> <td>133                   </td>\n",
       "        </tr>\n",
       "    </tbody>\n",
       "</table>"
      ],
      "text/plain": [
       "Sample | Green_Button_Conversions | Red_Button_Conversions\n",
       "1      | 120                      | 135\n",
       "2      | 125                      | 140\n",
       "3      | 130                      | 142\n",
       "4      | 128                      | 138\n",
       "5      | 123                      | 141\n",
       "6      | 122                      | 136\n",
       "7      | 119                      | 137\n",
       "8      | 124                      | 139\n",
       "9      | 121                      | 134\n",
       "10     | 126                      | 133"
      ]
     },
     "execution_count": 11,
     "metadata": {},
     "output_type": "execute_result"
    }
   ],
   "source": [
    "data = Table().with_columns(\n",
    "    'Sample', range(1, 11),\n",
    "    'Green_Button_Conversions', [120, 125, 130, 128, 123, 122, 119, 124, 121, 126],\n",
    "    'Red_Button_Conversions', [135, 140, 142, 138, 141, 136, 137, 139, 134, 133]\n",
    ")\n",
    "data"
   ]
  },
  {
   "cell_type": "markdown",
   "id": "88fbe1b9",
   "metadata": {},
   "source": [
    "# Problem 8 "
   ]
  },
  {
   "cell_type": "code",
   "execution_count": 13,
   "id": "4209d923",
   "metadata": {},
   "outputs": [
    {
     "data": {
      "text/html": [
       "<table border=\"1\" class=\"dataframe\">\n",
       "    <thead>\n",
       "        <tr>\n",
       "            <th>Name</th> <th>Variation</th> <th>DIY</th> <th>Buy</th> <th>Sell</th> <th>Color 1</th> <th>Color 2</th> <th>Size</th> <th>Miles Price</th> <th>Source</th> <th>Source Notes</th> <th>Seasonal Availability</th> <th>Mannequin Piece</th> <th>Version</th> <th>Style</th> <th>Label Themes</th> <th>Type</th> <th>Villager Equippable</th> <th>Catalog</th> <th>Filename</th> <th>Internal ID</th> <th>Unique Entry ID</th>\n",
       "        </tr>\n",
       "    </thead>\n",
       "    <tbody>\n",
       "        <tr>\n",
       "            <td>3D glasses           </td> <td>White    </td> <td>No  </td> <td>490 </td> <td>122 </td> <td>White     </td> <td>Colorful</td> <td>1x1 </td> <td>nan        </td> <td>Able Sisters</td> <td>Available from Able Sisters shop only                       </td> <td>All Year             </td> <td>No             </td> <td>1.0.0  </td> <td>Active  </td> <td>party                        </td> <td>AccessoryEye               </td> <td>Yes                </td> <td>For sale    </td> <td>AccessoryGlassThreed0    </td> <td>4463       </td> <td>FNxEraBTeWRiCvtFu</td>\n",
       "        </tr>\n",
       "        <tr>\n",
       "            <td>3D glasses           </td> <td>Black    </td> <td>No  </td> <td>490 </td> <td>122 </td> <td>Black     </td> <td>Colorful</td> <td>1x1 </td> <td>nan        </td> <td>Able Sisters</td> <td>Available from Able Sisters shop only                       </td> <td>All Year             </td> <td>No             </td> <td>1.0.0  </td> <td>Active  </td> <td>party                        </td> <td>AccessoryEye               </td> <td>Yes                </td> <td>For sale    </td> <td>AccessoryGlassThreed1    </td> <td>11020      </td> <td>mM9SXPCcGPfPJAmtm</td>\n",
       "        </tr>\n",
       "        <tr>\n",
       "            <td>bandage              </td> <td>Beige    </td> <td>No  </td> <td>140 </td> <td>35  </td> <td>Beige     </td> <td>White   </td> <td>1x1 </td> <td>nan        </td> <td>Able Sisters</td> <td>Available from either Mable's temporary shop or Able Sis ...</td> <td>All Year             </td> <td>Yes            </td> <td>1.0.0  </td> <td>Active  </td> <td>outdoorsy; comfy; sporty     </td> <td>AccessoryMouth             </td> <td>No                 </td> <td>For sale    </td> <td>AccessoryMouthBandageSkin</td> <td>4677       </td> <td>2qFT5iPkk8bREvpkj</td>\n",
       "        </tr>\n",
       "        <tr>\n",
       "            <td>beak                 </td> <td>Yellow   </td> <td>No  </td> <td>490 </td> <td>122 </td> <td>Yellow    </td> <td>Yellow  </td> <td>1x1 </td> <td>nan        </td> <td>Able Sisters</td> <td>Available from either Mable's temporary shop or Able Sis ...</td> <td>All Year             </td> <td>Yes            </td> <td>1.0.0  </td> <td>Cute    </td> <td>fairy tale; party; theatrical</td> <td>AccessoryMouthInvisibleNose</td> <td>No                 </td> <td>For sale    </td> <td>AccessoryMouthBeakYellow </td> <td>3549       </td> <td>T5CpsJi4xBSachNL5</td>\n",
       "        </tr>\n",
       "        <tr>\n",
       "            <td>birthday shades      </td> <td>Yellow   </td> <td>No  </td> <td>NFS </td> <td>620 </td> <td>Yellow    </td> <td>Red     </td> <td>1x1 </td> <td>nan        </td> <td>Birthday    </td> <td>nan                                                         </td> <td>All Year             </td> <td>No             </td> <td>1.0.0  </td> <td>Gorgeous</td> <td>party                        </td> <td>AccessoryEye               </td> <td>Yes                </td> <td>Not for sale</td> <td>AccessoryGlassBirthday0  </td> <td>4510       </td> <td>S6CiB9ZvzBTMhEnDz</td>\n",
       "        </tr>\n",
       "        <tr>\n",
       "            <td>birthday shades      </td> <td>Pink     </td> <td>No  </td> <td>NFS </td> <td>620 </td> <td>Pink      </td> <td>Pink    </td> <td>1x1 </td> <td>nan        </td> <td>Birthday    </td> <td>nan                                                         </td> <td>All Year             </td> <td>No             </td> <td>1.0.0  </td> <td>Gorgeous</td> <td>party                        </td> <td>AccessoryEye               </td> <td>Yes                </td> <td>Not for sale</td> <td>AccessoryGlassBirthday1  </td> <td>11217      </td> <td>g3MPcmAKM4z5h8KYX</td>\n",
       "        </tr>\n",
       "        <tr>\n",
       "            <td>birthday shades      </td> <td>Red      </td> <td>No  </td> <td>NFS </td> <td>620 </td> <td>Red       </td> <td>Pink    </td> <td>1x1 </td> <td>nan        </td> <td>Birthday    </td> <td>nan                                                         </td> <td>All Year             </td> <td>No             </td> <td>1.0.0  </td> <td>Gorgeous</td> <td>party                        </td> <td>AccessoryEye               </td> <td>Yes                </td> <td>Not for sale</td> <td>AccessoryGlassBirthday2  </td> <td>11218      </td> <td>ojXoAAj8Bs2XgRiWB</td>\n",
       "        </tr>\n",
       "        <tr>\n",
       "            <td>birthday shades      </td> <td>Blue     </td> <td>No  </td> <td>NFS </td> <td>620 </td> <td>Light blue</td> <td>Green   </td> <td>1x1 </td> <td>nan        </td> <td>Birthday    </td> <td>nan                                                         </td> <td>All Year             </td> <td>No             </td> <td>1.0.0  </td> <td>Gorgeous</td> <td>party                        </td> <td>AccessoryEye               </td> <td>Yes                </td> <td>Not for sale</td> <td>AccessoryGlassBirthday3  </td> <td>11219      </td> <td>Yr9mRJaZM44554oTS</td>\n",
       "        </tr>\n",
       "        <tr>\n",
       "            <td>bottom-rimmed glasses</td> <td>Red      </td> <td>No  </td> <td>1100</td> <td>275 </td> <td>Red       </td> <td>Red     </td> <td>1x1 </td> <td>nan        </td> <td>Able Sisters</td> <td>Available from Able Sisters shop only                       </td> <td>All Year             </td> <td>No             </td> <td>1.0.0  </td> <td>Simple  </td> <td>everyday; comfy; work        </td> <td>AccessoryEye               </td> <td>Yes                </td> <td>For sale    </td> <td>AccessoryGlassLoose0     </td> <td>4597       </td> <td>ZHqtvcoqqDpJLf9Pc</td>\n",
       "        </tr>\n",
       "        <tr>\n",
       "            <td>bottom-rimmed glasses</td> <td>Purple   </td> <td>No  </td> <td>1100</td> <td>275 </td> <td>Purple    </td> <td>Purple  </td> <td>1x1 </td> <td>nan        </td> <td>Able Sisters</td> <td>Available from Able Sisters shop only                       </td> <td>All Year             </td> <td>No             </td> <td>1.0.0  </td> <td>Simple  </td> <td>everyday; comfy; work        </td> <td>AccessoryEye               </td> <td>Yes                </td> <td>For sale    </td> <td>AccessoryGlassLoose1     </td> <td>11081      </td> <td>akRhFD3qeJEPM7WiD</td>\n",
       "        </tr>\n",
       "    </tbody>\n",
       "</table>\n",
       "<p>... (212 rows omitted)</p>"
      ],
      "text/plain": [
       "Name                  | Variation | DIY  | Buy  | Sell | Color 1    | Color 2  | Size | Miles Price | Source       | Source Notes                                                 | Seasonal Availability | Mannequin Piece | Version | Style    | Label Themes                  | Type                        | Villager Equippable | Catalog      | Filename                  | Internal ID | Unique Entry ID\n",
       "3D glasses            | White     | No   | 490  | 122  | White      | Colorful | 1x1  | nan         | Able Sisters | Available from Able Sisters shop only                        | All Year              | No              | 1.0.0   | Active   | party                         | AccessoryEye                | Yes                 | For sale     | AccessoryGlassThreed0     | 4463        | FNxEraBTeWRiCvtFu\n",
       "3D glasses            | Black     | No   | 490  | 122  | Black      | Colorful | 1x1  | nan         | Able Sisters | Available from Able Sisters shop only                        | All Year              | No              | 1.0.0   | Active   | party                         | AccessoryEye                | Yes                 | For sale     | AccessoryGlassThreed1     | 11020       | mM9SXPCcGPfPJAmtm\n",
       "bandage               | Beige     | No   | 140  | 35   | Beige      | White    | 1x1  | nan         | Able Sisters | Available from either Mable's temporary shop or Able Sis ... | All Year              | Yes             | 1.0.0   | Active   | outdoorsy; comfy; sporty      | AccessoryMouth              | No                  | For sale     | AccessoryMouthBandageSkin | 4677        | 2qFT5iPkk8bREvpkj\n",
       "beak                  | Yellow    | No   | 490  | 122  | Yellow     | Yellow   | 1x1  | nan         | Able Sisters | Available from either Mable's temporary shop or Able Sis ... | All Year              | Yes             | 1.0.0   | Cute     | fairy tale; party; theatrical | AccessoryMouthInvisibleNose | No                  | For sale     | AccessoryMouthBeakYellow  | 3549        | T5CpsJi4xBSachNL5\n",
       "birthday shades       | Yellow    | No   | NFS  | 620  | Yellow     | Red      | 1x1  | nan         | Birthday     | nan                                                          | All Year              | No              | 1.0.0   | Gorgeous | party                         | AccessoryEye                | Yes                 | Not for sale | AccessoryGlassBirthday0   | 4510        | S6CiB9ZvzBTMhEnDz\n",
       "birthday shades       | Pink      | No   | NFS  | 620  | Pink       | Pink     | 1x1  | nan         | Birthday     | nan                                                          | All Year              | No              | 1.0.0   | Gorgeous | party                         | AccessoryEye                | Yes                 | Not for sale | AccessoryGlassBirthday1   | 11217       | g3MPcmAKM4z5h8KYX\n",
       "birthday shades       | Red       | No   | NFS  | 620  | Red        | Pink     | 1x1  | nan         | Birthday     | nan                                                          | All Year              | No              | 1.0.0   | Gorgeous | party                         | AccessoryEye                | Yes                 | Not for sale | AccessoryGlassBirthday2   | 11218       | ojXoAAj8Bs2XgRiWB\n",
       "birthday shades       | Blue      | No   | NFS  | 620  | Light blue | Green    | 1x1  | nan         | Birthday     | nan                                                          | All Year              | No              | 1.0.0   | Gorgeous | party                         | AccessoryEye                | Yes                 | Not for sale | AccessoryGlassBirthday3   | 11219       | Yr9mRJaZM44554oTS\n",
       "bottom-rimmed glasses | Red       | No   | 1100 | 275  | Red        | Red      | 1x1  | nan         | Able Sisters | Available from Able Sisters shop only                        | All Year              | No              | 1.0.0   | Simple   | everyday; comfy; work         | AccessoryEye                | Yes                 | For sale     | AccessoryGlassLoose0      | 4597        | ZHqtvcoqqDpJLf9Pc\n",
       "bottom-rimmed glasses | Purple    | No   | 1100 | 275  | Purple     | Purple   | 1x1  | nan         | Able Sisters | Available from Able Sisters shop only                        | All Year              | No              | 1.0.0   | Simple   | everyday; comfy; work         | AccessoryEye                | Yes                 | For sale     | AccessoryGlassLoose1      | 11081       | akRhFD3qeJEPM7WiD\n",
       "... (212 rows omitted)"
      ]
     },
     "execution_count": 13,
     "metadata": {},
     "output_type": "execute_result"
    }
   ],
   "source": [
    "accessories = Table().read_table(\"accessories.csv\")\n",
    "accessories"
   ]
  },
  {
   "cell_type": "markdown",
   "id": "0989e4ea",
   "metadata": {},
   "source": [
    "# Problem 9"
   ]
  },
  {
   "cell_type": "code",
   "execution_count": 14,
   "id": "b84ebc36",
   "metadata": {},
   "outputs": [
    {
     "data": {
      "text/html": [
       "<table border=\"1\" class=\"dataframe\">\n",
       "    <thead>\n",
       "        <tr>\n",
       "            <th>year</th> <th>less_than_hs</th> <th>high_school</th> <th>some_college</th> <th>bachelors_degree</th> <th>advanced_degree</th> <th>men_less_than_hs</th> <th>men_high_school</th> <th>men_some_college</th> <th>men_bachelors_degree</th> <th>men_advanced_degree</th> <th>women_less_than_hs</th> <th>women_high_school</th> <th>women_some_college</th> <th>women_bachelors_degree</th> <th>women_advanced_degree</th> <th>white_less_than_hs</th> <th>white_high_school</th> <th>white_some_college</th> <th>white_bachelors_degree</th> <th>white_advanced_degree</th> <th>black_less_than_hs</th> <th>black_high_school</th> <th>black_some_college</th> <th>black_bachelors_degree</th> <th>black_advanced_degree</th> <th>hispanic_less_than_hs</th> <th>hispanic_high_school</th> <th>hispanic_some_college</th> <th>hispanic_bachelors_degree</th> <th>hispanic_advanced_degree</th> <th>white_men_less_than_hs</th> <th>white_men_high_school</th> <th>white_men_some_college</th> <th>white_men_bachelors_degree</th> <th>white_men_advanced_degree</th> <th>black_men_less_than_hs</th> <th>black_men_high_school</th> <th>black_men_some_college</th> <th>black_men_bachelors_degree</th> <th>black_men_advanced_degree</th> <th>hispanic_men_less_than_hs</th> <th>hispanic_men_high_school</th> <th>hispanic_men_some_college</th> <th>hispanic_men_bachelors_degree</th> <th>hispanic_men_advanced_degree</th> <th>white_women_less_than_hs</th> <th>white_women_high_school</th> <th>white_women_some_college</th> <th>white_women_bachelors_degree</th> <th>white_women_advanced_degree</th> <th>black_women_less_than_hs</th> <th>black_women_high_school</th> <th>black_women_some_college</th> <th>black_women_bachelors_degree</th> <th>black_women_advanced_degree</th> <th>hispanic_women_less_than_hs</th> <th>hispanic_women_high_school</th> <th>hispanic_women_some_college</th> <th>hispanic_women_bachelors_degree</th> <th>hispanic_women_advanced_degree</th>\n",
       "        </tr>\n",
       "    </thead>\n",
       "    <tbody>\n",
       "        <tr>\n",
       "            <td>2022</td> <td>16.52       </td> <td>21.94      </td> <td>24.81       </td> <td>41.6            </td> <td>53.22          </td> <td>17.99           </td> <td>24.08          </td> <td>27.96           </td> <td>49.01               </td> <td>63.51              </td> <td>14.33             </td> <td>18.93            </td> <td>21.76             </td> <td>34.39                 </td> <td>44.34                </td> <td>15.7              </td> <td>23.31            </td> <td>26.28             </td> <td>43.3                  </td> <td>53.3                 </td> <td>15.19             </td> <td>19.39            </td> <td>21.34             </td> <td>33.39                 </td> <td>44.67                </td> <td>17.32                </td> <td>20.72               </td> <td>22.96                </td> <td>36                       </td> <td>48.3                    </td> <td>17.14                 </td> <td>25.92                </td> <td>29.93                 </td> <td>51.23                     </td> <td>63.86                    </td> <td>16.38                 </td> <td>20.73                </td> <td>22.58                 </td> <td>37.63                     </td> <td>52.91                    </td> <td>18.67                    </td> <td>22.32                   </td> <td>25.49                    </td> <td>41.48                        </td> <td>57.08                       </td> <td>13.84                   </td> <td>19.56                  </td> <td>22.52                   </td> <td>35.31                       </td> <td>44.45                      </td> <td>13.89                   </td> <td>17.83                  </td> <td>20.36                   </td> <td>29.94                       </td> <td>39.41                      </td> <td>14.74                      </td> <td>18.18                     </td> <td>20.64                      </td> <td>31.13                          </td> <td>40.64                         </td>\n",
       "        </tr>\n",
       "        <tr>\n",
       "            <td>2021</td> <td>16.74       </td> <td>22.28      </td> <td>24.92       </td> <td>41.32           </td> <td>53.45          </td> <td>18.34           </td> <td>24.36          </td> <td>27.96           </td> <td>47.83               </td> <td>63.52              </td> <td>14.36             </td> <td>19.36            </td> <td>21.97             </td> <td>35.08                 </td> <td>44.8                 </td> <td>16.2              </td> <td>23.6             </td> <td>26.29             </td> <td>43.06                 </td> <td>53.62                </td> <td>14.55             </td> <td>19.66            </td> <td>21.26             </td> <td>32.62                 </td> <td>43.37                </td> <td>17.6                 </td> <td>21.03               </td> <td>23.34                </td> <td>35.26                    </td> <td>48.6                    </td> <td>18.13                 </td> <td>26.03                </td> <td>29.79                 </td> <td>50.06                     </td> <td>64.04                    </td> <td>15.38                 </td> <td>20.86                </td> <td>22.63                 </td> <td>36.95                     </td> <td>49.01                    </td> <td>18.98                    </td> <td>22.7                    </td> <td>25.58                    </td> <td>39.61                        </td> <td>55.6                        </td> <td>13.77                   </td> <td>20.08                  </td> <td>22.73                   </td> <td>36.11                       </td> <td>44.82                      </td> <td>13.73                   </td> <td>18.3                   </td> <td>20.18                   </td> <td>29.35                       </td> <td>40.07                      </td> <td>14.97                      </td> <td>18.34                     </td> <td>21.14                      </td> <td>31.25                          </td> <td>42.47                         </td>\n",
       "        </tr>\n",
       "        <tr>\n",
       "            <td>2020</td> <td>17.02       </td> <td>22.7       </td> <td>25.44       </td> <td>41.65           </td> <td>53.74          </td> <td>18.76           </td> <td>25.09          </td> <td>28.55           </td> <td>48.15               </td> <td>62.7               </td> <td>14.4              </td> <td>19.35            </td> <td>22.35             </td> <td>35.41                 </td> <td>46.04                </td> <td>17.01             </td> <td>24               </td> <td>26.9              </td> <td>43.16                 </td> <td>53.8                 </td> <td>14.55             </td> <td>19.66            </td> <td>21.79             </td> <td>33.64                 </td> <td>45.76                </td> <td>17.61                </td> <td>21.46               </td> <td>23.24                </td> <td>36.13                    </td> <td>48.58                   </td> <td>18.97                 </td> <td>26.73                </td> <td>30.4                  </td> <td>50.15                     </td> <td>63.5                     </td> <td>15.52                 </td> <td>21.22                </td> <td>23.57                 </td> <td>36.7                      </td> <td>51.67                    </td> <td>19.26                    </td> <td>23.33                   </td> <td>25.69                    </td> <td>41                           </td> <td>53.58                       </td> <td>14.2                    </td> <td>20.06                  </td> <td>23.31                   </td> <td>36.2                        </td> <td>45.58                      </td> <td>13.66                   </td> <td>17.93                  </td> <td>20.31                   </td> <td>31.38                       </td> <td>42.44                      </td> <td>14.58                      </td> <td>18.5                      </td> <td>20.69                      </td> <td>31.55                          </td> <td>44.15                         </td>\n",
       "        </tr>\n",
       "        <tr>\n",
       "            <td>2019</td> <td>16.11       </td> <td>21.64      </td> <td>24          </td> <td>39.61           </td> <td>51.57          </td> <td>17.55           </td> <td>23.99          </td> <td>26.99           </td> <td>45.74               </td> <td>59.93              </td> <td>13.96             </td> <td>18.48            </td> <td>21.09             </td> <td>33.8                  </td> <td>44.22                </td> <td>15.89             </td> <td>22.94            </td> <td>25.47             </td> <td>41.06                 </td> <td>51.81                </td> <td>14.19             </td> <td>18.73            </td> <td>20.44             </td> <td>31.83                 </td> <td>42.73                </td> <td>16.71                </td> <td>20.47               </td> <td>22.01                </td> <td>34.66                    </td> <td>46.69                   </td> <td>17.66                 </td> <td>25.58                </td> <td>28.9                  </td> <td>47.76                     </td> <td>60.84                    </td> <td>15.07                 </td> <td>20.22                </td> <td>22.02                 </td> <td>33.73                     </td> <td>46.87                    </td> <td>17.93                    </td> <td>22.33                   </td> <td>24.35                    </td> <td>39.56                        </td> <td>52.24                       </td> <td>13.44                   </td> <td>19.22                  </td> <td>21.99                   </td> <td>34.47                       </td> <td>43.83                      </td> <td>13.3                    </td> <td>17.18                  </td> <td>19.17                   </td> <td>30.31                       </td> <td>40.42                      </td> <td>14.5                       </td> <td>17.71                     </td> <td>19.69                      </td> <td>30.18                          </td> <td>42.3                          </td>\n",
       "        </tr>\n",
       "        <tr>\n",
       "            <td>2018</td> <td>15.94       </td> <td>21.5       </td> <td>23.7        </td> <td>38.87           </td> <td>51.03          </td> <td>17.7            </td> <td>23.72          </td> <td>26.61           </td> <td>44.97               </td> <td>59.73              </td> <td>13.36             </td> <td>18.49            </td> <td>20.91             </td> <td>33.03                 </td> <td>43.19                </td> <td>16.05             </td> <td>23.02            </td> <td>25.15             </td> <td>40.49                 </td> <td>51.8                 </td> <td>13.31             </td> <td>18.14            </td> <td>19.98             </td> <td>32                    </td> <td>42.22                </td> <td>16.44                </td> <td>20.13               </td> <td>21.74                </td> <td>33.19                    </td> <td>44.83                   </td> <td>17.96                 </td> <td>25.49                </td> <td>28.41                 </td> <td>47.28                     </td> <td>61.27                    </td> <td>14.27                 </td> <td>19.36                </td> <td>21.82                 </td> <td>33.42                     </td> <td>46.42                    </td> <td>18.05                    </td> <td>22.04                   </td> <td>24.2                     </td> <td>37.27                        </td> <td>51.27                       </td> <td>13.45                   </td> <td>19.52                  </td> <td>21.9                    </td> <td>33.78                       </td> <td>43.31                      </td> <td>12.48                   </td> <td>16.81                  </td> <td>18.57                   </td> <td>30.85                       </td> <td>39.64                      </td> <td>13.47                      </td> <td>17.28                     </td> <td>19.29                      </td> <td>29.47                          </td> <td>39.35                         </td>\n",
       "        </tr>\n",
       "        <tr>\n",
       "            <td>2017</td> <td>15.92       </td> <td>21.26      </td> <td>23.31       </td> <td>38.65           </td> <td>49.4           </td> <td>17.63           </td> <td>23.47          </td> <td>25.91           </td> <td>44.5                </td> <td>56.77              </td> <td>13.39             </td> <td>18.31            </td> <td>20.83             </td> <td>33.01                 </td> <td>42.75                </td> <td>15.96             </td> <td>22.71            </td> <td>24.65             </td> <td>40.07                 </td> <td>50.03                </td> <td>13.93             </td> <td>17.94            </td> <td>19.8              </td> <td>31.49                 </td> <td>40.68                </td> <td>16.34                </td> <td>19.83               </td> <td>21.59                </td> <td>33.07                    </td> <td>43.92                   </td> <td>17.82                 </td> <td>25.14                </td> <td>27.61                 </td> <td>46.44                     </td> <td>57.64                    </td> <td>15                    </td> <td>19.46                </td> <td>21.09                 </td> <td>34.41                     </td> <td>44.62                    </td> <td>17.91                    </td> <td>21.68                   </td> <td>23.59                    </td> <td>36.62                        </td> <td>50.58                       </td> <td>13.46                   </td> <td>19.34                  </td> <td>21.72                   </td> <td>33.76                       </td> <td>43.22                      </td> <td>12.99                   </td> <td>16.33                  </td> <td>18.76                   </td> <td>29.19                       </td> <td>38.26                      </td> <td>13.36                      </td> <td>17.02                     </td> <td>19.6                       </td> <td>29.69                          </td> <td>38.43                         </td>\n",
       "        </tr>\n",
       "        <tr>\n",
       "            <td>2016</td> <td>15.45       </td> <td>21         </td> <td>23.35       </td> <td>38.73           </td> <td>49.64          </td> <td>16.95           </td> <td>23.01          </td> <td>25.98           </td> <td>44.98               </td> <td>57.71              </td> <td>13.11             </td> <td>18.33            </td> <td>20.89             </td> <td>32.66                 </td> <td>42.17                </td> <td>15.38             </td> <td>22.37            </td> <td>24.61             </td> <td>39.95                 </td> <td>49.85                </td> <td>13.48             </td> <td>17.95            </td> <td>20.28             </td> <td>32.1                  </td> <td>41.26                </td> <td>16.02                </td> <td>19.47               </td> <td>21.33                </td> <td>34.28                    </td> <td>43.92                   </td> <td>16.96                 </td> <td>24.73                </td> <td>27.49                 </td> <td>46.78                     </td> <td>58.13                    </td> <td>14.64                 </td> <td>19.07                </td> <td>22.15                 </td> <td>35.36                     </td> <td>45.54                    </td> <td>17.37                    </td> <td>21.05                   </td> <td>23.43                    </td> <td>38.94                        </td> <td>50.81                       </td> <td>12.98                   </td> <td>19.21                  </td> <td>21.83                   </td> <td>33.23                       </td> <td>42.24                      </td> <td>12.42                   </td> <td>16.71                  </td> <td>18.88                   </td> <td>29.56                       </td> <td>38.55                      </td> <td>13.4                       </td> <td>17.11                     </td> <td>19.26                      </td> <td>29.41                          </td> <td>37.77                         </td>\n",
       "        </tr>\n",
       "        <tr>\n",
       "            <td>2015</td> <td>15.25       </td> <td>20.81      </td> <td>23.17       </td> <td>37.96           </td> <td>48.42          </td> <td>16.63           </td> <td>22.93          </td> <td>25.99           </td> <td>43.47               </td> <td>56.32              </td> <td>13.09             </td> <td>18.05            </td> <td>20.54             </td> <td>32.54                 </td> <td>41.16                </td> <td>15.34             </td> <td>22.12            </td> <td>24.52             </td> <td>39.19                 </td> <td>49                   </td> <td>13.64             </td> <td>17.62            </td> <td>19.59             </td> <td>32.06                 </td> <td>41.13                </td> <td>15.46                </td> <td>19.31               </td> <td>21                   </td> <td>33.16                    </td> <td>42.02                   </td> <td>17.16                 </td> <td>24.56                </td> <td>27.64                 </td> <td>45.39                     </td> <td>57.37                    </td> <td>14.55                 </td> <td>18.93                </td> <td>21.08                 </td> <td>34.19                     </td> <td>47.54                    </td> <td>16.52                    </td> <td>20.92                   </td> <td>23.32                    </td> <td>36.63                        </td> <td>48.49                       </td> <td>12.68                   </td> <td>18.9                   </td> <td>21.49                   </td> <td>32.88                       </td> <td>41.41                      </td> <td>12.79                   </td> <td>16.21                  </td> <td>18.5                    </td> <td>30.42                       </td> <td>37.37                      </td> <td>13.42                      </td> <td>16.99                     </td> <td>18.66                      </td> <td>29.71                          </td> <td>36.37                         </td>\n",
       "        </tr>\n",
       "        <tr>\n",
       "            <td>2014</td> <td>14.66       </td> <td>20.34      </td> <td>22.48       </td> <td>36.47           </td> <td>47.27          </td> <td>15.95           </td> <td>22.4           </td> <td>24.96           </td> <td>41.14               </td> <td>54.63              </td> <td>12.6              </td> <td>17.72            </td> <td>20.14             </td> <td>31.98                 </td> <td>40.34                </td> <td>14.92             </td> <td>21.65            </td> <td>23.7              </td> <td>37.61                 </td> <td>47.46                </td> <td>13.43             </td> <td>17.61            </td> <td>19.4              </td> <td>30.82                 </td> <td>40.07                </td> <td>14.77                </td> <td>18.43               </td> <td>20.21                </td> <td>31.8                     </td> <td>44.35                   </td> <td>16.65                 </td> <td>24.08                </td> <td>26.5                  </td> <td>42.79                     </td> <td>55.03                    </td> <td>14.28                 </td> <td>19.08                </td> <td>20.77                 </td> <td>31.67                     </td> <td>43.76                    </td> <td>15.85                    </td> <td>19.7                    </td> <td>22.17                    </td> <td>35.17                        </td> <td>52.55                       </td> <td>12.54                   </td> <td>18.51                  </td> <td>20.99                   </td> <td>32.46                       </td> <td>40.41                      </td> <td>12.47                   </td> <td>16.09                  </td> <td>18.39                   </td> <td>30.2                        </td> <td>37.88                      </td> <td>12.61                      </td> <td>16.55                     </td> <td>18.22                      </td> <td>28.53                          </td> <td>37.16                         </td>\n",
       "        </tr>\n",
       "        <tr>\n",
       "            <td>2013</td> <td>14.62       </td> <td>20.31      </td> <td>22.5        </td> <td>37              </td> <td>48.54          </td> <td>15.86           </td> <td>22.28          </td> <td>25.07           </td> <td>42.34               </td> <td>56.35              </td> <td>12.62             </td> <td>17.84            </td> <td>20.12             </td> <td>31.79                 </td> <td>41.03                </td> <td>14.76             </td> <td>21.54            </td> <td>23.69             </td> <td>38.17                 </td> <td>49.14                </td> <td>13.4              </td> <td>17.66            </td> <td>19.38             </td> <td>31.11                 </td> <td>41.6                 </td> <td>14.83                </td> <td>18.39               </td> <td>20.21                </td> <td>32.14                    </td> <td>44.03                   </td> <td>16.37                 </td> <td>23.84                </td> <td>26.66                 </td> <td>43.94                     </td> <td>57.4                     </td> <td>14.39                 </td> <td>18.7                 </td> <td>20.78                 </td> <td>33.18                     </td> <td>46.74                    </td> <td>15.8                     </td> <td>19.86                   </td> <td>21.76                    </td> <td>36.3                         </td> <td>51.37                       </td> <td>12.47                   </td> <td>18.62                  </td> <td>20.86                   </td> <td>32.33                       </td> <td>41.24                      </td> <td>12.41                   </td> <td>16.6                   </td> <td>18.32                   </td> <td>29.57                       </td> <td>38.4                       </td> <td>12.8                       </td> <td>16.23                     </td> <td>18.7                       </td> <td>28.2                           </td> <td>36.92                         </td>\n",
       "        </tr>\n",
       "    </tbody>\n",
       "</table>\n",
       "<p>... (40 rows omitted)</p>"
      ],
      "text/plain": [
       "year | less_than_hs | high_school | some_college | bachelors_degree | advanced_degree | men_less_than_hs | men_high_school | men_some_college | men_bachelors_degree | men_advanced_degree | women_less_than_hs | women_high_school | women_some_college | women_bachelors_degree | women_advanced_degree | white_less_than_hs | white_high_school | white_some_college | white_bachelors_degree | white_advanced_degree | black_less_than_hs | black_high_school | black_some_college | black_bachelors_degree | black_advanced_degree | hispanic_less_than_hs | hispanic_high_school | hispanic_some_college | hispanic_bachelors_degree | hispanic_advanced_degree | white_men_less_than_hs | white_men_high_school | white_men_some_college | white_men_bachelors_degree | white_men_advanced_degree | black_men_less_than_hs | black_men_high_school | black_men_some_college | black_men_bachelors_degree | black_men_advanced_degree | hispanic_men_less_than_hs | hispanic_men_high_school | hispanic_men_some_college | hispanic_men_bachelors_degree | hispanic_men_advanced_degree | white_women_less_than_hs | white_women_high_school | white_women_some_college | white_women_bachelors_degree | white_women_advanced_degree | black_women_less_than_hs | black_women_high_school | black_women_some_college | black_women_bachelors_degree | black_women_advanced_degree | hispanic_women_less_than_hs | hispanic_women_high_school | hispanic_women_some_college | hispanic_women_bachelors_degree | hispanic_women_advanced_degree\n",
       "2022 | 16.52        | 21.94       | 24.81        | 41.6             | 53.22           | 17.99            | 24.08           | 27.96            | 49.01                | 63.51               | 14.33              | 18.93             | 21.76              | 34.39                  | 44.34                 | 15.7               | 23.31             | 26.28              | 43.3                   | 53.3                  | 15.19              | 19.39             | 21.34              | 33.39                  | 44.67                 | 17.32                 | 20.72                | 22.96                 | 36                        | 48.3                     | 17.14                  | 25.92                 | 29.93                  | 51.23                      | 63.86                     | 16.38                  | 20.73                 | 22.58                  | 37.63                      | 52.91                     | 18.67                     | 22.32                    | 25.49                     | 41.48                         | 57.08                        | 13.84                    | 19.56                   | 22.52                    | 35.31                        | 44.45                       | 13.89                    | 17.83                   | 20.36                    | 29.94                        | 39.41                       | 14.74                       | 18.18                      | 20.64                       | 31.13                           | 40.64\n",
       "2021 | 16.74        | 22.28       | 24.92        | 41.32            | 53.45           | 18.34            | 24.36           | 27.96            | 47.83                | 63.52               | 14.36              | 19.36             | 21.97              | 35.08                  | 44.8                  | 16.2               | 23.6              | 26.29              | 43.06                  | 53.62                 | 14.55              | 19.66             | 21.26              | 32.62                  | 43.37                 | 17.6                  | 21.03                | 23.34                 | 35.26                     | 48.6                     | 18.13                  | 26.03                 | 29.79                  | 50.06                      | 64.04                     | 15.38                  | 20.86                 | 22.63                  | 36.95                      | 49.01                     | 18.98                     | 22.7                     | 25.58                     | 39.61                         | 55.6                         | 13.77                    | 20.08                   | 22.73                    | 36.11                        | 44.82                       | 13.73                    | 18.3                    | 20.18                    | 29.35                        | 40.07                       | 14.97                       | 18.34                      | 21.14                       | 31.25                           | 42.47\n",
       "2020 | 17.02        | 22.7        | 25.44        | 41.65            | 53.74           | 18.76            | 25.09           | 28.55            | 48.15                | 62.7                | 14.4               | 19.35             | 22.35              | 35.41                  | 46.04                 | 17.01              | 24                | 26.9               | 43.16                  | 53.8                  | 14.55              | 19.66             | 21.79              | 33.64                  | 45.76                 | 17.61                 | 21.46                | 23.24                 | 36.13                     | 48.58                    | 18.97                  | 26.73                 | 30.4                   | 50.15                      | 63.5                      | 15.52                  | 21.22                 | 23.57                  | 36.7                       | 51.67                     | 19.26                     | 23.33                    | 25.69                     | 41                            | 53.58                        | 14.2                     | 20.06                   | 23.31                    | 36.2                         | 45.58                       | 13.66                    | 17.93                   | 20.31                    | 31.38                        | 42.44                       | 14.58                       | 18.5                       | 20.69                       | 31.55                           | 44.15\n",
       "2019 | 16.11        | 21.64       | 24           | 39.61            | 51.57           | 17.55            | 23.99           | 26.99            | 45.74                | 59.93               | 13.96              | 18.48             | 21.09              | 33.8                   | 44.22                 | 15.89              | 22.94             | 25.47              | 41.06                  | 51.81                 | 14.19              | 18.73             | 20.44              | 31.83                  | 42.73                 | 16.71                 | 20.47                | 22.01                 | 34.66                     | 46.69                    | 17.66                  | 25.58                 | 28.9                   | 47.76                      | 60.84                     | 15.07                  | 20.22                 | 22.02                  | 33.73                      | 46.87                     | 17.93                     | 22.33                    | 24.35                     | 39.56                         | 52.24                        | 13.44                    | 19.22                   | 21.99                    | 34.47                        | 43.83                       | 13.3                     | 17.18                   | 19.17                    | 30.31                        | 40.42                       | 14.5                        | 17.71                      | 19.69                       | 30.18                           | 42.3\n",
       "2018 | 15.94        | 21.5        | 23.7         | 38.87            | 51.03           | 17.7             | 23.72           | 26.61            | 44.97                | 59.73               | 13.36              | 18.49             | 20.91              | 33.03                  | 43.19                 | 16.05              | 23.02             | 25.15              | 40.49                  | 51.8                  | 13.31              | 18.14             | 19.98              | 32                     | 42.22                 | 16.44                 | 20.13                | 21.74                 | 33.19                     | 44.83                    | 17.96                  | 25.49                 | 28.41                  | 47.28                      | 61.27                     | 14.27                  | 19.36                 | 21.82                  | 33.42                      | 46.42                     | 18.05                     | 22.04                    | 24.2                      | 37.27                         | 51.27                        | 13.45                    | 19.52                   | 21.9                     | 33.78                        | 43.31                       | 12.48                    | 16.81                   | 18.57                    | 30.85                        | 39.64                       | 13.47                       | 17.28                      | 19.29                       | 29.47                           | 39.35\n",
       "2017 | 15.92        | 21.26       | 23.31        | 38.65            | 49.4            | 17.63            | 23.47           | 25.91            | 44.5                 | 56.77               | 13.39              | 18.31             | 20.83              | 33.01                  | 42.75                 | 15.96              | 22.71             | 24.65              | 40.07                  | 50.03                 | 13.93              | 17.94             | 19.8               | 31.49                  | 40.68                 | 16.34                 | 19.83                | 21.59                 | 33.07                     | 43.92                    | 17.82                  | 25.14                 | 27.61                  | 46.44                      | 57.64                     | 15                     | 19.46                 | 21.09                  | 34.41                      | 44.62                     | 17.91                     | 21.68                    | 23.59                     | 36.62                         | 50.58                        | 13.46                    | 19.34                   | 21.72                    | 33.76                        | 43.22                       | 12.99                    | 16.33                   | 18.76                    | 29.19                        | 38.26                       | 13.36                       | 17.02                      | 19.6                        | 29.69                           | 38.43\n",
       "2016 | 15.45        | 21          | 23.35        | 38.73            | 49.64           | 16.95            | 23.01           | 25.98            | 44.98                | 57.71               | 13.11              | 18.33             | 20.89              | 32.66                  | 42.17                 | 15.38              | 22.37             | 24.61              | 39.95                  | 49.85                 | 13.48              | 17.95             | 20.28              | 32.1                   | 41.26                 | 16.02                 | 19.47                | 21.33                 | 34.28                     | 43.92                    | 16.96                  | 24.73                 | 27.49                  | 46.78                      | 58.13                     | 14.64                  | 19.07                 | 22.15                  | 35.36                      | 45.54                     | 17.37                     | 21.05                    | 23.43                     | 38.94                         | 50.81                        | 12.98                    | 19.21                   | 21.83                    | 33.23                        | 42.24                       | 12.42                    | 16.71                   | 18.88                    | 29.56                        | 38.55                       | 13.4                        | 17.11                      | 19.26                       | 29.41                           | 37.77\n",
       "2015 | 15.25        | 20.81       | 23.17        | 37.96            | 48.42           | 16.63            | 22.93           | 25.99            | 43.47                | 56.32               | 13.09              | 18.05             | 20.54              | 32.54                  | 41.16                 | 15.34              | 22.12             | 24.52              | 39.19                  | 49                    | 13.64              | 17.62             | 19.59              | 32.06                  | 41.13                 | 15.46                 | 19.31                | 21                    | 33.16                     | 42.02                    | 17.16                  | 24.56                 | 27.64                  | 45.39                      | 57.37                     | 14.55                  | 18.93                 | 21.08                  | 34.19                      | 47.54                     | 16.52                     | 20.92                    | 23.32                     | 36.63                         | 48.49                        | 12.68                    | 18.9                    | 21.49                    | 32.88                        | 41.41                       | 12.79                    | 16.21                   | 18.5                     | 30.42                        | 37.37                       | 13.42                       | 16.99                      | 18.66                       | 29.71                           | 36.37\n",
       "2014 | 14.66        | 20.34       | 22.48        | 36.47            | 47.27           | 15.95            | 22.4            | 24.96            | 41.14                | 54.63               | 12.6               | 17.72             | 20.14              | 31.98                  | 40.34                 | 14.92              | 21.65             | 23.7               | 37.61                  | 47.46                 | 13.43              | 17.61             | 19.4               | 30.82                  | 40.07                 | 14.77                 | 18.43                | 20.21                 | 31.8                      | 44.35                    | 16.65                  | 24.08                 | 26.5                   | 42.79                      | 55.03                     | 14.28                  | 19.08                 | 20.77                  | 31.67                      | 43.76                     | 15.85                     | 19.7                     | 22.17                     | 35.17                         | 52.55                        | 12.54                    | 18.51                   | 20.99                    | 32.46                        | 40.41                       | 12.47                    | 16.09                   | 18.39                    | 30.2                         | 37.88                       | 12.61                       | 16.55                      | 18.22                       | 28.53                           | 37.16\n",
       "2013 | 14.62        | 20.31       | 22.5         | 37               | 48.54           | 15.86            | 22.28           | 25.07            | 42.34                | 56.35               | 12.62              | 17.84             | 20.12              | 31.79                  | 41.03                 | 14.76              | 21.54             | 23.69              | 38.17                  | 49.14                 | 13.4               | 17.66             | 19.38              | 31.11                  | 41.6                  | 14.83                 | 18.39                | 20.21                 | 32.14                     | 44.03                    | 16.37                  | 23.84                 | 26.66                  | 43.94                      | 57.4                      | 14.39                  | 18.7                  | 20.78                  | 33.18                      | 46.74                     | 15.8                      | 19.86                    | 21.76                     | 36.3                          | 51.37                        | 12.47                    | 18.62                   | 20.86                    | 32.33                        | 41.24                       | 12.41                    | 16.6                    | 18.32                    | 29.57                        | 38.4                        | 12.8                        | 16.23                      | 18.7                        | 28.2                            | 36.92\n",
       "... (40 rows omitted)"
      ]
     },
     "execution_count": 14,
     "metadata": {},
     "output_type": "execute_result"
    }
   ],
   "source": [
    "wages_by_education=Table().read_table('wages_by_education.csv')\n",
    "wages_by_education"
   ]
  },
  {
   "cell_type": "markdown",
   "id": "7ca2f6f8",
   "metadata": {},
   "source": [
    "# Problem 10"
   ]
  },
  {
   "cell_type": "code",
   "execution_count": 18,
   "id": "782531e5",
   "metadata": {},
   "outputs": [
    {
     "data": {
      "text/html": [
       "<table border=\"1\" class=\"dataframe\">\n",
       "    <thead>\n",
       "        <tr>\n",
       "            <th>artist</th> <th>song</th> <th>duration_ms</th> <th>explicit</th> <th>year</th> <th>popularity</th> <th>danceability</th> <th>energy</th> <th>key</th> <th>loudness</th> <th>mode</th> <th>speechiness</th> <th>acousticness</th> <th>instrumentalness</th> <th>liveness</th> <th>valence</th> <th>tempo</th> <th>genre</th>\n",
       "        </tr>\n",
       "    </thead>\n",
       "    <tbody>\n",
       "        <tr>\n",
       "            <td>Britney Spears </td> <td>Oops!...I Did It Again</td> <td>211160     </td> <td>False   </td> <td>2000</td> <td>77        </td> <td>0.751       </td> <td>0.834 </td> <td>1   </td> <td>-5.444  </td> <td>0   </td> <td>0.0437     </td> <td>0.3         </td> <td>1.77e-05        </td> <td>0.355   </td> <td>0.894  </td> <td>95.053 </td> <td>pop              </td>\n",
       "        </tr>\n",
       "        <tr>\n",
       "            <td>blink-182      </td> <td>All The Small Things  </td> <td>167066     </td> <td>False   </td> <td>1999</td> <td>79        </td> <td>0.434       </td> <td>0.897 </td> <td>0   </td> <td>-4.918  </td> <td>1   </td> <td>0.0488     </td> <td>0.0103      </td> <td>0               </td> <td>0.612   </td> <td>0.684  </td> <td>148.726</td> <td>rock, pop        </td>\n",
       "        </tr>\n",
       "        <tr>\n",
       "            <td>Faith Hill     </td> <td>Breathe               </td> <td>250546     </td> <td>False   </td> <td>1999</td> <td>66        </td> <td>0.529       </td> <td>0.496 </td> <td>7   </td> <td>-9.007  </td> <td>1   </td> <td>0.029      </td> <td>0.173       </td> <td>0               </td> <td>0.251   </td> <td>0.278  </td> <td>136.859</td> <td>pop, country     </td>\n",
       "        </tr>\n",
       "        <tr>\n",
       "            <td>Bon Jovi       </td> <td>It's My Life          </td> <td>224493     </td> <td>False   </td> <td>2000</td> <td>78        </td> <td>0.551       </td> <td>0.913 </td> <td>0   </td> <td>-4.063  </td> <td>0   </td> <td>0.0466     </td> <td>0.0263      </td> <td>1.35e-05        </td> <td>0.347   </td> <td>0.544  </td> <td>119.992</td> <td>rock, metal      </td>\n",
       "        </tr>\n",
       "        <tr>\n",
       "            <td>*NSYNC         </td> <td>Bye Bye Bye           </td> <td>200560     </td> <td>False   </td> <td>2000</td> <td>65        </td> <td>0.614       </td> <td>0.928 </td> <td>8   </td> <td>-4.806  </td> <td>0   </td> <td>0.0516     </td> <td>0.0408      </td> <td>0.00104         </td> <td>0.0845  </td> <td>0.879  </td> <td>172.656</td> <td>pop              </td>\n",
       "        </tr>\n",
       "        <tr>\n",
       "            <td>Sisqo          </td> <td>Thong Song            </td> <td>253733     </td> <td>True    </td> <td>1999</td> <td>69        </td> <td>0.706       </td> <td>0.888 </td> <td>2   </td> <td>-6.959  </td> <td>1   </td> <td>0.0654     </td> <td>0.119       </td> <td>9.64e-05        </td> <td>0.07    </td> <td>0.714  </td> <td>121.549</td> <td>hip hop, pop, R&B</td>\n",
       "        </tr>\n",
       "        <tr>\n",
       "            <td>Eminem         </td> <td>The Real Slim Shady   </td> <td>284200     </td> <td>True    </td> <td>2000</td> <td>86        </td> <td>0.949       </td> <td>0.661 </td> <td>5   </td> <td>-4.244  </td> <td>0   </td> <td>0.0572     </td> <td>0.0302      </td> <td>0               </td> <td>0.0454  </td> <td>0.76   </td> <td>104.504</td> <td>hip hop          </td>\n",
       "        </tr>\n",
       "        <tr>\n",
       "            <td>Robbie Williams</td> <td>Rock DJ               </td> <td>258560     </td> <td>False   </td> <td>2000</td> <td>68        </td> <td>0.708       </td> <td>0.772 </td> <td>7   </td> <td>-4.264  </td> <td>1   </td> <td>0.0322     </td> <td>0.0267      </td> <td>0               </td> <td>0.467   </td> <td>0.861  </td> <td>103.035</td> <td>pop, rock        </td>\n",
       "        </tr>\n",
       "        <tr>\n",
       "            <td>Destiny's Child</td> <td>Say My Name           </td> <td>271333     </td> <td>False   </td> <td>1999</td> <td>75        </td> <td>0.713       </td> <td>0.678 </td> <td>5   </td> <td>-3.525  </td> <td>0   </td> <td>0.102      </td> <td>0.273       </td> <td>0               </td> <td>0.149   </td> <td>0.734  </td> <td>138.009</td> <td>pop, R&B         </td>\n",
       "        </tr>\n",
       "        <tr>\n",
       "            <td>Modjo          </td> <td>Lady - Hear Me Tonight</td> <td>307153     </td> <td>False   </td> <td>2001</td> <td>77        </td> <td>0.72        </td> <td>0.808 </td> <td>6   </td> <td>-5.627  </td> <td>1   </td> <td>0.0379     </td> <td>0.00793     </td> <td>0.0293          </td> <td>0.0634  </td> <td>0.869  </td> <td>126.041</td> <td>Dance/Electronic </td>\n",
       "        </tr>\n",
       "    </tbody>\n",
       "</table>\n",
       "<p>... (1990 rows omitted)</p>"
      ],
      "text/plain": [
       "artist          | song                   | duration_ms | explicit | year | popularity | danceability | energy | key  | loudness | mode | speechiness | acousticness | instrumentalness | liveness | valence | tempo   | genre\n",
       "Britney Spears  | Oops!...I Did It Again | 211160      | False    | 2000 | 77         | 0.751        | 0.834  | 1    | -5.444   | 0    | 0.0437      | 0.3          | 1.77e-05         | 0.355    | 0.894   | 95.053  | pop\n",
       "blink-182       | All The Small Things   | 167066      | False    | 1999 | 79         | 0.434        | 0.897  | 0    | -4.918   | 1    | 0.0488      | 0.0103       | 0                | 0.612    | 0.684   | 148.726 | rock, pop\n",
       "Faith Hill      | Breathe                | 250546      | False    | 1999 | 66         | 0.529        | 0.496  | 7    | -9.007   | 1    | 0.029       | 0.173        | 0                | 0.251    | 0.278   | 136.859 | pop, country\n",
       "Bon Jovi        | It's My Life           | 224493      | False    | 2000 | 78         | 0.551        | 0.913  | 0    | -4.063   | 0    | 0.0466      | 0.0263       | 1.35e-05         | 0.347    | 0.544   | 119.992 | rock, metal\n",
       "*NSYNC          | Bye Bye Bye            | 200560      | False    | 2000 | 65         | 0.614        | 0.928  | 8    | -4.806   | 0    | 0.0516      | 0.0408       | 0.00104          | 0.0845   | 0.879   | 172.656 | pop\n",
       "Sisqo           | Thong Song             | 253733      | True     | 1999 | 69         | 0.706        | 0.888  | 2    | -6.959   | 1    | 0.0654      | 0.119        | 9.64e-05         | 0.07     | 0.714   | 121.549 | hip hop, pop, R&B\n",
       "Eminem          | The Real Slim Shady    | 284200      | True     | 2000 | 86         | 0.949        | 0.661  | 5    | -4.244   | 0    | 0.0572      | 0.0302       | 0                | 0.0454   | 0.76    | 104.504 | hip hop\n",
       "Robbie Williams | Rock DJ                | 258560      | False    | 2000 | 68         | 0.708        | 0.772  | 7    | -4.264   | 1    | 0.0322      | 0.0267       | 0                | 0.467    | 0.861   | 103.035 | pop, rock\n",
       "Destiny's Child | Say My Name            | 271333      | False    | 1999 | 75         | 0.713        | 0.678  | 5    | -3.525   | 0    | 0.102       | 0.273        | 0                | 0.149    | 0.734   | 138.009 | pop, R&B\n",
       "Modjo           | Lady - Hear Me Tonight | 307153      | False    | 2001 | 77         | 0.72         | 0.808  | 6    | -5.627   | 1    | 0.0379      | 0.00793      | 0.0293           | 0.0634   | 0.869   | 126.041 | Dance/Electronic\n",
       "... (1990 rows omitted)"
      ]
     },
     "execution_count": 18,
     "metadata": {},
     "output_type": "execute_result"
    }
   ],
   "source": [
    "hits_unsorted= Table.read_table('songs_normalize.csv')\n",
    "hits_unsorted"
   ]
  }
 ],
 "metadata": {
  "kernelspec": {
   "display_name": "Python 3 (ipykernel)",
   "language": "python",
   "name": "python3"
  },
  "language_info": {
   "codemirror_mode": {
    "name": "ipython",
    "version": 3
   },
   "file_extension": ".py",
   "mimetype": "text/x-python",
   "name": "python",
   "nbconvert_exporter": "python",
   "pygments_lexer": "ipython3",
   "version": "3.11.4"
  }
 },
 "nbformat": 4,
 "nbformat_minor": 5
}
