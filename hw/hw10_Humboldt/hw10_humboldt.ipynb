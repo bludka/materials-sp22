{
 "cells": [
  {
   "cell_type": "code",
   "execution_count": null,
   "id": "c43e0646",
   "metadata": {
    "deletable": false,
    "editable": false
   },
   "outputs": [],
   "source": [
    "# Initialize Otter\n",
    "import otter\n",
    "grader = otter.Notebook(\"hw10_humboldt.ipynb\")"
   ]
  },
  {
   "attachments": {},
   "cell_type": "markdown",
   "id": "dee83d85",
   "metadata": {},
   "source": [
    "# Homework 10: Linear Regression"
   ]
  },
  {
   "attachments": {},
   "cell_type": "markdown",
   "id": "bc2af493",
   "metadata": {},
   "source": [
    "**Helpful Resource:**\n",
    "\n",
    "- [Python Reference](http://data8.org/sp22/python-reference.html): Cheat sheet of helpful array & table methods used in Data 8!\n",
    "\n",
    "**Recommended Readings**: \n",
    "\n",
    "* [The Regression Line](https://www.inferentialthinking.com/chapters/15/2/Regression_Line.html)\n",
    "* [Method of Least Squares](https://www.inferentialthinking.com/chapters/15/3/Method_of_Least_Squares.html)\n",
    "* [Least Squares Regression](https://www.inferentialthinking.com/chapters/15/4/Least_Squares_Regression.html)"
   ]
  },
  {
   "attachments": {},
   "cell_type": "markdown",
   "id": "7eb8dc0a",
   "metadata": {},
   "source": [
    "Please complete this notebook by filling in the cells provided. Before you begin, execute the following cell to setup the notebook by importing some helpful libraries. Each time you start your server, you will need to execute this cell again.\n",
    "\n",
    "For all problems that you must write explanations and sentences for, you **must** provide your answer in the designated space. **Moreover, throughout this homework and all future ones, please be sure to not re-assign variables throughout the notebook!** For example, if you use `max_temperature` in your answer to one question, do not reassign it later on. Otherwise, you will fail tests that you thought you were passing previously!\n",
    "\n",
    "\n",
    "**Note: This homework has hidden tests on it. That means even though the tests may say 100% passed, it doesn't mean your final grade will be 100%. We will be running more tests for correctness once everyone turns in the homework.**\n",
    "\n",
    "\n",
    "Directly sharing answers is not okay, but discussing problems with the course staff or with other students is encouraged. \n",
    "\n",
    "You should start early so that you have time to get help if you're stuck."
   ]
  },
  {
   "cell_type": "code",
   "execution_count": null,
   "id": "034635b5",
   "metadata": {
    "execution": {
     "iopub.execute_input": "2022-04-07T03:32:57.413696Z",
     "iopub.status.busy": "2022-04-07T03:32:57.413416Z",
     "iopub.status.idle": "2022-04-07T03:32:58.917362Z",
     "shell.execute_reply": "2022-04-07T03:32:58.916637Z"
    }
   },
   "outputs": [],
   "source": [
    "# Run this cell to set up the notebook, but please don't change it.\n",
    "\n",
    "import numpy as np\n",
    "from datascience import *\n",
    "\n",
    "# These lines do some fancy plotting magic.\n",
    "import matplotlib\n",
    "%matplotlib inline\n",
    "import matplotlib.pyplot as plt\n",
    "plt.style.use('fivethirtyeight')\n",
    "import warnings\n",
    "warnings.simplefilter('ignore', FutureWarning)\n",
    "from datetime import datetime"
   ]
  },
  {
   "attachments": {},
   "cell_type": "markdown",
   "id": "cf1808a6",
   "metadata": {},
   "source": [
    "## 1. Triple Jump Distances vs. Vertical Jump Heights "
   ]
  },
  {
   "attachments": {},
   "cell_type": "markdown",
   "id": "7b2d5646",
   "metadata": {},
   "source": [
    "Does skill in one sport imply skill in a related sport?  The answer might be different for different activities. Let's find out whether it's true for the [triple jump](https://en.wikipedia.org/wiki/Triple_jump) (a horizontal jump similar to a long jump) and the [vertical jump](https://en.wikipedia.org/wiki/Vertical_jump).  Since we're learning about linear regression, we will look specifically for a *linear* association between skill level in the two sports.\n",
    "\n",
    "The following data was collected by observing 40 collegiate-level soccer players. Each athlete's distances in both events were measured in centimeters. Run the cell below to load the data."
   ]
  },
  {
   "cell_type": "code",
   "execution_count": null,
   "id": "1b9fdc2b",
   "metadata": {
    "ExecuteTime": {
     "end_time": "2018-04-03T22:42:22.463984Z",
     "start_time": "2018-04-03T22:42:22.455963Z"
    },
    "execution": {
     "iopub.execute_input": "2022-04-07T03:32:58.921192Z",
     "iopub.status.busy": "2022-04-07T03:32:58.920972Z",
     "iopub.status.idle": "2022-04-07T03:32:58.953207Z",
     "shell.execute_reply": "2022-04-07T03:32:58.952354Z"
    }
   },
   "outputs": [],
   "source": [
    "# Run this cell to load the data\n",
    "jumps = Table.read_table('triple_vertical.csv')\n",
    "jumps"
   ]
  },
  {
   "attachments": {},
   "cell_type": "markdown",
   "id": "2fbd96dd",
   "metadata": {},
   "source": [
    "**Question 1.1.** Create a function `standard_units` that converts the values in the array `data` to standard units. **(5 points)**\n"
   ]
  },
  {
   "cell_type": "code",
   "execution_count": null,
   "id": "d912f192",
   "metadata": {
    "execution": {
     "iopub.execute_input": "2022-04-07T03:32:58.956818Z",
     "iopub.status.busy": "2022-04-07T03:32:58.956278Z",
     "iopub.status.idle": "2022-04-07T03:32:58.960645Z",
     "shell.execute_reply": "2022-04-07T03:32:58.959860Z"
    },
    "tags": []
   },
   "outputs": [],
   "source": [
    "def standard_units(data):\n",
    "    ..."
   ]
  },
  {
   "cell_type": "code",
   "execution_count": null,
   "id": "4daa9afd",
   "metadata": {
    "deletable": false,
    "editable": false
   },
   "outputs": [],
   "source": [
    "grader.check(\"q1_1\")"
   ]
  },
  {
   "attachments": {},
   "cell_type": "markdown",
   "id": "e6d97f6c",
   "metadata": {},
   "source": [
    "**Question 1.2.** Now, using the `standard_units` function, define the function `correlation` which computes the correlation between `x` and `y`. **(5 points)**\n"
   ]
  },
  {
   "cell_type": "code",
   "execution_count": null,
   "id": "76b1b32c",
   "metadata": {
    "execution": {
     "iopub.execute_input": "2022-04-07T03:32:58.998339Z",
     "iopub.status.busy": "2022-04-07T03:32:58.997687Z",
     "iopub.status.idle": "2022-04-07T03:32:59.001531Z",
     "shell.execute_reply": "2022-04-07T03:32:59.000809Z"
    },
    "tags": []
   },
   "outputs": [],
   "source": [
    "def correlation(x, y):\n",
    "    ..."
   ]
  },
  {
   "cell_type": "code",
   "execution_count": null,
   "id": "2e284105",
   "metadata": {
    "deletable": false,
    "editable": false
   },
   "outputs": [],
   "source": [
    "grader.check(\"q1_2\")"
   ]
  },
  {
   "attachments": {},
   "cell_type": "markdown",
   "id": "99b8b345",
   "metadata": {},
   "source": [
    "<!-- BEGIN QUESTION -->\n",
    "\n",
    "**Question 1.3.** Before running a regression, it's important to see what the data looks like, because our eyes are good at picking out unusual patterns in data.  Draw a scatter plot, **that includes the regression line**, with the triple jump distances on the horizontal axis and the vertical jump heights on vertical axis. **(5 points)**\n",
    "\n",
    "See the documentation on `scatter` [here](http://data8.org/datascience/_autosummary/datascience.tables.Table.scatter.html#datascience.tables.Table.scatter) for instructions on how to have Python draw the regression line automatically.\n",
    "\n",
    "*Hint:* The `fit_line` argument may be useful here!\n"
   ]
  },
  {
   "cell_type": "code",
   "execution_count": null,
   "id": "28738629",
   "metadata": {
    "ExecuteTime": {
     "end_time": "2018-04-03T07:28:04.288689Z",
     "start_time": "2018-04-03T07:28:04.108660Z"
    },
    "deletable": false,
    "execution": {
     "iopub.execute_input": "2022-04-07T03:32:59.041336Z",
     "iopub.status.busy": "2022-04-07T03:32:59.041042Z",
     "iopub.status.idle": "2022-04-07T03:32:59.332567Z",
     "shell.execute_reply": "2022-04-07T03:32:59.331877Z"
    },
    "manual_problem_id": "jumping_1",
    "tags": []
   },
   "outputs": [],
   "source": [
    "..."
   ]
  },
  {
   "attachments": {},
   "cell_type": "markdown",
   "id": "80affc18",
   "metadata": {},
   "source": [
    "<!-- END QUESTION -->\n",
    "\n",
    "<!-- BEGIN QUESTION -->\n",
    "\n",
    "**Question 1.4.** Does the correlation coefficient $r$ look closest to 0, .5, or -.5? Explain. **(5 points)**\n"
   ]
  },
  {
   "cell_type": "markdown",
   "id": "f8c140d1",
   "metadata": {},
   "source": [
    "_Type your answer here, replacing this text._"
   ]
  },
  {
   "attachments": {},
   "cell_type": "markdown",
   "id": "5bd3f291",
   "metadata": {},
   "source": [
    "<!-- END QUESTION -->\n",
    "\n",
    "**Question 1.5.** Create a function called `parameter_estimates` that takes in the argument `tbl`, a two-column table where the first column is the x-axis and the second column is the y-axis. It should return an array with three elements: the **(1) correlation coefficient** of the two columns and the **(2) slope** and **(3) intercept** of the regression line that predicts the second column from the first, in original units. **(5 points)**\n",
    "\n",
    "*Hint:* This is a rare occasion where it’s better to implement the function using column indices instead of column names, in order to be able to call this function on any table. If you need a reminder about how to use column indices to pull out individual columns, please refer to [this](https://www.inferentialthinking.com/chapters/06/Tables.html#accessing-the-data-in-a-column) section of the textbook.\n"
   ]
  },
  {
   "cell_type": "code",
   "execution_count": null,
   "id": "ee2843c1",
   "metadata": {
    "ExecuteTime": {
     "end_time": "2018-04-03T22:42:28.451495Z",
     "start_time": "2018-04-03T22:42:28.441469Z"
    },
    "execution": {
     "iopub.execute_input": "2022-04-07T03:32:59.339558Z",
     "iopub.status.busy": "2022-04-07T03:32:59.339319Z",
     "iopub.status.idle": "2022-04-07T03:32:59.346558Z",
     "shell.execute_reply": "2022-04-07T03:32:59.345782Z"
    },
    "for_assignment_type": "solution",
    "tags": []
   },
   "outputs": [],
   "source": [
    "def parameter_estimates(tbl):\n",
    "    ...\n",
    "    return make_array(r, slope, intercept)\n",
    "\n",
    "parameters = parameter_estimates(jumps) \n",
    "print('r:', parameters.item(0), '; slope:', parameters.item(1), '; intercept:', parameters.item(2))"
   ]
  },
  {
   "cell_type": "code",
   "execution_count": null,
   "id": "f761359e",
   "metadata": {
    "deletable": false,
    "editable": false
   },
   "outputs": [],
   "source": [
    "grader.check(\"q1_5\")"
   ]
  },
  {
   "attachments": {},
   "cell_type": "markdown",
   "id": "a62cbe5e",
   "metadata": {},
   "source": [
    "**Question 1.6.** Now suppose you want to go the other way and predict a triple jump distance given a vertical jump distance. What would the regression parameters of this linear model be? How do they compare to the regression parameters from the model where you were predicting vertical jump distance given a triple jump distance (in Question 1.5)? **(5 points)**\n",
    "\n",
    "Set `regression_changes` to an array of 3 elements, with each element corresponding to whether or not the corresponding item returned by `parameter_estimates` changes when switching vertical and triple as $x$ and $y$. For example, if $r$ changes, the slope changes, but the intercept wouldn't change, the `regression_changes` would be assigned to `make_array(True, True, False)`.\n"
   ]
  },
  {
   "cell_type": "code",
   "execution_count": null,
   "id": "15abc80d",
   "metadata": {
    "execution": {
     "iopub.execute_input": "2022-04-07T03:32:59.385990Z",
     "iopub.status.busy": "2022-04-07T03:32:59.385315Z",
     "iopub.status.idle": "2022-04-07T03:32:59.391551Z",
     "shell.execute_reply": "2022-04-07T03:32:59.390884Z"
    },
    "tags": []
   },
   "outputs": [],
   "source": [
    "regression_changes = ...\n",
    "regression_changes"
   ]
  },
  {
   "cell_type": "code",
   "execution_count": null,
   "id": "dcae2993",
   "metadata": {
    "deletable": false,
    "editable": false
   },
   "outputs": [],
   "source": [
    "grader.check(\"q1_6\")"
   ]
  },
  {
   "attachments": {},
   "cell_type": "markdown",
   "id": "4067e877",
   "metadata": {},
   "source": [
    "**Question 1.7.** Let's use `parameters` (from Question 1.5) to predict what certain athletes' vertical jump heights would be given their triple jump distances. **(5 points)**\n",
    "\n",
    "The world record for the triple jump distance is 18.29 *meters* by Johnathan Edwards. What is the prediction for Edwards' vertical jump using this line?\n",
    "\n",
    "*Hint:* Make sure to convert from meters to centimeters!\n"
   ]
  },
  {
   "cell_type": "code",
   "execution_count": null,
   "id": "1a12bf76",
   "metadata": {
    "deletable": false,
    "execution": {
     "iopub.execute_input": "2022-04-07T03:32:59.451738Z",
     "iopub.status.busy": "2022-04-07T03:32:59.451227Z",
     "iopub.status.idle": "2022-04-07T03:32:59.455759Z",
     "shell.execute_reply": "2022-04-07T03:32:59.454937Z"
    },
    "tags": []
   },
   "outputs": [],
   "source": [
    "triple_record_vert_est = ...\n",
    "print(\"Predicted vertical jump distance: {:f} centimeters\".format(triple_record_vert_est))"
   ]
  },
  {
   "cell_type": "code",
   "execution_count": null,
   "id": "b50bc648",
   "metadata": {
    "deletable": false,
    "editable": false
   },
   "outputs": [],
   "source": [
    "grader.check(\"q1_7\")"
   ]
  },
  {
   "attachments": {},
   "cell_type": "markdown",
   "id": "a707745c",
   "metadata": {},
   "source": [
    "<!-- BEGIN QUESTION -->\n",
    "\n",
    "**Question 1.8.** Do you think it makes sense to use this line to predict Edwards' vertical jump? **(5 points)**\n",
    "\n",
    "*Hint:* Compare Edwards' triple jump distance to the triple jump distances in `jumps`. Is it relatively similar to the rest of the data (shown in Question 1.3)? \n"
   ]
  },
  {
   "cell_type": "markdown",
   "id": "1a1e83a4",
   "metadata": {},
   "source": [
    "_Type your answer here, replacing this text._"
   ]
  },
  {
   "attachments": {},
   "cell_type": "markdown",
   "id": "13d6cb76",
   "metadata": {},
   "source": [
    "<!-- END QUESTION -->\n",
    "\n",
    "## 2. Relative Sea Level Rise"
   ]
  },
  {
   "attachments": {},
   "cell_type": "markdown",
   "id": "39d6203c",
   "metadata": {},
   "source": [
    "#### Global Mean Sea Level\n",
    "\n",
    "Humans are altering Earth's climate by increasing the amount of heat-trapping greenhouse gases in the atmosphere. Atmospheric carbon dioxide (the most commonly emitted greenhouse gas) has reached 400 parts per million, a level unseen on earth in the last 800,000 years. Most of the additional heat that is being trapped is being absorbed by the oceans. As the water warms up, it expands, takes up more space, and causes sea levels to rise. Additionally, melting land ice (especially on Greenland and Antarctica) is adding mass to the ocean, further raising **global mean sea level**(GMSL)."
   ]
  },
  {
   "attachments": {},
   "cell_type": "markdown",
   "id": "d6396ec2",
   "metadata": {},
   "source": [
    "<!-- BEGIN QUESTION -->\n",
    "\n",
    "**Question 2.1.** Based on the description above, what are the two main ways that climate change increases global mean sea level? **(2 points)**"
   ]
  },
  {
   "cell_type": "markdown",
   "id": "23d2a8b6",
   "metadata": {},
   "source": [
    "_Type your answer here, replacing this text._"
   ]
  },
  {
   "attachments": {},
   "cell_type": "markdown",
   "id": "5837f319",
   "metadata": {
    "ExecuteTime": {
     "end_time": "2018-04-04T09:57:46.445990Z",
     "start_time": "2018-04-04T09:57:46.433958Z"
    },
    "execution": {
     "iopub.execute_input": "2022-04-07T03:32:59.497379Z",
     "iopub.status.busy": "2022-04-07T03:32:59.497125Z",
     "iopub.status.idle": "2022-04-07T03:32:59.509256Z",
     "shell.execute_reply": "2022-04-07T03:32:59.508571Z"
    }
   },
   "source": [
    "<!-- END QUESTION -->\n",
    "\n",
    "#### Relative Sea Level\n",
    "\n",
    "Each coastal location will experience sea level rise differently due to local and regional factors. One of these factors is the rising or sinking of land due to plate tectonics, called **vertical land motion** (VLM). If the land is sinking at a coastal location AND the ocean in the region is rising, then the locals might be very worried. If instead the land is rising faster than the ocean is rising, then the locals might feel as if the ocean is receeding. We can account for this effect by using **relative sea level** (RSL), where we observe water levels relative to a land based reference frame. "
   ]
  },
  {
   "attachments": {},
   "cell_type": "markdown",
   "id": "db6bd35c",
   "metadata": {},
   "source": [
    "#### Relative Sea Level in Northern California\n",
    "\n",
    "Let's take a look at relative sea level data from two different tide gauge locations along our coast to see how this plays out..."
   ]
  },
  {
   "cell_type": "code",
   "execution_count": null,
   "id": "27b85eae",
   "metadata": {
    "ExecuteTime": {
     "end_time": "2018-04-04T09:57:46.458022Z",
     "start_time": "2018-04-04T09:57:46.446994Z"
    },
    "execution": {
     "iopub.execute_input": "2022-04-07T03:32:59.537757Z",
     "iopub.status.busy": "2022-04-07T03:32:59.537335Z",
     "iopub.status.idle": "2022-04-07T03:32:59.549030Z",
     "shell.execute_reply": "2022-04-07T03:32:59.548288Z"
    }
   },
   "outputs": [],
   "source": [
    "stations = Table.read_table(\"NorCalSLRmeta.csv\")\n",
    "\n",
    "Marker.map_table(stations.select('lat', 'lon', 'station_name').relabel('station_name', 'labels'))"
   ]
  },
  {
   "attachments": {},
   "cell_type": "markdown",
   "id": "37794297",
   "metadata": {},
   "source": [
    "Zoom out on the map until you see both blue markers. Click on each marker to see the labels for the tide gauge stations. "
   ]
  },
  {
   "attachments": {},
   "cell_type": "markdown",
   "id": "98ca838e",
   "metadata": {},
   "source": [
    "<!-- BEGIN QUESTION -->\n",
    "\n",
    "**Question 2.2.** What is the name of the tide gauge station that is closest to Cal Poly Humboldt? **(1 point)**"
   ]
  },
  {
   "cell_type": "markdown",
   "id": "a8f16da3",
   "metadata": {},
   "source": [
    "_Type your answer here, replacing this text._"
   ]
  },
  {
   "attachments": {},
   "cell_type": "markdown",
   "id": "3ab46c64",
   "metadata": {},
   "source": [
    "<!-- END QUESTION -->\n",
    "\n",
    "Now let's look at the data from these stations. The data is in meters and is an average of the water levels for each month. Additionally, regular seasonal fluctuations have been removed."
   ]
  },
  {
   "cell_type": "code",
   "execution_count": null,
   "id": "a13948c7",
   "metadata": {},
   "outputs": [],
   "source": [
    "rsl = Table.read_table(\"NorCalSLR.csv\")\n",
    "rsl"
   ]
  },
  {
   "attachments": {},
   "cell_type": "markdown",
   "id": "104d459d",
   "metadata": {},
   "source": [
    "Here is a plot of both stations:"
   ]
  },
  {
   "cell_type": "code",
   "execution_count": null,
   "id": "ca56c21e",
   "metadata": {
    "deletable": false,
    "execution": {
     "iopub.execute_input": "2022-04-07T03:32:59.552465Z",
     "iopub.status.busy": "2022-04-07T03:32:59.551829Z",
     "iopub.status.idle": "2022-04-07T03:32:59.841018Z",
     "shell.execute_reply": "2022-04-07T03:32:59.840150Z"
    },
    "for_assignment_type": "student"
   },
   "outputs": [],
   "source": [
    "rsl.plot(\"months since December 1979\",[\"North Spit\", \"Crescent City\"])\n",
    "plt.title('Monthly Avg RSL (Seasonal Cycle Removed) ')\n",
    "plt.ylabel('RSL [meters]')"
   ]
  },
  {
   "attachments": {},
   "cell_type": "markdown",
   "id": "bbb5c9af",
   "metadata": {},
   "source": [
    "Let's take a closer look at each of these stations, one by one."
   ]
  },
  {
   "attachments": {},
   "cell_type": "markdown",
   "id": "2c0baa23",
   "metadata": {},
   "source": [
    "## 3. Sea Level Rise at North Spit"
   ]
  },
  {
   "attachments": {},
   "cell_type": "markdown",
   "id": "a224fe56",
   "metadata": {},
   "source": [
    "**Question 3.1.** Use the function `parameter_estimates` that you defined earlier to compute the least-squares linear regression line that predicts relative sea level (RSL) at *North Spit* based on the month, in original units. We have provided a two column table for you in the cell below with the first column representing the months (x) and the second column representing observed RSL at North Spit (y), which you should use as an argument to the function. Use the output from the `parameter_estimates` function to find the slope (`rsl_ns_slope`) and intercept (`rsl_ns_intercept`) of the regression line. **(2 points)**"
   ]
  },
  {
   "cell_type": "code",
   "execution_count": null,
   "id": "5102a933",
   "metadata": {
    "tags": []
   },
   "outputs": [],
   "source": [
    "rsl_ns_tbl = rsl.select('months since December 1979', 'North Spit').relabeled('North Spit','Observed')\n",
    "estimates = ...\n",
    "rsl_ns_slope = ...\n",
    "rsl_ns_intercept = ...\n",
    "print(\"Slope:\", round(rsl_ns_slope, 5))\n",
    "print(\"Intercept\", round(rsl_ns_intercept, 5))"
   ]
  },
  {
   "cell_type": "code",
   "execution_count": null,
   "id": "8be030d4",
   "metadata": {
    "deletable": false,
    "editable": false
   },
   "outputs": [],
   "source": [
    "grader.check(\"q3_1\")"
   ]
  },
  {
   "attachments": {},
   "cell_type": "markdown",
   "id": "3a6b9283",
   "metadata": {},
   "source": [
    "**Question 3.2.** Convert the slope for North Spit from *meters per month* **to** *millimeters per year* (which are the units typically used to document sea level rise) (**1 point**)"
   ]
  },
  {
   "cell_type": "code",
   "execution_count": null,
   "id": "4cbb8260",
   "metadata": {
    "tags": []
   },
   "outputs": [],
   "source": [
    "rsl_ns_slope_mm_per_year = ...\n",
    "print(\"Sea Level Rise [mm/year] at North Spit:\", round(rsl_ns_slope_mm_per_year,2))"
   ]
  },
  {
   "attachments": {},
   "cell_type": "markdown",
   "id": "718628e9",
   "metadata": {},
   "source": [
    "This number is the *relative sea level **rise*** estimate for *North Spit*. Wigi, as named by the Wiyot people, is also known as Humboldt Bay. As you can see from the map we made above, the North Spit tide gauge is located in Wigi. **Wigi is experiencing one of the fastest rates of relative sea level rise on the West Coast!** This is mostly due to the sinking (subsidence) of the tectonic plate here!"
   ]
  },
  {
   "attachments": {},
   "cell_type": "markdown",
   "id": "0952e04b",
   "metadata": {},
   "source": [
    "**Question 3.3.** Write a function `linear_model` which has three inputs: a dependent variable array (x), slope value, and intercept value. It should output an array of independent values (y) for each dependent value. (**2 points**)"
   ]
  },
  {
   "cell_type": "code",
   "execution_count": null,
   "id": "4e9828db",
   "metadata": {
    "tags": []
   },
   "outputs": [],
   "source": [
    "def linear_model(x,slope,intercept):\n",
    "    ..."
   ]
  },
  {
   "cell_type": "code",
   "execution_count": null,
   "id": "c5e337d0",
   "metadata": {
    "deletable": false,
    "editable": false
   },
   "outputs": [],
   "source": [
    "grader.check(\"q3_3\")"
   ]
  },
  {
   "attachments": {},
   "cell_type": "markdown",
   "id": "336eeb91",
   "metadata": {},
   "source": [
    "**Question 3.4.** Write a function `linear_fit` which takes the table that consists of an independent variable and a dependent variable as input (for example your `rsl_ns_tbl` should work). The function should use the first column of the table to predict the second column of the table using the linear regression model. For `rsl_ns_tbl` for example, it should output a prediction that is an array of numbers associated with each month in the table. Again, it will be helpful to use the functions `parameter_estimates` and `linear_model` that you defined earlier in this homework. **(5 points)**\n",
    "\n",
    "*Note:* Make sure that your `linear_fit` function is using least squares linear regression."
   ]
  },
  {
   "cell_type": "code",
   "execution_count": null,
   "id": "2afcfdc4",
   "metadata": {
    "tags": []
   },
   "outputs": [],
   "source": [
    "def linear_fit(tbl):\n",
    "    parameters = ...\n",
    "    slope = ...\n",
    "    intercept = ...\n",
    "    ..."
   ]
  },
  {
   "cell_type": "code",
   "execution_count": null,
   "id": "60b899ed",
   "metadata": {
    "deletable": false,
    "editable": false
   },
   "outputs": [],
   "source": [
    "grader.check(\"q3_4\")"
   ]
  },
  {
   "attachments": {},
   "cell_type": "markdown",
   "id": "8edf8bf5",
   "metadata": {},
   "source": [
    "<!-- BEGIN QUESTION -->\n",
    "\n",
    "**Question 3.5.** Now, using the `linear_fit` function you just defined, make a plot with \"months since December 1979\" along the x-axis and both real and modeled relative sea level along the y-axis. The color of the lines for the real sea level should be different from the color for the predicted sea level. Make sure to label your axes and note your units. (5 points)\n",
    "\n",
    "*Hint 1*: An example of a line plot can be found above.\n",
    "\n",
    "*Hint 2*: Think about the table that must be used to generate this line plot. What data should the columns represent? Based on the data that you need, how many columns should be present in this table? Also, what should each row represent? Constructing the table will be the main part of this question; once you have this table, generating the line plot should be more straightforward."
   ]
  },
  {
   "cell_type": "code",
   "execution_count": null,
   "id": "5db70d57",
   "metadata": {
    "tags": []
   },
   "outputs": [],
   "source": [
    "# BEGIN SOLUION\n",
    "rsl_ns_tbl = rsl_ns_tbl.with_column(\"Linear Fit\", linear_fit(rsl_ns_tbl)) \n",
    "rsl_ns_tbl.plot('months since December 1979',[\"Observed\",\"Linear Fit\"]) \n",
    "plt.title('Monthly Average RSL at North Spit (Seasonal Removed)')\n",
    "plt.ylabel('RSL [meters]')\n",
    "#END SOLUTION"
   ]
  },
  {
   "attachments": {},
   "cell_type": "markdown",
   "id": "604d7e22",
   "metadata": {},
   "source": [
    "<!-- END QUESTION -->\n",
    "\n",
    "**Question 3.6.** Add another column to `rsl_ns_tbl` called \"Fit Residual\" with values of the sea level Observations minus the Linear Fit prdictions at North Spit. We will look at this residual in a later section of the activity. **(1 point)**"
   ]
  },
  {
   "cell_type": "code",
   "execution_count": null,
   "id": "552e1cdd",
   "metadata": {
    "tags": []
   },
   "outputs": [],
   "source": [
    "rsl_ns_tbl = ...\n",
    "rsl_ns_tbl"
   ]
  },
  {
   "attachments": {},
   "cell_type": "markdown",
   "id": "dcfa80c6",
   "metadata": {},
   "source": [
    "**Question 3.7.** Next create another function called `linear_predictor` that can predict values outside of the domain of the observations. (For example, what if we wanted to know what the sea levels will be in 2100?) This function will be very similar to the linear_fit function you just created but the input and output will change. You will still need to input a table consisting of independent and dependent values, but you will need one additional input representing the new independent value where you want a prediction. There will still be one output variable but it will provide linearly predicted values for the new indepedent values that were input. **(5 points)**"
   ]
  },
  {
   "cell_type": "code",
   "execution_count": null,
   "id": "2551ec03",
   "metadata": {
    "tags": []
   },
   "outputs": [],
   "source": [
    "def linear_predictor(tbl,x):\n",
    "    parameters = ...\n",
    "    slope = ...\n",
    "    intercept = ...\n",
    "    ..."
   ]
  },
  {
   "cell_type": "code",
   "execution_count": null,
   "id": "3f46f3c1",
   "metadata": {
    "deletable": false,
    "editable": false
   },
   "outputs": [],
   "source": [
    "grader.check(\"q3_7\")"
   ]
  },
  {
   "attachments": {},
   "cell_type": "markdown",
   "id": "bb3f1333",
   "metadata": {},
   "source": [
    "**Question 3.8.** Now use your `linear_predictor` function to estimate relative sea level at North Spit in meters for the year 2100 (which is 1453 months after December 1979.) **(1 point)**"
   ]
  },
  {
   "cell_type": "code",
   "execution_count": null,
   "id": "9835ffec",
   "metadata": {
    "tags": []
   },
   "outputs": [],
   "source": [
    "..."
   ]
  },
  {
   "attachments": {},
   "cell_type": "markdown",
   "id": "21a66b5e",
   "metadata": {},
   "source": [
    "Here are some official estimates of how sea level is projected to change in the future at *North Spit*, where each color represents a different green house gas emissions scenario. *Note that sea level is shown in meters on the right*\n",
    "\n",
    "<img src=\"NorthSpitSLRprojection.jpg\" alt=\"drawing\" width=\"1000\"/>\n",
    "\n",
    "You can find more info on these projections [here](https://oceanservice.noaa.gov/hazards/sealevelrise/sealevelrise-tech-report-sections.html)."
   ]
  },
  {
   "attachments": {},
   "cell_type": "markdown",
   "id": "c42f6943",
   "metadata": {},
   "source": [
    "<!-- BEGIN QUESTION -->\n",
    "\n",
    "**Question 3.9.** Based on your estimate for 2100 and also the shape of these prediction curves, do you think your linear model is reasonable for North Spit? Why or why not? **(5 points)**"
   ]
  },
  {
   "cell_type": "markdown",
   "id": "5437e6ff",
   "metadata": {},
   "source": [
    "_Type your answer here, replacing this text._"
   ]
  },
  {
   "attachments": {},
   "cell_type": "markdown",
   "id": "c85c4007",
   "metadata": {},
   "source": [
    "<!-- END QUESTION -->\n",
    "\n",
    "## 4. Sea Level Rise at Crescent City\n",
    "\n",
    "Now let's do something similar for *Crescent City*. First let's make a new table that just has the Crescent City data alongside each month."
   ]
  },
  {
   "cell_type": "code",
   "execution_count": null,
   "id": "b783aa0d",
   "metadata": {},
   "outputs": [],
   "source": [
    "rsl_cc_tbl = rsl.select('months since December 1979', 'Crescent City').relabeled('Crescent City','Observed')\n",
    "rsl_cc_tbl"
   ]
  },
  {
   "attachments": {},
   "cell_type": "markdown",
   "id": "35c0a7a9",
   "metadata": {},
   "source": [
    "Again we will use linear regression to estimate sea level rise here. However, this time we will program our linear regression a slightly different way. Recall that the least-squares regression line is the unique straight line that minimizes root mean squared error (RMSE) among all possible fit lines. Using this property, we can find the equation of the regression line by finding the pair of slope and intercept values that minimize root mean squared error. "
   ]
  },
  {
   "attachments": {},
   "cell_type": "markdown",
   "id": "916697df",
   "metadata": {},
   "source": [
    "You're done with Homework 10!  \n",
    "\n",
    "**Important submission steps:** \n",
    "1. Run the tests and verify that they all pass.\n",
    "2. Choose **Save Notebook** from the **File** menu, then **run the final cell**. \n",
    "3. Click the link to download the zip file.\n",
    "4. Then submit the zip file to the corresponding assignment according to your instructor's directions. \n",
    "\n",
    "**It is your responsibility to make sure your work is saved before running the last cell.**"
   ]
  },
  {
   "cell_type": "markdown",
   "id": "7a67d2a5",
   "metadata": {
    "deletable": false,
    "editable": false
   },
   "source": [
    "## Submission\n",
    "\n",
    "Make sure you have run all cells in your notebook in order before running the cell below, so that all images/graphs appear in the output. The cell below will generate a zip file for you to submit. **Please save before exporting!**"
   ]
  },
  {
   "cell_type": "code",
   "execution_count": null,
   "id": "c94381f4",
   "metadata": {
    "deletable": false,
    "editable": false
   },
   "outputs": [],
   "source": [
    "# Save your notebook first, then run this cell to export your submission.\n",
    "grader.export(pdf=False, run_tests=True)"
   ]
  },
  {
   "cell_type": "markdown",
   "id": "a4c33365",
   "metadata": {},
   "source": [
    " "
   ]
  }
 ],
 "metadata": {
  "kernelspec": {
   "display_name": "Python 3 (ipykernel)",
   "language": "python",
   "name": "python3"
  },
  "language_info": {
   "codemirror_mode": {
    "name": "ipython",
    "version": 3
   },
   "file_extension": ".py",
   "mimetype": "text/x-python",
   "name": "python",
   "nbconvert_exporter": "python",
   "pygments_lexer": "ipython3",
   "version": "3.10.9"
  },
  "otter": {
   "OK_FORMAT": true,
   "tests": {
    "q1_1": {
     "name": "q1_1",
     "points": [
      0,
      0,
      0
     ],
     "suites": [
      {
       "cases": [
        {
         "code": ">>> standard_units([1,2,3,4,5])\narray([-1.41421356, -0.70710678,  0.        ,  0.70710678,  1.41421356])",
         "hidden": false,
         "locked": false
        },
        {
         "code": ">>> np.isclose(np.mean(standard_units([1,2,3,4,5])), 0)\nTrue",
         "hidden": false,
         "locked": false
        },
        {
         "code": ">>> np.isclose(np.std(standard_units([1,2,3,4,5])), 0.9999999999999999)\nTrue",
         "hidden": false,
         "locked": false
        }
       ],
       "scored": true,
       "setup": "",
       "teardown": "",
       "type": "doctest"
      }
     ]
    },
    "q1_2": {
     "name": "q1_2",
     "points": [
      0
     ],
     "suites": [
      {
       "cases": [
        {
         "code": ">>> np.isclose(correlation([1,2,3], [4,5,6]), 0.9999999999999999)\nTrue",
         "hidden": false,
         "locked": false
        }
       ],
       "scored": true,
       "setup": "",
       "teardown": "",
       "type": "doctest"
      }
     ]
    },
    "q1_5": {
     "name": "q1_5",
     "points": [
      0,
      0,
      0
     ],
     "suites": [
      {
       "cases": [
        {
         "code": ">>> len(parameters) == 3\nTrue",
         "hidden": false,
         "locked": false
        },
        {
         "code": ">>> # Make sure your function is returning an array!\n>>> type(parameters) == np.ndarray\nTrue",
         "hidden": false,
         "locked": false
        },
        {
         "code": ">>> np.isclose(parameters.item(0), 0.8343076972837598)\nTrue",
         "hidden": false,
         "locked": false
        }
       ],
       "scored": true,
       "setup": "",
       "teardown": "",
       "type": "doctest"
      }
     ]
    },
    "q1_6": {
     "name": "q1_6",
     "points": [
      0,
      0
     ],
     "suites": [
      {
       "cases": [
        {
         "code": ">>> # Make sure regression_changes is a numpy array with 3 items!\n>>> len(regression_changes) == 3 and type(regression_changes) == np.ndarray\nTrue",
         "hidden": false,
         "locked": false
        },
        {
         "code": ">>> regression_changes.item(0) in set([0, 1, False, True])\nTrue",
         "hidden": false,
         "locked": false
        }
       ],
       "scored": true,
       "setup": "",
       "teardown": "",
       "type": "doctest"
      }
     ]
    },
    "q1_7": {
     "name": "q1_7",
     "points": [
      0
     ],
     "suites": [
      {
       "cases": [
        {
         "code": ">>> 100 <= triple_record_vert_est <= 200\nTrue",
         "hidden": false,
         "locked": false
        }
       ],
       "scored": true,
       "setup": "",
       "teardown": "",
       "type": "doctest"
      }
     ]
    },
    "q3_1": {
     "name": "q3_1",
     "points": [
      0,
      0
     ],
     "suites": [
      {
       "cases": [
        {
         "code": ">>> 0 <= rsl_ns_slope < 1\nTrue",
         "hidden": false,
         "locked": false
        },
        {
         "code": ">>> rsl_ns_intercept < 0\nTrue",
         "hidden": false,
         "locked": false
        }
       ],
       "scored": true,
       "setup": "",
       "teardown": "",
       "type": "doctest"
      }
     ]
    },
    "q3_2": {
     "name": "q3_2",
     "points": [],
     "suites": [
      {
       "cases": [],
       "scored": true,
       "setup": "",
       "teardown": "",
       "type": "doctest"
      }
     ]
    },
    "q3_3": {
     "name": "q3_3",
     "points": [
      0
     ],
     "suites": [
      {
       "cases": [
        {
         "code": ">>> np.isclose(linear_model(0,0,0),0) \nTrue",
         "hidden": false,
         "locked": false
        }
       ],
       "scored": true,
       "setup": "",
       "teardown": "",
       "type": "doctest"
      }
     ]
    },
    "q3_4": {
     "name": "q3_4",
     "points": [
      0
     ],
     "suites": [
      {
       "cases": [
        {
         "code": ">>> np.allclose(linear_fit(Table().with_column('x',np.array([1,2])).with_column('y',np.array([1,2]))),[1, 2])\nTrue",
         "hidden": false,
         "locked": false
        }
       ],
       "scored": true,
       "setup": "",
       "teardown": "",
       "type": "doctest"
      }
     ]
    },
    "q3_6": {
     "name": "q3_6",
     "points": [],
     "suites": [
      {
       "cases": [],
       "scored": true,
       "setup": "",
       "teardown": "",
       "type": "doctest"
      }
     ]
    },
    "q3_7": {
     "name": "q3_7",
     "points": [
      0
     ],
     "suites": [
      {
       "cases": [
        {
         "code": ">>> np.isclose(linear_predictor(Table().with_column('x',np.array([1,2])).with_column('y',np.array([1,2])),3),3)\nTrue",
         "hidden": false,
         "locked": false
        }
       ],
       "scored": true,
       "setup": "",
       "teardown": "",
       "type": "doctest"
      }
     ]
    },
    "q3_8": {
     "name": "q3_8",
     "points": [],
     "suites": [
      {
       "cases": [],
       "scored": true,
       "setup": "",
       "teardown": "",
       "type": "doctest"
      }
     ]
    }
   }
  }
 },
 "nbformat": 4,
 "nbformat_minor": 5
}
