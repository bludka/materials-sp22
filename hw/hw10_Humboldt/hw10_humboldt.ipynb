{
 "cells": [
  {
   "cell_type": "code",
   "execution_count": null,
   "id": "ce389f41",
   "metadata": {
    "deletable": false,
    "editable": false
   },
   "outputs": [],
   "source": [
    "# Initialize Otter\n",
    "import otter\n",
    "grader = otter.Notebook(\"hw10_Humboldt.ipynb\")"
   ]
  },
  {
   "cell_type": "markdown",
   "id": "f5140870",
   "metadata": {},
   "source": [
    "# Homework 10: Linear Regression"
   ]
  },
  {
   "cell_type": "markdown",
   "id": "88bbf24a",
   "metadata": {},
   "source": [
    "**Helpful Resource:**\n",
    "\n",
    "- [Python Reference](http://data8.org/sp22/python-reference.html): Cheat sheet of helpful array & table methods used in Data 111!\n",
    "\n",
    "**Recommended Readings**: \n",
    "\n",
    "* [The Regression Line](https://www.inferentialthinking.com/chapters/15/2/Regression_Line.html)\n",
    "* [Method of Least Squares](https://www.inferentialthinking.com/chapters/15/3/Method_of_Least_Squares.html)\n",
    "* [Least Squares Regression](https://www.inferentialthinking.com/chapters/15/4/Least_Squares_Regression.html)"
   ]
  },
  {
   "cell_type": "markdown",
   "id": "9d52463f",
   "metadata": {},
   "source": [
    "Please complete this notebook by filling in the cells provided. Before you begin, execute the following cell to setup the notebook by importing some helpful libraries. Each time you start your server, you will need to execute this cell again.\n",
    "\n",
    "For all problems that you must write explanations and sentences for, you **must** provide your answer in the designated space. **Moreover, throughout this homework and all future ones, please be sure to not re-assign variables throughout the notebook!** For example, if you use `max_temperature` in your answer to one question, do not reassign it later on. Otherwise, you will fail tests that you thought you were passing previously!\n",
    "\n",
    "\n",
    "**Note: This homework has hidden tests on it. That means even though the tests may say 100% passed, it doesn't mean your final grade will be 100%. We will be running more tests for correctness once everyone turns in the homework.**\n",
    "\n",
    "\n",
    "Directly sharing answers is not okay, but discussing problems with the course staff or with other students is encouraged. \n",
    "\n",
    "You should start early so that you have time to get help if you're stuck."
   ]
  },
  {
   "cell_type": "code",
   "execution_count": null,
   "id": "e631e25a",
   "metadata": {
    "execution": {
     "iopub.execute_input": "2022-04-07T03:32:57.413696Z",
     "iopub.status.busy": "2022-04-07T03:32:57.413416Z",
     "iopub.status.idle": "2022-04-07T03:32:58.917362Z",
     "shell.execute_reply": "2022-04-07T03:32:58.916637Z"
    }
   },
   "outputs": [],
   "source": [
    "# Run this cell to set up the notebook, but please don't change it.\n",
    "\n",
    "import numpy as np\n",
    "from datascience import *\n",
    "\n",
    "# These lines do some fancy plotting magic.\n",
    "import matplotlib\n",
    "%matplotlib inline\n",
    "import matplotlib.pyplot as plt\n",
    "plt.style.use('fivethirtyeight')\n",
    "import warnings\n",
    "warnings.simplefilter('ignore', FutureWarning)\n",
    "from datetime import datetime"
   ]
  },
  {
   "cell_type": "markdown",
   "id": "0e1e5d64",
   "metadata": {},
   "source": [
    "## 1. Triple Jump Distances vs. Vertical Jump Heights "
   ]
  },
  {
   "cell_type": "markdown",
   "id": "63e95a09",
   "metadata": {},
   "source": [
    "Does skill in one sport imply skill in a related sport?  The answer might be different for different activities. Let's find out whether it's true for the [triple jump](https://en.wikipedia.org/wiki/Triple_jump) (a horizontal jump similar to a long jump) and the [vertical jump](https://en.wikipedia.org/wiki/Vertical_jump).  Since we're learning about linear regression, we will look specifically for a *linear* association between skill level in the two sports.\n",
    "\n",
    "The following data was collected by observing 40 collegiate-level soccer players. Each athlete's distances in both events were measured in centimeters. Run the cell below to load the data."
   ]
  },
  {
   "cell_type": "code",
   "execution_count": null,
   "id": "da20e015",
   "metadata": {
    "ExecuteTime": {
     "end_time": "2018-04-03T22:42:22.463984Z",
     "start_time": "2018-04-03T22:42:22.455963Z"
    },
    "execution": {
     "iopub.execute_input": "2022-04-07T03:32:58.921192Z",
     "iopub.status.busy": "2022-04-07T03:32:58.920972Z",
     "iopub.status.idle": "2022-04-07T03:32:58.953207Z",
     "shell.execute_reply": "2022-04-07T03:32:58.952354Z"
    }
   },
   "outputs": [],
   "source": [
    "# Run this cell to load the data\n",
    "jumps = Table.read_table('triple_vertical.csv')\n",
    "jumps"
   ]
  },
  {
   "cell_type": "markdown",
   "id": "7081f2be",
   "metadata": {},
   "source": [
    "**Question 1.1.** Create a function `standard_units` that converts the values in the array `data` to standard units. **(5 points)**\n"
   ]
  },
  {
   "cell_type": "code",
   "execution_count": null,
   "id": "1f8d3a3a",
   "metadata": {
    "execution": {
     "iopub.execute_input": "2022-04-07T03:32:58.956818Z",
     "iopub.status.busy": "2022-04-07T03:32:58.956278Z",
     "iopub.status.idle": "2022-04-07T03:32:58.960645Z",
     "shell.execute_reply": "2022-04-07T03:32:58.959860Z"
    },
    "tags": []
   },
   "outputs": [],
   "source": [
    "def standard_units(data):\n",
    "    ..."
   ]
  },
  {
   "cell_type": "code",
   "execution_count": null,
   "id": "b6b5ffa5",
   "metadata": {
    "deletable": false,
    "editable": false
   },
   "outputs": [],
   "source": [
    "grader.check(\"q1_1\")"
   ]
  },
  {
   "cell_type": "markdown",
   "id": "4d71ec92",
   "metadata": {},
   "source": [
    "**Question 1.2.** Now, using the `standard_units` function, define the function `correlation` which computes the correlation between `x` and `y`. **(5 points)**\n"
   ]
  },
  {
   "cell_type": "code",
   "execution_count": null,
   "id": "565dbd3d",
   "metadata": {
    "execution": {
     "iopub.execute_input": "2022-04-07T03:32:58.998339Z",
     "iopub.status.busy": "2022-04-07T03:32:58.997687Z",
     "iopub.status.idle": "2022-04-07T03:32:59.001531Z",
     "shell.execute_reply": "2022-04-07T03:32:59.000809Z"
    },
    "tags": []
   },
   "outputs": [],
   "source": [
    "def correlation(x, y):\n",
    "    ..."
   ]
  },
  {
   "cell_type": "code",
   "execution_count": null,
   "id": "8e0346fa",
   "metadata": {
    "deletable": false,
    "editable": false
   },
   "outputs": [],
   "source": [
    "grader.check(\"q1_2\")"
   ]
  },
  {
   "cell_type": "markdown",
   "id": "ad992e95",
   "metadata": {},
   "source": [
    "<!-- BEGIN QUESTION -->\n",
    "\n",
    "**Question 1.3.** Before running a regression, it's important to see what the data looks like, because our eyes are good at picking out unusual patterns in data.  Draw a scatter plot, **that includes the regression line**, with the triple jump distances on the horizontal axis and the vertical jump heights on vertical axis. **(5 points)**\n",
    "\n",
    "See the documentation on `scatter` [here](http://data8.org/datascience/_autosummary/datascience.tables.Table.scatter.html#datascience.tables.Table.scatter) for instructions on how to have Python draw the regression line automatically.\n",
    "\n",
    "*Hint:* The `fit_line` argument may be useful here!\n"
   ]
  },
  {
   "cell_type": "code",
   "execution_count": null,
   "id": "b7df1838",
   "metadata": {
    "ExecuteTime": {
     "end_time": "2018-04-03T07:28:04.288689Z",
     "start_time": "2018-04-03T07:28:04.108660Z"
    },
    "deletable": false,
    "execution": {
     "iopub.execute_input": "2022-04-07T03:32:59.041336Z",
     "iopub.status.busy": "2022-04-07T03:32:59.041042Z",
     "iopub.status.idle": "2022-04-07T03:32:59.332567Z",
     "shell.execute_reply": "2022-04-07T03:32:59.331877Z"
    },
    "manual_problem_id": "jumping_1",
    "tags": []
   },
   "outputs": [],
   "source": [
    "..."
   ]
  },
  {
   "cell_type": "markdown",
   "id": "242454ed",
   "metadata": {},
   "source": [
    "<!-- END QUESTION -->\n",
    "\n",
    "<!-- BEGIN QUESTION -->\n",
    "\n",
    "**Question 1.4.** Does the correlation coefficient $r$ look closest to 0, .5, or -.5? Explain. **(5 points)**\n"
   ]
  },
  {
   "cell_type": "markdown",
   "id": "d3cea9ec",
   "metadata": {},
   "source": [
    "_Type your answer here, replacing this text._"
   ]
  },
  {
   "cell_type": "markdown",
   "id": "38314e98",
   "metadata": {},
   "source": [
    "<!-- END QUESTION -->\n",
    "\n",
    "**Question 1.5.** Create a function called `parameter_estimates` that takes in the argument `tbl`, a two-column table where the first column is the x-axis and the second column is the y-axis. It should return an array with three elements: the **(1) correlation coefficient** of the two columns and the **(2) slope** and **(3) intercept** of the regression line that predicts the second column from the first, in original units. **(5 points)**\n",
    "\n",
    "*Hint:* This is a rare occasion where it’s better to implement the function using column indices instead of column names, in order to be able to call this function on any table. If you need a reminder about how to use column indices to pull out individual columns, please refer to [this](https://www.inferentialthinking.com/chapters/06/Tables.html#accessing-the-data-in-a-column) section of the textbook.\n"
   ]
  },
  {
   "cell_type": "code",
   "execution_count": null,
   "id": "3a2e4b48",
   "metadata": {
    "ExecuteTime": {
     "end_time": "2018-04-03T22:42:28.451495Z",
     "start_time": "2018-04-03T22:42:28.441469Z"
    },
    "execution": {
     "iopub.execute_input": "2022-04-07T03:32:59.339558Z",
     "iopub.status.busy": "2022-04-07T03:32:59.339319Z",
     "iopub.status.idle": "2022-04-07T03:32:59.346558Z",
     "shell.execute_reply": "2022-04-07T03:32:59.345782Z"
    },
    "for_assignment_type": "solution",
    "tags": []
   },
   "outputs": [],
   "source": [
    "def parameter_estimates(tbl):\n",
    "    ...\n",
    "    return make_array(r, slope, intercept)\n",
    "\n",
    "parameters = parameter_estimates(jumps) \n",
    "print('r:', parameters.item(0), '; slope:', parameters.item(1), '; intercept:', parameters.item(2))"
   ]
  },
  {
   "cell_type": "code",
   "execution_count": null,
   "id": "3bf23acb",
   "metadata": {
    "deletable": false,
    "editable": false
   },
   "outputs": [],
   "source": [
    "grader.check(\"q1_5\")"
   ]
  },
  {
   "cell_type": "markdown",
   "id": "cc2fde78",
   "metadata": {},
   "source": [
    "**Question 1.6.** Now suppose you want to go the other way and predict a triple jump distance given a vertical jump distance. What would the regression parameters of this linear model be? How do they compare to the regression parameters from the model where you were predicting vertical jump distance given a triple jump distance (in Question 1.5)? **(5 points)**\n",
    "\n",
    "Set `regression_changes` to an array of 3 elements, with each element corresponding to whether or not the corresponding item returned by `parameter_estimates` changes when switching vertical and triple as $x$ and $y$. For example, if $r$ changes, the slope changes, but the intercept wouldn't change, the `regression_changes` would be assigned to `make_array(True, True, False)`.\n"
   ]
  },
  {
   "cell_type": "code",
   "execution_count": null,
   "id": "4a0fa967",
   "metadata": {
    "execution": {
     "iopub.execute_input": "2022-04-07T03:32:59.385990Z",
     "iopub.status.busy": "2022-04-07T03:32:59.385315Z",
     "iopub.status.idle": "2022-04-07T03:32:59.391551Z",
     "shell.execute_reply": "2022-04-07T03:32:59.390884Z"
    },
    "tags": []
   },
   "outputs": [],
   "source": [
    "regression_changes = ...\n",
    "regression_changes"
   ]
  },
  {
   "cell_type": "code",
   "execution_count": null,
   "id": "98cd22ae",
   "metadata": {
    "deletable": false,
    "editable": false
   },
   "outputs": [],
   "source": [
    "grader.check(\"q1_6\")"
   ]
  },
  {
   "cell_type": "markdown",
   "id": "44cabb2c",
   "metadata": {},
   "source": [
    "**Question 1.7.** Let's use `parameters` (from Question 1.5) to predict what certain athletes' vertical jump heights would be given their triple jump distances. **(5 points)**\n",
    "\n",
    "The world record for the triple jump distance is 18.29 *meters* by Johnathan Edwards. What is the prediction for Edwards' vertical jump using this line?\n",
    "\n",
    "*Hint:* Make sure to convert from meters to centimeters!\n"
   ]
  },
  {
   "cell_type": "code",
   "execution_count": null,
   "id": "9bd80116",
   "metadata": {
    "deletable": false,
    "execution": {
     "iopub.execute_input": "2022-04-07T03:32:59.451738Z",
     "iopub.status.busy": "2022-04-07T03:32:59.451227Z",
     "iopub.status.idle": "2022-04-07T03:32:59.455759Z",
     "shell.execute_reply": "2022-04-07T03:32:59.454937Z"
    },
    "tags": []
   },
   "outputs": [],
   "source": [
    "triple_record_vert_est = ...\n",
    "print(\"Predicted vertical jump distance: {:f} centimeters\".format(triple_record_vert_est))"
   ]
  },
  {
   "cell_type": "code",
   "execution_count": null,
   "id": "5819f2a9",
   "metadata": {
    "deletable": false,
    "editable": false
   },
   "outputs": [],
   "source": [
    "grader.check(\"q1_7\")"
   ]
  },
  {
   "cell_type": "markdown",
   "id": "cda5bff3",
   "metadata": {},
   "source": [
    "<!-- BEGIN QUESTION -->\n",
    "\n",
    "**Question 1.8.** Do you think it makes sense to use this line to predict Edwards' vertical jump? **(5 points)**\n",
    "\n",
    "*Hint:* Compare Edwards' triple jump distance to the triple jump distances in `jumps`. Is it relatively similar to the rest of the data (shown in Question 1.3)? \n"
   ]
  },
  {
   "cell_type": "markdown",
   "id": "053e02e1",
   "metadata": {},
   "source": [
    "_Type your answer here, replacing this text._"
   ]
  },
  {
   "cell_type": "markdown",
   "id": "4d637714",
   "metadata": {},
   "source": [
    "<!-- END QUESTION -->\n",
    "\n",
    "## 2. Relative Sea Level Rise"
   ]
  },
  {
   "cell_type": "markdown",
   "id": "508fd360",
   "metadata": {},
   "source": [
    "#### Global Mean Sea Level\n",
    "\n",
    "Humans are altering Earth's climate by increasing the amount of heat-trapping greenhouse gases in the atmosphere. Atmospheric carbon dioxide (the most commonly emitted greenhouse gas) has reached 400 parts per million, a level unseen on earth in the last 800,000 years. Most of the additional heat that is being trapped is being absorbed by the oceans. As the water warms up, it expands, takes up more space, and causes sea levels to rise. Additionally, melting land ice (especially on Greenland and Antarctica) is adding mass to the ocean, further raising **global mean sea level**(GMSL)."
   ]
  },
  {
   "cell_type": "markdown",
   "id": "109c9025",
   "metadata": {},
   "source": [
    "<!-- BEGIN QUESTION -->\n",
    "\n",
    "**Question 2.1.** Based on the description above, what are the two main ways that climate change increases global mean sea level? **(2 points)**"
   ]
  },
  {
   "cell_type": "markdown",
   "id": "b2327fcd",
   "metadata": {},
   "source": [
    "_Type your answer here, replacing this text._"
   ]
  },
  {
   "cell_type": "markdown",
   "id": "404052d9",
   "metadata": {
    "ExecuteTime": {
     "end_time": "2018-04-04T09:57:46.445990Z",
     "start_time": "2018-04-04T09:57:46.433958Z"
    },
    "execution": {
     "iopub.execute_input": "2022-04-07T03:32:59.497379Z",
     "iopub.status.busy": "2022-04-07T03:32:59.497125Z",
     "iopub.status.idle": "2022-04-07T03:32:59.509256Z",
     "shell.execute_reply": "2022-04-07T03:32:59.508571Z"
    }
   },
   "source": [
    "<!-- END QUESTION -->\n",
    "\n",
    "#### Relative Sea Level\n",
    "\n",
    "Each coastal location will experience sea level rise differently due to local and regional factors. One of these factors is the rising or sinking of land due to plate tectonics, called **vertical land motion** (VLM). If the land is sinking at a coastal location AND the ocean in the region is rising, then the locals might be very worried. If instead the land is rising faster than the ocean is rising, then the locals might feel as if the ocean is receeding. We can account for this effect by using **relative sea level** (RSL), where we observe water levels relative to a land based reference frame. "
   ]
  },
  {
   "cell_type": "markdown",
   "id": "d7bc9611",
   "metadata": {},
   "source": [
    "#### Relative Sea Level in Northern California\n",
    "\n",
    "Let's take a look at relative sea level data from two different tide gauge locations along our coast to see how this plays out..."
   ]
  },
  {
   "cell_type": "code",
   "execution_count": null,
   "id": "2b38cdaa",
   "metadata": {
    "ExecuteTime": {
     "end_time": "2018-04-04T09:57:46.458022Z",
     "start_time": "2018-04-04T09:57:46.446994Z"
    },
    "execution": {
     "iopub.execute_input": "2022-04-07T03:32:59.537757Z",
     "iopub.status.busy": "2022-04-07T03:32:59.537335Z",
     "iopub.status.idle": "2022-04-07T03:32:59.549030Z",
     "shell.execute_reply": "2022-04-07T03:32:59.548288Z"
    }
   },
   "outputs": [],
   "source": [
    "stations = Table.read_table(\"NorCalSLRmeta.csv\")\n",
    "\n",
    "Marker.map_table(stations.select('lat', 'lon', 'station_name').relabel('station_name', 'labels'))"
   ]
  },
  {
   "cell_type": "markdown",
   "id": "de3b5292",
   "metadata": {},
   "source": [
    "Zoom out on the map until you see both blue markers. Click on each marker to see the labels for the tide gauge stations. "
   ]
  },
  {
   "cell_type": "markdown",
   "id": "dfa94ece",
   "metadata": {},
   "source": [
    "<!-- BEGIN QUESTION -->\n",
    "\n",
    "**Question 2.2.** What is the name of the tide gauge station that is closest to Cal Poly Humboldt? **(1 point)**"
   ]
  },
  {
   "cell_type": "markdown",
   "id": "2f96bbcc",
   "metadata": {},
   "source": [
    "_Type your answer here, replacing this text._"
   ]
  },
  {
   "cell_type": "markdown",
   "id": "19e01f5a",
   "metadata": {},
   "source": [
    "<!-- END QUESTION -->\n",
    "\n",
    "Now let's look at the data from these stations. The data is in meters and is an average of the water levels for each month. Additionally, regular seasonal fluctuations have been removed."
   ]
  },
  {
   "cell_type": "code",
   "execution_count": null,
   "id": "833f24ad",
   "metadata": {},
   "outputs": [],
   "source": [
    "rsl = Table.read_table(\"NorCalSLR.csv\")\n",
    "rsl"
   ]
  },
  {
   "cell_type": "markdown",
   "id": "b046551c",
   "metadata": {},
   "source": [
    "Here is a plot of both stations:"
   ]
  },
  {
   "cell_type": "code",
   "execution_count": null,
   "id": "6885bc18",
   "metadata": {
    "deletable": false,
    "execution": {
     "iopub.execute_input": "2022-04-07T03:32:59.552465Z",
     "iopub.status.busy": "2022-04-07T03:32:59.551829Z",
     "iopub.status.idle": "2022-04-07T03:32:59.841018Z",
     "shell.execute_reply": "2022-04-07T03:32:59.840150Z"
    },
    "for_assignment_type": "student"
   },
   "outputs": [],
   "source": [
    "rsl.plot(\"months since December 1979\",[\"North Spit\", \"Crescent City\"])\n",
    "plt.title('Monthly Avg RSL (Seasonal Cycle Removed) ')\n",
    "plt.ylabel('RSL [meters]')"
   ]
  },
  {
   "cell_type": "markdown",
   "id": "3ad3ff21",
   "metadata": {},
   "source": [
    "Let's take a closer look at each of these stations, one by one."
   ]
  },
  {
   "cell_type": "markdown",
   "id": "975072c8",
   "metadata": {},
   "source": [
    "## 3. Sea Level Rise at North Spit"
   ]
  },
  {
   "cell_type": "markdown",
   "id": "d8e9d1a4",
   "metadata": {},
   "source": [
    "**Question 3.1.** Use the function `parameter_estimates` that you defined earlier to compute the least-squares linear regression line that predicts relative sea level (RSL) at *North Spit* based on the month, in original units. We have provided a two column table for you in the cell below with the first column representing the months (x) and the second column representing observed RSL at North Spit (y), which you should use as an argument to the function. Use the output from the `parameter_estimates` function to find the slope (`rsl_ns_slope`) and intercept (`rsl_ns_intercept`) of the regression line. **(2 points)**"
   ]
  },
  {
   "cell_type": "code",
   "execution_count": null,
   "id": "1152c37c",
   "metadata": {
    "tags": []
   },
   "outputs": [],
   "source": [
    "rsl_ns_tbl = rsl.select('months since December 1979', 'North Spit').relabeled('North Spit','Observed')\n",
    "estimates = ...\n",
    "rsl_ns_slope = ...\n",
    "rsl_ns_intercept = ...\n",
    "print(\"Slope:\", round(rsl_ns_slope, 5))\n",
    "print(\"Intercept\", round(rsl_ns_intercept, 5))"
   ]
  },
  {
   "cell_type": "code",
   "execution_count": null,
   "id": "bc02c40e",
   "metadata": {
    "deletable": false,
    "editable": false
   },
   "outputs": [],
   "source": [
    "grader.check(\"q3_1\")"
   ]
  },
  {
   "cell_type": "markdown",
   "id": "a5243a8c",
   "metadata": {},
   "source": [
    "**Question 3.2.** Convert the slope for North Spit from *meters per month* **to** *millimeters per year* (which are the units typically used to document sea level rise) (**1 point**)"
   ]
  },
  {
   "cell_type": "code",
   "execution_count": null,
   "id": "bca48058",
   "metadata": {
    "tags": []
   },
   "outputs": [],
   "source": [
    "rsl_ns_slope_mm_per_year = ...\n",
    "print(\"Sea Level Rise [mm/year] at North Spit:\", round(rsl_ns_slope_mm_per_year,2))"
   ]
  },
  {
   "cell_type": "markdown",
   "id": "a935797b",
   "metadata": {},
   "source": [
    "This number is the *relative sea level **rise*** estimate for *North Spit*. Wigi, as named by the Wiyot people, is also known as Humboldt Bay. As you can see from the map we made above, the North Spit tide gauge is located in Wigi. **Wigi is experiencing one of the fastest rates of relative sea level rise on the West Coast!** This is mostly due to the sinking (subsidence) of the tectonic plate here!"
   ]
  },
  {
   "cell_type": "markdown",
   "id": "9404cdab",
   "metadata": {},
   "source": [
    "**Question 3.3.** Write a function `linear_model` which has three inputs: a dependent variable array (x), slope value, and intercept value. It should output an array of independent values (y) for each dependent value. (**2 points**)"
   ]
  },
  {
   "cell_type": "code",
   "execution_count": null,
   "id": "1871a223",
   "metadata": {
    "tags": []
   },
   "outputs": [],
   "source": [
    "def linear_model(x,slope,intercept):\n",
    "    ..."
   ]
  },
  {
   "cell_type": "code",
   "execution_count": null,
   "id": "7844c325",
   "metadata": {
    "deletable": false,
    "editable": false
   },
   "outputs": [],
   "source": [
    "grader.check(\"q3_3\")"
   ]
  },
  {
   "cell_type": "markdown",
   "id": "c2b4399a",
   "metadata": {},
   "source": [
    "**Question 3.4.** Write a function `linear_fit` which takes the table that consists of an independent variable and a dependent variable as input (for example your `rsl_ns_tbl` should work). The function should use the first column of the table to predict the second column of the table using the linear regression model. For `rsl_ns_tbl` for example, it should output a prediction that is an array of numbers associated with each month in the table. Again, it will be helpful to use the functions `parameter_estimates` and `linear_model` that you defined earlier in this homework. **(3 points)**\n",
    "\n",
    "*Note:* Make sure that your `linear_fit` function is using least squares linear regression."
   ]
  },
  {
   "cell_type": "code",
   "execution_count": null,
   "id": "5f9dfb1d",
   "metadata": {
    "tags": []
   },
   "outputs": [],
   "source": [
    "def linear_fit(tbl):\n",
    "    parameters = ...\n",
    "    slope = ...\n",
    "    intercept = ...\n",
    "    ..."
   ]
  },
  {
   "cell_type": "code",
   "execution_count": null,
   "id": "6a1f2635",
   "metadata": {
    "deletable": false,
    "editable": false
   },
   "outputs": [],
   "source": [
    "grader.check(\"q3_4\")"
   ]
  },
  {
   "cell_type": "markdown",
   "id": "c3daebed",
   "metadata": {},
   "source": [
    "<!-- BEGIN QUESTION -->\n",
    "\n",
    "**Question 3.5.** Now, using the `linear_fit` function you just defined, make a plot with \"months since December 1979\" along the x-axis and both real and modeled relative sea level along the y-axis. The color of the lines for the real sea level should be different from the color for the predicted sea level. Make sure to label your axes and note your units. **(5 points)**\n",
    "\n",
    "*Hint 1*: An example of a line plot can be found above.\n",
    "\n",
    "*Hint 2*: Think about the table that must be used to generate this line plot. What data should the columns represent? Based on the data that you need, how many columns should be present in this table? Also, what should each row represent? Constructing the table will be the main part of this question; once you have this table, generating the line plot should be more straightforward."
   ]
  },
  {
   "cell_type": "code",
   "execution_count": null,
   "id": "e730520c",
   "metadata": {
    "tags": []
   },
   "outputs": [],
   "source": [
    "..."
   ]
  },
  {
   "cell_type": "markdown",
   "id": "aea5218b",
   "metadata": {},
   "source": [
    "<!-- END QUESTION -->\n",
    "\n",
    "**Question 3.6.** Add another column to `rsl_ns_tbl` called \"Fit Residual\" with values of the sea level Observations minus the Linear Fit prdictions at North Spit. We will look at this residual in a later section of the activity. **(1 point)**"
   ]
  },
  {
   "cell_type": "code",
   "execution_count": null,
   "id": "027ec0b6",
   "metadata": {
    "tags": []
   },
   "outputs": [],
   "source": [
    "rsl_ns_tbl = ...\n",
    "rsl_ns_tbl"
   ]
  },
  {
   "cell_type": "markdown",
   "id": "f33d2614",
   "metadata": {},
   "source": [
    "**Question 3.7.** Next create another function called `linear_predictor` that can predict values outside of the domain of the observations. (For example, what if we wanted to know what the sea levels will be in 2100?) This function will be very similar to the linear_fit function you just created but the input and output will change. You will still need to input a table consisting of independent and dependent values, but you will need one additional input representing the new independent value where you want a prediction. There will still be one output variable but it will provide linearly predicted values for the new indepedent values that were input. **(3 points)**"
   ]
  },
  {
   "cell_type": "code",
   "execution_count": null,
   "id": "8715eb0f",
   "metadata": {
    "tags": []
   },
   "outputs": [],
   "source": [
    "def linear_predictor(tbl,x):\n",
    "    parameters = ...\n",
    "    slope = ...\n",
    "    intercept = ...\n",
    "    ..."
   ]
  },
  {
   "cell_type": "code",
   "execution_count": null,
   "id": "6c19d395",
   "metadata": {
    "deletable": false,
    "editable": false
   },
   "outputs": [],
   "source": [
    "grader.check(\"q3_7\")"
   ]
  },
  {
   "cell_type": "markdown",
   "id": "1f6cb33e",
   "metadata": {},
   "source": [
    "**Question 3.8.** Now use your `linear_predictor` function to estimate relative sea level at North Spit in meters for the year 2100 (which is 1453 months after December 1979.) **(1 point)**"
   ]
  },
  {
   "cell_type": "code",
   "execution_count": null,
   "id": "632b6a5e",
   "metadata": {
    "tags": []
   },
   "outputs": [],
   "source": [
    "..."
   ]
  },
  {
   "cell_type": "markdown",
   "id": "d95cedcb",
   "metadata": {},
   "source": [
    "Here are some official estimates of how sea level is projected to change in the future at *North Spit*, where each color represents a different green house gas emissions scenario. *Note that sea level is shown in meters on the right*\n",
    "\n",
    "<img src=\"NorthSpitSLRprojection.jpg\" alt=\"drawing\" width=\"1000\"/>\n",
    "\n",
    "You can find more info on these projections [here](https://oceanservice.noaa.gov/hazards/sealevelrise/sealevelrise-tech-report-sections.html)."
   ]
  },
  {
   "cell_type": "markdown",
   "id": "9eb31b4a",
   "metadata": {},
   "source": [
    "<!-- BEGIN QUESTION -->\n",
    "\n",
    "**Question 3.9.** Based on your estimate for 2100 and also the shape of these prediction curves, do you think your linear model is reasonable for North Spit? Why or why not? **(5 points)**"
   ]
  },
  {
   "cell_type": "markdown",
   "id": "0ce86e4b",
   "metadata": {},
   "source": [
    "_Type your answer here, replacing this text._"
   ]
  },
  {
   "cell_type": "markdown",
   "id": "c8660a09",
   "metadata": {},
   "source": [
    "<!-- END QUESTION -->\n",
    "\n",
    "## 4. Sea Level Rise at Crescent City\n",
    "\n",
    "Now let's do something similar for *Crescent City*. First let's make a new table that just has the Crescent City data alongside each month."
   ]
  },
  {
   "cell_type": "code",
   "execution_count": null,
   "id": "8d09242d",
   "metadata": {},
   "outputs": [],
   "source": [
    "rsl_cc_tbl = rsl.select('months since December 1979', 'Crescent City').relabeled('Crescent City','Observed')\n",
    "rsl_cc_tbl"
   ]
  },
  {
   "cell_type": "markdown",
   "id": "0be3da99",
   "metadata": {},
   "source": [
    "Again we will use linear regression to estimate sea level rise here. However, this time we will program our linear regression a slightly different way. Recall that the least-squares regression line is the unique straight line that minimizes root mean squared error (RMSE) among all possible fit lines. Using this property, we can find the equation of the regression line by finding the pair of slope and intercept values that minimize root mean squared error. "
   ]
  },
  {
   "cell_type": "markdown",
   "id": "1c5c7bc9",
   "metadata": {},
   "source": [
    "**Question 4.1.** Define a function called `errors`.  It should take three arguments:\n",
    "1. a table `tbl` like `rsl_cc_tbl` (with the same column names and meanings, but not necessarily the same data)\n",
    "2. the `slope` of a line (a number)\n",
    "3. the `intercept` of a line (a number).\n",
    "\n",
    "It should **return an array of the errors** made when a line with that slope and intercept is used to predict sea level for each month in the given table. **(3 points)**\n",
    "\n",
    "*Note*: Make sure you are returning an array of the errors, and not the RMSE. "
   ]
  },
  {
   "cell_type": "code",
   "execution_count": null,
   "id": "dd8f762d",
   "metadata": {
    "tags": []
   },
   "outputs": [],
   "source": [
    "def errors(tbl, slope, intercept):\n",
    "    predictions = ...\n",
    "    ..."
   ]
  },
  {
   "cell_type": "code",
   "execution_count": null,
   "id": "96919b7a",
   "metadata": {
    "deletable": false,
    "editable": false
   },
   "outputs": [],
   "source": [
    "grader.check(\"q4_1\")"
   ]
  },
  {
   "cell_type": "markdown",
   "id": "72b0a1eb",
   "metadata": {},
   "source": [
    "<!-- BEGIN QUESTION -->\n",
    "\n",
    "**Question 4.2.** First let's look at a linear model with an arbitrary guess for the slope of `-0.0002` and intercept `0.01` on the *Crescent City* dataset. Add a column to your `rsl_cc_tbl` called \"Linear Guess\" with this linear model's predictions of sea levels at Crescent City. Then make a plot with the months on the x axis and both the \"Observed\" and \"Linear Guess\" values on the y axis. Make sure to label your axes and note your units. **(3 points)**"
   ]
  },
  {
   "cell_type": "code",
   "execution_count": null,
   "id": "9e328ad7",
   "metadata": {
    "tags": []
   },
   "outputs": [],
   "source": [
    "slope_guess = -0.0002\n",
    "intercept_guess = 0.01\n",
    "..."
   ]
  },
  {
   "cell_type": "markdown",
   "id": "1dfe6f98",
   "metadata": {},
   "source": [
    "<!-- END QUESTION -->\n",
    "\n",
    "<!-- BEGIN QUESTION -->\n",
    "\n",
    "**Question 4.3** Now add a column called \"Guess Residual\" to your table for the error of the model using your function `errors`. Then make a plot with the months on the x axis and the errors on the y axis. **(3 points)**"
   ]
  },
  {
   "cell_type": "code",
   "execution_count": null,
   "id": "038da4b4",
   "metadata": {
    "tags": []
   },
   "outputs": [],
   "source": [
    "..."
   ]
  },
  {
   "cell_type": "markdown",
   "id": "e90418ab",
   "metadata": {},
   "source": [
    "<!-- END QUESTION -->\n",
    "\n",
    "Note that the residual in the plot we just made is almost always positive.  This means our linear model, using our guessed parameters, is not a very good fit to the data. (We want the residuals to be positive as often as they are negative.)"
   ]
  },
  {
   "cell_type": "markdown",
   "id": "3bb0bd11",
   "metadata": {},
   "source": [
    "**Question 4.4.** Define a **NEW** function called `fit_line`.  It should take a table like `rsl_cc_tbl` (with the same column meanings) as its argument.  It should return an array containing the slope (as the first element) and intercept (as the second element) of the least-squares regression line predicting sea levels from the month for that table. **(5 points)**\n",
    "\n",
    "*Hint*: Define a function `rmse` within `fit_line` that takes a slope and intercept as its arguments. `rmse` will use the table passed into `fit_line` to compute predicted outcomes and then return the root mean squared error between the predicted and actual outcomes. Within `fit_line`, you can call `rmse` the way you would any other function.\n",
    "\n",
    "If you haven't tried to use the `minimize` [function](http://data8.org/sp22/python-reference.html) yet, now is a great time to practice. Here's an [example from the textbook](https://www.inferentialthinking.com/chapters/15/3/Method_of_Least_Squares.html#numerical-optimization)."
   ]
  },
  {
   "cell_type": "code",
   "execution_count": null,
   "id": "23fdbfc3",
   "metadata": {
    "tags": []
   },
   "outputs": [],
   "source": [
    "...\n",
    "def fit_line(tbl):\n",
    "    # Your code may need more than 1 line below here.\n",
    "    def rmse(..., ...):\n",
    "        return ... \n",
    "    return ... \n",
    "    \n",
    "# Here is an example call to your function.  To test your function,\n",
    "# figure out the right slope and intercept by hand.\n",
    "example_table = Table().with_columns(\n",
    "    \"months since December 1979\", make_array(0, 1),\n",
    "    \"Crescent City\", make_array(1, 3))\n",
    "fit_line(example_table)"
   ]
  },
  {
   "cell_type": "code",
   "execution_count": null,
   "id": "84fe72d9",
   "metadata": {
    "deletable": false,
    "editable": false
   },
   "outputs": [],
   "source": [
    "grader.check(\"q4_4\")"
   ]
  },
  {
   "cell_type": "markdown",
   "id": "113b3e2f",
   "metadata": {},
   "source": [
    "**Question 4.5.** Use `fit_line` to fit a line to the sea levels at Crescent City, and assign the output to `best_line`. Assign the first and second elements in `best_line` to `best_line_slope` and `best_line_intercept`, respectively. **(2 points)**\n",
    "\n",
    "The code provided will add the best line fit to your `rsl_cc_tbl` and plot your best line that minimizes RMSE on top of the Crescent City sea level time series. It will also print the values for the slope and intercept. "
   ]
  },
  {
   "cell_type": "code",
   "execution_count": null,
   "id": "3c634dd5",
   "metadata": {
    "tags": []
   },
   "outputs": [],
   "source": [
    "best_line = ...\n",
    "slope_best = ...\n",
    "intercept_best = ...\n",
    "\n",
    "# This code plots your best line fit on top of the Cresent City RSL time series\n",
    "rsl_cc_tbl = rsl_cc_tbl.with_column('Linear Fit',linear_model(rsl_cc_tbl.column(0),slope_best,intercept_best))\n",
    "rsl_cc_tbl.plot('months since December 1979',['Observed', 'Linear Fit'])\n",
    "plt.title('Monthly Average RSL at Crescent City (Seasonal Removed)')\n",
    "plt.ylabel('RSL [meters]')\n",
    "\n",
    "# This just prints your slope and intercept\n",
    "\"Slope: {:g} | Intercept: {:g}\".format(slope_best, intercept_best)"
   ]
  },
  {
   "cell_type": "markdown",
   "id": "9f395e87",
   "metadata": {},
   "source": [
    "**Question 4.6.** How do your `slope_best` and `intercept_best` values compare to the values we get from our `parameter estimate` function? **(2 points)**"
   ]
  },
  {
   "cell_type": "code",
   "execution_count": null,
   "id": "c4e06268",
   "metadata": {
    "tags": []
   },
   "outputs": [],
   "source": [
    "parameters = ...\n",
    "slope = ...\n",
    "intercept = ...\n",
    "print(\"Slope Parameter Estimate: {:g} | Slope RMSE Minimized: {:g}\".format(slope, slope_best))\n",
    "print(\"Intercept Parameter Estimate: {:g} | Intercept RMSE Minimized: {:g}\".format(intercept, intercept_best))"
   ]
  },
  {
   "cell_type": "markdown",
   "id": "fa579f41",
   "metadata": {},
   "source": [
    "<!-- BEGIN QUESTION -->\n",
    "\n",
    "**Question 4.7.** Did you expect that the two slope estimates would be similar? Did you expect that the two intercept estimates would be similar? Why or why not? **(3 points)**"
   ]
  },
  {
   "cell_type": "markdown",
   "id": "e4474407",
   "metadata": {},
   "source": [
    "_Type your answer here, replacing this text._"
   ]
  },
  {
   "cell_type": "markdown",
   "id": "606652f7",
   "metadata": {},
   "source": [
    "<!-- END QUESTION -->\n",
    "\n",
    "**Question 4.8.** Convert the slope for *Crescent City* from meters per month to millimeters per year (which are the units typically used to document sea level rise) **(1 point)**"
   ]
  },
  {
   "cell_type": "code",
   "execution_count": null,
   "id": "60f82848",
   "metadata": {
    "tags": []
   },
   "outputs": [],
   "source": [
    "rsl_cc_slope_mm_per_year = ...\n",
    "rsl_cc_slope_mm_per_year"
   ]
  },
  {
   "cell_type": "markdown",
   "id": "9279e4b1",
   "metadata": {},
   "source": [
    "This number is the *relative sea level **rise*** estimate for *Crescent City*. Note that this number is **NEGATIVE** which means that relative sea level is going down! This is mostly due to the rising of the tectonic plate here!"
   ]
  },
  {
   "cell_type": "markdown",
   "id": "c9b33f13",
   "metadata": {},
   "source": [
    "**Question 4.9.** Now use the `linear_predictor` function that you created earlier to estimate relative sea level at *Crescent City* in meters for the year 2100 (which is 1453 months after December 1979.) **(1 point)**"
   ]
  },
  {
   "cell_type": "code",
   "execution_count": null,
   "id": "96b201fd",
   "metadata": {
    "tags": []
   },
   "outputs": [],
   "source": [
    "..."
   ]
  },
  {
   "cell_type": "markdown",
   "id": "80584ca6",
   "metadata": {},
   "source": [
    "Here are some official estimates of how sea level is projected to change in the future at *Crescent City*, where each color represents a different green house gas emissions scenario. *Note that sea level is shown in meters on the right*\n",
    "\n",
    "<img src=\"CrescentCitySLRprojection.jpg\" alt=\"drawing\" width=\"1000\"/>\n",
    "\n",
    "You can find more info on these projections [here](https://oceanservice.noaa.gov/hazards/sealevelrise/sealevelrise-tech-report-sections.html)."
   ]
  },
  {
   "cell_type": "markdown",
   "id": "e20a16bb",
   "metadata": {},
   "source": [
    "<!-- BEGIN QUESTION -->\n",
    "\n",
    "**Question 4.10.** Based on your estimate for 2100 and also the shape of these prediction curves, do you think your linear model is reasonable for Crescent City? Why or why not? **(5 points)**"
   ]
  },
  {
   "cell_type": "markdown",
   "id": "4931f467",
   "metadata": {},
   "source": [
    "_Type your answer here, replacing this text._"
   ]
  },
  {
   "cell_type": "markdown",
   "id": "0d601791",
   "metadata": {},
   "source": [
    "<!-- END QUESTION -->\n",
    "\n",
    "**Question 4.11.** Next, add a new column to `rsl_cc_tbl` called \"Fit Residual\" which contains the errors that we get by calling `errors` with our best fit line. We will use this data in the next section."
   ]
  },
  {
   "cell_type": "code",
   "execution_count": null,
   "id": "b3a51783",
   "metadata": {
    "tags": []
   },
   "outputs": [],
   "source": [
    "rsl_cc_tbl = ..."
   ]
  },
  {
   "cell_type": "markdown",
   "id": "9a5414e0",
   "metadata": {},
   "source": [
    "## 5. Detrended Sea Level Variability"
   ]
  },
  {
   "cell_type": "markdown",
   "id": "696ec65a",
   "metadata": {},
   "source": [
    "Now we understand the reason why sea levels at North Spit and Crescent City look different: it is primarily because the tectonic plate is rising at Crescent City and sinking at North Spit. Here we plot the two time series on top of each other again, so we can remember what they look like compared to each other. "
   ]
  },
  {
   "cell_type": "code",
   "execution_count": null,
   "id": "ea0344fa",
   "metadata": {},
   "outputs": [],
   "source": [
    "rsl.plot(\"months since December 1979\",[\"North Spit\", \"Crescent City\"])\n",
    "plt.title('Monthly Average RSL (Seasonal Removed)')\n",
    "plt.ylabel('RSL [meters]')"
   ]
  },
  {
   "cell_type": "markdown",
   "id": "9f625fcc",
   "metadata": {},
   "source": [
    "**Question 5.1.** Compute the correlation coefficient between the North Spit and Crescent City station time series. **(2 points)**\n",
    "\n",
    "*Note:* It might be helpful to use the `correlation` function you created earlier."
   ]
  },
  {
   "cell_type": "code",
   "execution_count": null,
   "id": "0010254a",
   "metadata": {
    "tags": []
   },
   "outputs": [],
   "source": [
    "r = ...\n",
    "r"
   ]
  },
  {
   "cell_type": "code",
   "execution_count": null,
   "id": "3f2e9215",
   "metadata": {
    "deletable": false,
    "editable": false
   },
   "outputs": [],
   "source": [
    "grader.check(\"q5_1\")"
   ]
  },
  {
   "cell_type": "markdown",
   "id": "a1262e69",
   "metadata": {},
   "source": [
    "<!-- BEGIN QUESTION -->\n",
    "\n",
    "**Question 5.2.** Go ahead and make a new table called `detrended_rsl` which has the columns \"months since Decemember 1979\", and the fit residuals from \"North Spit\" and \"Crescent City\". Then make a plot with the months on the x axis and the residuals on the y axis, showing the residuals for *both* North Spit and Crescent City on one plot. **(5 points)**"
   ]
  },
  {
   "cell_type": "code",
   "execution_count": null,
   "id": "39f44cd0",
   "metadata": {
    "tags": []
   },
   "outputs": [],
   "source": [
    "..."
   ]
  },
  {
   "cell_type": "markdown",
   "id": "20e092a1",
   "metadata": {},
   "source": [
    "<!-- END QUESTION -->\n",
    "\n",
    "**Question 5.3.** Now calculate the correlation of these detrended time series with each other. **(2 points)**"
   ]
  },
  {
   "cell_type": "code",
   "execution_count": null,
   "id": "485aeeea",
   "metadata": {
    "tags": []
   },
   "outputs": [],
   "source": [
    "r_detrended = ...\n",
    "r_detrended"
   ]
  },
  {
   "cell_type": "markdown",
   "id": "7578aa80",
   "metadata": {},
   "source": [
    "<!-- BEGIN QUESTION -->\n",
    "\n",
    "**Question 5.4.** Now we are able to see that these two locations also have a lot in common in tems of relative sea level residuals. The two peaks in the residual times series are at around months 50 and 220, which correspond to the winters of 1982-83 and 1997-98. What is your hypthosis for why sea levels were elevated so far above the trend during those times? **(5 points)**\n",
    "\n",
    "*Hint 1:* Download and read [this page](https://humboldt.cloudbank.2i2c.cloud/hub/user-redirect/git-sync?repo=https://github.com/bludka/materials-sp22&urlpath=tree/materials-sp22/hw/hw10_Humboldt/NASA_El_Nino.pdf) from NASA Science's \"Share the Science\" website. \n",
    "\n",
    "*Hint 2:* Download and read [this page](https://humboldt.cloudbank.2i2c.cloud/hub/user-redirect/git-sync?repo=https://github.com/bludka/materials-sp22&urlpath=tree/materials-sp22/hw/hw10_Humboldt/RisingSeasInCaliforniaBox1.pdf) from the California Ocean Protection Council's \"Rising Seas in California\" report to answer this question. "
   ]
  },
  {
   "cell_type": "markdown",
   "id": "129cc796",
   "metadata": {},
   "source": [
    "_Type your answer here, replacing this text._"
   ]
  },
  {
   "cell_type": "markdown",
   "id": "151bf08c",
   "metadata": {},
   "source": [
    "<!-- END QUESTION -->\n",
    "\n",
    "You're done with Homework 10!  \n",
    "\n",
    "**Important submission steps:** \n",
    "1. Run the tests and verify that they all pass.\n",
    "2. Choose **Save Notebook** from the **File** menu, then **run the final cell**. \n",
    "3. Click the link to download the zip file.\n",
    "4. Then submit the zip file to the corresponding assignment according to your instructor's directions. \n",
    "\n",
    "**It is your responsibility to make sure your work is saved before running the last cell.**"
   ]
  },
  {
   "cell_type": "markdown",
   "id": "9f801acb",
   "metadata": {
    "deletable": false,
    "editable": false
   },
   "source": [
    "## Submission\n",
    "\n",
    "Make sure you have run all cells in your notebook in order before running the cell below, so that all images/graphs appear in the output. The cell below will generate a zip file for you to submit. **Please save before exporting!**"
   ]
  },
  {
   "cell_type": "code",
   "execution_count": null,
   "id": "b7323a17",
   "metadata": {
    "deletable": false,
    "editable": false
   },
   "outputs": [],
   "source": [
    "# Save your notebook first, then run this cell to export your submission.\n",
    "grader.export(pdf=False, run_tests=True)"
   ]
  },
  {
   "cell_type": "markdown",
   "id": "a56d6261",
   "metadata": {},
   "source": [
    " "
   ]
  }
 ],
 "metadata": {
  "kernelspec": {
   "display_name": "Python 3 (ipykernel)",
   "language": "python",
   "name": "python3"
  },
  "language_info": {
   "codemirror_mode": {
    "name": "ipython",
    "version": 3
   },
   "file_extension": ".py",
   "mimetype": "text/x-python",
   "name": "python",
   "nbconvert_exporter": "python",
   "pygments_lexer": "ipython3",
   "version": "3.8.17"
  },
  "otter": {
   "OK_FORMAT": true,
   "tests": {
    "q1_1": {
     "name": "q1_1",
     "points": [
      0,
      0,
      0
     ],
     "suites": [
      {
       "cases": [
        {
         "code": ">>> standard_units([1,2,3,4,5])\narray([-1.41421356, -0.70710678,  0.        ,  0.70710678,  1.41421356])",
         "hidden": false,
         "locked": false
        },
        {
         "code": ">>> np.isclose(np.mean(standard_units([1,2,3,4,5])), 0)\nTrue",
         "hidden": false,
         "locked": false
        },
        {
         "code": ">>> np.isclose(np.std(standard_units([1,2,3,4,5])), 0.9999999999999999)\nTrue",
         "hidden": false,
         "locked": false
        }
       ],
       "scored": true,
       "setup": "",
       "teardown": "",
       "type": "doctest"
      }
     ]
    },
    "q1_2": {
     "name": "q1_2",
     "points": [
      0
     ],
     "suites": [
      {
       "cases": [
        {
         "code": ">>> np.isclose(correlation([1,2,3], [4,5,6]), 0.9999999999999999)\nTrue",
         "hidden": false,
         "locked": false
        }
       ],
       "scored": true,
       "setup": "",
       "teardown": "",
       "type": "doctest"
      }
     ]
    },
    "q1_5": {
     "name": "q1_5",
     "points": [
      0,
      0,
      0
     ],
     "suites": [
      {
       "cases": [
        {
         "code": ">>> len(parameters) == 3\nTrue",
         "hidden": false,
         "locked": false
        },
        {
         "code": ">>> # Make sure your function is returning an array!\n>>> type(parameters) == np.ndarray\nTrue",
         "hidden": false,
         "locked": false
        },
        {
         "code": ">>> np.isclose(parameters.item(0), 0.8343076972837598)\nTrue",
         "hidden": false,
         "locked": false
        }
       ],
       "scored": true,
       "setup": "",
       "teardown": "",
       "type": "doctest"
      }
     ]
    },
    "q1_6": {
     "name": "q1_6",
     "points": [
      0,
      0
     ],
     "suites": [
      {
       "cases": [
        {
         "code": ">>> # Make sure regression_changes is a numpy array with 3 items!\n>>> len(regression_changes) == 3 and type(regression_changes) == np.ndarray\nTrue",
         "hidden": false,
         "locked": false
        },
        {
         "code": ">>> regression_changes.item(0) in set([0, 1, False, True])\nTrue",
         "hidden": false,
         "locked": false
        }
       ],
       "scored": true,
       "setup": "",
       "teardown": "",
       "type": "doctest"
      }
     ]
    },
    "q1_7": {
     "name": "q1_7",
     "points": [
      0
     ],
     "suites": [
      {
       "cases": [
        {
         "code": ">>> 100 <= triple_record_vert_est <= 200\nTrue",
         "hidden": false,
         "locked": false
        }
       ],
       "scored": true,
       "setup": "",
       "teardown": "",
       "type": "doctest"
      }
     ]
    },
    "q3_1": {
     "name": "q3_1",
     "points": [
      0,
      0
     ],
     "suites": [
      {
       "cases": [
        {
         "code": ">>> 0 <= rsl_ns_slope < 1\nTrue",
         "hidden": false,
         "locked": false
        },
        {
         "code": ">>> rsl_ns_intercept < 0\nTrue",
         "hidden": false,
         "locked": false
        }
       ],
       "scored": true,
       "setup": "",
       "teardown": "",
       "type": "doctest"
      }
     ]
    },
    "q3_2": {
     "name": "q3_2",
     "points": [],
     "suites": [
      {
       "cases": [],
       "scored": true,
       "setup": "",
       "teardown": "",
       "type": "doctest"
      }
     ]
    },
    "q3_3": {
     "name": "q3_3",
     "points": [
      0
     ],
     "suites": [
      {
       "cases": [
        {
         "code": ">>> np.isclose(linear_model(0,0,0),0) \nTrue",
         "hidden": false,
         "locked": false
        }
       ],
       "scored": true,
       "setup": "",
       "teardown": "",
       "type": "doctest"
      }
     ]
    },
    "q3_4": {
     "name": "q3_4",
     "points": [
      0
     ],
     "suites": [
      {
       "cases": [
        {
         "code": ">>> np.allclose(linear_fit(Table().with_column('x',np.array([1,2])).with_column('y',np.array([1,2]))),[1, 2])\nTrue",
         "hidden": false,
         "locked": false
        }
       ],
       "scored": true,
       "setup": "",
       "teardown": "",
       "type": "doctest"
      }
     ]
    },
    "q3_6": {
     "name": "q3_6",
     "points": [],
     "suites": [
      {
       "cases": [],
       "scored": true,
       "setup": "",
       "teardown": "",
       "type": "doctest"
      }
     ]
    },
    "q3_7": {
     "name": "q3_7",
     "points": [
      0
     ],
     "suites": [
      {
       "cases": [
        {
         "code": ">>> np.isclose(linear_predictor(Table().with_column('x',np.array([1,2])).with_column('y',np.array([1,2])),3),3)\nTrue",
         "hidden": false,
         "locked": false
        }
       ],
       "scored": true,
       "setup": "",
       "teardown": "",
       "type": "doctest"
      }
     ]
    },
    "q3_8": {
     "name": "q3_8",
     "points": [],
     "suites": [
      {
       "cases": [],
       "scored": true,
       "setup": "",
       "teardown": "",
       "type": "doctest"
      }
     ]
    },
    "q4_1": {
     "name": "q4_1",
     "points": [
      0,
      0
     ],
     "suites": [
      {
       "cases": [
        {
         "code": ">>> type(errors(rsl_cc_tbl, 0, 0).item(0)) in set([float, np.float32, np.float64])\nTrue",
         "hidden": false,
         "locked": false
        },
        {
         "code": ">>> len(errors(rsl_cc_tbl, 0, 0)) == 512\nTrue",
         "hidden": false,
         "locked": false
        }
       ],
       "scored": true,
       "setup": "",
       "teardown": "",
       "type": "doctest"
      }
     ]
    },
    "q4_11": {
     "name": "q4_11",
     "points": [],
     "suites": [
      {
       "cases": [],
       "scored": true,
       "setup": "",
       "teardown": "",
       "type": "doctest"
      }
     ]
    },
    "q4_4": {
     "name": "q4_4",
     "points": [
      0,
      0
     ],
     "suites": [
      {
       "cases": [
        {
         "code": ">>> type(fit_line(example_table)) == np.ndarray\nTrue",
         "hidden": false,
         "locked": false
        },
        {
         "code": ">>> type(fit_line(example_table).item(0)) in set([float, np.float32, np.float64])\nTrue",
         "hidden": false,
         "locked": false
        }
       ],
       "scored": true,
       "setup": "",
       "teardown": "",
       "type": "doctest"
      }
     ]
    },
    "q4_5": {
     "name": "q4_5",
     "points": [],
     "suites": [
      {
       "cases": [],
       "scored": true,
       "setup": "",
       "teardown": "",
       "type": "doctest"
      }
     ]
    },
    "q4_6": {
     "name": "q4_6",
     "points": [],
     "suites": [
      {
       "cases": [],
       "scored": true,
       "setup": "",
       "teardown": "",
       "type": "doctest"
      }
     ]
    },
    "q4_8": {
     "name": "q4_8",
     "points": [],
     "suites": [
      {
       "cases": [],
       "scored": true,
       "setup": "",
       "teardown": "",
       "type": "doctest"
      }
     ]
    },
    "q4_9": {
     "name": "q4_9",
     "points": [],
     "suites": [
      {
       "cases": [],
       "scored": true,
       "setup": "",
       "teardown": "",
       "type": "doctest"
      }
     ]
    },
    "q5_1": {
     "name": "q5_1",
     "points": [
      2
     ],
     "suites": [
      {
       "cases": [
        {
         "code": ">>> np.isclose(round(r,3),0.19)\nTrue",
         "hidden": false,
         "locked": false
        }
       ],
       "scored": true,
       "setup": "",
       "teardown": "",
       "type": "doctest"
      }
     ]
    },
    "q5_3": {
     "name": "q5_3",
     "points": [],
     "suites": [
      {
       "cases": [],
       "scored": true,
       "setup": "",
       "teardown": "",
       "type": "doctest"
      }
     ]
    }
   }
  }
 },
 "nbformat": 4,
 "nbformat_minor": 5
}
