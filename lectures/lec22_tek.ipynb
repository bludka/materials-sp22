{
 "cells": [
  {
   "cell_type": "code",
   "execution_count": 2,
   "metadata": {},
   "outputs": [],
   "source": [
    "from datascience import *\n",
    "import numpy as np\n",
    "\n",
    "%matplotlib inline\n",
    "import matplotlib.pyplot as plots\n",
    "plots.style.use('fivethirtyeight')"
   ]
  },
  {
   "cell_type": "markdown",
   "metadata": {},
   "source": [
    "# Traditional Ecological Knowledge\n",
    "\n",
    "Indigenous people are the people who have inhabited a land area from the earliest times, before colonization, and have a way of life that is *inextricably linked* to that land. Over many thousands of years and more, indegenous folks learn and pass down wisdom about how humans can best support the local ecosystem they are a part of and depend on. This wisdom is sometimes called \"Traditional Ecological Knowledge\" (TEK). Invasion by colonization across the world has caused many genocides of indigenous people and their lands, and has attempted to erase indigenous culture and TEK. Watch [this video](https://www.youtube.com/watch?v=T-azcPugmKQ) to see the impacts of colonialism on indigenous peoples here and discuss the following question:"
   ]
  },
  {
   "cell_type": "markdown",
   "metadata": {},
   "source": [
    "**Discussion Question 1:** What are the ways that colonialism harmed/harms the indigenous people of our region?"
   ]
  },
  {
   "cell_type": "markdown",
   "metadata": {},
   "source": [
    "\"Western\" science (like you are learning in this class) has been dominated by folks from colonialist cultures. It is a very young culture compared to indigenous culture, and it is perhaps not surprising that recent scientific studies are relearning the lessons of the much older indigenous wisdom. Watch [this video](https://www.youtube.com/watch?v=wlzDJQjjQDg) about indigenous cultural burning and wildfire management to answer the following question. "
   ]
  },
  {
   "cell_type": "markdown",
   "metadata": {},
   "source": [
    "**Discussion Question 2:** How do prescribed burns help with wildfire management?"
   ]
  },
  {
   "cell_type": "markdown",
   "metadata": {},
   "source": [
    "In addition to protecting people and the ecosystems we are part of from dangerous wildfires, perscribed burns are needed for cultural resources that are essential to the Karuk and Yurok way of life. For this reason, Karuk and Yurok people (and many others indigenous peoples) refer to their prescribed fire as *cultural burns* that are central to subsistence and ceremonial practices. The term *cultural burning* distinguishes these fires from the fuel reduction-focused *prescribed burns* of public land agencies whose primary objective is to reduce fuel loads and moderate wildfire intensity. One of the ways cultural burns are central to Karuk and Yurok way of life, is that they provide more hazelnut stems that are needed for *basket weaving*, which we will learn more about in this activity."
   ]
  },
  {
   "cell_type": "markdown",
   "metadata": {},
   "source": [
    "**Discussion Question 3:** Why do Karuk and Yurok people prefer to call their prescribed burning practices \"cultural burns\"?"
   ]
  },
  {
   "cell_type": "markdown",
   "metadata": {},
   "source": [
    "# Hazelnut Stems for Basketweaving\n",
    "Baskets weaved from *hazelnut stems* have many uses in Karuk and Yurok culture, including (but not limited to) baby cradles, clothing, and food preparation. Here is a hopper basket used to pound acorns. The stems on the left side of the picture are unpeeled, whereas and peeled hazelnut basketry stems are shown on the right. This basket is composed of peeled hazelnut stems along with other materials. \n",
    "\n",
    "<img src=\"Basket.jpg\" alt=\"drawing\" width=\"300\"/>"
   ]
  },
  {
   "cell_type": "markdown",
   "metadata": {},
   "source": [
    "Skilled basketweavers gather the stems and braid the baskets. Here is a picture of Karuk basketweavers Janet Morehead (left) and Lillian Rentz (right), peeling and evaluating the quality of hazelnut stems they gathered.\n",
    "\n",
    "<img src=\"Basketweavers.jpg\" alt=\"drawing\" width=\"400\"/>"
   ]
  },
  {
   "cell_type": "markdown",
   "metadata": {},
   "source": [
    "These basketweavers generously participated in a scientific study that compared the effect of different burn treatments on how hazelnut shrubs produce basket-worthy stems. Additional basketweavers involved in the study include Elizabeth Azzuz, Laverne Glaze, Chook-Chook Hillman, Lisa Hillman, Robert McConnell,Robert McConnell Jr., Kathy McCovey, Bertha Peters, Maggie Peters, Verna Reece, Margo Robbins, Brittany Souza, and Bill Tripp."
   ]
  },
  {
   "cell_type": "markdown",
   "metadata": {},
   "source": [
    "# Comparing Burn Treatments for Basket-Worthy Stem Production\n",
    "\n",
    "We will look at some data from this study [Effects of understory fire management treatments on California Hazelnut, an ecocultural resource of the Karuk and Yurok Indians in the Pacific Northwest](https://www.sciencedirect.com/science/article/pii/S0378112719306826) published in *Forest Ecology and Managment* in 2019. \n",
    "\n",
    "Skilled basketweavers (and scientists trained by the skilled basketweavers) collected basket-worthy stems from many different hazelnut shrubs that each received a \"treatment\". One of the \"treatments\" was a \"broadcast burn\" which is the type of cultural burn that the Yurok and Karuk people prefer to use as part of their basketweaving traditions. Another \"treatment\" was a \"control\" which meant the shrub was left untouched. Stems were gathered before treatment and then again after a full growing season since the treatment. "
   ]
  },
  {
   "cell_type": "markdown",
   "metadata": {},
   "source": [
    "The Study Location (yellow star in the intersection of Karuk and Yurok Ancentral Lands) is shown on the map below.\n",
    "\n",
    "<img src=\"AncestralTerritory.jpg\" alt=\"drawing\" width=\"700\"/>"
   ]
  },
  {
   "cell_type": "markdown",
   "metadata": {},
   "source": [
    " Let's have a look at a table of the data..."
   ]
  },
  {
   "cell_type": "code",
   "execution_count": 3,
   "metadata": {},
   "outputs": [],
   "source": [
    "bb = Table.read_table('Basketweaving_and_Burning.csv')"
   ]
  },
  {
   "cell_type": "code",
   "execution_count": 4,
   "metadata": {},
   "outputs": [
    {
     "data": {
      "text/html": [
       "<table border=\"1\" class=\"dataframe\">\n",
       "    <thead>\n",
       "        <tr>\n",
       "            <th>ShrubNumber</th> <th>PreBasketStems</th> <th>PostBasketStems</th> <th>Treatment</th>\n",
       "        </tr>\n",
       "    </thead>\n",
       "    <tbody>\n",
       "        <tr>\n",
       "            <td>84         </td> <td>11            </td> <td>1              </td> <td>Control  </td>\n",
       "        </tr>\n",
       "        <tr>\n",
       "            <td>89         </td> <td>20            </td> <td>1              </td> <td>Control  </td>\n",
       "        </tr>\n",
       "        <tr>\n",
       "            <td>99         </td> <td>13            </td> <td>0              </td> <td>Control  </td>\n",
       "        </tr>\n",
       "        <tr>\n",
       "            <td>103        </td> <td>2             </td> <td>0              </td> <td>Control  </td>\n",
       "        </tr>\n",
       "        <tr>\n",
       "            <td>108        </td> <td>13            </td> <td>0              </td> <td>Control  </td>\n",
       "        </tr>\n",
       "        <tr>\n",
       "            <td>111        </td> <td>10            </td> <td>0              </td> <td>Control  </td>\n",
       "        </tr>\n",
       "        <tr>\n",
       "            <td>114        </td> <td>6             </td> <td>3              </td> <td>Control  </td>\n",
       "        </tr>\n",
       "        <tr>\n",
       "            <td>119        </td> <td>11            </td> <td>3              </td> <td>Control  </td>\n",
       "        </tr>\n",
       "        <tr>\n",
       "            <td>137        </td> <td>18            </td> <td>0              </td> <td>Control  </td>\n",
       "        </tr>\n",
       "        <tr>\n",
       "            <td>148        </td> <td>0             </td> <td>7              </td> <td>Control  </td>\n",
       "        </tr>\n",
       "    </tbody>\n",
       "</table>\n",
       "<p>... (50 rows omitted)</p>"
      ],
      "text/plain": [
       "ShrubNumber | PreBasketStems | PostBasketStems | Treatment\n",
       "84          | 11             | 1               | Control\n",
       "89          | 20             | 1               | Control\n",
       "99          | 13             | 0               | Control\n",
       "103         | 2              | 0               | Control\n",
       "108         | 13             | 0               | Control\n",
       "111         | 10             | 0               | Control\n",
       "114         | 6              | 3               | Control\n",
       "119         | 11             | 3               | Control\n",
       "137         | 18             | 0               | Control\n",
       "148         | 0              | 7               | Control\n",
       "... (50 rows omitted)"
      ]
     },
     "execution_count": 4,
     "metadata": {},
     "output_type": "execute_result"
    }
   ],
   "source": [
    "bb"
   ]
  },
  {
   "cell_type": "markdown",
   "metadata": {},
   "source": [
    "**Discussion Question 4:** Were there more shrubs that experienced the \"Broadcast\" treatment or the \"Control\" treatment? How would you manipulate the table to figure this out?\n",
    "\n"
   ]
  },
  {
   "cell_type": "code",
   "execution_count": 5,
   "metadata": {},
   "outputs": [
    {
     "data": {
      "text/html": [
       "<table border=\"1\" class=\"dataframe\">\n",
       "    <thead>\n",
       "        <tr>\n",
       "            <th>Treatment</th> <th>count</th>\n",
       "        </tr>\n",
       "    </thead>\n",
       "    <tbody>\n",
       "        <tr>\n",
       "            <td>Broadcast</td> <td>41   </td>\n",
       "        </tr>\n",
       "        <tr>\n",
       "            <td>Control  </td> <td>19   </td>\n",
       "        </tr>\n",
       "    </tbody>\n",
       "</table>"
      ],
      "text/plain": [
       "Treatment | count\n",
       "Broadcast | 41\n",
       "Control   | 19"
      ]
     },
     "execution_count": 5,
     "metadata": {},
     "output_type": "execute_result"
    }
   ],
   "source": [
    "bb.group('Treatment')"
   ]
  },
  {
   "cell_type": "markdown",
   "metadata": {},
   "source": [
    "Let's plot the data to visualize it. We will plot the control treatment data using a slightly larger marker than the broadcast burn treatment data in case those data points end up falling on top of each other. We will also plot the data points with some transparency in case the data points within a treatment class fall on top of themselves."
   ]
  },
  {
   "cell_type": "code",
   "execution_count": 6,
   "metadata": {},
   "outputs": [
    {
     "data": {
      "text/plain": [
       "<matplotlib.legend.Legend at 0x1535f8250>"
      ]
     },
     "execution_count": 6,
     "metadata": {},
     "output_type": "execute_result"
    },
    {
     "data": {
      "image/png": "[encoded data removed]",
      "text/plain": [
       "<Figure size 640x480 with 1 Axes>"
      ]
     },
     "metadata": {},
     "output_type": "display_data"
    }
   ],
   "source": [
    "bb_control = bb.where('Treatment', are.equal_to('Control'))\n",
    "bb_burn = bb.where('Treatment', are.equal_to('Broadcast'))\n",
    "plots.plot([0,40],[0,40],'k-',linewidth=1)\n",
    "plots.scatter(bb_control.column('PreBasketStems'),bb_control.column('PostBasketStems'),s=20,alpha=0.5,label='Control')\n",
    "plots.scatter(bb_burn.column('PreBasketStems'),bb_burn.column('PostBasketStems'),s=10,alpha=0.5,label='Burn')\n",
    "plots.xlabel('PreBasketStems')\n",
    "plots.ylabel('PostBasketStems')\n",
    "plots.legend(loc='upper right')"
   ]
  },
  {
   "cell_type": "markdown",
   "metadata": {},
   "source": [
    "Use the plot above to answer the following discussion questions:\n",
    "\n",
    "**Discussion Question 5:** What is plotted on the *x*-axis?"
   ]
  },
  {
   "cell_type": "markdown",
   "metadata": {},
   "source": [
    "**Discussion Question 6:** What is plotted on the *y*-axis?"
   ]
  },
  {
   "cell_type": "markdown",
   "metadata": {},
   "source": [
    "**Discussion Question 7:** What do the *blue* dots represent?"
   ]
  },
  {
   "cell_type": "markdown",
   "metadata": {},
   "source": [
    "**Discussion Question 8:** What do the *red* dots represent?"
   ]
  },
  {
   "cell_type": "markdown",
   "metadata": {},
   "source": [
    "**Discussion Question 9:** What does the *black line* represent?"
   ]
  },
  {
   "cell_type": "markdown",
   "metadata": {},
   "source": [
    "**Discussion Question 10:** Take a look at the two burned shrubs that started out with the most basket-worthy stems. (Red dots with the two largest x-values.) How many basket-worthy stems grew on those shrubs after the burn treatment? What do you think happened to those shrubs?"
   ]
  },
  {
   "cell_type": "markdown",
   "metadata": {},
   "source": [
    "**Discussion Question 11:** Are there any blue dots above the black line? How does this compare to the red dots? What does this mean?"
   ]
  },
  {
   "cell_type": "markdown",
   "metadata": {},
   "source": [
    "If you are curious about which datapoints fell on top of each other in the above plot, you can count them using the group function. First we look at the control data:"
   ]
  },
  {
   "cell_type": "code",
   "execution_count": 6,
   "metadata": {},
   "outputs": [
    {
     "data": {
      "text/html": [
       "<table border=\"1\" class=\"dataframe\">\n",
       "    <thead>\n",
       "        <tr>\n",
       "            <th>PreBasketStems</th> <th>PostBasketStems</th> <th>count</th>\n",
       "        </tr>\n",
       "    </thead>\n",
       "    <tbody>\n",
       "        <tr>\n",
       "            <td>0             </td> <td>0              </td> <td>4    </td>\n",
       "        </tr>\n",
       "        <tr>\n",
       "            <td>0             </td> <td>7              </td> <td>1    </td>\n",
       "        </tr>\n",
       "        <tr>\n",
       "            <td>1             </td> <td>0              </td> <td>3    </td>\n",
       "        </tr>\n",
       "        <tr>\n",
       "            <td>1             </td> <td>1              </td> <td>1    </td>\n",
       "        </tr>\n",
       "        <tr>\n",
       "            <td>2             </td> <td>0              </td> <td>1    </td>\n",
       "        </tr>\n",
       "        <tr>\n",
       "            <td>6             </td> <td>3              </td> <td>1    </td>\n",
       "        </tr>\n",
       "        <tr>\n",
       "            <td>10            </td> <td>0              </td> <td>1    </td>\n",
       "        </tr>\n",
       "        <tr>\n",
       "            <td>11            </td> <td>1              </td> <td>1    </td>\n",
       "        </tr>\n",
       "        <tr>\n",
       "            <td>11            </td> <td>3              </td> <td>1    </td>\n",
       "        </tr>\n",
       "        <tr>\n",
       "            <td>13            </td> <td>0              </td> <td>2    </td>\n",
       "        </tr>\n",
       "    </tbody>\n",
       "</table>\n",
       "<p>... (3 rows omitted)</p>"
      ],
      "text/plain": [
       "PreBasketStems | PostBasketStems | count\n",
       "0              | 0               | 4\n",
       "0              | 7               | 1\n",
       "1              | 0               | 3\n",
       "1              | 1               | 1\n",
       "2              | 0               | 1\n",
       "6              | 3               | 1\n",
       "10             | 0               | 1\n",
       "11             | 1               | 1\n",
       "11             | 3               | 1\n",
       "13             | 0               | 2\n",
       "... (3 rows omitted)"
      ]
     },
     "execution_count": 6,
     "metadata": {},
     "output_type": "execute_result"
    }
   ],
   "source": [
    "bb_control.group(['PreBasketStems','PostBasketStems'])"
   ]
  },
  {
   "cell_type": "markdown",
   "metadata": {},
   "source": [
    "And then we can look at the same thing in the broadcast burn data:"
   ]
  },
  {
   "cell_type": "code",
   "execution_count": 7,
   "metadata": {},
   "outputs": [
    {
     "data": {
      "text/html": [
       "<table border=\"1\" class=\"dataframe\">\n",
       "    <thead>\n",
       "        <tr>\n",
       "            <th>PreBasketStems</th> <th>PostBasketStems</th> <th>count</th>\n",
       "        </tr>\n",
       "    </thead>\n",
       "    <tbody>\n",
       "        <tr>\n",
       "            <td>0             </td> <td>0              </td> <td>6    </td>\n",
       "        </tr>\n",
       "        <tr>\n",
       "            <td>0             </td> <td>5              </td> <td>2    </td>\n",
       "        </tr>\n",
       "        <tr>\n",
       "            <td>0             </td> <td>6              </td> <td>3    </td>\n",
       "        </tr>\n",
       "        <tr>\n",
       "            <td>0             </td> <td>7              </td> <td>1    </td>\n",
       "        </tr>\n",
       "        <tr>\n",
       "            <td>0             </td> <td>8              </td> <td>1    </td>\n",
       "        </tr>\n",
       "        <tr>\n",
       "            <td>0             </td> <td>11             </td> <td>2    </td>\n",
       "        </tr>\n",
       "        <tr>\n",
       "            <td>0             </td> <td>12             </td> <td>2    </td>\n",
       "        </tr>\n",
       "        <tr>\n",
       "            <td>0             </td> <td>13             </td> <td>2    </td>\n",
       "        </tr>\n",
       "        <tr>\n",
       "            <td>0             </td> <td>15             </td> <td>1    </td>\n",
       "        </tr>\n",
       "        <tr>\n",
       "            <td>0             </td> <td>16             </td> <td>1    </td>\n",
       "        </tr>\n",
       "    </tbody>\n",
       "</table>\n",
       "<p>... (18 rows omitted)</p>"
      ],
      "text/plain": [
       "PreBasketStems | PostBasketStems | count\n",
       "0              | 0               | 6\n",
       "0              | 5               | 2\n",
       "0              | 6               | 3\n",
       "0              | 7               | 1\n",
       "0              | 8               | 1\n",
       "0              | 11              | 2\n",
       "0              | 12              | 2\n",
       "0              | 13              | 2\n",
       "0              | 15              | 1\n",
       "0              | 16              | 1\n",
       "... (18 rows omitted)"
      ]
     },
     "execution_count": 7,
     "metadata": {},
     "output_type": "execute_result"
    }
   ],
   "source": [
    "bb_burn.group(['PreBasketStems','PostBasketStems'])"
   ]
  },
  {
   "cell_type": "markdown",
   "metadata": {},
   "source": [
    "But perhaps it makes more sense to look at how many basket-worthy stems were on the shrubs after treatment RELATIVE to how many basket-worthy stems they started out with..."
   ]
  },
  {
   "cell_type": "code",
   "execution_count": 8,
   "metadata": {},
   "outputs": [],
   "source": [
    "bb = bb.with_column('BasketStemDiff',bb.column('PostBasketStems')-bb.column('PreBasketStems'))\n",
    "stemdiff_and_treatment = bb.select('BasketStemDiff', 'Treatment')"
   ]
  },
  {
   "cell_type": "code",
   "execution_count": 9,
   "metadata": {},
   "outputs": [
    {
     "data": {
      "text/html": [
       "<table border=\"1\" class=\"dataframe\">\n",
       "    <thead>\n",
       "        <tr>\n",
       "            <th>ShrubNumber</th> <th>PreBasketStems</th> <th>PostBasketStems</th> <th>Treatment</th> <th>BasketStemDiff</th>\n",
       "        </tr>\n",
       "    </thead>\n",
       "    <tbody>\n",
       "        <tr>\n",
       "            <td>84         </td> <td>11            </td> <td>1              </td> <td>Control  </td> <td>-10           </td>\n",
       "        </tr>\n",
       "        <tr>\n",
       "            <td>89         </td> <td>20            </td> <td>1              </td> <td>Control  </td> <td>-19           </td>\n",
       "        </tr>\n",
       "        <tr>\n",
       "            <td>99         </td> <td>13            </td> <td>0              </td> <td>Control  </td> <td>-13           </td>\n",
       "        </tr>\n",
       "        <tr>\n",
       "            <td>103        </td> <td>2             </td> <td>0              </td> <td>Control  </td> <td>-2            </td>\n",
       "        </tr>\n",
       "        <tr>\n",
       "            <td>108        </td> <td>13            </td> <td>0              </td> <td>Control  </td> <td>-13           </td>\n",
       "        </tr>\n",
       "        <tr>\n",
       "            <td>111        </td> <td>10            </td> <td>0              </td> <td>Control  </td> <td>-10           </td>\n",
       "        </tr>\n",
       "        <tr>\n",
       "            <td>114        </td> <td>6             </td> <td>3              </td> <td>Control  </td> <td>-3            </td>\n",
       "        </tr>\n",
       "        <tr>\n",
       "            <td>119        </td> <td>11            </td> <td>3              </td> <td>Control  </td> <td>-8            </td>\n",
       "        </tr>\n",
       "        <tr>\n",
       "            <td>137        </td> <td>18            </td> <td>0              </td> <td>Control  </td> <td>-18           </td>\n",
       "        </tr>\n",
       "        <tr>\n",
       "            <td>148        </td> <td>0             </td> <td>7              </td> <td>Control  </td> <td>7             </td>\n",
       "        </tr>\n",
       "    </tbody>\n",
       "</table>\n",
       "<p>... (50 rows omitted)</p>"
      ],
      "text/plain": [
       "ShrubNumber | PreBasketStems | PostBasketStems | Treatment | BasketStemDiff\n",
       "84          | 11             | 1               | Control   | -10\n",
       "89          | 20             | 1               | Control   | -19\n",
       "99          | 13             | 0               | Control   | -13\n",
       "103         | 2              | 0               | Control   | -2\n",
       "108         | 13             | 0               | Control   | -13\n",
       "111         | 10             | 0               | Control   | -10\n",
       "114         | 6              | 3               | Control   | -3\n",
       "119         | 11             | 3               | Control   | -8\n",
       "137         | 18             | 0               | Control   | -18\n",
       "148         | 0              | 7               | Control   | 7\n",
       "... (50 rows omitted)"
      ]
     },
     "execution_count": 9,
     "metadata": {},
     "output_type": "execute_result"
    }
   ],
   "source": [
    "bb"
   ]
  },
  {
   "cell_type": "markdown",
   "metadata": {},
   "source": [
    "Now we have added a new column showing the difference in basket-worthy stems before and after treatment. Now let's use that new column to make a histogram, where we separate out the data by treatment. We have use some transparency because the data from each treatment sometimes overlap."
   ]
  },
  {
   "cell_type": "code",
   "execution_count": 10,
   "metadata": {},
   "outputs": [
    {
     "data": {
      "image/png": "[encoded data removed]",
      "text/plain": [
       "<Figure size 600x400 with 1 Axes>"
      ]
     },
     "metadata": {},
     "output_type": "display_data"
    }
   ],
   "source": [
    "stemdiff_and_treatment.hist('BasketStemDiff', group='Treatment')"
   ]
  },
  {
   "cell_type": "markdown",
   "metadata": {},
   "source": [
    "**Discussion Question 12:** What does a negative number on the x-axis mean?"
   ]
  },
  {
   "cell_type": "markdown",
   "metadata": {},
   "source": [
    "**Discussion Question 13:** What does the small lonely blue bar on the far left (x~=-20) represent?"
   ]
  },
  {
   "cell_type": "markdown",
   "metadata": {},
   "source": [
    "**Discussion Question 14:** Is each distribution symmetric? (Consider yellow and blue separately) "
   ]
  },
  {
   "cell_type": "markdown",
   "metadata": {},
   "source": [
    "**Discussion Question 15:** Does it seem clear to you that one distribution is in general weighted farther to the right than the other? If so, which treatment seems best for creating more basket-worthy stems?"
   ]
  },
  {
   "cell_type": "markdown",
   "metadata": {},
   "source": [
    "# Chance Variation?\n",
    "This raises the question of whether the difference in the distributions reflects just chance variation or a difference in the distributions in the larger shrub population. Could it be that there is no difference between the two distributions in the shrub population, but we are seeing a difference in the samples just because of the shrubs that happened to be selected?\n",
    "\n",
    "We can try to answer this question by a test of hypotheses. "
   ]
  },
  {
   "cell_type": "markdown",
   "metadata": {},
   "source": [
    "**Discussion Question 16:** State the *null hypothesis*, in your own words."
   ]
  },
  {
   "cell_type": "markdown",
   "metadata": {},
   "source": [
    "**Discussion Question 17:** State the *alternative hypothesis*, in your own words."
   ]
  },
  {
   "cell_type": "markdown",
   "metadata": {},
   "source": [
    "**Discussion Question 18:** What *test statistic* should we use to test the null hypothesis?"
   ]
  },
  {
   "cell_type": "markdown",
   "metadata": {},
   "source": [
    "# Test Statistic\n",
    "\n",
    "Let's compute our test statistic. "
   ]
  },
  {
   "cell_type": "code",
   "execution_count": 11,
   "metadata": {},
   "outputs": [
    {
     "data": {
      "text/html": [
       "<table border=\"1\" class=\"dataframe\">\n",
       "    <thead>\n",
       "        <tr>\n",
       "            <th>Treatment</th> <th>BasketStemDiff average</th>\n",
       "        </tr>\n",
       "    </thead>\n",
       "    <tbody>\n",
       "        <tr>\n",
       "            <td>Broadcast</td> <td>8.36585               </td>\n",
       "        </tr>\n",
       "        <tr>\n",
       "            <td>Control  </td> <td>-5.47368              </td>\n",
       "        </tr>\n",
       "    </tbody>\n",
       "</table>"
      ],
      "text/plain": [
       "Treatment | BasketStemDiff average\n",
       "Broadcast | 8.36585\n",
       "Control   | -5.47368"
      ]
     },
     "execution_count": 11,
     "metadata": {},
     "output_type": "execute_result"
    }
   ],
   "source": [
    "means_table = bb.select(['Treatment','BasketStemDiff']).group('Treatment', np.average)\n",
    "means_table"
   ]
  },
  {
   "cell_type": "code",
   "execution_count": 12,
   "metadata": {},
   "outputs": [
    {
     "data": {
      "text/plain": [
       "13.839537869062902"
      ]
     },
     "execution_count": 12,
     "metadata": {},
     "output_type": "execute_result"
    }
   ],
   "source": [
    "means = means_table.column(1)\n",
    "observed_difference = means.item(0) - means.item(1)\n",
    "observed_difference"
   ]
  },
  {
   "cell_type": "markdown",
   "metadata": {},
   "source": [
    "**Discussion Question 19:** Based on how we have coded this, what values of our statistic are in favor of the alternative: positive or negative?"
   ]
  },
  {
   "cell_type": "markdown",
   "metadata": {},
   "source": [
    "Now let's create a function that can quickly calculate the test statistic for us. (It should do the same thing we just did above.)"
   ]
  },
  {
   "cell_type": "code",
   "execution_count": 13,
   "metadata": {},
   "outputs": [],
   "source": [
    "def difference_of_means(table, label, group_label):\n",
    "    \"\"\"Takes: name of table, column label of numerical variable,\n",
    "    column label of group-label variable\n",
    "    Returns: Difference of means of the two groups\"\"\"\n",
    "    \n",
    "    #table with the two relevant columns\n",
    "    reduced = table.select(label, group_label)  \n",
    "    \n",
    "    # table containing group means\n",
    "    means_table = reduced.group(group_label, np.average)\n",
    "    # array of group means\n",
    "    means = means_table.column(1)\n",
    "    \n",
    "    return means.item(0) - means.item(1)"
   ]
  },
  {
   "cell_type": "code",
   "execution_count": 14,
   "metadata": {},
   "outputs": [
    {
     "data": {
      "text/plain": [
       "13.839537869062902"
      ]
     },
     "execution_count": 14,
     "metadata": {},
     "output_type": "execute_result"
    }
   ],
   "source": [
    "difference_of_means(bb,'BasketStemDiff', 'Treatment')"
   ]
  },
  {
   "cell_type": "markdown",
   "metadata": {},
   "source": [
    "Now how do we use this test statitic?\n",
    "\n",
    "To see how the statistic should vary under the null hypothesis, we have to figure out how to simulate the statistic under that hypothesis. A clever method based on random permutations does just that.\n",
    "\n",
    "If there were no difference between the two distributions in the underlying population, then whether a shrub was burned should make no difference to the average. The idea, then, is to shuffle all the treatment labels randomly among the shrubs. This is called random permutation. Let's use a simple example to see how this works..."
   ]
  },
  {
   "cell_type": "markdown",
   "metadata": {},
   "source": [
    "# Random Permutation (Shuffling)"
   ]
  },
  {
   "cell_type": "code",
   "execution_count": 15,
   "metadata": {},
   "outputs": [],
   "source": [
    "letters = Table().with_column('Letter', make_array('a', 'b', 'c', 'd', 'e'))"
   ]
  },
  {
   "cell_type": "code",
   "execution_count": 16,
   "metadata": {},
   "outputs": [
    {
     "data": {
      "text/html": [
       "<table border=\"1\" class=\"dataframe\">\n",
       "    <thead>\n",
       "        <tr>\n",
       "            <th>Letter</th>\n",
       "        </tr>\n",
       "    </thead>\n",
       "    <tbody>\n",
       "        <tr>\n",
       "            <td>b     </td>\n",
       "        </tr>\n",
       "        <tr>\n",
       "            <td>c     </td>\n",
       "        </tr>\n",
       "        <tr>\n",
       "            <td>d     </td>\n",
       "        </tr>\n",
       "        <tr>\n",
       "            <td>c     </td>\n",
       "        </tr>\n",
       "        <tr>\n",
       "            <td>e     </td>\n",
       "        </tr>\n",
       "    </tbody>\n",
       "</table>"
      ],
      "text/plain": [
       "Letter\n",
       "b\n",
       "c\n",
       "d\n",
       "c\n",
       "e"
      ]
     },
     "execution_count": 16,
     "metadata": {},
     "output_type": "execute_result"
    }
   ],
   "source": [
    "letters.sample()"
   ]
  },
  {
   "cell_type": "code",
   "execution_count": 17,
   "metadata": {},
   "outputs": [
    {
     "data": {
      "text/html": [
       "<table border=\"1\" class=\"dataframe\">\n",
       "    <thead>\n",
       "        <tr>\n",
       "            <th>Letter</th>\n",
       "        </tr>\n",
       "    </thead>\n",
       "    <tbody>\n",
       "        <tr>\n",
       "            <td>d     </td>\n",
       "        </tr>\n",
       "        <tr>\n",
       "            <td>a     </td>\n",
       "        </tr>\n",
       "        <tr>\n",
       "            <td>c     </td>\n",
       "        </tr>\n",
       "        <tr>\n",
       "            <td>b     </td>\n",
       "        </tr>\n",
       "        <tr>\n",
       "            <td>e     </td>\n",
       "        </tr>\n",
       "    </tbody>\n",
       "</table>"
      ],
      "text/plain": [
       "Letter\n",
       "d\n",
       "a\n",
       "c\n",
       "b\n",
       "e"
      ]
     },
     "execution_count": 17,
     "metadata": {},
     "output_type": "execute_result"
    }
   ],
   "source": [
    "letters.sample(with_replacement = False)"
   ]
  },
  {
   "cell_type": "code",
   "execution_count": 18,
   "metadata": {},
   "outputs": [
    {
     "data": {
      "text/html": [
       "<table border=\"1\" class=\"dataframe\">\n",
       "    <thead>\n",
       "        <tr>\n",
       "            <th>Letter</th> <th>Shuffled</th>\n",
       "        </tr>\n",
       "    </thead>\n",
       "    <tbody>\n",
       "        <tr>\n",
       "            <td>a     </td> <td>d       </td>\n",
       "        </tr>\n",
       "        <tr>\n",
       "            <td>b     </td> <td>e       </td>\n",
       "        </tr>\n",
       "        <tr>\n",
       "            <td>c     </td> <td>c       </td>\n",
       "        </tr>\n",
       "        <tr>\n",
       "            <td>d     </td> <td>b       </td>\n",
       "        </tr>\n",
       "        <tr>\n",
       "            <td>e     </td> <td>a       </td>\n",
       "        </tr>\n",
       "    </tbody>\n",
       "</table>"
      ],
      "text/plain": [
       "Letter | Shuffled\n",
       "a      | d\n",
       "b      | e\n",
       "c      | c\n",
       "d      | b\n",
       "e      | a"
      ]
     },
     "execution_count": 18,
     "metadata": {},
     "output_type": "execute_result"
    }
   ],
   "source": [
    "letters.with_column('Shuffled', letters.sample(with_replacement = False).column(0))"
   ]
  },
  {
   "cell_type": "markdown",
   "metadata": {},
   "source": [
    "Once we have created a shuffled dataset, we again take the difference of the two new group means: the mean basket stem difference from shrubs labeled as burned and the mean basket stem difference from the shrubs that have been randomly labeled as a control. This is a simulated value of the test statistic under the null hypothesis."
   ]
  },
  {
   "cell_type": "markdown",
   "metadata": {},
   "source": [
    "# Simulation Under Null Hypothesis"
   ]
  },
  {
   "cell_type": "markdown",
   "metadata": {},
   "source": [
    "Let's create a new table with just the Basket Stem Difference and the Treatment label. "
   ]
  },
  {
   "cell_type": "code",
   "execution_count": 19,
   "metadata": {},
   "outputs": [],
   "source": [
    "stemdiff_and_treatment = bb.select('BasketStemDiff','Treatment')"
   ]
  },
  {
   "cell_type": "markdown",
   "metadata": {},
   "source": [
    "Then add a column of to our table with the shuffled treatment labels"
   ]
  },
  {
   "cell_type": "code",
   "execution_count": 20,
   "metadata": {},
   "outputs": [],
   "source": [
    "shuffled_labels = stemdiff_and_treatment.sample(with_replacement=False).column('Treatment')"
   ]
  },
  {
   "cell_type": "code",
   "execution_count": 21,
   "metadata": {},
   "outputs": [],
   "source": [
    "original_and_shuffled = stemdiff_and_treatment.with_column('Shuffled Label', shuffled_labels)"
   ]
  },
  {
   "cell_type": "code",
   "execution_count": 22,
   "metadata": {},
   "outputs": [
    {
     "data": {
      "text/html": [
       "<table border=\"1\" class=\"dataframe\">\n",
       "    <thead>\n",
       "        <tr>\n",
       "            <th>BasketStemDiff</th> <th>Treatment</th> <th>Shuffled Label</th>\n",
       "        </tr>\n",
       "    </thead>\n",
       "    <tbody>\n",
       "        <tr>\n",
       "            <td>-10           </td> <td>Control  </td> <td>Control       </td>\n",
       "        </tr>\n",
       "        <tr>\n",
       "            <td>-19           </td> <td>Control  </td> <td>Broadcast     </td>\n",
       "        </tr>\n",
       "        <tr>\n",
       "            <td>-13           </td> <td>Control  </td> <td>Broadcast     </td>\n",
       "        </tr>\n",
       "        <tr>\n",
       "            <td>-2            </td> <td>Control  </td> <td>Control       </td>\n",
       "        </tr>\n",
       "        <tr>\n",
       "            <td>-13           </td> <td>Control  </td> <td>Broadcast     </td>\n",
       "        </tr>\n",
       "        <tr>\n",
       "            <td>-10           </td> <td>Control  </td> <td>Broadcast     </td>\n",
       "        </tr>\n",
       "        <tr>\n",
       "            <td>-3            </td> <td>Control  </td> <td>Broadcast     </td>\n",
       "        </tr>\n",
       "        <tr>\n",
       "            <td>-8            </td> <td>Control  </td> <td>Control       </td>\n",
       "        </tr>\n",
       "        <tr>\n",
       "            <td>-18           </td> <td>Control  </td> <td>Broadcast     </td>\n",
       "        </tr>\n",
       "        <tr>\n",
       "            <td>7             </td> <td>Control  </td> <td>Broadcast     </td>\n",
       "        </tr>\n",
       "    </tbody>\n",
       "</table>\n",
       "<p>... (50 rows omitted)</p>"
      ],
      "text/plain": [
       "BasketStemDiff | Treatment | Shuffled Label\n",
       "-10            | Control   | Control\n",
       "-19            | Control   | Broadcast\n",
       "-13            | Control   | Broadcast\n",
       "-2             | Control   | Control\n",
       "-13            | Control   | Broadcast\n",
       "-10            | Control   | Broadcast\n",
       "-3             | Control   | Broadcast\n",
       "-8             | Control   | Control\n",
       "-18            | Control   | Broadcast\n",
       "7              | Control   | Broadcast\n",
       "... (50 rows omitted)"
      ]
     },
     "execution_count": 22,
     "metadata": {},
     "output_type": "execute_result"
    }
   ],
   "source": [
    "original_and_shuffled"
   ]
  },
  {
   "cell_type": "markdown",
   "metadata": {},
   "source": [
    "Now we look at the difference of the group means..."
   ]
  },
  {
   "cell_type": "code",
   "execution_count": 23,
   "metadata": {},
   "outputs": [
    {
     "data": {
      "text/plain": [
       "-0.3324775353016687"
      ]
     },
     "execution_count": 23,
     "metadata": {},
     "output_type": "execute_result"
    }
   ],
   "source": [
    "difference_of_means(original_and_shuffled, 'BasketStemDiff', 'Shuffled Label')"
   ]
  },
  {
   "cell_type": "markdown",
   "metadata": {},
   "source": [
    "Recall that this was the difference of the group means that we actually observed."
   ]
  },
  {
   "cell_type": "code",
   "execution_count": 24,
   "metadata": {},
   "outputs": [
    {
     "data": {
      "text/plain": [
       "13.839537869062902"
      ]
     },
     "execution_count": 24,
     "metadata": {},
     "output_type": "execute_result"
    }
   ],
   "source": [
    "difference_of_means(original_and_shuffled, 'BasketStemDiff', 'Treatment')"
   ]
  },
  {
   "cell_type": "markdown",
   "metadata": {},
   "source": [
    "**Discussion Question 20:** How does this test statistic under the null hypothesis compare to the value of the test statistic that you found in the real observations?"
   ]
  },
  {
   "cell_type": "markdown",
   "metadata": {},
   "source": [
    "But we only shuffled the labels once. Could a different shuffle have resulted in a larger difference between the group averages? To get a sense of the variability, we must simulate the difference many times. Let's shuffle them a bunch of times to get an estimate of the *distribution* of the test statistic under the null for each shuffling that we perform..."
   ]
  },
  {
   "cell_type": "markdown",
   "metadata": {},
   "source": [
    "# Permutation Test"
   ]
  },
  {
   "cell_type": "markdown",
   "metadata": {},
   "source": [
    "We will start by defining a function that simulates one value of the test statistic under the null hypothesis. This is just a matter of collecting the code that we wrote above."
   ]
  },
  {
   "cell_type": "code",
   "execution_count": 25,
   "metadata": {},
   "outputs": [],
   "source": [
    "def one_simulated_difference(table, label, group_label):\n",
    "    \"\"\"Takes: name of table, column label of numerical variable,\n",
    "    column label of group-label variable\n",
    "    Returns: Difference of means of the two groups after shuffling labels\"\"\"\n",
    "    \n",
    "    # array of shuffled labels\n",
    "    shuffled_labels = table.sample(with_replacement = False).column(group_label)\n",
    "    \n",
    "    # table of numerical variable and shuffled labels\n",
    "    shuffled_table = table.select(label).with_column('Shuffled Label', shuffled_labels)\n",
    "    \n",
    "    return difference_of_means(shuffled_table, label, 'Shuffled Label')   "
   ]
  },
  {
   "cell_type": "markdown",
   "metadata": {},
   "source": [
    "Run the cell below multiple times to see how the test statistic varies under the null hypothesis:"
   ]
  },
  {
   "cell_type": "code",
   "execution_count": 26,
   "metadata": {},
   "outputs": [
    {
     "data": {
      "text/plain": [
       "6.7535301668806165"
      ]
     },
     "execution_count": 26,
     "metadata": {},
     "output_type": "execute_result"
    }
   ],
   "source": [
    "one_simulated_difference(stemdiff_and_treatment, 'BasketStemDiff', 'Treatment')"
   ]
  },
  {
   "cell_type": "markdown",
   "metadata": {},
   "source": [
    "**Discussion Question 21:** How do these values of the test statistic under the null hypothesis compare to the value of the test statistic that you found in the real observations? \n",
    "\n",
    "Recall the real observations looked like this:"
   ]
  },
  {
   "cell_type": "code",
   "execution_count": 27,
   "metadata": {},
   "outputs": [
    {
     "data": {
      "text/plain": [
       "13.839537869062902"
      ]
     },
     "execution_count": 27,
     "metadata": {},
     "output_type": "execute_result"
    }
   ],
   "source": [
    "difference_of_means(bb,'BasketStemDiff', 'Treatment')"
   ]
  },
  {
   "cell_type": "markdown",
   "metadata": {},
   "source": [
    "Now let's collect the test statistic from bunch of these null simulations to look at the distribution of these values..."
   ]
  },
  {
   "cell_type": "code",
   "execution_count": 28,
   "metadata": {},
   "outputs": [],
   "source": [
    "differences = make_array()\n",
    "\n",
    "for i in np.arange(2500):\n",
    "    new_difference = one_simulated_difference(stemdiff_and_treatment, 'BasketStemDiff', 'Treatment')\n",
    "    differences = np.append(differences, new_difference)"
   ]
  },
  {
   "cell_type": "code",
   "execution_count": 29,
   "metadata": {},
   "outputs": [
    {
     "name": "stdout",
     "output_type": "stream",
     "text": [
      "Observed Difference: 13.839537869062902\n"
     ]
    },
    {
     "data": {
      "text/plain": [
       "<matplotlib.collections.PathCollection at 0x1f9358ce380>"
      ]
     },
     "execution_count": 29,
     "metadata": {},
     "output_type": "execute_result"
    },
    {
     "data": {
      "image/png": "[encoded data removed]",
      "text/plain": [
       "<Figure size 600x400 with 1 Axes>"
      ]
     },
     "metadata": {},
     "output_type": "display_data"
    }
   ],
   "source": [
    "Table().with_column('Difference Between Group Means', differences).hist()\n",
    "print('Observed Difference:', observed_difference)\n",
    "plots.title('Prediction Under the Null Hypothesis');\n",
    "plots.scatter(observed_difference, 0, color='red', s=40, zorder=3)"
   ]
  },
  {
   "cell_type": "markdown",
   "metadata": {},
   "source": [
    "**Discussion Question 22:** How does the observed test statistic compare to the distribution of the statistic under the null hypothesis? "
   ]
  },
  {
   "cell_type": "markdown",
   "metadata": {},
   "source": [
    "**Discussion Question 23:** Which hypothesis does the data best support?"
   ]
  },
  {
   "cell_type": "markdown",
   "metadata": {},
   "source": [
    "**Discussion Question 24:** In your own words, describe the effect of cultural burning on basket-worthy stem growth, as supported by the data."
   ]
  },
  {
   "cell_type": "markdown",
   "metadata": {},
   "source": [
    "# How things are now...\n",
    "\n",
    "Despite the now widespread acknowledgement of the wisdom of cultural burning, these practices are restricted due USDA Forest Service funding and staff reductions, threatened and endangered wildlife being protected in certain seasons, burn restrictions during major wildfire events, and air quality regulations that constrain available burn days. \n",
    "\n",
    "Basketweavers also say the departure of supportive USDA Forest Service managers created major set-backs, because they had to re-establish lines of communication with new staff and inform them about their basketry materials and fire treatment\n",
    "needs. So even with the federal governments increased fuel reduction treatments throughout this region basketweavers and Tribal members often were not informed about the schedules or locations of understory mechanical treatments and broadcast burns, and would miss opportunities to gather hazelnut stems. \n",
    "\n",
    "Efforts within the USDA Forest Service known as the ‘Shared Stewardship’ initiative seek to address several of these constraints.\n",
    "\n",
    "In the meantime basketweavers have been coming up with their own creative solutions to stimulate basket-worthy stem growth on hazelnut shrubs. The figure below shows different types of treatments now being used: (A) manual cutting of the shrub; (B) small pile burn on an indivual shrub; (C) propone torching of a shrub (D) the traditional broadcast burn.\n",
    "<img src=\"Treatments.jpg\" alt=\"drawing\" width=\"400\"/>\n",
    "\n",
    "All of these treatments increase basket-worthy stem growth, where the ones that use fire are the most effective. You can read more about the details in [the paper](https://www.sciencedirect.com/science/article/pii/S0378112719306826) if you like.\n"
   ]
  },
  {
   "cell_type": "markdown",
   "metadata": {},
   "source": [
    "At home, watch [this video](https://www.youtube.com/watch?v=QQfrQyb4yw4) about the *Land Back* movement.\n",
    "Come prepared to discuss Discussion Question 25 in our next class meeting."
   ]
  },
  {
   "cell_type": "markdown",
   "metadata": {},
   "source": [
    " **Discussion Question 25:** What do you think about the *Land Back* movement?"
   ]
  },
  {
   "cell_type": "markdown",
   "metadata": {},
   "source": [
    "If you want to read more, here is a [news article](https://www.npr.org/2020/08/24/899422710/to-manage-wildfire-california-looks-to-what-tribes-have-known-all-along) that also covered this topic. (If you are having trouble getting the link to work you can also download the article by clicking [here](https://humboldt.cloudbank.2i2c.cloud/hub/user-redirect/git-sync?repo=https://github.com/bludka/materials-sp22&urlpath=tree/materials-sp22/lectures/Native_American_Burning_And_California_s_Wildfire_Strategy_NPR.pdf).)"
   ]
  }
 ],
 "metadata": {
  "kernelspec": {
   "display_name": "Python 3 (ipykernel)",
   "language": "python",
   "name": "python3"
  },
  "language_info": {
   "codemirror_mode": {
    "name": "ipython",
    "version": 3
   },
   "file_extension": ".py",
   "mimetype": "text/x-python",
   "name": "python",
   "nbconvert_exporter": "python",
   "pygments_lexer": "ipython3",
   "version": "3.11.4"
  }
 },
 "nbformat": 4,
 "nbformat_minor": 2
}
